{
 "cells": [
  {
   "cell_type": "code",
   "execution_count": null,
   "metadata": {},
   "outputs": [],
   "source": [
    "# Syntax in R as usual\n",
    "# Variable names convention: https://docs.google.com/spreadsheets/d/1SzU4PcIEUsAGnKKyAcugHO2O2aZW29sf9a_cC-FAElk/edit#gid=1679989021"
   ]
  },
  {
   "cell_type": "code",
   "execution_count": 1,
   "metadata": {},
   "outputs": [
    {
     "name": "stderr",
     "output_type": "stream",
     "text": [
      "Updating HTML index of packages in '.Library'\n",
      "Making 'packages.html' ... done\n"
     ]
    }
   ],
   "source": [
    "## Load libraries\n",
    "install.packages(\"pacman\") # pacman helps load several packages at once"
   ]
  },
  {
   "cell_type": "code",
   "execution_count": 24,
   "metadata": {},
   "outputs": [
    {
     "name": "stderr",
     "output_type": "stream",
     "text": [
      "Updating HTML index of packages in '.Library'\n",
      "Making 'packages.html' ... done\n",
      "\n",
      "tidyverse installed\n",
      "Updating HTML index of packages in '.Library'\n",
      "Making 'packages.html' ... done\n",
      "\n",
      "dplyr installed\n",
      "Warning message in pacman::p_load(\"haven\", \"tidyverse\", \"dplyr\", \"data.table\", \"psych\"):\n",
      "“Failed to install/load:\n",
      "tidyverse, dplyr”"
     ]
    }
   ],
   "source": [
    "pacman::p_load(\"haven\", # loading .dta file\n",
    "               \"tidyverse\", \"dplyr\", \"data.table\", \"psych\") # data wrangling/descriptive stats"
   ]
  },
  {
   "cell_type": "code",
   "execution_count": null,
   "metadata": {},
   "outputs": [],
   "source": [
    "## Data pre-processing from full dataset\n",
    "# This step may vary by institutions. \n",
    "\n",
    "# UCI\n",
    "ucifull <- read_dta(\"/Volumes/OS X/apchem.dta\") # your dataset\n",
    "# Exclude students who entered before 2013\n",
    "ucifull <- subset(ucifull, year%in%c('2013', '2014', '2015', '2016', '2017'))\n",
    "\n",
    "# Drop transfer\n",
    "uciap <- subset(ucifull, transferflg==0)\n",
    "\n",
    "# Drop nondegree students\n",
    "uciap <- subset(uciap,nondegreeflg==0)\n",
    "\n",
    "# Flag international students as international; NR-Aliens==1; Others==0\n",
    "# for UCI international students had to turn in toefl or ielts scores; used this as a proxy\n",
    "uciap$international <- ifelse(!is.na(uciap$toeflsr) | !is.na(uciap$ieltssr, 1, 0)\n",
    "\n",
    "# Standardize continuous demographic var (i.e., hsgpa)\n",
    "uciap$hsgpa_z <- c(scale(uciap$hsgpa, center=T, scale=T))\n",
    "\n",
    "# Generate URM (Underrepresented Minorities) code\n",
    "# Var list recode it as 3 levels (0: white; 2: asian; 1: black, latino, etc. AP project coded it as dichotomous 0/1)                              \n",
    "# ethniccode: 1. Hispanic/Latino; 2. American Indian/Alaska Native; 3. Asian; 4. Black or African American; 5. Native Hawaiian or Pacific Islander; 6. White\n",
    "uciap$ethniccode_cat <- 0\n",
    "uciap$ethniccode_cat <- ifelse(uciap$ethniccode%in%c(1, 2, 4, 5), 1, \n",
    "                               ifelse(uciap$ethniccode==3, 2, 0)) # asian = 2, white=0\n",
    "uciap$ethniccode_cat2 <- ifelse(uciap$ethniccode_cat%in%c(0, 2), 0, 1) # white/asian = 0, non-white = 1\n",
    "                              "
   ]
  },
  {
   "cell_type": "code",
   "execution_count": null,
   "metadata": {},
   "outputs": [],
   "source": [
    "# Create cohort var: get the lowest value of year = first year entering institution from \"data.table\"\n",
    "# Var \"year\" = year of taking courses\n",
    "cohort <- unique(setDT(uciap)[order(year)], by=\"new_studentid\")\n",
    "names(cohort)[names(cohort)==\"year\"] <- \"cohort\" # change var name from \"year\" to \"cohort\"\n",
    "# Make new dataframe that consists of the unique student ID and the cohort # (first year entering)\n",
    "cohort2 <- cohort$cohort\n",
    "cohort2 <- data.frame(cbind(cohort2, cohort$new_studentid))\n",
    "colnames(cohort2) <- c(\"cohort\", \"new_studentid\")\n",
    "\n",
    "# Order dataset by studentid\n",
    "uciap_order <- apfull[order(new_studentid),]\n",
    "\n",
    "# Merge datasets where \"new_studentid\" in cohort2 matches with multiple in the overall dataset\n",
    "uciap <- merge(cohort2, uciap_order, by.x=\"new_studentid\", by.y=\"new_studentid\")"
   ]
  },
  {
   "cell_type": "code",
   "execution_count": null,
   "metadata": {},
   "outputs": [],
   "source": [
    "# Create flags for AP subjects and scores\n",
    "# Chemistry. AP codes in dataset range from 1-20\n",
    "for (i in 1:20) {\n",
    "  to_replace <- uciap[[paste0(\"apexam\", i, \"cd\")]]%in%c(25)\n",
    "  uciap[to_replace, \"apchem\"] <- 1\n",
    "}\n",
    "\n",
    "# Replace the \"NA\" in \"apchem\" flag with 0\n",
    "uciap$apchem[is.na(uciap$apchem)] <- 0\n",
    "\n",
    "# Create \"apchemsr\" - AP Chem score and \"apchemyr\" - year students took AP Chem\n",
    "for (i in 1:20) {\n",
    "  to_replace <- uciap[[paste0(\"apexam\", i, \"cd\")]]%in%c(25)\n",
    "  uciap[to_replace, \"apchemsr\"] <- lapply(uciap[paste0(\"apexam\", i, \"sr\")], function(n) as.numeric(n))\n",
    "  uciap[to_replace, \"apchemyr\"] <- lapply(uciap[paste0(\"apexam\", i, \"tsyr\")], function(n) as.numeric(n))\n",
    "}\n",
    "#####################\n",
    "# Generate apphysicsc mechanics var: took AP Physics mechanics or not, AP Physics mechanics score, and year of taking\n",
    "for (i in 1:20) {\n",
    "  to_replace <- uciap[[paste0(\"apexam\", i, \"cd\")]]%in%c(80)\n",
    "  uciap[to_replace, \"apphysicscmec\"] <- 1\n",
    "}\n",
    "\n",
    "# Replace the \"NA\" with 0\n",
    "uciap$apphysicscmec[is.na(uciap$apphysicscmec)] <- 0\n",
    "\n",
    "# Create score and year studnets took AP Physics C Mechanics\n",
    "for (i in 1:20) {\n",
    "  to_replace <- uciap[[paste0(\"apexam\", i, \"cd\")]]%in%c(80)\n",
    "  uciap[to_replace, \"apphysicscmecsr\"] <- lapply(uciap[paste0(\"apexam\", i, \"sr\")], function(n) as.numeric(n))\n",
    "  uciap[to_replace, \"apphysicscmecyr\"] <- lapply(uciap[paste0(\"apexam\", i, \"tsyr\")], function(n) as.numeric(n))\n",
    "}\n",
    "#####################\n",
    "# Generate apphysicsc electricity var\n",
    "for (i in 1:20) {\n",
    "  to_replace <- uciap[[paste0(\"apexam\", i, \"cd\")]]%in%c(82)\n",
    "  uciap[to_replace, \"apphysicscelec\"] <- 1\n",
    "}\n",
    "                                                 \n",
    "# Replace the \"NA\" with 0\n",
    "uciap$apphysicscelec[is.na(uciap$apphysicscelec)] <- 0\n",
    "                                                 \n",
    "# Create score and year students took AP Physics C Mechanics\n",
    "for (i in 1:20) {\n",
    "  to_replace <- uciap[[paste0(\"apexam\", i, \"cd\")]]%in%c(82)\n",
    "  uciap[to_replace, \"apphysicscelecsr\"] <- lapply(uciap[paste0(\"apexam\", i, \"sr\")], function(n) as.numeric(n))\n",
    "  uciap[to_replace, \"apphysicscelecyr\"] <- lapply(uciap[paste0(\"apexam\", i, \"tsyr\")], function(n) as.numeric(n))\n",
    "}"
   ]
  },
  {
   "cell_type": "code",
   "execution_count": null,
   "metadata": {},
   "outputs": [],
   "source": [
    "# Create flags for apskip\n",
    "# UCI only had it for CHEM and PHYSICS\n",
    "uciap$apskipchem <- ifelse(uciap$apchemsr%in%c(4,5), 1, 0)\n",
    "uciap$apskipphy7c <- ifelse(uciap$apphysicscelecsr%in%c(4,5)|\n",
    "                               uciap$apphysicscmecsr%in%c(4,5), 1, 0)"
   ]
  },
  {
   "cell_type": "code",
   "execution_count": null,
   "metadata": {},
   "outputs": [],
   "source": [
    "# Change ACT score to SAT\n",
    "uciap <- apply(uciap, 2, function(x) {x <- plyr::revalue(x, c(\"36\"='800', \"35\"='780', \"34\"='760', \"33\"='740', \"32\"='720', \"31\"='710',\n",
    "\"30\"='700', \"29\"='680', \"28\"='660', \"27\"='640', \"26\"='610',\n",
    "\"25\"='590', \"24\"='580', \"23\"='560', \"22\"='540', \"21\"='530',\n",
    "\"20\"='520', \"19\"='510', \"18\"='500', \"17\"='470', \"16\"='430',\n",
    "\"15\"='400', \"14\"='360', \"13\"='330', \"12\"='310', \"11\"='280', \"10\"='260')); x})\n",
    "\n",
    "uciap <- as.data.frame(uciap)\n",
    "uciap$actmathsr <- as.numeric(as.character(uciap$actmathsr))\n",
    "summary(uciap$actmathsr)\n",
    "uciap$bstsat1mathsr <- as.numeric(as.character(uciap$bstsat1mathsr))\n",
    "\n",
    "# Replace with ACT scores if Math scores missing\n",
    "uciap$mathprof <- ifelse(is.na(uciap$bstsat1mathsr), uciap$actmathsr, uciap$bstsat1mathsr)\n",
    "summary(uciap$mathprof)\n",
    "\n",
    "# Do the same thing for English score\n",
    "uciap$actenglsr <- as.numeric(as.character(uciap$actenglsr))\n",
    "uciap$bstsat1readsr <- as.numeric(as.character(uciap$bstsat1readsr))\n",
    "\n",
    "uciap$engprof <- ifelse(is.na(uciap$bstsat1readsr), uciap$actenglsr, uciap$bstsat1readsr)\n",
    "\n",
    "summary(uciap$engprof)\n",
    "\n",
    "# Caveat: the revalue function change variable class to character\n",
    "# will need to recode those that are supposedly numeric (e.g., gpa, coursegrade) to numeric in later analyses"
   ]
  },
  {
   "cell_type": "code",
   "execution_count": null,
   "metadata": {},
   "outputs": [],
   "source": [
    "# Retain necessary vars and write .csv to local folder\n",
    "uciap_0926 <- uciap[c(\"new_studentid\", \"studentid\", \"apskipchem\", \"apskipphy7c\", \"apchem\", \n",
    "                      \"apchemyr\",\"apchemsr\", \"apphysicscmec\", \"apphysicscelec\",\n",
    "                       \"apphysicscmecyr\", \"apphysicscelecyr\", \"apphysicscmecsr\", \"apphysicscelecsr\",\n",
    "                      \"coursecode\", \"coursetitle\", \"courseid\", \"coursenum\", \"dept\", \"level\", \"newfresh\",\n",
    "                      \"numgrade\", \"female\", \"ethniccode\", \"ethniccode_cat\", \"ethniccode_cat2\",\n",
    "                      \"firstgen\", \"lowincomeflg\", \"ellflg\", \"international\", \n",
    "                      \"hsgpa\", \"hsgpa_z\", \"bstsat1mathsr\", \"bstsat1readsr\", \"actenglsr\", \"actmathsr\", \"mathprof\", \"engprof\",\n",
    "                      \"year\", \"admitdate\", \"termsenrolled\", \"yearsenrolled\", \"cohort\", \"stemmajor\")] #stemmajor 1 = no, 2 = yes\n",
    "# Things in the variable sheet not included: fam_income, us_hs, gpao, begin_term_cum_gpa, instructor_name, current_major\n",
    "write.csv(uciap_0926, \"/Users/thicn/Documents/AP Skip/uciap_0926.dta\") # change to your local directory"
   ]
  },
  {
   "cell_type": "code",
   "execution_count": 11,
   "metadata": {},
   "outputs": [],
   "source": [
    "## Load data\n",
    "# This step may vary by institutions\n",
    "apfull <- read.csv(\"/Users/thicn/Documents/AP Skip/uciap_0926.dta\") # change to your local directory/dataset"
   ]
  },
  {
   "cell_type": "code",
   "execution_count": 6,
   "metadata": {
    "scrolled": true
   },
   "outputs": [
    {
     "data": {
      "text/html": [
       "<table>\n",
       "<thead><tr><th scope=col>X</th><th scope=col>new_studentid</th><th scope=col>studentid</th><th scope=col>apskipchem</th><th scope=col>apskipphy7c</th><th scope=col>apchem</th><th scope=col>apchemyr</th><th scope=col>apchemsr</th><th scope=col>apphysicscmec</th><th scope=col>apphysicscelec</th><th scope=col>...</th><th scope=col>actenglsr</th><th scope=col>actmathsr</th><th scope=col>mathprof</th><th scope=col>engprof</th><th scope=col>year</th><th scope=col>admitdate</th><th scope=col>termsenrolled</th><th scope=col>yearsenrolled</th><th scope=col>cohort</th><th scope=col>stemmajor</th></tr></thead>\n",
       "<tbody>\n",
       "\t<tr><td>1       </td><td>25      </td><td>10006293</td><td>0       </td><td>0       </td><td>0       </td><td>0       </td><td>0       </td><td>0       </td><td>0       </td><td>...     </td><td>580     </td><td>660     </td><td>580     </td><td>480     </td><td>2014    </td><td>F14     </td><td>1       </td><td>0.25    </td><td>2014    </td><td>2       </td></tr>\n",
       "\t<tr><td>2       </td><td>25      </td><td>10006293</td><td>0       </td><td>0       </td><td>0       </td><td>0       </td><td>0       </td><td>0       </td><td>0       </td><td>...     </td><td>580     </td><td>660     </td><td>580     </td><td>480     </td><td>2014    </td><td>F14     </td><td>1       </td><td>0.25    </td><td>2014    </td><td>2       </td></tr>\n",
       "\t<tr><td>3       </td><td>25      </td><td>10006293</td><td>0       </td><td>0       </td><td>0       </td><td>0       </td><td>0       </td><td>0       </td><td>0       </td><td>...     </td><td>580     </td><td>660     </td><td>580     </td><td>480     </td><td>2014    </td><td>F14     </td><td>1       </td><td>0.25    </td><td>2014    </td><td>2       </td></tr>\n",
       "</tbody>\n",
       "</table>\n"
      ],
      "text/latex": [
       "\\begin{tabular}{r|llllllllllllllllllllllllllllllllllllllllllll}\n",
       " X & new\\_studentid & studentid & apskipchem & apskipphy7c & apchem & apchemyr & apchemsr & apphysicscmec & apphysicscelec & ... & actenglsr & actmathsr & mathprof & engprof & year & admitdate & termsenrolled & yearsenrolled & cohort & stemmajor\\\\\n",
       "\\hline\n",
       "\t 1        & 25       & 10006293 & 0        & 0        & 0        & 0        & 0        & 0        & 0        & ...      & 580      & 660      & 580      & 480      & 2014     & F14      & 1        & 0.25     & 2014     & 2       \\\\\n",
       "\t 2        & 25       & 10006293 & 0        & 0        & 0        & 0        & 0        & 0        & 0        & ...      & 580      & 660      & 580      & 480      & 2014     & F14      & 1        & 0.25     & 2014     & 2       \\\\\n",
       "\t 3        & 25       & 10006293 & 0        & 0        & 0        & 0        & 0        & 0        & 0        & ...      & 580      & 660      & 580      & 480      & 2014     & F14      & 1        & 0.25     & 2014     & 2       \\\\\n",
       "\\end{tabular}\n"
      ],
      "text/markdown": [
       "\n",
       "| X | new_studentid | studentid | apskipchem | apskipphy7c | apchem | apchemyr | apchemsr | apphysicscmec | apphysicscelec | ... | actenglsr | actmathsr | mathprof | engprof | year | admitdate | termsenrolled | yearsenrolled | cohort | stemmajor |\n",
       "|---|---|---|---|---|---|---|---|---|---|---|---|---|---|---|---|---|---|---|---|---|\n",
       "| 1        | 25       | 10006293 | 0        | 0        | 0        | 0        | 0        | 0        | 0        | ...      | 580      | 660      | 580      | 480      | 2014     | F14      | 1        | 0.25     | 2014     | 2        |\n",
       "| 2        | 25       | 10006293 | 0        | 0        | 0        | 0        | 0        | 0        | 0        | ...      | 580      | 660      | 580      | 480      | 2014     | F14      | 1        | 0.25     | 2014     | 2        |\n",
       "| 3        | 25       | 10006293 | 0        | 0        | 0        | 0        | 0        | 0        | 0        | ...      | 580      | 660      | 580      | 480      | 2014     | F14      | 1        | 0.25     | 2014     | 2        |\n",
       "\n"
      ],
      "text/plain": [
       "  X new_studentid studentid apskipchem apskipphy7c apchem apchemyr apchemsr\n",
       "1 1 25            10006293  0          0           0      0        0       \n",
       "2 2 25            10006293  0          0           0      0        0       \n",
       "3 3 25            10006293  0          0           0      0        0       \n",
       "  apphysicscmec apphysicscelec ... actenglsr actmathsr mathprof engprof year\n",
       "1 0             0              ... 580       660       580      480     2014\n",
       "2 0             0              ... 580       660       580      480     2014\n",
       "3 0             0              ... 580       660       580      480     2014\n",
       "  admitdate termsenrolled yearsenrolled cohort stemmajor\n",
       "1 F14       1             0.25          2014   2        \n",
       "2 F14       1             0.25          2014   2        \n",
       "3 F14       1             0.25          2014   2        "
      ]
     },
     "metadata": {},
     "output_type": "display_data"
    }
   ],
   "source": [
    "head(apfull, 3) # data still in long format"
   ]
  },
  {
   "cell_type": "code",
   "execution_count": 7,
   "metadata": {},
   "outputs": [
    {
     "data": {
      "text/html": [
       "<ol class=list-inline>\n",
       "\t<li>'X'</li>\n",
       "\t<li>'new_studentid'</li>\n",
       "\t<li>'studentid'</li>\n",
       "\t<li>'apskipchem'</li>\n",
       "\t<li>'apskipphy7c'</li>\n",
       "\t<li>'apchem'</li>\n",
       "\t<li>'apchemyr'</li>\n",
       "\t<li>'apchemsr'</li>\n",
       "\t<li>'apphysicscmec'</li>\n",
       "\t<li>'apphysicscelec'</li>\n",
       "\t<li>'apphysicscmecyr'</li>\n",
       "\t<li>'apphysicscelecyr'</li>\n",
       "\t<li>'apphysicscmecsr'</li>\n",
       "\t<li>'apphysicscelecsr'</li>\n",
       "\t<li>'coursecode'</li>\n",
       "\t<li>'coursetitle'</li>\n",
       "\t<li>'courseid'</li>\n",
       "\t<li>'coursenum'</li>\n",
       "\t<li>'dept'</li>\n",
       "\t<li>'level'</li>\n",
       "\t<li>'newfresh'</li>\n",
       "\t<li>'numgrade'</li>\n",
       "\t<li>'female'</li>\n",
       "\t<li>'ethniccode'</li>\n",
       "\t<li>'ethniccode_cat'</li>\n",
       "\t<li>'ethniccode_cat2'</li>\n",
       "\t<li>'firstgen'</li>\n",
       "\t<li>'lowincomeflg'</li>\n",
       "\t<li>'ellflg'</li>\n",
       "\t<li>'international'</li>\n",
       "\t<li>'hsgpa'</li>\n",
       "\t<li>'hsgpa_z'</li>\n",
       "\t<li>'bstsat1mathsr'</li>\n",
       "\t<li>'bstsat1readsr'</li>\n",
       "\t<li>'actenglsr'</li>\n",
       "\t<li>'actmathsr'</li>\n",
       "\t<li>'mathprof'</li>\n",
       "\t<li>'engprof'</li>\n",
       "\t<li>'year'</li>\n",
       "\t<li>'admitdate'</li>\n",
       "\t<li>'termsenrolled'</li>\n",
       "\t<li>'yearsenrolled'</li>\n",
       "\t<li>'cohort'</li>\n",
       "\t<li>'stemmajor'</li>\n",
       "</ol>\n"
      ],
      "text/latex": [
       "\\begin{enumerate*}\n",
       "\\item 'X'\n",
       "\\item 'new\\_studentid'\n",
       "\\item 'studentid'\n",
       "\\item 'apskipchem'\n",
       "\\item 'apskipphy7c'\n",
       "\\item 'apchem'\n",
       "\\item 'apchemyr'\n",
       "\\item 'apchemsr'\n",
       "\\item 'apphysicscmec'\n",
       "\\item 'apphysicscelec'\n",
       "\\item 'apphysicscmecyr'\n",
       "\\item 'apphysicscelecyr'\n",
       "\\item 'apphysicscmecsr'\n",
       "\\item 'apphysicscelecsr'\n",
       "\\item 'coursecode'\n",
       "\\item 'coursetitle'\n",
       "\\item 'courseid'\n",
       "\\item 'coursenum'\n",
       "\\item 'dept'\n",
       "\\item 'level'\n",
       "\\item 'newfresh'\n",
       "\\item 'numgrade'\n",
       "\\item 'female'\n",
       "\\item 'ethniccode'\n",
       "\\item 'ethniccode\\_cat'\n",
       "\\item 'ethniccode\\_cat2'\n",
       "\\item 'firstgen'\n",
       "\\item 'lowincomeflg'\n",
       "\\item 'ellflg'\n",
       "\\item 'international'\n",
       "\\item 'hsgpa'\n",
       "\\item 'hsgpa\\_z'\n",
       "\\item 'bstsat1mathsr'\n",
       "\\item 'bstsat1readsr'\n",
       "\\item 'actenglsr'\n",
       "\\item 'actmathsr'\n",
       "\\item 'mathprof'\n",
       "\\item 'engprof'\n",
       "\\item 'year'\n",
       "\\item 'admitdate'\n",
       "\\item 'termsenrolled'\n",
       "\\item 'yearsenrolled'\n",
       "\\item 'cohort'\n",
       "\\item 'stemmajor'\n",
       "\\end{enumerate*}\n"
      ],
      "text/markdown": [
       "1. 'X'\n",
       "2. 'new_studentid'\n",
       "3. 'studentid'\n",
       "4. 'apskipchem'\n",
       "5. 'apskipphy7c'\n",
       "6. 'apchem'\n",
       "7. 'apchemyr'\n",
       "8. 'apchemsr'\n",
       "9. 'apphysicscmec'\n",
       "10. 'apphysicscelec'\n",
       "11. 'apphysicscmecyr'\n",
       "12. 'apphysicscelecyr'\n",
       "13. 'apphysicscmecsr'\n",
       "14. 'apphysicscelecsr'\n",
       "15. 'coursecode'\n",
       "16. 'coursetitle'\n",
       "17. 'courseid'\n",
       "18. 'coursenum'\n",
       "19. 'dept'\n",
       "20. 'level'\n",
       "21. 'newfresh'\n",
       "22. 'numgrade'\n",
       "23. 'female'\n",
       "24. 'ethniccode'\n",
       "25. 'ethniccode_cat'\n",
       "26. 'ethniccode_cat2'\n",
       "27. 'firstgen'\n",
       "28. 'lowincomeflg'\n",
       "29. 'ellflg'\n",
       "30. 'international'\n",
       "31. 'hsgpa'\n",
       "32. 'hsgpa_z'\n",
       "33. 'bstsat1mathsr'\n",
       "34. 'bstsat1readsr'\n",
       "35. 'actenglsr'\n",
       "36. 'actmathsr'\n",
       "37. 'mathprof'\n",
       "38. 'engprof'\n",
       "39. 'year'\n",
       "40. 'admitdate'\n",
       "41. 'termsenrolled'\n",
       "42. 'yearsenrolled'\n",
       "43. 'cohort'\n",
       "44. 'stemmajor'\n",
       "\n",
       "\n"
      ],
      "text/plain": [
       " [1] \"X\"                \"new_studentid\"    \"studentid\"        \"apskipchem\"      \n",
       " [5] \"apskipphy7c\"      \"apchem\"           \"apchemyr\"         \"apchemsr\"        \n",
       " [9] \"apphysicscmec\"    \"apphysicscelec\"   \"apphysicscmecyr\"  \"apphysicscelecyr\"\n",
       "[13] \"apphysicscmecsr\"  \"apphysicscelecsr\" \"coursecode\"       \"coursetitle\"     \n",
       "[17] \"courseid\"         \"coursenum\"        \"dept\"             \"level\"           \n",
       "[21] \"newfresh\"         \"numgrade\"         \"female\"           \"ethniccode\"      \n",
       "[25] \"ethniccode_cat\"   \"ethniccode_cat2\"  \"firstgen\"         \"lowincomeflg\"    \n",
       "[29] \"ellflg\"           \"international\"    \"hsgpa\"            \"hsgpa_z\"         \n",
       "[33] \"bstsat1mathsr\"    \"bstsat1readsr\"    \"actenglsr\"        \"actmathsr\"       \n",
       "[37] \"mathprof\"         \"engprof\"          \"year\"             \"admitdate\"       \n",
       "[41] \"termsenrolled\"    \"yearsenrolled\"    \"cohort\"           \"stemmajor\"       "
      ]
     },
     "metadata": {},
     "output_type": "display_data"
    }
   ],
   "source": [
    "# Renaming\n",
    "names(apfull)"
   ]
  },
  {
   "cell_type": "code",
   "execution_count": 12,
   "metadata": {},
   "outputs": [],
   "source": [
    "colnames(apfull) <- c(\"X\", \"st_id\", \"studentid\",\n",
    "                     \"apskipper_GChem1\", \"apskipper_Phys1\",\n",
    "                     \"aptaker_Chem\", \"apyear_Chem\", \"apscore_Chem\", \"aptaker_Mec\", \"aptaker_Elec\",\n",
    "                     \"apyear_Mec\", \"apyear_Elec\", \"apscore_Mec\", \"apscore_Elec\",\n",
    "                     \"coursecode\", \"crs_name\", \"crs_catalog\", \"class_number\", \"crs_sbj\", \"level\", \"newfresh\", # level = firstyear, sophomore, etc.\n",
    "                     \"numgrade\", \"gender\", \"ethniccode\", \"ethniccode_cat\", \"ethniccode_cat2\",\n",
    "                     \"firstgen\", \"lowincomeflag\", \"ellflag\", \"international\", \n",
    "                     \"hsgpa\", \"hsgpa_z\", \"bstsat1mathsr\", \"bstsat1readsr\", \"actenglsr\", \"actmathsr\", \"mathsr\", \"englsr\",\n",
    "                     \"crs_term\", \"admitdate\", \"enrl_from_cohort\", \"yearsenrolled\", \"cohort\", \"stemmajor\")"
   ]
  },
  {
   "cell_type": "code",
   "execution_count": 13,
   "metadata": {},
   "outputs": [
    {
     "data": {
      "text/html": [
       "<table>\n",
       "<thead><tr><th scope=col>X</th><th scope=col>st_id</th><th scope=col>studentid</th><th scope=col>apskipper_GChem1</th><th scope=col>apskipper_Phys1</th><th scope=col>aptaker_Chem</th><th scope=col>apyear_Chem</th><th scope=col>apscore_Chem</th><th scope=col>aptaker_Mec</th><th scope=col>aptaker_Elec</th><th scope=col>...</th><th scope=col>actenglsr</th><th scope=col>actmathsr</th><th scope=col>mathsr</th><th scope=col>englsr</th><th scope=col>crs_term</th><th scope=col>admitdate</th><th scope=col>enrl_from_cohort</th><th scope=col>yearsenrolled</th><th scope=col>cohort</th><th scope=col>stemmajor</th></tr></thead>\n",
       "<tbody>\n",
       "\t<tr><td>1       </td><td>25      </td><td>10006293</td><td>0       </td><td>0       </td><td>0       </td><td>0       </td><td>0       </td><td>0       </td><td>0       </td><td>...     </td><td>580     </td><td>660     </td><td>580     </td><td>480     </td><td>2014    </td><td>F14     </td><td>1       </td><td>0.25    </td><td>2014    </td><td>2       </td></tr>\n",
       "\t<tr><td>2       </td><td>25      </td><td>10006293</td><td>0       </td><td>0       </td><td>0       </td><td>0       </td><td>0       </td><td>0       </td><td>0       </td><td>...     </td><td>580     </td><td>660     </td><td>580     </td><td>480     </td><td>2014    </td><td>F14     </td><td>1       </td><td>0.25    </td><td>2014    </td><td>2       </td></tr>\n",
       "\t<tr><td>3       </td><td>25      </td><td>10006293</td><td>0       </td><td>0       </td><td>0       </td><td>0       </td><td>0       </td><td>0       </td><td>0       </td><td>...     </td><td>580     </td><td>660     </td><td>580     </td><td>480     </td><td>2014    </td><td>F14     </td><td>1       </td><td>0.25    </td><td>2014    </td><td>2       </td></tr>\n",
       "\t<tr><td>4       </td><td>25      </td><td>10006293</td><td>0       </td><td>0       </td><td>0       </td><td>0       </td><td>0       </td><td>0       </td><td>0       </td><td>...     </td><td>580     </td><td>660     </td><td>580     </td><td>480     </td><td>2015    </td><td>F14     </td><td>4       </td><td>1.00    </td><td>2014    </td><td>2       </td></tr>\n",
       "\t<tr><td>5       </td><td>25      </td><td>10006293</td><td>0       </td><td>0       </td><td>0       </td><td>0       </td><td>0       </td><td>0       </td><td>0       </td><td>...     </td><td>580     </td><td>660     </td><td>580     </td><td>480     </td><td>2015    </td><td>F14     </td><td>5       </td><td>1.25    </td><td>2014    </td><td>2       </td></tr>\n",
       "\t<tr><td>6       </td><td>25      </td><td>10006293</td><td>0       </td><td>0       </td><td>0       </td><td>0       </td><td>0       </td><td>0       </td><td>0       </td><td>...     </td><td>580     </td><td>660     </td><td>580     </td><td>480     </td><td>2015    </td><td>F14     </td><td>5       </td><td>1.25    </td><td>2014    </td><td>2       </td></tr>\n",
       "</tbody>\n",
       "</table>\n"
      ],
      "text/latex": [
       "\\begin{tabular}{r|llllllllllllllllllllllllllllllllllllllllllll}\n",
       " X & st\\_id & studentid & apskipper\\_GChem1 & apskipper\\_Phys1 & aptaker\\_Chem & apyear\\_Chem & apscore\\_Chem & aptaker\\_Mec & aptaker\\_Elec & ... & actenglsr & actmathsr & mathsr & englsr & crs\\_term & admitdate & enrl\\_from\\_cohort & yearsenrolled & cohort & stemmajor\\\\\n",
       "\\hline\n",
       "\t 1        & 25       & 10006293 & 0        & 0        & 0        & 0        & 0        & 0        & 0        & ...      & 580      & 660      & 580      & 480      & 2014     & F14      & 1        & 0.25     & 2014     & 2       \\\\\n",
       "\t 2        & 25       & 10006293 & 0        & 0        & 0        & 0        & 0        & 0        & 0        & ...      & 580      & 660      & 580      & 480      & 2014     & F14      & 1        & 0.25     & 2014     & 2       \\\\\n",
       "\t 3        & 25       & 10006293 & 0        & 0        & 0        & 0        & 0        & 0        & 0        & ...      & 580      & 660      & 580      & 480      & 2014     & F14      & 1        & 0.25     & 2014     & 2       \\\\\n",
       "\t 4        & 25       & 10006293 & 0        & 0        & 0        & 0        & 0        & 0        & 0        & ...      & 580      & 660      & 580      & 480      & 2015     & F14      & 4        & 1.00     & 2014     & 2       \\\\\n",
       "\t 5        & 25       & 10006293 & 0        & 0        & 0        & 0        & 0        & 0        & 0        & ...      & 580      & 660      & 580      & 480      & 2015     & F14      & 5        & 1.25     & 2014     & 2       \\\\\n",
       "\t 6        & 25       & 10006293 & 0        & 0        & 0        & 0        & 0        & 0        & 0        & ...      & 580      & 660      & 580      & 480      & 2015     & F14      & 5        & 1.25     & 2014     & 2       \\\\\n",
       "\\end{tabular}\n"
      ],
      "text/markdown": [
       "\n",
       "| X | st_id | studentid | apskipper_GChem1 | apskipper_Phys1 | aptaker_Chem | apyear_Chem | apscore_Chem | aptaker_Mec | aptaker_Elec | ... | actenglsr | actmathsr | mathsr | englsr | crs_term | admitdate | enrl_from_cohort | yearsenrolled | cohort | stemmajor |\n",
       "|---|---|---|---|---|---|---|---|---|---|---|---|---|---|---|---|---|---|---|---|---|\n",
       "| 1        | 25       | 10006293 | 0        | 0        | 0        | 0        | 0        | 0        | 0        | ...      | 580      | 660      | 580      | 480      | 2014     | F14      | 1        | 0.25     | 2014     | 2        |\n",
       "| 2        | 25       | 10006293 | 0        | 0        | 0        | 0        | 0        | 0        | 0        | ...      | 580      | 660      | 580      | 480      | 2014     | F14      | 1        | 0.25     | 2014     | 2        |\n",
       "| 3        | 25       | 10006293 | 0        | 0        | 0        | 0        | 0        | 0        | 0        | ...      | 580      | 660      | 580      | 480      | 2014     | F14      | 1        | 0.25     | 2014     | 2        |\n",
       "| 4        | 25       | 10006293 | 0        | 0        | 0        | 0        | 0        | 0        | 0        | ...      | 580      | 660      | 580      | 480      | 2015     | F14      | 4        | 1.00     | 2014     | 2        |\n",
       "| 5        | 25       | 10006293 | 0        | 0        | 0        | 0        | 0        | 0        | 0        | ...      | 580      | 660      | 580      | 480      | 2015     | F14      | 5        | 1.25     | 2014     | 2        |\n",
       "| 6        | 25       | 10006293 | 0        | 0        | 0        | 0        | 0        | 0        | 0        | ...      | 580      | 660      | 580      | 480      | 2015     | F14      | 5        | 1.25     | 2014     | 2        |\n",
       "\n"
      ],
      "text/plain": [
       "  X st_id studentid apskipper_GChem1 apskipper_Phys1 aptaker_Chem apyear_Chem\n",
       "1 1 25    10006293  0                0               0            0          \n",
       "2 2 25    10006293  0                0               0            0          \n",
       "3 3 25    10006293  0                0               0            0          \n",
       "4 4 25    10006293  0                0               0            0          \n",
       "5 5 25    10006293  0                0               0            0          \n",
       "6 6 25    10006293  0                0               0            0          \n",
       "  apscore_Chem aptaker_Mec aptaker_Elec ... actenglsr actmathsr mathsr englsr\n",
       "1 0            0           0            ... 580       660       580    480   \n",
       "2 0            0           0            ... 580       660       580    480   \n",
       "3 0            0           0            ... 580       660       580    480   \n",
       "4 0            0           0            ... 580       660       580    480   \n",
       "5 0            0           0            ... 580       660       580    480   \n",
       "6 0            0           0            ... 580       660       580    480   \n",
       "  crs_term admitdate enrl_from_cohort yearsenrolled cohort stemmajor\n",
       "1 2014     F14       1                0.25          2014   2        \n",
       "2 2014     F14       1                0.25          2014   2        \n",
       "3 2014     F14       1                0.25          2014   2        \n",
       "4 2015     F14       4                1.00          2014   2        \n",
       "5 2015     F14       5                1.25          2014   2        \n",
       "6 2015     F14       5                1.25          2014   2        "
      ]
     },
     "metadata": {},
     "output_type": "display_data"
    }
   ],
   "source": [
    "head(apfull)"
   ]
  },
  {
   "cell_type": "code",
   "execution_count": 15,
   "metadata": {},
   "outputs": [
    {
     "data": {
      "text/plain": [
       "\n",
       "     0   2007   2008   2009   2010   2011   2012   2013   2014   2015   2016 \n",
       "324238     11     21    206   2246   7992  13651  13992  15547  13597   5457 \n",
       "  2017 \n",
       "   946 "
      ]
     },
     "metadata": {},
     "output_type": "display_data"
    }
   ],
   "source": [
    "table(apfull$apyear_Chem)"
   ]
  },
  {
   "cell_type": "code",
   "execution_count": 18,
   "metadata": {},
   "outputs": [
    {
     "data": {
      "text/html": [
       "<ol class=list-inline>\n",
       "\t<li>2275</li>\n",
       "\t<li>44</li>\n",
       "</ol>\n"
      ],
      "text/latex": [
       "\\begin{enumerate*}\n",
       "\\item 2275\n",
       "\\item 44\n",
       "\\end{enumerate*}\n"
      ],
      "text/markdown": [
       "1. 2275\n",
       "2. 44\n",
       "\n",
       "\n"
      ],
      "text/plain": [
       "[1] 2275   44"
      ]
     },
     "metadata": {},
     "output_type": "display_data"
    },
    {
     "data": {
      "text/html": [
       "<table>\n",
       "<thead><tr><th></th><th scope=col>X</th><th scope=col>st_id</th><th scope=col>studentid</th><th scope=col>apskipper_GChem1</th><th scope=col>apskipper_Phys1</th><th scope=col>aptaker_Chem</th><th scope=col>apyear_Chem</th><th scope=col>apscore_Chem</th><th scope=col>aptaker_Mec</th><th scope=col>aptaker_Elec</th><th scope=col>...</th><th scope=col>actenglsr</th><th scope=col>actmathsr</th><th scope=col>mathsr</th><th scope=col>englsr</th><th scope=col>crs_term</th><th scope=col>admitdate</th><th scope=col>enrl_from_cohort</th><th scope=col>yearsenrolled</th><th scope=col>cohort</th><th scope=col>stemmajor</th></tr></thead>\n",
       "<tbody>\n",
       "\t<tr><th scope=row>527</th><td> 527    </td><td>175     </td><td>10127632</td><td>0       </td><td>0       </td><td>1       </td><td>2015    </td><td>3       </td><td>0       </td><td>0       </td><td>...     </td><td> NA     </td><td> NA     </td><td>580     </td><td>600     </td><td>2017    </td><td>F16     </td><td>2       </td><td>0.50    </td><td>2016    </td><td>2       </td></tr>\n",
       "\t<tr><th scope=row>528</th><td> 528    </td><td>175     </td><td>10127632</td><td>0       </td><td>0       </td><td>1       </td><td>2015    </td><td>3       </td><td>0       </td><td>0       </td><td>...     </td><td> NA     </td><td> NA     </td><td>580     </td><td>600     </td><td>2017    </td><td>F16     </td><td>3       </td><td>0.75    </td><td>2016    </td><td>2       </td></tr>\n",
       "\t<tr><th scope=row>591</th><td> 591    </td><td>189     </td><td>10141872</td><td>0       </td><td>0       </td><td>1       </td><td>2015    </td><td>3       </td><td>0       </td><td>0       </td><td>...     </td><td> NA     </td><td> NA     </td><td>730     </td><td>640     </td><td>2015    </td><td>F15     </td><td>1       </td><td>0.25    </td><td>2015    </td><td>2       </td></tr>\n",
       "\t<tr><th scope=row>602</th><td> 602    </td><td>189     </td><td>10141872</td><td>0       </td><td>0       </td><td>1       </td><td>2015    </td><td>3       </td><td>0       </td><td>0       </td><td>...     </td><td> NA     </td><td> NA     </td><td>730     </td><td>640     </td><td>2016    </td><td>F15     </td><td>2       </td><td>0.50    </td><td>2015    </td><td>2       </td></tr>\n",
       "\t<tr><th scope=row>908</th><td> 908    </td><td>240     </td><td>10174909</td><td>0       </td><td>0       </td><td>1       </td><td>2014    </td><td>2       </td><td>0       </td><td>0       </td><td>...     </td><td>530     </td><td>640     </td><td>620     </td><td>570     </td><td>2017    </td><td>F16     </td><td>2       </td><td>0.50    </td><td>2016    </td><td>2       </td></tr>\n",
       "\t<tr><th scope=row>1190</th><td>1190    </td><td>318     </td><td>10236925</td><td>0       </td><td>0       </td><td>1       </td><td>2015    </td><td>3       </td><td>0       </td><td>0       </td><td>...     </td><td>580     </td><td>710     </td><td>710     </td><td>610     </td><td>2016    </td><td>F16     </td><td>1       </td><td>0.25    </td><td>2016    </td><td>2       </td></tr>\n",
       "</tbody>\n",
       "</table>\n"
      ],
      "text/latex": [
       "\\begin{tabular}{r|llllllllllllllllllllllllllllllllllllllllllll}\n",
       "  & X & st\\_id & studentid & apskipper\\_GChem1 & apskipper\\_Phys1 & aptaker\\_Chem & apyear\\_Chem & apscore\\_Chem & aptaker\\_Mec & aptaker\\_Elec & ... & actenglsr & actmathsr & mathsr & englsr & crs\\_term & admitdate & enrl\\_from\\_cohort & yearsenrolled & cohort & stemmajor\\\\\n",
       "\\hline\n",
       "\t527 &  527     & 175      & 10127632 & 0        & 0        & 1        & 2015     & 3        & 0        & 0        & ...      &  NA      &  NA      & 580      & 600      & 2017     & F16      & 2        & 0.50     & 2016     & 2       \\\\\n",
       "\t528 &  528     & 175      & 10127632 & 0        & 0        & 1        & 2015     & 3        & 0        & 0        & ...      &  NA      &  NA      & 580      & 600      & 2017     & F16      & 3        & 0.75     & 2016     & 2       \\\\\n",
       "\t591 &  591     & 189      & 10141872 & 0        & 0        & 1        & 2015     & 3        & 0        & 0        & ...      &  NA      &  NA      & 730      & 640      & 2015     & F15      & 1        & 0.25     & 2015     & 2       \\\\\n",
       "\t602 &  602     & 189      & 10141872 & 0        & 0        & 1        & 2015     & 3        & 0        & 0        & ...      &  NA      &  NA      & 730      & 640      & 2016     & F15      & 2        & 0.50     & 2015     & 2       \\\\\n",
       "\t908 &  908     & 240      & 10174909 & 0        & 0        & 1        & 2014     & 2        & 0        & 0        & ...      & 530      & 640      & 620      & 570      & 2017     & F16      & 2        & 0.50     & 2016     & 2       \\\\\n",
       "\t1190 & 1190     & 318      & 10236925 & 0        & 0        & 1        & 2015     & 3        & 0        & 0        & ...      & 580      & 710      & 710      & 610      & 2016     & F16      & 1        & 0.25     & 2016     & 2       \\\\\n",
       "\\end{tabular}\n"
      ],
      "text/markdown": [
       "\n",
       "| <!--/--> | X | st_id | studentid | apskipper_GChem1 | apskipper_Phys1 | aptaker_Chem | apyear_Chem | apscore_Chem | aptaker_Mec | aptaker_Elec | ... | actenglsr | actmathsr | mathsr | englsr | crs_term | admitdate | enrl_from_cohort | yearsenrolled | cohort | stemmajor |\n",
       "|---|---|---|---|---|---|---|---|---|---|---|---|---|---|---|---|---|---|---|---|---|---|\n",
       "| 527 |  527     | 175      | 10127632 | 0        | 0        | 1        | 2015     | 3        | 0        | 0        | ...      |  NA      |  NA      | 580      | 600      | 2017     | F16      | 2        | 0.50     | 2016     | 2        |\n",
       "| 528 |  528     | 175      | 10127632 | 0        | 0        | 1        | 2015     | 3        | 0        | 0        | ...      |  NA      |  NA      | 580      | 600      | 2017     | F16      | 3        | 0.75     | 2016     | 2        |\n",
       "| 591 |  591     | 189      | 10141872 | 0        | 0        | 1        | 2015     | 3        | 0        | 0        | ...      |  NA      |  NA      | 730      | 640      | 2015     | F15      | 1        | 0.25     | 2015     | 2        |\n",
       "| 602 |  602     | 189      | 10141872 | 0        | 0        | 1        | 2015     | 3        | 0        | 0        | ...      |  NA      |  NA      | 730      | 640      | 2016     | F15      | 2        | 0.50     | 2015     | 2        |\n",
       "| 908 |  908     | 240      | 10174909 | 0        | 0        | 1        | 2014     | 2        | 0        | 0        | ...      | 530      | 640      | 620      | 570      | 2017     | F16      | 2        | 0.50     | 2016     | 2        |\n",
       "| 1190 | 1190     | 318      | 10236925 | 0        | 0        | 1        | 2015     | 3        | 0        | 0        | ...      | 580      | 710      | 710      | 610      | 2016     | F16      | 1        | 0.25     | 2016     | 2        |\n",
       "\n"
      ],
      "text/plain": [
       "     X    st_id studentid apskipper_GChem1 apskipper_Phys1 aptaker_Chem\n",
       "527   527 175   10127632  0                0               1           \n",
       "528   528 175   10127632  0                0               1           \n",
       "591   591 189   10141872  0                0               1           \n",
       "602   602 189   10141872  0                0               1           \n",
       "908   908 240   10174909  0                0               1           \n",
       "1190 1190 318   10236925  0                0               1           \n",
       "     apyear_Chem apscore_Chem aptaker_Mec aptaker_Elec ... actenglsr actmathsr\n",
       "527  2015        3            0           0            ...  NA        NA      \n",
       "528  2015        3            0           0            ...  NA        NA      \n",
       "591  2015        3            0           0            ...  NA        NA      \n",
       "602  2015        3            0           0            ...  NA        NA      \n",
       "908  2014        2            0           0            ... 530       640      \n",
       "1190 2015        3            0           0            ... 580       710      \n",
       "     mathsr englsr crs_term admitdate enrl_from_cohort yearsenrolled cohort\n",
       "527  580    600    2017     F16       2                0.50          2016  \n",
       "528  580    600    2017     F16       3                0.75          2016  \n",
       "591  730    640    2015     F15       1                0.25          2015  \n",
       "602  730    640    2016     F15       2                0.50          2015  \n",
       "908  620    570    2017     F16       2                0.50          2016  \n",
       "1190 710    610    2016     F16       1                0.25          2016  \n",
       "     stemmajor\n",
       "527  2        \n",
       "528  2        \n",
       "591  2        \n",
       "602  2        \n",
       "908  2        \n",
       "1190 2        "
      ]
     },
     "metadata": {},
     "output_type": "display_data"
    }
   ],
   "source": [
    "## Data processing for skip eligibility\n",
    "# Subset for CHEM; starting with apyear from 2014\n",
    "chemap <- subset(apfull, class_number%in%c(\"0001A\", \"0001B\") & crs_name==\"GENERAL CHEMISTRY\" & \n",
    "                 apyear_Chem%in%c(\"2014\", \"2015\", \"2016\", \"2017\"))\n",
    "dim(chemap)\n",
    "head(chemap)"
   ]
  },
  {
   "cell_type": "code",
   "execution_count": 20,
   "metadata": {},
   "outputs": [
    {
     "data": {
      "text/plain": [
       "   \n",
       "      1   2   3   4   5\n",
       "  0 456 770 588 132  30\n",
       "  1   0   0   0  25  11"
      ]
     },
     "metadata": {},
     "output_type": "display_data"
    }
   ],
   "source": [
    "# Get students who were eligible to skip 1A and did not \n",
    "chemap$notSkipthoughEl <- ifelse(chemap$apskipper_GChem1==1 & chemap$class_number==\"0001A\", 1, 0) \n",
    "# double check\n",
    "table(chemap$notSkipthoughEl, chemap$apscore_Chem)\n",
    "# make a flag for those\n",
    "chemNotSkipthoughEl <- subset(chemap, notSkipthoughEl==1)"
   ]
  },
  {
   "cell_type": "code",
   "execution_count": 23,
   "metadata": {},
   "outputs": [
    {
     "data": {
      "text/plain": [
       "   \n",
       "         0      1      2      3      4      5\n",
       "  0 324238  18555  18415  16264    322     99\n",
       "  1      0      0      0      0  10273   4320"
      ]
     },
     "metadata": {},
     "output_type": "display_data"
    }
   ],
   "source": [
    "# Add the flag to the full sample\n",
    "apfull$chemNotSkipthoughEl <- ifelse(apfull$studentid%in%chemNotSkipthoughEl$studentid, 1, 0)\n",
    "\n",
    "apfull$aprealskipper_GChem1 <- ifelse(apfull$chemNotSkipthoughEl==0 & apfull$apskipper_GChem1==1, 1, 0)\n",
    "\n",
    "table(apfull$aprealskipper_GChem1, apfull$apscore_Chem)"
   ]
  },
  {
   "cell_type": "code",
   "execution_count": 27,
   "metadata": {},
   "outputs": [
    {
     "data": {
      "text/html": [
       "<ol class=list-inline>\n",
       "\t<li>1640</li>\n",
       "\t<li>46</li>\n",
       "</ol>\n"
      ],
      "text/latex": [
       "\\begin{enumerate*}\n",
       "\\item 1640\n",
       "\\item 46\n",
       "\\end{enumerate*}\n"
      ],
      "text/markdown": [
       "1. 1640\n",
       "2. 46\n",
       "\n",
       "\n"
      ],
      "text/plain": [
       "[1] 1640   46"
      ]
     },
     "metadata": {},
     "output_type": "display_data"
    },
    {
     "data": {
      "text/html": [
       "<table>\n",
       "<thead><tr><th></th><th scope=col>X</th><th scope=col>st_id</th><th scope=col>studentid</th><th scope=col>apskipper_GChem1</th><th scope=col>apskipper_Phys1</th><th scope=col>aptaker_Chem</th><th scope=col>apyear_Chem</th><th scope=col>apscore_Chem</th><th scope=col>aptaker_Mec</th><th scope=col>aptaker_Elec</th><th scope=col>...</th><th scope=col>mathsr</th><th scope=col>englsr</th><th scope=col>crs_term</th><th scope=col>admitdate</th><th scope=col>enrl_from_cohort</th><th scope=col>yearsenrolled</th><th scope=col>cohort</th><th scope=col>stemmajor</th><th scope=col>chemNotSkipthoughEl</th><th scope=col>aprealskipper_GChem1</th></tr></thead>\n",
       "<tbody>\n",
       "\t<tr><th scope=row>1227</th><td>1227    </td><td>329     </td><td>10248503</td><td>0       </td><td>1       </td><td>0       </td><td>   0    </td><td>0       </td><td>1       </td><td>0       </td><td>...     </td><td>750     </td><td>660     </td><td>2016    </td><td>F16     </td><td>1       </td><td>0.25    </td><td>2016    </td><td>2       </td><td>0       </td><td>0       </td></tr>\n",
       "\t<tr><th scope=row>1228</th><td>1228    </td><td>329     </td><td>10248503</td><td>0       </td><td>1       </td><td>0       </td><td>   0    </td><td>0       </td><td>1       </td><td>0       </td><td>...     </td><td>750     </td><td>660     </td><td>2017    </td><td>F16     </td><td>4       </td><td>1.00    </td><td>2016    </td><td>2       </td><td>0       </td><td>0       </td></tr>\n",
       "\t<tr><th scope=row>1232</th><td>1232    </td><td>329     </td><td>10248503</td><td>0       </td><td>1       </td><td>0       </td><td>   0    </td><td>0       </td><td>1       </td><td>0       </td><td>...     </td><td>750     </td><td>660     </td><td>2017    </td><td>F16     </td><td>4       </td><td>1.00    </td><td>2016    </td><td>2       </td><td>0       </td><td>0       </td></tr>\n",
       "\t<tr><th scope=row>2544</th><td>2544    </td><td>647     </td><td>10482351</td><td>0       </td><td>1       </td><td>0       </td><td>   0    </td><td>0       </td><td>1       </td><td>0       </td><td>...     </td><td>750     </td><td>780     </td><td>2015    </td><td>F14     </td><td>5       </td><td>1.25    </td><td>2014    </td><td>2       </td><td>0       </td><td>0       </td></tr>\n",
       "\t<tr><th scope=row>2553</th><td>2553    </td><td>647     </td><td>10482351</td><td>0       </td><td>1       </td><td>0       </td><td>   0    </td><td>0       </td><td>1       </td><td>0       </td><td>...     </td><td>750     </td><td>780     </td><td>2015    </td><td>F14     </td><td>3       </td><td>0.75    </td><td>2014    </td><td>1       </td><td>0       </td><td>0       </td></tr>\n",
       "\t<tr><th scope=row>2652</th><td>2652    </td><td>673     </td><td>10498725</td><td>0       </td><td>1       </td><td>1       </td><td>2010    </td><td>1       </td><td>1       </td><td>0       </td><td>...     </td><td>680     </td><td>450     </td><td>2013    </td><td>F12     </td><td>5       </td><td>1.25    </td><td>2013    </td><td>1       </td><td>0       </td><td>0       </td></tr>\n",
       "</tbody>\n",
       "</table>\n"
      ],
      "text/latex": [
       "\\begin{tabular}{r|llllllllllllllllllllllllllllllllllllllllllllll}\n",
       "  & X & st\\_id & studentid & apskipper\\_GChem1 & apskipper\\_Phys1 & aptaker\\_Chem & apyear\\_Chem & apscore\\_Chem & aptaker\\_Mec & aptaker\\_Elec & ... & mathsr & englsr & crs\\_term & admitdate & enrl\\_from\\_cohort & yearsenrolled & cohort & stemmajor & chemNotSkipthoughEl & aprealskipper\\_GChem1\\\\\n",
       "\\hline\n",
       "\t1227 & 1227     & 329      & 10248503 & 0        & 1        & 0        &    0     & 0        & 1        & 0        & ...      & 750      & 660      & 2016     & F16      & 1        & 0.25     & 2016     & 2        & 0        & 0       \\\\\n",
       "\t1228 & 1228     & 329      & 10248503 & 0        & 1        & 0        &    0     & 0        & 1        & 0        & ...      & 750      & 660      & 2017     & F16      & 4        & 1.00     & 2016     & 2        & 0        & 0       \\\\\n",
       "\t1232 & 1232     & 329      & 10248503 & 0        & 1        & 0        &    0     & 0        & 1        & 0        & ...      & 750      & 660      & 2017     & F16      & 4        & 1.00     & 2016     & 2        & 0        & 0       \\\\\n",
       "\t2544 & 2544     & 647      & 10482351 & 0        & 1        & 0        &    0     & 0        & 1        & 0        & ...      & 750      & 780      & 2015     & F14      & 5        & 1.25     & 2014     & 2        & 0        & 0       \\\\\n",
       "\t2553 & 2553     & 647      & 10482351 & 0        & 1        & 0        &    0     & 0        & 1        & 0        & ...      & 750      & 780      & 2015     & F14      & 3        & 0.75     & 2014     & 1        & 0        & 0       \\\\\n",
       "\t2652 & 2652     & 673      & 10498725 & 0        & 1        & 1        & 2010     & 1        & 1        & 0        & ...      & 680      & 450      & 2013     & F12      & 5        & 1.25     & 2013     & 1        & 0        & 0       \\\\\n",
       "\\end{tabular}\n"
      ],
      "text/markdown": [
       "\n",
       "| <!--/--> | X | st_id | studentid | apskipper_GChem1 | apskipper_Phys1 | aptaker_Chem | apyear_Chem | apscore_Chem | aptaker_Mec | aptaker_Elec | ... | mathsr | englsr | crs_term | admitdate | enrl_from_cohort | yearsenrolled | cohort | stemmajor | chemNotSkipthoughEl | aprealskipper_GChem1 |\n",
       "|---|---|---|---|---|---|---|---|---|---|---|---|---|---|---|---|---|---|---|---|---|---|\n",
       "| 1227 | 1227     | 329      | 10248503 | 0        | 1        | 0        |    0     | 0        | 1        | 0        | ...      | 750      | 660      | 2016     | F16      | 1        | 0.25     | 2016     | 2        | 0        | 0        |\n",
       "| 1228 | 1228     | 329      | 10248503 | 0        | 1        | 0        |    0     | 0        | 1        | 0        | ...      | 750      | 660      | 2017     | F16      | 4        | 1.00     | 2016     | 2        | 0        | 0        |\n",
       "| 1232 | 1232     | 329      | 10248503 | 0        | 1        | 0        |    0     | 0        | 1        | 0        | ...      | 750      | 660      | 2017     | F16      | 4        | 1.00     | 2016     | 2        | 0        | 0        |\n",
       "| 2544 | 2544     | 647      | 10482351 | 0        | 1        | 0        |    0     | 0        | 1        | 0        | ...      | 750      | 780      | 2015     | F14      | 5        | 1.25     | 2014     | 2        | 0        | 0        |\n",
       "| 2553 | 2553     | 647      | 10482351 | 0        | 1        | 0        |    0     | 0        | 1        | 0        | ...      | 750      | 780      | 2015     | F14      | 3        | 0.75     | 2014     | 1        | 0        | 0        |\n",
       "| 2652 | 2652     | 673      | 10498725 | 0        | 1        | 1        | 2010     | 1        | 1        | 0        | ...      | 680      | 450      | 2013     | F12      | 5        | 1.25     | 2013     | 1        | 0        | 0        |\n",
       "\n"
      ],
      "text/plain": [
       "     X    st_id studentid apskipper_GChem1 apskipper_Phys1 aptaker_Chem\n",
       "1227 1227 329   10248503  0                1               0           \n",
       "1228 1228 329   10248503  0                1               0           \n",
       "1232 1232 329   10248503  0                1               0           \n",
       "2544 2544 647   10482351  0                1               0           \n",
       "2553 2553 647   10482351  0                1               0           \n",
       "2652 2652 673   10498725  0                1               1           \n",
       "     apyear_Chem apscore_Chem aptaker_Mec aptaker_Elec ... mathsr englsr\n",
       "1227    0        0            1           0            ... 750    660   \n",
       "1228    0        0            1           0            ... 750    660   \n",
       "1232    0        0            1           0            ... 750    660   \n",
       "2544    0        0            1           0            ... 750    780   \n",
       "2553    0        0            1           0            ... 750    780   \n",
       "2652 2010        1            1           0            ... 680    450   \n",
       "     crs_term admitdate enrl_from_cohort yearsenrolled cohort stemmajor\n",
       "1227 2016     F16       1                0.25          2016   2        \n",
       "1228 2017     F16       4                1.00          2016   2        \n",
       "1232 2017     F16       4                1.00          2016   2        \n",
       "2544 2015     F14       5                1.25          2014   2        \n",
       "2553 2015     F14       3                0.75          2014   1        \n",
       "2652 2013     F12       5                1.25          2013   1        \n",
       "     chemNotSkipthoughEl aprealskipper_GChem1\n",
       "1227 0                   0                   \n",
       "1228 0                   0                   \n",
       "1232 0                   0                   \n",
       "2544 0                   0                   \n",
       "2553 0                   0                   \n",
       "2652 0                   0                   "
      ]
     },
     "metadata": {},
     "output_type": "display_data"
    }
   ],
   "source": [
    "# Physics\n",
    "# Subset for Physics first course; starting with apyear from 2015 for either test\n",
    "physicsap <- subset(apfull, class_number%in%c(\"0007C\", \"0007D\", \"0007E\") & crs_name==\"CLASSICAL PHYSICS\" & \n",
    "                 apyear_Mec%in%c(\"2015\", \"2016\", \"2017\")|apyear_Elec%in%c(\"2015\", \"2016\", \"2017\"))\n",
    "dim(physicsap)\n",
    "head(physicsap)"
   ]
  },
  {
   "cell_type": "code",
   "execution_count": 30,
   "metadata": {},
   "outputs": [
    {
     "data": {
      "text/plain": [
       "\n",
       "   0    1 \n",
       "1582   58 "
      ]
     },
     "metadata": {},
     "output_type": "display_data"
    }
   ],
   "source": [
    "physicsap$notSkipthoughEl <- ifelse(physicsap$apskipper_Phys1==1 & physicsap$class_number==\"0007C\" & \n",
    "                                physicsap$crs_name==\"CLASSICAL PHYSICS\", 1, 0)\n",
    "table(physicsap$notSkipthoughEl)\n",
    "physNotSkipthoughEl <- subset(physicsap, notSkipthoughEl==1)"
   ]
  },
  {
   "cell_type": "code",
   "execution_count": 34,
   "metadata": {},
   "outputs": [
    {
     "data": {
      "text/plain": [
       "   \n",
       "       1    2    3    4    5\n",
       "  0 1775 2652 2880  321  210\n",
       "  1    0    0    0 1728 1439"
      ]
     },
     "metadata": {},
     "output_type": "display_data"
    },
    {
     "data": {
      "text/plain": [
       "   \n",
       "      1   2   3   4   5\n",
       "  0 365 643 827 455 454\n",
       "  1 114 132 102 107 166"
      ]
     },
     "metadata": {},
     "output_type": "display_data"
    }
   ],
   "source": [
    "# Add the flag to the full sample\n",
    "apfull$physNotSkipthoughEl <- ifelse(apfull$studentid%in%physNotSkipthoughEl$studentid, 1, 0)\n",
    "\n",
    "apfull$aprealskipper_Phys1 <- ifelse(apfull$physNotSkipthoughEl==0 & apfull$apskipper_Phys1==1, 1, 0)\n",
    "\n",
    "table(apfull$aprealskipper_Phys1, apfull$apscore_Mec)\n",
    "table(apfull$aprealskipper_Phys1, apfull$apscore_Elec)"
   ]
  },
  {
   "cell_type": "code",
   "execution_count": 36,
   "metadata": {},
   "outputs": [],
   "source": [
    "# Write df for later analyses\n",
    "write.csv(apfull, \"/Users/thicn/Documents/AP Skip/apfull_SkipEl.csv\") # your directory"
   ]
  },
  {
   "cell_type": "code",
   "execution_count": null,
   "metadata": {},
   "outputs": [],
   "source": []
  }
 ],
 "metadata": {
  "kernelspec": {
   "display_name": "R",
   "language": "R",
   "name": "ir"
  },
  "language_info": {
   "codemirror_mode": "r",
   "file_extension": ".r",
   "mimetype": "text/x-r-source",
   "name": "R",
   "pygments_lexer": "r",
   "version": "3.6.1"
  }
 },
 "nbformat": 4,
 "nbformat_minor": 4
}
