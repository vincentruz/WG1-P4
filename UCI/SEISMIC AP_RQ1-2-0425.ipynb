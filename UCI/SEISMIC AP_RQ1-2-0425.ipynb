{
 "cells": [
  {
   "cell_type": "code",
   "execution_count": null,
   "metadata": {},
   "outputs": [],
   "source": [
    "# Inclusion criteria: https://docs.google.com/spreadsheets/d/1SzU4PcIEUsAGnKKyAcugHO2O2aZW29sf9a_cC-FAElk/edit#gid=1702351745"
   ]
  },
  {
   "cell_type": "code",
   "execution_count": 1,
   "metadata": {},
   "outputs": [
    {
     "name": "stderr",
     "output_type": "stream",
     "text": [
      "Updating HTML index of packages in '.Library'\n",
      "\n",
      "Making 'packages.html' ...\n",
      " done\n",
      "\n"
     ]
    }
   ],
   "source": [
    "# Load libraries\n",
    "install.packages(\"pacman\")\n",
    "pacman::p_load(\"tidyverse\", \"dplyr\", \"data.table\", \"psych\") # data wrangling/descriptive stats"
   ]
  },
  {
   "cell_type": "code",
   "execution_count": 3,
   "metadata": {},
   "outputs": [],
   "source": [
    "# Need sjstats for reporting robust SE\n",
    "# In R Studio you can just do install.packages(\"sjstats\"). \n",
    "# If that doesn't work try library(devtools) first.\n",
    "# library(sjstats)"
   ]
  },
  {
   "cell_type": "code",
   "execution_count": 77,
   "metadata": {},
   "outputs": [],
   "source": [
    "# Load prepared datasets (see data processing notebook)\n",
    "df_chem2 <- read.csv(\"/Users/thicn/Documents/AP Skip/AP Skip_DataFrames_0425/df_chem2.csv\")\n",
    "df_phys2 <- read.csv(\"/Users/thicn/Documents/AP Skip/AP Skip_DataFrames_0425/df_phys2.csv\")\n",
    "df_chemtakers <- read.csv(\"/Users/thicn/Documents/AP Skip/AP Skip_DataFrames_0425/df_chemtakers.csv\")\n",
    "df_phystakers <- read.csv(\"/Users/thicn/Documents/AP Skip/AP Skip_DataFrames_0425/df_phystakers.csv\")\n",
    "df_chemSkEligible <- read.csv(\"/Users/thicn/Documents/AP Skip/AP Skip_DataFrames_0425/df_chemSkEligible.csv\")\n",
    "df_physSkEligible <- read.csv(\"/Users/thicn/Documents/AP Skip/AP Skip_DataFrames_0425/df_physSkEligible.csv\")"
   ]
  },
  {
   "cell_type": "code",
   "execution_count": null,
   "metadata": {},
   "outputs": [],
   "source": [
    "# Notes: variable names all follow convention, except for hsgpa_z = scale(hsgpa)"
   ]
  },
  {
   "cell_type": "code",
   "execution_count": 11,
   "metadata": {},
   "outputs": [
    {
     "data": {
      "text/html": [
       "<ol class=list-inline>\n",
       "\t<li>'X'</li>\n",
       "\t<li>'st_id'</li>\n",
       "\t<li>'studentid'</li>\n",
       "\t<li>'eligible_to_skip'</li>\n",
       "\t<li>'tookap'</li>\n",
       "\t<li>'apyear'</li>\n",
       "\t<li>'apscore'</li>\n",
       "\t<li>'coursecode'</li>\n",
       "\t<li>'crs_name'</li>\n",
       "\t<li>'crs_catalog'</li>\n",
       "\t<li>'class_number'</li>\n",
       "\t<li>'crs_obj'</li>\n",
       "\t<li>'level'</li>\n",
       "\t<li>'newfresh'</li>\n",
       "\t<li>'gender'</li>\n",
       "\t<li>'ethniccode'</li>\n",
       "\t<li>'ethniccode_cat'</li>\n",
       "\t<li>'ethniccode_cat2'</li>\n",
       "\t<li>'firstgen'</li>\n",
       "\t<li>'lowincomeflag'</li>\n",
       "\t<li>'ellflag'</li>\n",
       "\t<li>'hsgpa'</li>\n",
       "\t<li>'hsgpa_z'</li>\n",
       "\t<li>'bstsat1mathsr'</li>\n",
       "\t<li>'bstsat1readsr'</li>\n",
       "\t<li>'actenglsr'</li>\n",
       "\t<li>'actmathsr'</li>\n",
       "\t<li>'mathsr'</li>\n",
       "\t<li>'englsr'</li>\n",
       "\t<li>'crs_term'</li>\n",
       "\t<li>'admitdate'</li>\n",
       "\t<li>'enrl_from_cohort'</li>\n",
       "\t<li>'yearsenrolled'</li>\n",
       "\t<li>'cohort'</li>\n",
       "\t<li>'stemmajor'</li>\n",
       "\t<li>'notSkip_Eli'</li>\n",
       "\t<li>'skipped_course'</li>\n",
       "\t<li>'numgrade_all'</li>\n",
       "\t<li>'numgrade2_all'</li>\n",
       "\t<li>'numgrade'</li>\n",
       "\t<li>'numgrade_2'</li>\n",
       "\t<li>'discipline'</li>\n",
       "\t<li>'numgrade3_all'</li>\n",
       "\t<li>'numgrade_3'</li>\n",
       "</ol>\n"
      ],
      "text/latex": [
       "\\begin{enumerate*}\n",
       "\\item 'X'\n",
       "\\item 'st\\_id'\n",
       "\\item 'studentid'\n",
       "\\item 'eligible\\_to\\_skip'\n",
       "\\item 'tookap'\n",
       "\\item 'apyear'\n",
       "\\item 'apscore'\n",
       "\\item 'coursecode'\n",
       "\\item 'crs\\_name'\n",
       "\\item 'crs\\_catalog'\n",
       "\\item 'class\\_number'\n",
       "\\item 'crs\\_obj'\n",
       "\\item 'level'\n",
       "\\item 'newfresh'\n",
       "\\item 'gender'\n",
       "\\item 'ethniccode'\n",
       "\\item 'ethniccode\\_cat'\n",
       "\\item 'ethniccode\\_cat2'\n",
       "\\item 'firstgen'\n",
       "\\item 'lowincomeflag'\n",
       "\\item 'ellflag'\n",
       "\\item 'hsgpa'\n",
       "\\item 'hsgpa\\_z'\n",
       "\\item 'bstsat1mathsr'\n",
       "\\item 'bstsat1readsr'\n",
       "\\item 'actenglsr'\n",
       "\\item 'actmathsr'\n",
       "\\item 'mathsr'\n",
       "\\item 'englsr'\n",
       "\\item 'crs\\_term'\n",
       "\\item 'admitdate'\n",
       "\\item 'enrl\\_from\\_cohort'\n",
       "\\item 'yearsenrolled'\n",
       "\\item 'cohort'\n",
       "\\item 'stemmajor'\n",
       "\\item 'notSkip\\_Eli'\n",
       "\\item 'skipped\\_course'\n",
       "\\item 'numgrade\\_all'\n",
       "\\item 'numgrade2\\_all'\n",
       "\\item 'numgrade'\n",
       "\\item 'numgrade\\_2'\n",
       "\\item 'discipline'\n",
       "\\item 'numgrade3\\_all'\n",
       "\\item 'numgrade\\_3'\n",
       "\\end{enumerate*}\n"
      ],
      "text/markdown": [
       "1. 'X'\n",
       "2. 'st_id'\n",
       "3. 'studentid'\n",
       "4. 'eligible_to_skip'\n",
       "5. 'tookap'\n",
       "6. 'apyear'\n",
       "7. 'apscore'\n",
       "8. 'coursecode'\n",
       "9. 'crs_name'\n",
       "10. 'crs_catalog'\n",
       "11. 'class_number'\n",
       "12. 'crs_obj'\n",
       "13. 'level'\n",
       "14. 'newfresh'\n",
       "15. 'gender'\n",
       "16. 'ethniccode'\n",
       "17. 'ethniccode_cat'\n",
       "18. 'ethniccode_cat2'\n",
       "19. 'firstgen'\n",
       "20. 'lowincomeflag'\n",
       "21. 'ellflag'\n",
       "22. 'hsgpa'\n",
       "23. 'hsgpa_z'\n",
       "24. 'bstsat1mathsr'\n",
       "25. 'bstsat1readsr'\n",
       "26. 'actenglsr'\n",
       "27. 'actmathsr'\n",
       "28. 'mathsr'\n",
       "29. 'englsr'\n",
       "30. 'crs_term'\n",
       "31. 'admitdate'\n",
       "32. 'enrl_from_cohort'\n",
       "33. 'yearsenrolled'\n",
       "34. 'cohort'\n",
       "35. 'stemmajor'\n",
       "36. 'notSkip_Eli'\n",
       "37. 'skipped_course'\n",
       "38. 'numgrade_all'\n",
       "39. 'numgrade2_all'\n",
       "40. 'numgrade'\n",
       "41. 'numgrade_2'\n",
       "42. 'discipline'\n",
       "43. 'numgrade3_all'\n",
       "44. 'numgrade_3'\n",
       "\n",
       "\n"
      ],
      "text/plain": [
       " [1] \"X\"                \"st_id\"            \"studentid\"        \"eligible_to_skip\"\n",
       " [5] \"tookap\"           \"apyear\"           \"apscore\"          \"coursecode\"      \n",
       " [9] \"crs_name\"         \"crs_catalog\"      \"class_number\"     \"crs_obj\"         \n",
       "[13] \"level\"            \"newfresh\"         \"gender\"           \"ethniccode\"      \n",
       "[17] \"ethniccode_cat\"   \"ethniccode_cat2\"  \"firstgen\"         \"lowincomeflag\"   \n",
       "[21] \"ellflag\"          \"hsgpa\"            \"hsgpa_z\"          \"bstsat1mathsr\"   \n",
       "[25] \"bstsat1readsr\"    \"actenglsr\"        \"actmathsr\"        \"mathsr\"          \n",
       "[29] \"englsr\"           \"crs_term\"         \"admitdate\"        \"enrl_from_cohort\"\n",
       "[33] \"yearsenrolled\"    \"cohort\"           \"stemmajor\"        \"notSkip_Eli\"     \n",
       "[37] \"skipped_course\"   \"numgrade_all\"     \"numgrade2_all\"    \"numgrade\"        \n",
       "[41] \"numgrade_2\"       \"discipline\"       \"numgrade3_all\"    \"numgrade_3\"      "
      ]
     },
     "metadata": {},
     "output_type": "display_data"
    },
    {
     "data": {
      "text/html": [
       "<table>\n",
       "<thead><tr><th scope=col>X</th><th scope=col>st_id</th><th scope=col>studentid</th><th scope=col>eligible_to_skip</th><th scope=col>tookap</th><th scope=col>apyear</th><th scope=col>apscore</th><th scope=col>coursecode</th><th scope=col>crs_name</th><th scope=col>crs_catalog</th><th scope=col>...</th><th scope=col>stemmajor</th><th scope=col>notSkip_Eli</th><th scope=col>skipped_course</th><th scope=col>numgrade_all</th><th scope=col>numgrade2_all</th><th scope=col>numgrade</th><th scope=col>numgrade_2</th><th scope=col>discipline</th><th scope=col>numgrade3_all</th><th scope=col>numgrade_3</th></tr></thead>\n",
       "<tbody>\n",
       "\t<tr><td>1                </td><td>25               </td><td>10006293         </td><td>0                </td><td>0                </td><td>0                </td><td>0                </td><td>40030            </td><td>GENERAL CHEMISTRY</td><td>4003020142CHEM   </td><td>...              </td><td>2                </td><td>0                </td><td>0                </td><td>2                </td><td>2                </td><td>2                </td><td>2                </td><td>CHEM             </td><td>NA               </td><td>NA               </td></tr>\n",
       "\t<tr><td>2                </td><td>25               </td><td>10006293         </td><td>0                </td><td>0                </td><td>0                </td><td>0                </td><td>40240            </td><td>GENERAL CHEMISTRY</td><td>4024020153CHEM   </td><td>...              </td><td>2                </td><td>0                </td><td>0                </td><td>2                </td><td>2                </td><td>2                </td><td>2                </td><td>CHEM             </td><td>NA               </td><td>NA               </td></tr>\n",
       "\t<tr><td>5                </td><td>51               </td><td>10031543         </td><td>0                </td><td>0                </td><td>0                </td><td>0                </td><td>40000            </td><td>GENERAL CHEMISTRY</td><td>4000020162CHEM   </td><td>...              </td><td>2                </td><td>0                </td><td>0                </td><td>2                </td><td>3                </td><td>2                </td><td>3                </td><td>CHEM             </td><td>NA               </td><td>NA               </td></tr>\n",
       "</tbody>\n",
       "</table>\n"
      ],
      "text/latex": [
       "\\begin{tabular}{r|llllllllllllllllllllllllllllllllllllllllllll}\n",
       " X & st\\_id & studentid & eligible\\_to\\_skip & tookap & apyear & apscore & coursecode & crs\\_name & crs\\_catalog & ... & stemmajor & notSkip\\_Eli & skipped\\_course & numgrade\\_all & numgrade2\\_all & numgrade & numgrade\\_2 & discipline & numgrade3\\_all & numgrade\\_3\\\\\n",
       "\\hline\n",
       "\t 1                 & 25                & 10006293          & 0                 & 0                 & 0                 & 0                 & 40030             & GENERAL CHEMISTRY & 4003020142CHEM    & ...               & 2                 & 0                 & 0                 & 2                 & 2                 & 2                 & 2                 & CHEM              & NA                & NA               \\\\\n",
       "\t 2                 & 25                & 10006293          & 0                 & 0                 & 0                 & 0                 & 40240             & GENERAL CHEMISTRY & 4024020153CHEM    & ...               & 2                 & 0                 & 0                 & 2                 & 2                 & 2                 & 2                 & CHEM              & NA                & NA               \\\\\n",
       "\t 5                 & 51                & 10031543          & 0                 & 0                 & 0                 & 0                 & 40000             & GENERAL CHEMISTRY & 4000020162CHEM    & ...               & 2                 & 0                 & 0                 & 2                 & 3                 & 2                 & 3                 & CHEM              & NA                & NA               \\\\\n",
       "\\end{tabular}\n"
      ],
      "text/markdown": [
       "\n",
       "| X | st_id | studentid | eligible_to_skip | tookap | apyear | apscore | coursecode | crs_name | crs_catalog | ... | stemmajor | notSkip_Eli | skipped_course | numgrade_all | numgrade2_all | numgrade | numgrade_2 | discipline | numgrade3_all | numgrade_3 |\n",
       "|---|---|---|---|---|---|---|---|---|---|---|---|---|---|---|---|---|---|---|---|---|\n",
       "| 1                 | 25                | 10006293          | 0                 | 0                 | 0                 | 0                 | 40030             | GENERAL CHEMISTRY | 4003020142CHEM    | ...               | 2                 | 0                 | 0                 | 2                 | 2                 | 2                 | 2                 | CHEM              | NA                | NA                |\n",
       "| 2                 | 25                | 10006293          | 0                 | 0                 | 0                 | 0                 | 40240             | GENERAL CHEMISTRY | 4024020153CHEM    | ...               | 2                 | 0                 | 0                 | 2                 | 2                 | 2                 | 2                 | CHEM              | NA                | NA                |\n",
       "| 5                 | 51                | 10031543          | 0                 | 0                 | 0                 | 0                 | 40000             | GENERAL CHEMISTRY | 4000020162CHEM    | ...               | 2                 | 0                 | 0                 | 2                 | 3                 | 2                 | 3                 | CHEM              | NA                | NA                |\n",
       "\n"
      ],
      "text/plain": [
       "  X st_id studentid eligible_to_skip tookap apyear apscore coursecode\n",
       "1 1 25    10006293  0                0      0      0       40030     \n",
       "2 2 25    10006293  0                0      0      0       40240     \n",
       "3 5 51    10031543  0                0      0      0       40000     \n",
       "  crs_name          crs_catalog    ... stemmajor notSkip_Eli skipped_course\n",
       "1 GENERAL CHEMISTRY 4003020142CHEM ... 2         0           0             \n",
       "2 GENERAL CHEMISTRY 4024020153CHEM ... 2         0           0             \n",
       "3 GENERAL CHEMISTRY 4000020162CHEM ... 2         0           0             \n",
       "  numgrade_all numgrade2_all numgrade numgrade_2 discipline numgrade3_all\n",
       "1 2            2             2        2          CHEM       NA           \n",
       "2 2            2             2        2          CHEM       NA           \n",
       "3 2            3             2        3          CHEM       NA           \n",
       "  numgrade_3\n",
       "1 NA        \n",
       "2 NA        \n",
       "3 NA        "
      ]
     },
     "metadata": {},
     "output_type": "display_data"
    }
   ],
   "source": [
    "# Check to see files are formatted properly\n",
    "names(df_chem2)\n",
    "head(df_chem2, 3)"
   ]
  },
  {
   "cell_type": "code",
   "execution_count": 89,
   "metadata": {},
   "outputs": [
    {
     "data": {
      "text/plain": [
       "\n",
       "0001A 0001B \n",
       "    0  7931 "
      ]
     },
     "metadata": {},
     "output_type": "display_data"
    }
   ],
   "source": [
    "table(df_chem2$class_number)\n",
    "# Retain rows for the second course\n",
    "df_chem2 <- subset(df_chem2, class_number==\"0001B\")\n",
    "df_chemtakers  <- subset(df_chemtakers, class_number==\"0001B\")\n",
    "df_chemSkEligible <- subset(df_chemSkEligible, class_number==\"0001B\")"
   ]
  },
  {
   "cell_type": "code",
   "execution_count": 90,
   "metadata": {},
   "outputs": [],
   "source": [
    "df_phys2 <- subset(df_phys2, class_number==\"0007D\")\n",
    "df_phystakers  <- subset(df_phystakers, class_number==\"0007D\")\n",
    "df_physSkEligible <- subset(df_physSkEligible, class_number==\"0007D\")"
   ]
  },
  {
   "cell_type": "code",
   "execution_count": 91,
   "metadata": {},
   "outputs": [],
   "source": [
    "# Recode reference level\n",
    "df_chem2$ethniccode_cat <- factor(df_chem2$ethniccode_cat)\n",
    "df_chem2$ethniccode_cat <- relevel(df_chem2$ethniccode_cat, ref=\"1\")\n",
    "\n",
    "df_chemtakers$ethniccode_cat <- factor(df_chemtakers$ethniccode_cat)\n",
    "df_chemtakers$ethniccode_cat <- relevel(df_chemtakers$ethniccode_cat, ref=\"1\")\n",
    "\n",
    "df_chemSkEligible$ethniccode_cat <- factor(df_chemSkEligible$ethniccode_cat)\n",
    "df_chemSkEligible$ethniccode_cat <- relevel(df_chemSkEligible$ethniccode_cat, ref=\"1\")\n",
    "\n",
    "df_phys2$ethniccode_cat <- factor(df_phys2$ethniccode_cat)\n",
    "df_phys2$ethniccode_cat <- relevel(df_phys2$ethniccode_cat, ref=\"1\")\n",
    "\n",
    "df_phystakers$ethniccode_cat <- factor(df_phystakers$ethniccode_cat)\n",
    "df_phystakers$ethniccode_cat <- relevel(df_phystakers$ethniccode_cat, ref=\"1\")\n",
    "\n",
    "df_physSkEligible$ethniccode_cat <- factor(df_physSkEligible$ethniccode_cat)\n",
    "df_physSkEligible$ethniccode_cat <- relevel(df_physSkEligible$ethniccode_cat, ref=\"1\")\n"
   ]
  },
  {
   "cell_type": "code",
   "execution_count": 92,
   "metadata": {},
   "outputs": [
    {
     "data": {
      "text/plain": [
       "\n",
       "Call:\n",
       "glm(formula = tookap ~ factor(firstgen) + factor(lowincomeflag) + \n",
       "    factor(gender) + factor(ethniccode_cat) + hsgpa_z + scale(mathsr) + \n",
       "    scale(englsr) + factor(cohort), family = binomial(link = \"logit\"), \n",
       "    data = df_chem2)\n",
       "\n",
       "Deviance Residuals: \n",
       "     Min        1Q    Median        3Q       Max  \n",
       "-1.45531  -0.63648  -0.00012  -0.00006   2.88884  \n",
       "\n",
       "Coefficients:\n",
       "                          Estimate Std. Error z value Pr(>|z|)    \n",
       "(Intercept)              -19.95789  194.49269  -0.103 0.918268    \n",
       "factor(firstgen)1          0.08230    0.08216   1.002 0.316470    \n",
       "factor(lowincomeflag)2     0.20332    0.08038   2.529 0.011425 *  \n",
       "factor(gender)1           -0.08422    0.07642  -1.102 0.270451    \n",
       "factor(ethniccode_cat)0    0.10490    0.12262   0.856 0.392272    \n",
       "factor(ethniccode_cat)2    0.32415    0.09168   3.536 0.000407 ***\n",
       "hsgpa_z                    0.27569    0.04940   5.581 2.39e-08 ***\n",
       "scale(mathsr)              0.50765    0.04699  10.802  < 2e-16 ***\n",
       "scale(englsr)             -0.11538    0.04353  -2.651 0.008029 ** \n",
       "factor(cohort)2014        17.31859  194.49268   0.089 0.929046    \n",
       "factor(cohort)2015        18.61576  194.49267   0.096 0.923747    \n",
       "factor(cohort)2016        18.64723  194.49267   0.096 0.923619    \n",
       "factor(cohort)2017        -0.04688 4782.75893   0.000 0.999992    \n",
       "---\n",
       "Signif. codes:  0 ‘***’ 0.001 ‘**’ 0.01 ‘*’ 0.05 ‘.’ 0.1 ‘ ’ 1\n",
       "\n",
       "(Dispersion parameter for binomial family taken to be 1)\n",
       "\n",
       "    Null deviance: 6398.9  on 7771  degrees of freedom\n",
       "Residual deviance: 4754.5  on 7759  degrees of freedom\n",
       "  (159 observations deleted due to missingness)\n",
       "AIC: 4780.5\n",
       "\n",
       "Number of Fisher Scoring iterations: 18\n"
      ]
     },
     "metadata": {},
     "output_type": "display_data"
    }
   ],
   "source": [
    "# RQ1. 1a: Took AP, full sample\n",
    "tookchem <- glm(tookap~factor(firstgen) + factor(lowincomeflag) + factor(gender) + factor(ethniccode_cat) +\n",
    "                  hsgpa_z + scale(mathsr) + scale(englsr) + factor(cohort), data=df_chem2, binomial(link=\"logit\"))\n",
    "summary(tookchem)\n",
    "#robustse(tookchem, coef=\"odd.ratio\") #robustse is a command from sjstats package"
   ]
  },
  {
   "cell_type": "code",
   "execution_count": 93,
   "metadata": {},
   "outputs": [
    {
     "data": {
      "text/plain": [
       "\n",
       "Call:\n",
       "lm(formula = scale(apscore) ~ factor(firstgen) + factor(lowincomeflag) + \n",
       "    factor(gender) + ethniccode_cat + hsgpa_z + scale(mathsr) + \n",
       "    scale(englsr) + factor(cohort), data = df_chemtakers)\n",
       "\n",
       "Residuals:\n",
       "    Min      1Q  Median      3Q     Max \n",
       "-2.7387 -0.5230  0.0665  0.5702  2.7668 \n",
       "\n",
       "Coefficients:\n",
       "                       Estimate Std. Error t value Pr(>|t|)    \n",
       "(Intercept)             0.07172    0.10494   0.683   0.4945    \n",
       "factor(firstgen)1      -0.07192    0.06148  -1.170   0.2423    \n",
       "factor(lowincomeflag)2  0.04448    0.05892   0.755   0.4504    \n",
       "factor(gender)1        -0.08388    0.05622  -1.492   0.1360    \n",
       "ethniccode_cat0        -0.04771    0.09439  -0.505   0.6133    \n",
       "ethniccode_cat2        -0.02726    0.07176  -0.380   0.7042    \n",
       "hsgpa_z                 0.07689    0.03798   2.025   0.0431 *  \n",
       "scale(mathsr)           0.30050    0.03475   8.647  < 2e-16 ***\n",
       "scale(englsr)           0.18981    0.03241   5.856 6.21e-09 ***\n",
       "factor(cohort)2015     -0.07862    0.08394  -0.937   0.3492    \n",
       "factor(cohort)2016      0.04928    0.08248   0.598   0.5503    \n",
       "---\n",
       "Signif. codes:  0 ‘***’ 0.001 ‘**’ 0.01 ‘*’ 0.05 ‘.’ 0.1 ‘ ’ 1\n",
       "\n",
       "Residual standard error: 0.8874 on 1123 degrees of freedom\n",
       "  (29 observations deleted due to missingness)\n",
       "Multiple R-squared:  0.2157,\tAdjusted R-squared:  0.2087 \n",
       "F-statistic: 30.88 on 10 and 1123 DF,  p-value: < 2.2e-16\n"
      ]
     },
     "metadata": {},
     "output_type": "display_data"
    }
   ],
   "source": [
    "# 1b. AP score for those who took AP\n",
    "# Logit model\n",
    "chemsr <- lm(scale(apscore)~factor(firstgen) + factor(lowincomeflag) + factor(gender) + ethniccode_cat +\n",
    "               hsgpa_z + scale(mathsr) + scale(englsr) + factor(cohort), data = df_chemtakers)\n",
    "summary(chemsr)\n",
    "#std_beta(chemsr) # from sjstats package"
   ]
  },
  {
   "cell_type": "code",
   "execution_count": 94,
   "metadata": {},
   "outputs": [
    {
     "data": {
      "text/plain": [
       "\n",
       "Call:\n",
       "glm(formula = eligible_to_skip ~ factor(firstgen) + factor(lowincomeflag) + \n",
       "    factor(gender) + factor(ethniccode_cat) + hsgpa_z + scale(mathsr) + \n",
       "    scale(englsr) + factor(cohort), family = binomial(link = \"logit\"), \n",
       "    data = df_chemtakers)\n",
       "\n",
       "Deviance Residuals: \n",
       "    Min       1Q   Median       3Q      Max  \n",
       "-1.7758  -0.5334  -0.2982  -0.1563   2.9584  \n",
       "\n",
       "Coefficients:\n",
       "                        Estimate Std. Error z value Pr(>|z|)    \n",
       "(Intercept)              -2.2060     0.4398  -5.016 5.27e-07 ***\n",
       "factor(firstgen)1        -0.5179     0.2423  -2.137  0.03257 *  \n",
       "factor(lowincomeflag)2    0.3035     0.2258   1.344  0.17901    \n",
       "factor(gender)1          -0.6479     0.1976  -3.279  0.00104 ** \n",
       "factor(ethniccode_cat)0  -0.1701     0.4112  -0.414  0.67910    \n",
       "factor(ethniccode_cat)2   0.3397     0.3411   0.996  0.31930    \n",
       "hsgpa_z                   0.4687     0.1570   2.985  0.00283 ** \n",
       "scale(mathsr)             0.8763     0.1392   6.296 3.05e-10 ***\n",
       "scale(englsr)             0.5361     0.1146   4.676 2.93e-06 ***\n",
       "factor(cohort)2015        0.1183     0.2946   0.402  0.68802    \n",
       "factor(cohort)2016       -0.4834     0.2942  -1.643  0.10039    \n",
       "---\n",
       "Signif. codes:  0 ‘***’ 0.001 ‘**’ 0.01 ‘*’ 0.05 ‘.’ 0.1 ‘ ’ 1\n",
       "\n",
       "(Dispersion parameter for binomial family taken to be 1)\n",
       "\n",
       "    Null deviance: 915.69  on 1133  degrees of freedom\n",
       "Residual deviance: 713.72  on 1123  degrees of freedom\n",
       "  (29 observations deleted due to missingness)\n",
       "AIC: 735.72\n",
       "\n",
       "Number of Fisher Scoring iterations: 6\n"
      ]
     },
     "metadata": {},
     "output_type": "display_data"
    }
   ],
   "source": [
    "# 1c.i. Eligible out of those who took AP\n",
    "skipchem <- glm(eligible_to_skip~factor(firstgen) + factor(lowincomeflag) + factor(gender) + factor(ethniccode_cat) +\n",
    "               hsgpa_z + scale(mathsr) + scale(englsr) + factor(cohort), \n",
    "                data=df_chemtakers, \n",
    "                binomial(link=\"logit\"))\n",
    "summary(skipchem)\n",
    "#robustse(skipchem, coef=\"odd.ratio\")"
   ]
  },
  {
   "cell_type": "code",
   "execution_count": 95,
   "metadata": {},
   "outputs": [
    {
     "data": {
      "text/plain": [
       "\n",
       "Call:\n",
       "glm(formula = eligible_to_skip ~ factor(firstgen) + factor(lowincomeflag) + \n",
       "    factor(gender) + factor(ethniccode_cat) + hsgpa_z + scale(mathsr) + \n",
       "    scale(englsr) + factor(cohort), family = binomial(link = \"logit\"), \n",
       "    data = df_chem2)\n",
       "\n",
       "Deviance Residuals: \n",
       "    Min       1Q   Median       3Q      Max  \n",
       "-1.2312  -0.1613  -0.0567   0.0000   3.5143  \n",
       "\n",
       "Coefficients:\n",
       "                          Estimate Std. Error z value Pr(>|z|)    \n",
       "(Intercept)             -2.246e+01  4.828e+02  -0.047  0.96290    \n",
       "factor(firstgen)1       -4.107e-01  2.194e-01  -1.872  0.06123 .  \n",
       "factor(lowincomeflag)2   3.617e-01  2.043e-01   1.770  0.07665 .  \n",
       "factor(gender)1         -4.884e-01  1.770e-01  -2.759  0.00579 ** \n",
       "factor(ethniccode_cat)0  4.109e-02  3.771e-01   0.109  0.91324    \n",
       "factor(ethniccode_cat)2  6.576e-01  3.130e-01   2.101  0.03564 *  \n",
       "hsgpa_z                  5.700e-01  1.367e-01   4.170 3.05e-05 ***\n",
       "scale(mathsr)            1.097e+00  1.189e-01   9.224  < 2e-16 ***\n",
       "scale(englsr)            4.220e-01  1.011e-01   4.175 2.97e-05 ***\n",
       "factor(cohort)2014       1.696e+01  4.828e+02   0.035  0.97197    \n",
       "factor(cohort)2015       1.805e+01  4.828e+02   0.037  0.97017    \n",
       "factor(cohort)2016       1.767e+01  4.828e+02   0.037  0.97080    \n",
       "factor(cohort)2017      -2.384e-01  1.190e+04   0.000  0.99998    \n",
       "---\n",
       "Signif. codes:  0 ‘***’ 0.001 ‘**’ 0.01 ‘*’ 0.05 ‘.’ 0.1 ‘ ’ 1\n",
       "\n",
       "(Dispersion parameter for binomial family taken to be 1)\n",
       "\n",
       "    Null deviance: 1536.0  on 7771  degrees of freedom\n",
       "Residual deviance: 1058.2  on 7759  degrees of freedom\n",
       "  (159 observations deleted due to missingness)\n",
       "AIC: 1084.2\n",
       "\n",
       "Number of Fisher Scoring iterations: 20\n"
      ]
     },
     "metadata": {},
     "output_type": "display_data"
    }
   ],
   "source": [
    "# 1c.ii. Eligible out of full sample\n",
    "skipchem2 <- glm(eligible_to_skip~factor(firstgen) + factor(lowincomeflag) + factor(gender) + factor(ethniccode_cat) +\n",
    "               hsgpa_z + scale(mathsr) + scale(englsr) + factor(cohort), \n",
    "                data=df_chem2, \n",
    "                binomial(link=\"logit\"))\n",
    "summary(skipchem2)\n",
    "#robustse(skipchem2, coef=\"odd.ratio\")"
   ]
  },
  {
   "cell_type": "code",
   "execution_count": 96,
   "metadata": {},
   "outputs": [
    {
     "data": {
      "text/plain": [
       "\n",
       "Call:\n",
       "glm(formula = skipped_course ~ factor(firstgen) + factor(lowincomeflag) + \n",
       "    factor(gender) + factor(ethniccode_cat) + hsgpa_z + scale(mathsr) + \n",
       "    scale(englsr) + factor(cohort), family = binomial(link = \"logit\"), \n",
       "    data = df_chemSkEligible)\n",
       "\n",
       "Deviance Residuals: \n",
       "     Min        1Q    Median        3Q       Max  \n",
       "-2.08724   0.00002   0.00004   0.00014   1.47435  \n",
       "\n",
       "Coefficients:\n",
       "                         Estimate Std. Error z value Pr(>|z|)   \n",
       "(Intercept)               22.3083  3527.9451   0.006  0.99495   \n",
       "factor(firstgen)1         -1.1564     0.6763  -1.710  0.08730 . \n",
       "factor(lowincomeflag)2     0.1348     0.7228   0.186  0.85210   \n",
       "factor(gender)1            0.1917     0.6048   0.317  0.75124   \n",
       "factor(ethniccode_cat)0   -1.0182     1.2239  -0.832  0.40547   \n",
       "factor(ethniccode_cat)2   -0.6162     1.0107  -0.610  0.54212   \n",
       "hsgpa_z                   -0.6998     0.5723  -1.223  0.22142   \n",
       "scale(mathsr)              0.9439     0.3640   2.593  0.00951 **\n",
       "scale(englsr)             -0.5024     0.3570  -1.407  0.15940   \n",
       "factor(cohort)2015       -20.5703  3527.9449  -0.006  0.99535   \n",
       "factor(cohort)2016        -0.2691  4050.6513   0.000  0.99995   \n",
       "---\n",
       "Signif. codes:  0 ‘***’ 0.001 ‘**’ 0.01 ‘*’ 0.05 ‘.’ 0.1 ‘ ’ 1\n",
       "\n",
       "(Dispersion parameter for binomial family taken to be 1)\n",
       "\n",
       "    Null deviance: 147.618  on 157  degrees of freedom\n",
       "Residual deviance:  75.738  on 147  degrees of freedom\n",
       "  (4 observations deleted due to missingness)\n",
       "AIC: 97.738\n",
       "\n",
       "Number of Fisher Scoring iterations: 19\n"
      ]
     },
     "metadata": {},
     "output_type": "display_data"
    }
   ],
   "source": [
    "# 2a. Took AP AND skip eligble and actually skip\n",
    "skipreal <- glm(skipped_course~factor(firstgen) + factor(lowincomeflag) + factor(gender) + factor(ethniccode_cat) +\n",
    "               hsgpa_z + scale(mathsr) + scale(englsr) + factor(cohort), \n",
    "                data=df_chemSkEligible, \n",
    "                binomial(link=\"logit\"))\n",
    "summary(skipreal)\n",
    "#robustse(skipreal, coef=\"odd.ratio\")"
   ]
  },
  {
   "cell_type": "code",
   "execution_count": 118,
   "metadata": {},
   "outputs": [
    {
     "data": {
      "text/plain": [
       "\n",
       "Call:\n",
       "lm(formula = scale(numgrade_2) ~ skipped_course + apscore + factor(firstgen) + \n",
       "    factor(lowincomeflag) + factor(gender) + factor(ethniccode_cat) + \n",
       "    hsgpa_z + scale(mathsr) + scale(englsr) + factor(crs_term), \n",
       "    data = df_chemSkEligible)\n",
       "\n",
       "Residuals:\n",
       "     Min       1Q   Median       3Q      Max \n",
       "-3.14141 -0.58979 -0.04415  0.69534  1.45689 \n",
       "\n",
       "Coefficients:\n",
       "                        Estimate Std. Error t value Pr(>|t|)    \n",
       "(Intercept)             -2.73665    0.91849  -2.980 0.003390 ** \n",
       "skipped_course           0.83807    0.23270   3.601 0.000435 ***\n",
       "apscore                  0.49326    0.19236   2.564 0.011364 *  \n",
       "factor(firstgen)1       -0.07328    0.20760  -0.353 0.724637    \n",
       "factor(lowincomeflag)2  -0.00406    0.18702  -0.022 0.982709    \n",
       "factor(gender)1         -0.03580    0.14997  -0.239 0.811660    \n",
       "factor(ethniccode_cat)0  0.20264    0.31850   0.636 0.525625    \n",
       "factor(ethniccode_cat)2 -0.04876    0.28338  -0.172 0.863632    \n",
       "hsgpa_z                  0.24294    0.12484   1.946 0.053603 .  \n",
       "scale(mathsr)            0.31212    0.08745   3.569 0.000487 ***\n",
       "scale(englsr)           -0.02025    0.08665  -0.234 0.815503    \n",
       "factor(crs_term)2016    -0.09305    0.23774  -0.391 0.696090    \n",
       "factor(crs_term)2017    -0.19912    0.22209  -0.897 0.371438    \n",
       "---\n",
       "Signif. codes:  0 ‘***’ 0.001 ‘**’ 0.01 ‘*’ 0.05 ‘.’ 0.1 ‘ ’ 1\n",
       "\n",
       "Residual standard error: 0.8728 on 144 degrees of freedom\n",
       "  (5 observations deleted due to missingness)\n",
       "Multiple R-squared:  0.3075,\tAdjusted R-squared:  0.2498 \n",
       "F-statistic: 5.329 on 12 and 144 DF,  p-value: 2.062e-07\n"
      ]
     },
     "metadata": {},
     "output_type": "display_data"
    }
   ],
   "source": [
    "# 2b. Took AP, include AP score. Skip eligible\n",
    "chemsr5 <- lm(scale(numgrade_2)~skipped_course + apscore +\n",
    "              factor(firstgen) + factor(lowincomeflag) + factor(gender) + factor(ethniccode_cat) + \n",
    "              hsgpa_z + scale(mathsr) + scale(englsr) + factor(crs_term), data=df_chemSkEligible)\n",
    "summary(chemsr5)"
   ]
  },
  {
   "cell_type": "code",
   "execution_count": 140,
   "metadata": {},
   "outputs": [
    {
     "data": {
      "text/plain": [
       "\n",
       "Call:\n",
       "lm(formula = scale(numgrade_2) ~ skipped_course + factor(firstgen) + \n",
       "    factor(lowincomeflag) + factor(gender) + factor(ethniccode_cat) + \n",
       "    hsgpa_z + scale(mathsr) + scale(englsr) + factor(crs_term), \n",
       "    data = subset(df_chemSkEligible, apscore == 4))\n",
       "\n",
       "Residuals:\n",
       "     Min       1Q   Median       3Q      Max \n",
       "-3.05121 -0.52807 -0.07603  0.66697  1.63956 \n",
       "\n",
       "Coefficients:\n",
       "                          Estimate Std. Error t value Pr(>|t|)    \n",
       "(Intercept)             -0.8143862  0.4563527  -1.785 0.076970 .  \n",
       "skipped_course           1.0400140  0.2631621   3.952 0.000134 ***\n",
       "factor(firstgen)1        0.0758172  0.2284848   0.332 0.740625    \n",
       "factor(lowincomeflag)2  -0.1024311  0.2159990  -0.474 0.636242    \n",
       "factor(gender)1         -0.0001715  0.1709417  -0.001 0.999201    \n",
       "factor(ethniccode_cat)0  0.0945808  0.3275362   0.289 0.773282    \n",
       "factor(ethniccode_cat)2 -0.1258784  0.2868738  -0.439 0.661634    \n",
       "hsgpa_z                  0.3396456  0.1446228   2.348 0.020557 *  \n",
       "scale(mathsr)            0.3390576  0.0926149   3.661 0.000381 ***\n",
       "scale(englsr)           -0.0059299  0.0951557  -0.062 0.950418    \n",
       "factor(crs_term)2016    -0.1142124  0.2524365  -0.452 0.651804    \n",
       "factor(crs_term)2017    -0.2876656  0.2369348  -1.214 0.227192    \n",
       "---\n",
       "Signif. codes:  0 ‘***’ 0.001 ‘**’ 0.01 ‘*’ 0.05 ‘.’ 0.1 ‘ ’ 1\n",
       "\n",
       "Residual standard error: 0.8716 on 115 degrees of freedom\n",
       "  (5 observations deleted due to missingness)\n",
       "Multiple R-squared:  0.3202,\tAdjusted R-squared:  0.2551 \n",
       "F-statistic: 4.923 on 11 and 115 DF,  p-value: 3.178e-06\n"
      ]
     },
     "metadata": {},
     "output_type": "display_data"
    }
   ],
   "source": [
    "#2b.i. Took AP, Skip eligible, score of 4\n",
    "chemsr5ii <- lm(scale(numgrade_2)~skipped_course +\n",
    "              factor(firstgen) + factor(lowincomeflag) + factor(gender) + factor(ethniccode_cat) + \n",
    "              hsgpa_z + scale(mathsr) + scale(englsr) + factor(crs_term), data=subset(df_chemSkEligible, apscore==4))\n",
    "summary(chemsr5ii)"
   ]
  },
  {
   "cell_type": "code",
   "execution_count": 141,
   "metadata": {},
   "outputs": [
    {
     "data": {
      "text/plain": [
       "\n",
       "Call:\n",
       "lm(formula = scale(numgrade_2) ~ skipped_course + factor(firstgen) + \n",
       "    factor(lowincomeflag) + factor(gender) + factor(ethniccode_cat) + \n",
       "    hsgpa_z + scale(mathsr) + scale(englsr) + factor(crs_term), \n",
       "    data = subset(df_chemSkEligible, apscore == 5))\n",
       "\n",
       "Residuals:\n",
       "     Min       1Q   Median       3Q      Max \n",
       "-1.13525 -0.48654 -0.05027  0.59071  1.60867 \n",
       "\n",
       "Coefficients:\n",
       "                        Estimate Std. Error t value Pr(>|t|)  \n",
       "(Intercept)               2.1890     1.4098   1.553   0.1370  \n",
       "skipped_course           -0.4942     0.5326  -0.928   0.3651  \n",
       "factor(firstgen)1        -0.9283     0.5535  -1.677   0.1099  \n",
       "factor(lowincomeflag)2    0.6102     0.3927   1.554   0.1367  \n",
       "factor(gender)1          -0.8090     0.3452  -2.344   0.0301 *\n",
       "factor(ethniccode_cat)2  -1.0272     0.7400  -1.388   0.1812  \n",
       "hsgpa_z                  -0.4717     0.3033  -1.555   0.1364  \n",
       "scale(mathsr)             0.2172     0.2433   0.893   0.3832  \n",
       "scale(englsr)            -0.1359     0.2201  -0.617   0.5444  \n",
       "factor(crs_term)2016     -0.6686     0.8516  -0.785   0.4421  \n",
       "factor(crs_term)2017      0.3580     0.7689   0.466   0.6468  \n",
       "---\n",
       "Signif. codes:  0 ‘***’ 0.001 ‘**’ 0.01 ‘*’ 0.05 ‘.’ 0.1 ‘ ’ 1\n",
       "\n",
       "Residual standard error: 0.8276 on 19 degrees of freedom\n",
       "Multiple R-squared:  0.5513,\tAdjusted R-squared:  0.3151 \n",
       "F-statistic: 2.334 on 10 and 19 DF,  p-value: 0.05364\n"
      ]
     },
     "metadata": {},
     "output_type": "display_data"
    }
   ],
   "source": [
    "#2b.i. Took AP, Skip eligible, score of 5\n",
    "chemsr5iii <- lm(scale(numgrade_2)~skipped_course +\n",
    "              factor(firstgen) + factor(lowincomeflag) + factor(gender) + factor(ethniccode_cat) + \n",
    "              hsgpa_z + scale(mathsr) + scale(englsr) + factor(crs_term), data=subset(df_chemSkEligible, apscore==5))\n",
    "summary(chemsr5iii) # small sample size, probably not accurate"
   ]
  },
  {
   "cell_type": "code",
   "execution_count": 98,
   "metadata": {},
   "outputs": [
    {
     "data": {
      "text/plain": [
       "\n",
       "Call:\n",
       "lm(formula = scale(numgrade_2) ~ skipped_course + apscore + factor(firstgen) + \n",
       "    factor(lowincomeflag) + factor(gender) + factor(ethniccode_cat) + \n",
       "    hsgpa_z + scale(mathsr) + scale(englsr) + factor(crs_term), \n",
       "    data = df_chem2)\n",
       "\n",
       "Residuals:\n",
       "     Min       1Q   Median       3Q      Max \n",
       "-2.81659 -0.60268 -0.03894  0.64146  2.80453 \n",
       "\n",
       "Coefficients:\n",
       "                        Estimate Std. Error t value Pr(>|t|)    \n",
       "(Intercept)             -0.14792    0.03537  -4.182 2.92e-05 ***\n",
       "skipped_course           0.29312    0.09727   3.013  0.00259 ** \n",
       "apscore                  0.07652    0.01472   5.197 2.08e-07 ***\n",
       "factor(firstgen)1       -0.02104    0.02309  -0.911  0.36217    \n",
       "factor(lowincomeflag)2   0.02185    0.02270   0.962  0.33591    \n",
       "factor(gender)1         -0.06197    0.02197  -2.821  0.00480 ** \n",
       "factor(ethniccode_cat)0  0.15828    0.03381   4.681 2.91e-06 ***\n",
       "factor(ethniccode_cat)2  0.04076    0.02515   1.621  0.10508    \n",
       "hsgpa_z                  0.18735    0.01279  14.648  < 2e-16 ***\n",
       "scale(mathsr)            0.24941    0.01317  18.933  < 2e-16 ***\n",
       "scale(englsr)            0.05190    0.01248   4.159 3.22e-05 ***\n",
       "factor(crs_term)2014    -0.09398    0.03403  -2.762  0.00576 ** \n",
       "factor(crs_term)2015    -0.01950    0.03356  -0.581  0.56115    \n",
       "factor(crs_term)2016     0.12020    0.03361   3.577  0.00035 ***\n",
       "factor(crs_term)2017     0.30749    0.03303   9.309  < 2e-16 ***\n",
       "---\n",
       "Signif. codes:  0 ‘***’ 0.001 ‘**’ 0.01 ‘*’ 0.05 ‘.’ 0.1 ‘ ’ 1\n",
       "\n",
       "Residual standard error: 0.8997 on 7757 degrees of freedom\n",
       "  (159 observations deleted due to missingness)\n",
       "Multiple R-squared:  0.1897,\tAdjusted R-squared:  0.1882 \n",
       "F-statistic: 129.7 on 14 and 7757 DF,  p-value: < 2.2e-16\n"
      ]
     },
     "metadata": {},
     "output_type": "display_data"
    }
   ],
   "source": [
    "# 2c. Full sample, include AP score\n",
    "chemsr6 <- lm(scale(numgrade_2)~skipped_course + apscore +\n",
    "              factor(firstgen) + factor(lowincomeflag) + factor(gender) + factor(ethniccode_cat) + \n",
    "              hsgpa_z + scale(mathsr) + scale(englsr) + factor(crs_term), data=df_chem2)\n",
    "summary(chemsr6)"
   ]
  },
  {
   "cell_type": "code",
   "execution_count": 99,
   "metadata": {},
   "outputs": [
    {
     "data": {
      "text/plain": [
       "\n",
       "Call:\n",
       "lm(formula = scale(numgrade_2) ~ skipped_course + factor(firstgen) + \n",
       "    factor(lowincomeflag) + factor(gender) + factor(ethniccode_cat) + \n",
       "    hsgpa_z + scale(mathsr) + scale(englsr) + factor(crs_term), \n",
       "    data = df_chemtakers)\n",
       "\n",
       "Residuals:\n",
       "    Min      1Q  Median      3Q     Max \n",
       "-2.9940 -0.6699  0.1149  0.5951  2.1655 \n",
       "\n",
       "Coefficients:\n",
       "                         Estimate Std. Error t value Pr(>|t|)    \n",
       "(Intercept)             -0.332510   0.110220  -3.017 0.002613 ** \n",
       "skipped_course           0.520995   0.091750   5.678 1.74e-08 ***\n",
       "factor(firstgen)1        0.056588   0.063607   0.890 0.373846    \n",
       "factor(lowincomeflag)2  -0.045840   0.060627  -0.756 0.449749    \n",
       "factor(gender)1         -0.070799   0.058022  -1.220 0.222643    \n",
       "factor(ethniccode_cat)0  0.107805   0.096803   1.114 0.265669    \n",
       "factor(ethniccode_cat)2  0.051616   0.073815   0.699 0.484530    \n",
       "hsgpa_z                  0.209560   0.039728   5.275 1.60e-07 ***\n",
       "scale(mathsr)            0.245422   0.036497   6.724 2.82e-11 ***\n",
       "scale(englsr)            0.009633   0.033542   0.287 0.774012    \n",
       "factor(crs_term)2016     0.082866   0.087086   0.952 0.341536    \n",
       "factor(crs_term)2017     0.301821   0.085270   3.540 0.000417 ***\n",
       "---\n",
       "Signif. codes:  0 ‘***’ 0.001 ‘**’ 0.01 ‘*’ 0.05 ‘.’ 0.1 ‘ ’ 1\n",
       "\n",
       "Residual standard error: 0.9048 on 1105 degrees of freedom\n",
       "  (46 observations deleted due to missingness)\n",
       "Multiple R-squared:  0.1851,\tAdjusted R-squared:  0.177 \n",
       "F-statistic: 22.81 on 11 and 1105 DF,  p-value: < 2.2e-16\n"
      ]
     },
     "metadata": {},
     "output_type": "display_data"
    }
   ],
   "source": [
    "# 2d. 2nd course grade; took AP sample for those who actually skip\n",
    "chemsr <- lm(scale(numgrade_2)~skipped_course + \n",
    "             factor(firstgen) + factor(lowincomeflag) + factor(gender) + factor(ethniccode_cat) + \n",
    "              hsgpa_z + scale(mathsr) + scale(englsr) + factor(crs_term), \n",
    "             data=df_chemtakers)\n",
    "summary(chemsr)"
   ]
  },
  {
   "cell_type": "code",
   "execution_count": 100,
   "metadata": {},
   "outputs": [
    {
     "data": {
      "text/plain": [
       "\n",
       "Call:\n",
       "lm(formula = scale(numgrade_2) ~ skipped_course + factor(firstgen) + \n",
       "    factor(lowincomeflag) + factor(gender) + factor(ethniccode_cat) + \n",
       "    hsgpa_z + scale(mathsr) + scale(englsr) + factor(crs_term), \n",
       "    data = df_chem2)\n",
       "\n",
       "Residuals:\n",
       "     Min       1Q   Median       3Q      Max \n",
       "-2.83218 -0.60942 -0.02496  0.64041  2.82512 \n",
       "\n",
       "Coefficients:\n",
       "                         Estimate Std. Error t value Pr(>|t|)    \n",
       "(Intercept)             -0.152475   0.035418  -4.305 1.69e-05 ***\n",
       "skipped_course           0.566500   0.081958   6.912 5.15e-12 ***\n",
       "factor(firstgen)1       -0.019218   0.023127  -0.831  0.40601    \n",
       "factor(lowincomeflag)2   0.024394   0.022737   1.073  0.28336    \n",
       "factor(gender)1         -0.062021   0.022004  -2.819  0.00484 ** \n",
       "factor(ethniccode_cat)0  0.161005   0.033867   4.754 2.03e-06 ***\n",
       "factor(ethniccode_cat)2  0.045326   0.025175   1.800  0.07183 .  \n",
       "hsgpa_z                  0.190874   0.012794  14.920  < 2e-16 ***\n",
       "scale(mathsr)            0.257637   0.013099  19.668  < 2e-16 ***\n",
       "scale(englsr)            0.051591   0.012497   4.128 3.70e-05 ***\n",
       "factor(crs_term)2014    -0.094824   0.034084  -2.782  0.00541 ** \n",
       "factor(crs_term)2015    -0.008087   0.033544  -0.241  0.80950    \n",
       "factor(crs_term)2016     0.154910   0.032993   4.695 2.71e-06 ***\n",
       "factor(crs_term)2017     0.345614   0.032259  10.714  < 2e-16 ***\n",
       "---\n",
       "Signif. codes:  0 ‘***’ 0.001 ‘**’ 0.01 ‘*’ 0.05 ‘.’ 0.1 ‘ ’ 1\n",
       "\n",
       "Residual standard error: 0.9012 on 7758 degrees of freedom\n",
       "  (159 observations deleted due to missingness)\n",
       "Multiple R-squared:  0.1868,\tAdjusted R-squared:  0.1855 \n",
       "F-statistic: 137.1 on 13 and 7758 DF,  p-value: < 2.2e-16\n"
      ]
     },
     "metadata": {},
     "output_type": "display_data"
    }
   ],
   "source": [
    "#2e. 2nd course grade; everyone, actually skipped\n",
    "chemsr2 <- lm(scale(numgrade_2) ~ skipped_course + factor(firstgen) + \n",
    "    factor(lowincomeflag) + factor(gender) + factor(ethniccode_cat) + \n",
    "    hsgpa_z + scale(mathsr) + scale(englsr) + factor(crs_term), data=df_chem2)\n",
    "summary(chemsr2)"
   ]
  },
  {
   "cell_type": "code",
   "execution_count": 101,
   "metadata": {},
   "outputs": [
    {
     "data": {
      "text/plain": [
       "\n",
       "Call:\n",
       "lm(formula = scale(numgrade_2) ~ eligible_to_skip + factor(firstgen) + \n",
       "    factor(lowincomeflag) + factor(gender) + factor(ethniccode_cat) + \n",
       "    hsgpa_z + scale(mathsr) + scale(englsr) + factor(crs_term), \n",
       "    data = df_chemtakers)\n",
       "\n",
       "Residuals:\n",
       "     Min       1Q   Median       3Q      Max \n",
       "-2.89472 -0.65138  0.08956  0.61125  2.16282 \n",
       "\n",
       "Coefficients:\n",
       "                         Estimate Std. Error t value Pr(>|t|)    \n",
       "(Intercept)             -0.302894   0.110293  -2.746 0.006125 ** \n",
       "eligible_to_skip         0.402859   0.085177   4.730 2.54e-06 ***\n",
       "factor(firstgen)1        0.049231   0.063842   0.771 0.440788    \n",
       "factor(lowincomeflag)2  -0.044294   0.060899  -0.727 0.467170    \n",
       "factor(gender)1         -0.074078   0.058302  -1.271 0.204138    \n",
       "factor(ethniccode_cat)0  0.098752   0.097182   1.016 0.309780    \n",
       "factor(ethniccode_cat)2  0.045423   0.074135   0.613 0.540191    \n",
       "hsgpa_z                  0.208328   0.039959   5.214 2.21e-07 ***\n",
       "scale(mathsr)            0.253810   0.036580   6.938 6.74e-12 ***\n",
       "scale(englsr)            0.008348   0.033822   0.247 0.805099    \n",
       "factor(crs_term)2016     0.049854   0.087319   0.571 0.568154    \n",
       "factor(crs_term)2017     0.296477   0.085628   3.462 0.000556 ***\n",
       "---\n",
       "Signif. codes:  0 ‘***’ 0.001 ‘**’ 0.01 ‘*’ 0.05 ‘.’ 0.1 ‘ ’ 1\n",
       "\n",
       "Residual standard error: 0.9087 on 1105 degrees of freedom\n",
       "  (46 observations deleted due to missingness)\n",
       "Multiple R-squared:  0.1779,\tAdjusted R-squared:  0.1698 \n",
       "F-statistic: 21.74 on 11 and 1105 DF,  p-value: < 2.2e-16\n"
      ]
     },
     "metadata": {},
     "output_type": "display_data"
    }
   ],
   "source": [
    "#2f. Course grade, Skip eligible for those who took AP\n",
    "chemsr3 <- lm(scale(numgrade_2)~eligible_to_skip + factor(firstgen) + \n",
    "    factor(lowincomeflag) + factor(gender) + factor(ethniccode_cat) + \n",
    "    hsgpa_z + scale(mathsr) + scale(englsr) + factor(crs_term), data=df_chemtakers)\n",
    "summary(chemsr3)"
   ]
  },
  {
   "cell_type": "code",
   "execution_count": 102,
   "metadata": {},
   "outputs": [
    {
     "data": {
      "text/plain": [
       "\n",
       "Call:\n",
       "lm(formula = scale(numgrade_2) ~ eligible_to_skip + factor(firstgen) + \n",
       "    factor(lowincomeflag) + factor(gender) + factor(ethniccode_cat) + \n",
       "    hsgpa_z + scale(mathsr) + scale(englsr) + factor(crs_term), \n",
       "    data = df_chem2)\n",
       "\n",
       "Residuals:\n",
       "     Min       1Q   Median       3Q      Max \n",
       "-2.73372 -0.60872 -0.02782  0.64270  2.82529 \n",
       "\n",
       "Coefficients:\n",
       "                         Estimate Std. Error t value Pr(>|t|)    \n",
       "(Intercept)             -0.150972   0.035437  -4.260 2.07e-05 ***\n",
       "eligible_to_skip         0.463497   0.074696   6.205 5.75e-10 ***\n",
       "factor(firstgen)1       -0.020290   0.023138  -0.877  0.38056    \n",
       "factor(lowincomeflag)2   0.024487   0.022751   1.076  0.28183    \n",
       "factor(gender)1         -0.062674   0.022017  -2.847  0.00443 ** \n",
       "factor(ethniccode_cat)0  0.159753   0.033886   4.714 2.47e-06 ***\n",
       "factor(ethniccode_cat)2  0.044610   0.025193   1.771  0.07664 .  \n",
       "hsgpa_z                  0.190481   0.012805  14.875  < 2e-16 ***\n",
       "scale(mathsr)            0.258591   0.013107  19.729  < 2e-16 ***\n",
       "scale(englsr)            0.051348   0.012509   4.105 4.09e-05 ***\n",
       "factor(crs_term)2014    -0.094692   0.034105  -2.777  0.00551 ** \n",
       "factor(crs_term)2015    -0.006392   0.033559  -0.190  0.84893    \n",
       "factor(crs_term)2016     0.149561   0.033086   4.520 6.27e-06 ***\n",
       "factor(crs_term)2017     0.349424   0.032254  10.833  < 2e-16 ***\n",
       "---\n",
       "Signif. codes:  0 ‘***’ 0.001 ‘**’ 0.01 ‘*’ 0.05 ‘.’ 0.1 ‘ ’ 1\n",
       "\n",
       "Residual standard error: 0.9018 on 7758 degrees of freedom\n",
       "  (159 observations deleted due to missingness)\n",
       "Multiple R-squared:  0.1859,\tAdjusted R-squared:  0.1845 \n",
       "F-statistic: 136.2 on 13 and 7758 DF,  p-value: < 2.2e-16\n"
      ]
     },
     "metadata": {},
     "output_type": "display_data"
    }
   ],
   "source": [
    "#2g. Skip eligible, full sample\n",
    "chemsr4<- lm(scale(numgrade_2)~eligible_to_skip + factor(firstgen) + \n",
    "    factor(lowincomeflag) + factor(gender) + factor(ethniccode_cat) + \n",
    "    hsgpa_z + scale(mathsr) + scale(englsr) + factor(crs_term), data=df_chem2)\n",
    "summary(chemsr4)"
   ]
  },
  {
   "cell_type": "code",
   "execution_count": null,
   "metadata": {},
   "outputs": [],
   "source": [
    "#####################\n",
    "# Physics"
   ]
  },
  {
   "cell_type": "code",
   "execution_count": 103,
   "metadata": {},
   "outputs": [
    {
     "data": {
      "text/plain": [
       "\n",
       "Call:\n",
       "glm(formula = tookap ~ factor(firstgen) + factor(lowincomeflag) + \n",
       "    factor(gender) + factor(ethniccode_cat) + hsgpa_z + scale(mathsr) + \n",
       "    scale(englsr) + factor(cohort), family = binomial(link = \"logit\"), \n",
       "    data = df_phys2)\n",
       "\n",
       "Deviance Residuals: \n",
       "    Min       1Q   Median       3Q      Max  \n",
       "-1.1346  -0.6470  -0.5163  -0.3667   2.5585  \n",
       "\n",
       "Coefficients:\n",
       "                         Estimate Std. Error z value Pr(>|z|)    \n",
       "(Intercept)              -1.99314    0.16031 -12.433  < 2e-16 ***\n",
       "factor(firstgen)1        -0.13431    0.12139  -1.106  0.26854    \n",
       "factor(lowincomeflag)2    0.37888    0.12178   3.111  0.00186 ** \n",
       "factor(gender)1          -0.29268    0.12794  -2.288  0.02215 *  \n",
       "factor(ethniccode_cat)0   0.16562    0.17142   0.966  0.33396    \n",
       "factor(ethniccode_cat)2   0.14121    0.14430   0.979  0.32781    \n",
       "hsgpa_z                  -0.08182    0.06240  -1.311  0.18977    \n",
       "scale(mathsr)             0.47051    0.06683   7.040 1.92e-12 ***\n",
       "scale(englsr)             0.16810    0.06137   2.739  0.00616 ** \n",
       "factor(cohort)2014        0.17768    0.14300   1.243  0.21402    \n",
       "factor(cohort)2015        0.41249    0.14155   2.914  0.00357 ** \n",
       "factor(cohort)2016        0.33418    0.13803   2.421  0.01548 *  \n",
       "factor(cohort)2017      -11.27101  324.74375  -0.035  0.97231    \n",
       "---\n",
       "Signif. codes:  0 ‘***’ 0.001 ‘**’ 0.01 ‘*’ 0.05 ‘.’ 0.1 ‘ ’ 1\n",
       "\n",
       "(Dispersion parameter for binomial family taken to be 1)\n",
       "\n",
       "    Null deviance: 2657.5  on 2935  degrees of freedom\n",
       "Residual deviance: 2504.5  on 2923  degrees of freedom\n",
       "  (69 observations deleted due to missingness)\n",
       "AIC: 2530.5\n",
       "\n",
       "Number of Fisher Scoring iterations: 11\n"
      ]
     },
     "metadata": {},
     "output_type": "display_data"
    }
   ],
   "source": [
    "#1a. Took AP, full sample\n",
    "tookphysap <- glm(tookap~factor(firstgen) + factor(lowincomeflag) + factor(gender) + factor(ethniccode_cat) +\n",
    "                  hsgpa_z + scale(mathsr) + scale(englsr) + factor(cohort), \n",
    "                  data=df_phys2, binomial(link=\"logit\"))\n",
    "summary(tookphysap)\n",
    "#robustse(tookphysap, coef=\"odd.ratio\")"
   ]
  },
  {
   "cell_type": "code",
   "execution_count": 104,
   "metadata": {},
   "outputs": [
    {
     "data": {
      "text/plain": [
       "\n",
       "Call:\n",
       "lm(formula = scale(apscore) ~ factor(firstgen) + factor(lowincomeflag) + \n",
       "    factor(gender) + factor(ethniccode_cat) + hsgpa_z + scale(mathsr) + \n",
       "    scale(englsr) + factor(cohort), data = df_phystakers)\n",
       "\n",
       "Residuals:\n",
       "    Min      1Q  Median      3Q     Max \n",
       "-0.9063 -0.3040 -0.1899 -0.0722  6.2630 \n",
       "\n",
       "Coefficients:\n",
       "                        Estimate Std. Error t value Pr(>|t|)  \n",
       "(Intercept)             -0.15020    0.15276  -0.983   0.3260  \n",
       "factor(firstgen)1        0.13010    0.11400   1.141   0.2544  \n",
       "factor(lowincomeflag)2  -0.06742    0.11269  -0.598   0.5499  \n",
       "factor(gender)1          0.11605    0.11858   0.979   0.3282  \n",
       "factor(ethniccode_cat)0  0.03733    0.15672   0.238   0.8118  \n",
       "factor(ethniccode_cat)2  0.05187    0.13513   0.384   0.7012  \n",
       "hsgpa_z                 -0.13387    0.05457  -2.453   0.0145 *\n",
       "scale(mathsr)            0.08656    0.05659   1.530   0.1268  \n",
       "scale(englsr)           -0.03764    0.05543  -0.679   0.4974  \n",
       "factor(cohort)2014       0.18905    0.12899   1.466   0.1434  \n",
       "factor(cohort)2015       0.20931    0.12570   1.665   0.0965 .\n",
       "factor(cohort)2016       0.09862    0.12358   0.798   0.4253  \n",
       "---\n",
       "Signif. codes:  0 ‘***’ 0.001 ‘**’ 0.01 ‘*’ 0.05 ‘.’ 0.1 ‘ ’ 1\n",
       "\n",
       "Residual standard error: 1.008 on 488 degrees of freedom\n",
       "  (11 observations deleted due to missingness)\n",
       "Multiple R-squared:  0.02778,\tAdjusted R-squared:  0.005863 \n",
       "F-statistic: 1.268 on 11 and 488 DF,  p-value: 0.2401\n"
      ]
     },
     "metadata": {},
     "output_type": "display_data"
    }
   ],
   "source": [
    "# 1b: AP Score for those who took AP\n",
    "physsr <- lm(scale(apscore)~factor(firstgen) + factor(lowincomeflag) + factor(gender) + factor(ethniccode_cat) +\n",
    "               hsgpa_z + scale(mathsr) + scale(englsr) + factor(cohort), data=df_phystakers)\n",
    "summary(physsr)\n",
    "#std_beta(physsr)"
   ]
  },
  {
   "cell_type": "code",
   "execution_count": 105,
   "metadata": {},
   "outputs": [
    {
     "data": {
      "text/plain": [
       "\n",
       "Call:\n",
       "glm(formula = eligible_to_skip ~ factor(firstgen) + factor(lowincomeflag) + \n",
       "    factor(gender) + factor(ethniccode_cat) + hsgpa_z + scale(mathsr) + \n",
       "    scale(englsr) + factor(cohort), family = binomial(link = \"logit\"), \n",
       "    data = df_phystakers)\n",
       "\n",
       "Deviance Residuals: \n",
       "    Min       1Q   Median       3Q      Max  \n",
       "-0.9842  -0.6075  -0.5026  -0.4174   2.4110  \n",
       "\n",
       "Coefficients:\n",
       "                        Estimate Std. Error z value Pr(>|z|)    \n",
       "(Intercept)             -2.49785    0.47672  -5.240 1.61e-07 ***\n",
       "factor(firstgen)1        0.27722    0.32689   0.848   0.3964    \n",
       "factor(lowincomeflag)2  -0.52012    0.33517  -1.552   0.1207    \n",
       "factor(gender)1         -0.32412    0.35494  -0.913   0.3612    \n",
       "factor(ethniccode_cat)0  0.39112    0.48816   0.801   0.4230    \n",
       "factor(ethniccode_cat)2  0.97068    0.41511   2.338   0.0194 *  \n",
       "hsgpa_z                 -0.14332    0.15633  -0.917   0.3593    \n",
       "scale(mathsr)           -0.39710    0.16083  -2.469   0.0135 *  \n",
       "scale(englsr)            0.04888    0.15559   0.314   0.7534    \n",
       "factor(cohort)2014       0.18088    0.37784   0.479   0.6321    \n",
       "factor(cohort)2015       0.36315    0.35415   1.025   0.3052    \n",
       "factor(cohort)2016       0.26898    0.35732   0.753   0.4516    \n",
       "---\n",
       "Signif. codes:  0 ‘***’ 0.001 ‘**’ 0.01 ‘*’ 0.05 ‘.’ 0.1 ‘ ’ 1\n",
       "\n",
       "(Dispersion parameter for binomial family taken to be 1)\n",
       "\n",
       "    Null deviance: 415.71  on 499  degrees of freedom\n",
       "Residual deviance: 401.96  on 488  degrees of freedom\n",
       "  (11 observations deleted due to missingness)\n",
       "AIC: 425.96\n",
       "\n",
       "Number of Fisher Scoring iterations: 5\n"
      ]
     },
     "metadata": {},
     "output_type": "display_data"
    }
   ],
   "source": [
    "# 1c.i Eligible out of those who took AP\n",
    "skipphys <- glm(eligible_to_skip~factor(firstgen) + factor(lowincomeflag) + factor(gender) + factor(ethniccode_cat) +\n",
    "               hsgpa_z + scale(mathsr) + scale(englsr) + factor(cohort), \n",
    "                data=df_phystakers, \n",
    "                binomial(link=\"logit\"))\n",
    "summary(skipphys)\n",
    "#robustse(skipphys, coef=\"odd.ratio\")"
   ]
  },
  {
   "cell_type": "code",
   "execution_count": 106,
   "metadata": {},
   "outputs": [
    {
     "data": {
      "text/plain": [
       "\n",
       "Call:\n",
       "glm(formula = eligible_to_skip ~ factor(firstgen) + factor(lowincomeflag) + \n",
       "    factor(gender) + factor(ethniccode_cat) + hsgpa_z + scale(mathsr) + \n",
       "    scale(englsr) + factor(cohort), family = binomial(link = \"logit\"), \n",
       "    data = df_phys2)\n",
       "\n",
       "Deviance Residuals: \n",
       "    Min       1Q   Median       3Q      Max  \n",
       "-0.4865  -0.2528  -0.2064  -0.1630   3.1904  \n",
       "\n",
       "Coefficients:\n",
       "                          Estimate Std. Error z value Pr(>|z|)    \n",
       "(Intercept)              -4.447138   0.428301 -10.383   <2e-16 ***\n",
       "factor(firstgen)1         0.003171   0.285835   0.011   0.9911    \n",
       "factor(lowincomeflag)2    0.000062   0.292045   0.000   0.9998    \n",
       "factor(gender)1          -0.505321   0.325706  -1.551   0.1208    \n",
       "factor(ethniccode_cat)0   0.456135   0.459021   0.994   0.3204    \n",
       "factor(ethniccode_cat)2   0.858599   0.382454   2.245   0.0248 *  \n",
       "hsgpa_z                  -0.185538   0.140465  -1.321   0.1865    \n",
       "scale(mathsr)             0.074872   0.154663   0.484   0.6283    \n",
       "scale(englsr)             0.175205   0.145001   1.208   0.2269    \n",
       "factor(cohort)2014        0.200323   0.355261   0.564   0.5728    \n",
       "factor(cohort)2015        0.630055   0.324391   1.942   0.0521 .  \n",
       "factor(cohort)2016        0.459188   0.329787   1.392   0.1638    \n",
       "factor(cohort)2017       -9.294894 535.411384  -0.017   0.9861    \n",
       "---\n",
       "Signif. codes:  0 ‘***’ 0.001 ‘**’ 0.01 ‘*’ 0.05 ‘.’ 0.1 ‘ ’ 1\n",
       "\n",
       "(Dispersion parameter for binomial family taken to be 1)\n",
       "\n",
       "    Null deviance: 676.19  on 2935  degrees of freedom\n",
       "Residual deviance: 653.65  on 2923  degrees of freedom\n",
       "  (69 observations deleted due to missingness)\n",
       "AIC: 679.65\n",
       "\n",
       "Number of Fisher Scoring iterations: 12\n"
      ]
     },
     "metadata": {},
     "output_type": "display_data"
    }
   ],
   "source": [
    "# 1c.ii Eligible out of full sample\n",
    "skipphys2 <- glm(eligible_to_skip~factor(firstgen) + factor(lowincomeflag) + factor(gender) + factor(ethniccode_cat) +\n",
    "               hsgpa_z + scale(mathsr) + scale(englsr) + factor(cohort), \n",
    "                data=df_phys2, \n",
    "                binomial(link=\"logit\"))\n",
    "summary(skipphys2)\n",
    "#robustse(skipphys2, coef=\"odd.ratio\")"
   ]
  },
  {
   "cell_type": "code",
   "execution_count": 107,
   "metadata": {},
   "outputs": [
    {
     "data": {
      "text/plain": [
       "\n",
       "Call:\n",
       "glm(formula = skipped_course ~ factor(firstgen) + factor(lowincomeflag) + \n",
       "    factor(gender) + factor(ethniccode_cat) + hsgpa_z + scale(mathsr) + \n",
       "    scale(englsr) + factor(cohort), family = binomial(link = \"logit\"), \n",
       "    data = df_physSkEligible)\n",
       "\n",
       "Deviance Residuals: \n",
       "    Min       1Q   Median       3Q      Max  \n",
       "-2.0237  -1.1624   0.7015   0.8445   1.3220  \n",
       "\n",
       "Coefficients:\n",
       "                         Estimate Std. Error z value Pr(>|z|)\n",
       "(Intercept)             -0.647385   1.189128  -0.544    0.586\n",
       "factor(firstgen)1        0.255775   0.785643   0.326    0.745\n",
       "factor(lowincomeflag)2  -0.455402   0.778089  -0.585    0.558\n",
       "factor(gender)1         -1.042983   0.741975  -1.406    0.160\n",
       "factor(ethniccode_cat)0  1.468454   1.158131   1.268    0.205\n",
       "factor(ethniccode_cat)2  1.452297   0.959888   1.513    0.130\n",
       "hsgpa_z                  0.284183   0.323519   0.878    0.380\n",
       "scale(mathsr)            0.004872   0.347240   0.014    0.989\n",
       "scale(englsr)           -0.470850   0.361550  -1.302    0.193\n",
       "factor(cohort)2014       0.580150   0.841856   0.689    0.491\n",
       "factor(cohort)2015       1.025933   0.857570   1.196    0.232\n",
       "factor(cohort)2016       0.201389   0.808325   0.249    0.803\n",
       "\n",
       "(Dispersion parameter for binomial family taken to be 1)\n",
       "\n",
       "    Null deviance: 90.972  on 72  degrees of freedom\n",
       "Residual deviance: 84.992  on 61  degrees of freedom\n",
       "  (3 observations deleted due to missingness)\n",
       "AIC: 108.99\n",
       "\n",
       "Number of Fisher Scoring iterations: 4\n"
      ]
     },
     "metadata": {},
     "output_type": "display_data"
    }
   ],
   "source": [
    "# 2a. Took AP and skip eligble and actually skip\n",
    "skipreal <- glm(skipped_course~factor(firstgen) + factor(lowincomeflag) + factor(gender) + factor(ethniccode_cat) +\n",
    "               hsgpa_z + scale(mathsr) + scale(englsr) + factor(cohort), \n",
    "                data=df_physSkEligible, \n",
    "                binomial(link=\"logit\"))\n",
    "summary(skipreal) # small sample size, coeff. probably not reliable"
   ]
  },
  {
   "cell_type": "code",
   "execution_count": 142,
   "metadata": {},
   "outputs": [
    {
     "data": {
      "text/plain": [
       "\n",
       "Call:\n",
       "lm(formula = scale(numgrade_2) ~ skipped_course + apscore + factor(firstgen) + \n",
       "    factor(lowincomeflag) + factor(gender) + factor(ethniccode_cat) + \n",
       "    hsgpa_z + scale(mathsr) + scale(englsr) + factor(crs_term), \n",
       "    data = df_physSkEligible)\n",
       "\n",
       "Residuals:\n",
       "    Min      1Q  Median      3Q     Max \n",
       "-1.7378 -0.5630 -0.0110  0.5405  1.8183 \n",
       "\n",
       "Coefficients:\n",
       "                        Estimate Std. Error t value Pr(>|t|)  \n",
       "(Intercept)             -0.21882    0.57986  -0.377   0.7073  \n",
       "skipped_course           0.07998    0.24835   0.322   0.7486  \n",
       "apscore                  0.09824    0.08451   1.163   0.2499  \n",
       "factor(firstgen)1        0.34667    0.32176   1.077   0.2858  \n",
       "factor(lowincomeflag)2  -0.44922    0.31045  -1.447   0.1534  \n",
       "factor(gender)1          0.08858    0.30811   0.288   0.7748  \n",
       "factor(ethniccode_cat)0  1.07234    0.47425   2.261   0.0276 *\n",
       "factor(ethniccode_cat)2  0.74177    0.39626   1.872   0.0664 .\n",
       "hsgpa_z                  0.21564    0.13332   1.617   0.1113  \n",
       "scale(mathsr)            0.33628    0.14454   2.327   0.0236 *\n",
       "scale(englsr)           -0.08105    0.14864  -0.545   0.5877  \n",
       "factor(crs_term)2014    -0.67067    0.43517  -1.541   0.1288  \n",
       "factor(crs_term)2015    -0.68967    0.43679  -1.579   0.1199  \n",
       "factor(crs_term)2016    -0.71721    0.42162  -1.701   0.0944 .\n",
       "factor(crs_term)2017    -0.75080    0.42232  -1.778   0.0808 .\n",
       "---\n",
       "Signif. codes:  0 ‘***’ 0.001 ‘**’ 0.01 ‘*’ 0.05 ‘.’ 0.1 ‘ ’ 1\n",
       "\n",
       "Residual standard error: 0.8982 on 57 degrees of freedom\n",
       "  (4 observations deleted due to missingness)\n",
       "Multiple R-squared:  0.3752,\tAdjusted R-squared:  0.2218 \n",
       "F-statistic: 2.445 on 14 and 57 DF,  p-value: 0.009036\n"
      ]
     },
     "metadata": {},
     "output_type": "display_data"
    }
   ],
   "source": [
    "# 2b. Took AP, include AP score\n",
    "physsr5 <- lm(scale(numgrade_2)~skipped_course + apscore + \n",
    "              factor(firstgen) + factor(lowincomeflag) + factor(gender) + factor(ethniccode_cat) +\n",
    "               hsgpa_z + scale(mathsr) + scale(englsr) + factor(crs_term), \n",
    "              data=df_physSkEligible)\n",
    "summary(physsr5)\n",
    "\n",
    "#std_beta(physsr5)\n",
    "# not doing 2bi and 2bii (for ap score subset because small saple size)"
   ]
  },
  {
   "cell_type": "code",
   "execution_count": 111,
   "metadata": {},
   "outputs": [
    {
     "data": {
      "text/plain": [
       "\n",
       "Call:\n",
       "lm(formula = scale(numgrade_2) ~ skipped_course + apscore + factor(firstgen) + \n",
       "    factor(lowincomeflag) + factor(gender) + factor(ethniccode_cat) + \n",
       "    hsgpa_z + scale(mathsr) + scale(englsr) + factor(crs_term), \n",
       "    data = df_phys2)\n",
       "\n",
       "Residuals:\n",
       "    Min      1Q  Median      3Q     Max \n",
       "-3.2747 -0.6341  0.0294  0.6844  2.7170 \n",
       "\n",
       "Coefficients:\n",
       "                        Estimate Std. Error t value Pr(>|t|)    \n",
       "(Intercept)             -0.06227    0.06065  -1.027   0.3046    \n",
       "skipped_course           0.09711    0.13318   0.729   0.4660    \n",
       "apscore                  0.10732    0.05169   2.076   0.0379 *  \n",
       "factor(firstgen)1       -0.04529    0.03963  -1.143   0.2532    \n",
       "factor(lowincomeflag)2   0.03911    0.04013   0.975   0.3298    \n",
       "factor(gender)1         -0.19006    0.03971  -4.786 1.79e-06 ***\n",
       "factor(ethniccode_cat)0  0.22094    0.05532   3.994 6.65e-05 ***\n",
       "factor(ethniccode_cat)2  0.07866    0.04498   1.749   0.0805 .  \n",
       "hsgpa_z                  0.19296    0.02086   9.249  < 2e-16 ***\n",
       "scale(mathsr)            0.25108    0.02163  11.608  < 2e-16 ***\n",
       "scale(englsr)            0.04928    0.02076   2.373   0.0177 *  \n",
       "factor(crs_term)2014    -0.13209    0.05563  -2.375   0.0176 *  \n",
       "factor(crs_term)2015    -0.05271    0.05732  -0.920   0.3578    \n",
       "factor(crs_term)2016    -0.11938    0.05804  -2.057   0.0398 *  \n",
       "factor(crs_term)2017     0.13267    0.05616   2.362   0.0182 *  \n",
       "---\n",
       "Signif. codes:  0 ‘***’ 0.001 ‘**’ 0.01 ‘*’ 0.05 ‘.’ 0.1 ‘ ’ 1\n",
       "\n",
       "Residual standard error: 0.9171 on 2921 degrees of freedom\n",
       "  (69 observations deleted due to missingness)\n",
       "Multiple R-squared:  0.162,\tAdjusted R-squared:  0.158 \n",
       "F-statistic: 40.34 on 14 and 2921 DF,  p-value: < 2.2e-16\n"
      ]
     },
     "metadata": {},
     "output_type": "display_data"
    }
   ],
   "source": [
    "# 2c. Full sample, include AP score\n",
    "physsr6 <- lm(scale(numgrade_2)~skipped_course + apscore + \n",
    "              factor(firstgen) + factor(lowincomeflag) + factor(gender) + factor(ethniccode_cat) +\n",
    "               hsgpa_z + scale(mathsr) + scale(englsr) + factor(crs_term), data=df_phys2)\n",
    "summary(physsr6)\n",
    "#std_beta(physsr6)"
   ]
  },
  {
   "cell_type": "code",
   "execution_count": 112,
   "metadata": {},
   "outputs": [
    {
     "data": {
      "text/plain": [
       "\n",
       "Call:\n",
       "lm(formula = scale(numgrade_2) ~ skipped_course + factor(firstgen) + \n",
       "    factor(lowincomeflag) + factor(gender) + factor(ethniccode_cat) + \n",
       "    hsgpa_z + scale(mathsr) + scale(englsr) + factor(crs_term), \n",
       "    data = df_phystakers)\n",
       "\n",
       "Residuals:\n",
       "     Min       1Q   Median       3Q      Max \n",
       "-2.52523 -0.67942  0.04403  0.71688  2.06513 \n",
       "\n",
       "Coefficients:\n",
       "                        Estimate Std. Error t value Pr(>|t|)    \n",
       "(Intercept)             -0.01048    0.16473  -0.064   0.9493    \n",
       "skipped_course          -0.03235    0.14086  -0.230   0.8185    \n",
       "factor(firstgen)1       -0.03306    0.10557  -0.313   0.7543    \n",
       "factor(lowincomeflag)2   0.01023    0.10465   0.098   0.9222    \n",
       "factor(gender)1         -0.18932    0.10991  -1.723   0.0856 .  \n",
       "factor(ethniccode_cat)0  0.28228    0.14525   1.943   0.0526 .  \n",
       "factor(ethniccode_cat)2  0.13891    0.12584   1.104   0.2702    \n",
       "hsgpa_z                  0.26364    0.05179   5.091 5.13e-07 ***\n",
       "scale(mathsr)            0.26761    0.05250   5.098 4.96e-07 ***\n",
       "scale(englsr)           -0.02203    0.05107  -0.431   0.6663    \n",
       "factor(crs_term)2014    -0.33087    0.14537  -2.276   0.0233 *  \n",
       "factor(crs_term)2015    -0.21993    0.14451  -1.522   0.1287    \n",
       "factor(crs_term)2016    -0.07499    0.14207  -0.528   0.5978    \n",
       "factor(crs_term)2017    -0.16516    0.13589  -1.215   0.2248    \n",
       "---\n",
       "Signif. codes:  0 ‘***’ 0.001 ‘**’ 0.01 ‘*’ 0.05 ‘.’ 0.1 ‘ ’ 1\n",
       "\n",
       "Residual standard error: 0.9231 on 479 degrees of freedom\n",
       "  (18 observations deleted due to missingness)\n",
       "Multiple R-squared:  0.1766,\tAdjusted R-squared:  0.1542 \n",
       "F-statistic: 7.901 on 13 and 479 DF,  p-value: 2.277e-14\n"
      ]
     },
     "metadata": {},
     "output_type": "display_data"
    }
   ],
   "source": [
    "# 2d. 2nd course grade; took AP sample for those who actually skip\n",
    "physsr <- lm(scale(numgrade_2)~skipped_course + factor(firstgen) + factor(lowincomeflag) + factor(gender) + factor(ethniccode_cat) +\n",
    "               hsgpa_z + scale(mathsr) + scale(englsr) + factor(crs_term), \n",
    "             data=df_phystakers)\n",
    "summary(physsr)\n",
    "\n",
    "#std_beta(physsr)"
   ]
  },
  {
   "cell_type": "code",
   "execution_count": 113,
   "metadata": {},
   "outputs": [
    {
     "data": {
      "text/plain": [
       "\n",
       "Call:\n",
       "lm(formula = scale(numgrade_2) ~ skipped_course + factor(firstgen) + \n",
       "    factor(lowincomeflag) + factor(gender) + factor(ethniccode_cat) + \n",
       "    hsgpa_z + scale(mathsr) + scale(englsr) + factor(crs_term), \n",
       "    data = df_phys2)\n",
       "\n",
       "Residuals:\n",
       "    Min      1Q  Median      3Q     Max \n",
       "-3.2760 -0.6341  0.0311  0.6873  2.7171 \n",
       "\n",
       "Coefficients:\n",
       "                        Estimate Std. Error t value Pr(>|t|)    \n",
       "(Intercept)             -0.06122    0.06068  -1.009   0.3131    \n",
       "skipped_course           0.12426    0.13261   0.937   0.3488    \n",
       "factor(firstgen)1       -0.04404    0.03965  -1.111   0.2667    \n",
       "factor(lowincomeflag)2   0.03986    0.04015   0.993   0.3209    \n",
       "factor(gender)1         -0.18918    0.03973  -4.761 2.02e-06 ***\n",
       "factor(ethniccode_cat)0  0.22145    0.05535   4.001 6.46e-05 ***\n",
       "factor(ethniccode_cat)2  0.07880    0.04501   1.751   0.0801 .  \n",
       "hsgpa_z                  0.19061    0.02084   9.145  < 2e-16 ***\n",
       "scale(mathsr)            0.25349    0.02161  11.729  < 2e-16 ***\n",
       "scale(englsr)            0.04910    0.02078   2.364   0.0182 *  \n",
       "factor(crs_term)2014    -0.13305    0.05566  -2.391   0.0169 *  \n",
       "factor(crs_term)2015    -0.05043    0.05734  -0.880   0.3792    \n",
       "factor(crs_term)2016    -0.11598    0.05805  -1.998   0.0458 *  \n",
       "factor(crs_term)2017     0.13339    0.05619   2.374   0.0177 *  \n",
       "---\n",
       "Signif. codes:  0 ‘***’ 0.001 ‘**’ 0.01 ‘*’ 0.05 ‘.’ 0.1 ‘ ’ 1\n",
       "\n",
       "Residual standard error: 0.9176 on 2922 degrees of freedom\n",
       "  (69 observations deleted due to missingness)\n",
       "Multiple R-squared:  0.1608,\tAdjusted R-squared:  0.1571 \n",
       "F-statistic: 43.07 on 13 and 2922 DF,  p-value: < 2.2e-16\n"
      ]
     },
     "metadata": {},
     "output_type": "display_data"
    }
   ],
   "source": [
    "#2e. 2nd course grade; everyone, actually skipped\n",
    "physsr2 <- lm(scale(numgrade_2)~skipped_course + factor(firstgen) + factor(lowincomeflag) + factor(gender) + factor(ethniccode_cat) +\n",
    "               hsgpa_z + scale(mathsr) + scale(englsr) + factor(crs_term), data=df_phys2)\n",
    "summary(physsr2)\n",
    "\n",
    "#std_beta(physsr2)"
   ]
  },
  {
   "cell_type": "code",
   "execution_count": 114,
   "metadata": {},
   "outputs": [
    {
     "data": {
      "text/plain": [
       "\n",
       "Call:\n",
       "lm(formula = scale(numgrade_2) ~ eligible_to_skip + factor(firstgen) + \n",
       "    factor(lowincomeflag) + factor(gender) + factor(ethniccode_cat) + \n",
       "    hsgpa_z + scale(mathsr) + scale(englsr) + factor(crs_term), \n",
       "    data = df_phystakers)\n",
       "\n",
       "Residuals:\n",
       "     Min       1Q   Median       3Q      Max \n",
       "-2.53574 -0.67157  0.05305  0.72441  2.05574 \n",
       "\n",
       "Coefficients:\n",
       "                         Estimate Std. Error t value Pr(>|t|)    \n",
       "(Intercept)             -0.008524   0.164687  -0.052   0.9587    \n",
       "eligible_to_skip        -0.076579   0.119396  -0.641   0.5216    \n",
       "factor(firstgen)1       -0.031571   0.105544  -0.299   0.7650    \n",
       "factor(lowincomeflag)2   0.007375   0.104659   0.070   0.9439    \n",
       "factor(gender)1         -0.190490   0.109783  -1.735   0.0834 .  \n",
       "factor(ethniccode_cat)0  0.284579   0.145118   1.961   0.0505 .  \n",
       "factor(ethniccode_cat)2  0.144774   0.125705   1.152   0.2500    \n",
       "hsgpa_z                  0.262281   0.051816   5.062 5.93e-07 ***\n",
       "scale(mathsr)            0.265148   0.052556   5.045 6.45e-07 ***\n",
       "scale(englsr)           -0.021495   0.051045  -0.421   0.6739    \n",
       "factor(crs_term)2014    -0.327501   0.145331  -2.253   0.0247 *  \n",
       "factor(crs_term)2015    -0.217152   0.144522  -1.503   0.1336    \n",
       "factor(crs_term)2016    -0.070645   0.142179  -0.497   0.6195    \n",
       "factor(crs_term)2017    -0.160987   0.136013  -1.184   0.2372    \n",
       "---\n",
       "Signif. codes:  0 ‘***’ 0.001 ‘**’ 0.01 ‘*’ 0.05 ‘.’ 0.1 ‘ ’ 1\n",
       "\n",
       "Residual standard error: 0.9227 on 479 degrees of freedom\n",
       "  (18 observations deleted due to missingness)\n",
       "Multiple R-squared:  0.1772,\tAdjusted R-squared:  0.1549 \n",
       "F-statistic: 7.935 on 13 and 479 DF,  p-value: 1.939e-14\n"
      ]
     },
     "metadata": {},
     "output_type": "display_data"
    }
   ],
   "source": [
    "#2f. Skip eligible for those who took AP\n",
    "physsrsr3 <- lm(scale(numgrade_2)~eligible_to_skip + \n",
    "                factor(firstgen) + factor(lowincomeflag) + factor(gender) + factor(ethniccode_cat) +\n",
    "               hsgpa_z + scale(mathsr) + scale(englsr) + factor(crs_term), data=df_phystakers)\n",
    "summary(physsrsr3)\n",
    "\n",
    "#std_beta(physsrsr3)"
   ]
  },
  {
   "cell_type": "code",
   "execution_count": 115,
   "metadata": {},
   "outputs": [
    {
     "data": {
      "text/plain": [
       "\n",
       "Call:\n",
       "lm(formula = scale(numgrade_2) ~ eligible_to_skip + factor(firstgen) + \n",
       "    factor(lowincomeflag) + factor(gender) + factor(ethniccode_cat) + \n",
       "    hsgpa_z + scale(mathsr) + scale(englsr) + factor(crs_term), \n",
       "    data = df_phys2)\n",
       "\n",
       "Residuals:\n",
       "    Min      1Q  Median      3Q     Max \n",
       "-3.2763 -0.6336  0.0327  0.6870  2.7172 \n",
       "\n",
       "Coefficients:\n",
       "                        Estimate Std. Error t value Pr(>|t|)    \n",
       "(Intercept)             -0.06098    0.06069  -1.005   0.3151    \n",
       "eligible_to_skip         0.07025    0.10990   0.639   0.5227    \n",
       "factor(firstgen)1       -0.04413    0.03965  -1.113   0.2658    \n",
       "factor(lowincomeflag)2   0.03993    0.04015   0.995   0.3201    \n",
       "factor(gender)1         -0.18966    0.03973  -4.773 1.90e-06 ***\n",
       "factor(ethniccode_cat)0  0.22192    0.05535   4.010 6.23e-05 ***\n",
       "factor(ethniccode_cat)2  0.07952    0.04501   1.767   0.0774 .  \n",
       "hsgpa_z                  0.19075    0.02085   9.148  < 2e-16 ***\n",
       "scale(mathsr)            0.25352    0.02161  11.729  < 2e-16 ***\n",
       "scale(englsr)            0.04897    0.02078   2.356   0.0185 *  \n",
       "factor(crs_term)2014    -0.13396    0.05566  -2.407   0.0162 *  \n",
       "factor(crs_term)2015    -0.05050    0.05735  -0.881   0.3787    \n",
       "factor(crs_term)2016    -0.11603    0.05807  -1.998   0.0458 *  \n",
       "factor(crs_term)2017     0.13318    0.05621   2.369   0.0179 *  \n",
       "---\n",
       "Signif. codes:  0 ‘***’ 0.001 ‘**’ 0.01 ‘*’ 0.05 ‘.’ 0.1 ‘ ’ 1\n",
       "\n",
       "Residual standard error: 0.9177 on 2922 degrees of freedom\n",
       "  (69 observations deleted due to missingness)\n",
       "Multiple R-squared:  0.1607,\tAdjusted R-squared:  0.1569 \n",
       "F-statistic: 43.02 on 13 and 2922 DF,  p-value: < 2.2e-16\n"
      ]
     },
     "metadata": {},
     "output_type": "display_data"
    }
   ],
   "source": [
    "#2g. Skip eligible, full sample\n",
    "physsr4<- lm(scale(numgrade_2)~eligible_to_skip + \n",
    "                factor(firstgen) + factor(lowincomeflag) + factor(gender) + factor(ethniccode_cat) +\n",
    "               hsgpa_z + scale(mathsr) + scale(englsr) + factor(crs_term), data=df_phys2)\n",
    "summary(physsr4)\n",
    "\n",
    "#std_beta(physsr4)"
   ]
  },
  {
   "cell_type": "code",
   "execution_count": 122,
   "metadata": {},
   "outputs": [
    {
     "data": {
      "text/plain": [
       "\n",
       "Call:\n",
       "lm(formula = scale(numgrade_2) ~ skipped_course + apscore + factor(firstgen) + \n",
       "    factor(lowincomeflag) + factor(gender) + factor(ethniccode_cat) + \n",
       "    hsgpa_z + scale(mathsr) + scale(englsr) + factor(crs_term) + \n",
       "    factor(enrl_from_cohort), data = df_chemSkEligible)\n",
       "\n",
       "Residuals:\n",
       "     Min       1Q   Median       3Q      Max \n",
       "-3.12652 -0.57285 -0.01824  0.69611  1.47086 \n",
       "\n",
       "Coefficients:\n",
       "                           Estimate Std. Error t value Pr(>|t|)    \n",
       "(Intercept)               -2.723190   0.921320  -2.956 0.003649 ** \n",
       "skipped_course             0.839939   0.233347   3.600 0.000439 ***\n",
       "apscore                    0.487934   0.193170   2.526 0.012629 *  \n",
       "factor(firstgen)1         -0.074837   0.208174  -0.359 0.719757    \n",
       "factor(lowincomeflag)2     0.009058   0.189392   0.048 0.961919    \n",
       "factor(gender)1           -0.036049   0.150365  -0.240 0.810871    \n",
       "factor(ethniccode_cat)0    0.199602   0.319396   0.625 0.533008    \n",
       "factor(ethniccode_cat)2   -0.053092   0.284261  -0.187 0.852105    \n",
       "hsgpa_z                    0.247544   0.125517   1.972 0.050517 .  \n",
       "scale(mathsr)              0.316276   0.088082   3.591 0.000453 ***\n",
       "scale(englsr)             -0.017557   0.087049  -0.202 0.840440    \n",
       "factor(crs_term)2016      -0.102731   0.239173  -0.430 0.668188    \n",
       "factor(crs_term)2017      -0.203572   0.222858  -0.913 0.362538    \n",
       "factor(enrl_from_cohort)3  0.128343   0.260191   0.493 0.622583    \n",
       "---\n",
       "Signif. codes:  0 ‘***’ 0.001 ‘**’ 0.01 ‘*’ 0.05 ‘.’ 0.1 ‘ ’ 1\n",
       "\n",
       "Residual standard error: 0.8751 on 143 degrees of freedom\n",
       "  (5 observations deleted due to missingness)\n",
       "Multiple R-squared:  0.3087,\tAdjusted R-squared:  0.2459 \n",
       "F-statistic: 4.912 on 13 and 143 DF,  p-value: 4.483e-07\n"
      ]
     },
     "metadata": {},
     "output_type": "display_data"
    }
   ],
   "source": [
    "##############\n",
    "# Following April 17 meeting conversation, for RQ2, try to include enrl_from_cohort\n",
    "# CHEM, 2b\n",
    "chemsr5_enr <- lm(scale(numgrade_2)~skipped_course + apscore +\n",
    "              factor(firstgen) + factor(lowincomeflag) + factor(gender) + factor(ethniccode_cat) + \n",
    "              hsgpa_z + scale(mathsr) + scale(englsr) + factor(crs_term) + factor(enrl_from_cohort), data=df_chemSkEligible)\n",
    "summary(chemsr5_enr)"
   ]
  },
  {
   "cell_type": "code",
   "execution_count": 133,
   "metadata": {},
   "outputs": [
    {
     "name": "stderr",
     "output_type": "stream",
     "text": [
      "Updating HTML index of packages in '.Library'\n",
      "\n",
      "Making 'packages.html' ...\n",
      " done\n",
      "\n"
     ]
    }
   ],
   "source": [
    "install.packages(\"fmsb\")"
   ]
  },
  {
   "cell_type": "code",
   "execution_count": 136,
   "metadata": {},
   "outputs": [
    {
     "data": {
      "text/html": [
       "1.44654222807495"
      ],
      "text/latex": [
       "1.44654222807495"
      ],
      "text/markdown": [
       "1.44654222807495"
      ],
      "text/plain": [
       "[1] 1.446542"
      ]
     },
     "metadata": {},
     "output_type": "display_data"
    }
   ],
   "source": [
    "library(fmsb)\n",
    "VIF(chemsr5_enr)"
   ]
  },
  {
   "cell_type": "code",
   "execution_count": null,
   "metadata": {},
   "outputs": [],
   "source": []
  }
 ],
 "metadata": {
  "kernelspec": {
   "display_name": "R",
   "language": "R",
   "name": "ir"
  },
  "language_info": {
   "codemirror_mode": "r",
   "file_extension": ".r",
   "mimetype": "text/x-r-source",
   "name": "R",
   "pygments_lexer": "r",
   "version": "3.6.1"
  }
 },
 "nbformat": 4,
 "nbformat_minor": 4
}
