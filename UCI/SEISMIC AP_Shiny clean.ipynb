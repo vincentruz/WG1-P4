{
 "cells": [
  {
   "cell_type": "code",
   "execution_count": 2,
   "metadata": {},
   "outputs": [
    {
     "name": "stderr",
     "output_type": "stream",
     "text": [
      "── \u001b[1mAttaching packages\u001b[22m ─────────────────────────────────────── tidyverse 1.3.0 ──\n",
      "\n",
      "\u001b[32m✔\u001b[39m \u001b[34mggplot2\u001b[39m 3.3.0     \u001b[32m✔\u001b[39m \u001b[34mpurrr  \u001b[39m 0.3.3\n",
      "\u001b[32m✔\u001b[39m \u001b[34mtibble \u001b[39m 2.1.3     \u001b[32m✔\u001b[39m \u001b[34mdplyr  \u001b[39m 0.8.5\n",
      "\u001b[32m✔\u001b[39m \u001b[34mtidyr  \u001b[39m 1.0.2     \u001b[32m✔\u001b[39m \u001b[34mstringr\u001b[39m 1.4.0\n",
      "\u001b[32m✔\u001b[39m \u001b[34mreadr  \u001b[39m 1.3.1     \u001b[32m✔\u001b[39m \u001b[34mforcats\u001b[39m 0.4.0\n",
      "\n",
      "── \u001b[1mConflicts\u001b[22m ────────────────────────────────────────── tidyverse_conflicts() ──\n",
      "\u001b[31m✖\u001b[39m \u001b[34mdplyr\u001b[39m::\u001b[32mfilter()\u001b[39m masks \u001b[34mstats\u001b[39m::filter()\n",
      "\u001b[31m✖\u001b[39m \u001b[34mdplyr\u001b[39m::\u001b[32mlag()\u001b[39m    masks \u001b[34mstats\u001b[39m::lag()\n",
      "\n"
     ]
    }
   ],
   "source": [
    "# AP Skip\n",
    "# Linear reg model for shiny app\n",
    "# Feb 27, 2020\n",
    "# Code adapted from Eben's and Kyle's\n",
    "######################################\n",
    "# Load library\n",
    "library(tidyverse)\n",
    "library(dplyr)"
   ]
  },
  {
   "cell_type": "code",
   "execution_count": 3,
   "metadata": {},
   "outputs": [],
   "source": [
    "# Load dataset\n",
    "setwd(\"/Users/thicn/Documents/AP Skip/\") # change to your local directory\n",
    "df_ind_chem <- read.csv(\"chemSelect_unique.csv\")\n",
    "df_ind_phys <- read.csv(\"physSelect_unique.csv\")"
   ]
  },
  {
   "cell_type": "code",
   "execution_count": 4,
   "metadata": {},
   "outputs": [
    {
     "data": {
      "text/html": [
       "<table>\n",
       "<thead><tr><th scope=col>AP</th><th scope=col>COURSE</th><th scope=col>COURSE2.GRADE</th><th scope=col>COURSE2.GRADE.REG</th><th scope=col>SKIP</th></tr></thead>\n",
       "<tbody>\n",
       "\t<tr><td>0       </td><td>GCHEM1  </td><td>2.3     </td><td>2.095493</td><td>NoSkip  </td></tr>\n",
       "\t<tr><td>3       </td><td>GCHEM1  </td><td>2.0     </td><td>2.576573</td><td>NoSkip  </td></tr>\n",
       "\t<tr><td>0       </td><td>GCHEM1  </td><td>3.3     </td><td>2.762103</td><td>NoSkip  </td></tr>\n",
       "\t<tr><td>0       </td><td>GCHEM1  </td><td>1.7     </td><td>2.767599</td><td>NoSkip  </td></tr>\n",
       "\t<tr><td>0       </td><td>GCHEM1  </td><td>2.0     </td><td>2.646307</td><td>NoSkip  </td></tr>\n",
       "\t<tr><td>0       </td><td>GCHEM1  </td><td>3.7     </td><td>2.898258</td><td>NoSkip  </td></tr>\n",
       "</tbody>\n",
       "</table>\n"
      ],
      "text/latex": [
       "\\begin{tabular}{r|lllll}\n",
       " AP & COURSE & COURSE2.GRADE & COURSE2.GRADE.REG & SKIP\\\\\n",
       "\\hline\n",
       "\t 0        & GCHEM1   & 2.3      & 2.095493 & NoSkip  \\\\\n",
       "\t 3        & GCHEM1   & 2.0      & 2.576573 & NoSkip  \\\\\n",
       "\t 0        & GCHEM1   & 3.3      & 2.762103 & NoSkip  \\\\\n",
       "\t 0        & GCHEM1   & 1.7      & 2.767599 & NoSkip  \\\\\n",
       "\t 0        & GCHEM1   & 2.0      & 2.646307 & NoSkip  \\\\\n",
       "\t 0        & GCHEM1   & 3.7      & 2.898258 & NoSkip  \\\\\n",
       "\\end{tabular}\n"
      ],
      "text/markdown": [
       "\n",
       "| AP | COURSE | COURSE2.GRADE | COURSE2.GRADE.REG | SKIP |\n",
       "|---|---|---|---|---|\n",
       "| 0        | GCHEM1   | 2.3      | 2.095493 | NoSkip   |\n",
       "| 3        | GCHEM1   | 2.0      | 2.576573 | NoSkip   |\n",
       "| 0        | GCHEM1   | 3.3      | 2.762103 | NoSkip   |\n",
       "| 0        | GCHEM1   | 1.7      | 2.767599 | NoSkip   |\n",
       "| 0        | GCHEM1   | 2.0      | 2.646307 | NoSkip   |\n",
       "| 0        | GCHEM1   | 3.7      | 2.898258 | NoSkip   |\n",
       "\n"
      ],
      "text/plain": [
       "  AP COURSE COURSE2.GRADE COURSE2.GRADE.REG SKIP  \n",
       "1 0  GCHEM1 2.3           2.095493          NoSkip\n",
       "2 3  GCHEM1 2.0           2.576573          NoSkip\n",
       "3 0  GCHEM1 3.3           2.762103          NoSkip\n",
       "4 0  GCHEM1 1.7           2.767599          NoSkip\n",
       "5 0  GCHEM1 2.0           2.646307          NoSkip\n",
       "6 0  GCHEM1 3.7           2.898258          NoSkip"
      ]
     },
     "metadata": {},
     "output_type": "display_data"
    }
   ],
   "source": [
    "# Start with CHEM\n",
    "df_viz_gchem <- df_ind_chem %>%\n",
    "  mutate(SKIP = case_when(\n",
    "   skipped_course==0 ~ \"NoSkip\",\n",
    "   skipped_course==1 ~ \"Skip\"\n",
    " )) %>%\n",
    " filter(!is.na(SKIP))\n",
    "\n",
    "lm_chem <- lm(numgrade_2 ~ apscore + factor(firstgen) + factor(lowincomeflag) + factor(gender) + factor(ethniccode_cat) +\n",
    "               hsgpa_z + scale(mathsr) + scale(englsr) + factor(crs_term), \n",
    "              df_viz_gchem, na.action=na.exclude)\n",
    "\n",
    "df_viz_chem_shiny <- df_viz_gchem %>%\n",
    "  mutate(AP = apscore) %>%\n",
    "  mutate(COURSE2.GRADE = numgrade_2) %>%\n",
    "  mutate(COURSE2.GRADE.REG =  fitted(lm_chem)) %>%\n",
    "  mutate(COURSE = \"GCHEM1\") %>%\n",
    "  dplyr::select(AP, COURSE, \n",
    "                COURSE2.GRADE, COURSE2.GRADE.REG, SKIP)\n",
    "\n",
    "head(df_viz_chem_shiny)"
   ]
  },
  {
   "cell_type": "code",
   "execution_count": 6,
   "metadata": {},
   "outputs": [
    {
     "data": {
      "text/html": [
       "<table>\n",
       "<thead><tr><th scope=col>AP</th><th scope=col>COURSE</th><th scope=col>COURSE2.GRADE</th><th scope=col>COURSE2.GRADE.REG</th><th scope=col>SKIP</th></tr></thead>\n",
       "<tbody>\n",
       "\t<tr><td>NA      </td><td>PHYS1   </td><td>3.7     </td><td>      NA</td><td>NoSkip  </td></tr>\n",
       "\t<tr><td> 4      </td><td>PHYS1   </td><td>4.0     </td><td>3.829205</td><td>NoSkip  </td></tr>\n",
       "\t<tr><td>NA      </td><td>PHYS1   </td><td>4.0     </td><td>      NA</td><td>NoSkip  </td></tr>\n",
       "\t<tr><td>NA      </td><td>PHYS1   </td><td>3.0     </td><td>      NA</td><td>NoSkip  </td></tr>\n",
       "\t<tr><td>NA      </td><td>PHYS1   </td><td>4.0     </td><td>      NA</td><td>NoSkip  </td></tr>\n",
       "\t<tr><td>NA      </td><td>PHYS1   </td><td>2.7     </td><td>      NA</td><td>NoSkip  </td></tr>\n",
       "</tbody>\n",
       "</table>\n"
      ],
      "text/latex": [
       "\\begin{tabular}{r|lllll}\n",
       " AP & COURSE & COURSE2.GRADE & COURSE2.GRADE.REG & SKIP\\\\\n",
       "\\hline\n",
       "\t NA       & PHYS1    & 3.7      &       NA & NoSkip  \\\\\n",
       "\t  4       & PHYS1    & 4.0      & 3.829205 & NoSkip  \\\\\n",
       "\t NA       & PHYS1    & 4.0      &       NA & NoSkip  \\\\\n",
       "\t NA       & PHYS1    & 3.0      &       NA & NoSkip  \\\\\n",
       "\t NA       & PHYS1    & 4.0      &       NA & NoSkip  \\\\\n",
       "\t NA       & PHYS1    & 2.7      &       NA & NoSkip  \\\\\n",
       "\\end{tabular}\n"
      ],
      "text/markdown": [
       "\n",
       "| AP | COURSE | COURSE2.GRADE | COURSE2.GRADE.REG | SKIP |\n",
       "|---|---|---|---|---|\n",
       "| NA       | PHYS1    | 3.7      |       NA | NoSkip   |\n",
       "|  4       | PHYS1    | 4.0      | 3.829205 | NoSkip   |\n",
       "| NA       | PHYS1    | 4.0      |       NA | NoSkip   |\n",
       "| NA       | PHYS1    | 3.0      |       NA | NoSkip   |\n",
       "| NA       | PHYS1    | 4.0      |       NA | NoSkip   |\n",
       "| NA       | PHYS1    | 2.7      |       NA | NoSkip   |\n",
       "\n"
      ],
      "text/plain": [
       "  AP COURSE COURSE2.GRADE COURSE2.GRADE.REG SKIP  \n",
       "1 NA PHYS1  3.7                 NA          NoSkip\n",
       "2  4 PHYS1  4.0           3.829205          NoSkip\n",
       "3 NA PHYS1  4.0                 NA          NoSkip\n",
       "4 NA PHYS1  3.0                 NA          NoSkip\n",
       "5 NA PHYS1  4.0                 NA          NoSkip\n",
       "6 NA PHYS1  2.7                 NA          NoSkip"
      ]
     },
     "metadata": {},
     "output_type": "display_data"
    },
    {
     "data": {
      "text/html": [
       "<table>\n",
       "<thead><tr><th scope=col>AP</th><th scope=col>COURSE</th><th scope=col>COURSE2.GRADE</th><th scope=col>COURSE2.GRADE.REG</th><th scope=col>SKIP</th></tr></thead>\n",
       "<tbody>\n",
       "\t<tr><td>0       </td><td>PHYS1   </td><td>3.7     </td><td>      NA</td><td>NoSkip  </td></tr>\n",
       "\t<tr><td>4       </td><td>PHYS1   </td><td>4.0     </td><td>3.829205</td><td>NoSkip  </td></tr>\n",
       "\t<tr><td>0       </td><td>PHYS1   </td><td>4.0     </td><td>      NA</td><td>NoSkip  </td></tr>\n",
       "\t<tr><td>0       </td><td>PHYS1   </td><td>3.0     </td><td>      NA</td><td>NoSkip  </td></tr>\n",
       "\t<tr><td>0       </td><td>PHYS1   </td><td>4.0     </td><td>      NA</td><td>NoSkip  </td></tr>\n",
       "\t<tr><td>0       </td><td>PHYS1   </td><td>2.7     </td><td>      NA</td><td>NoSkip  </td></tr>\n",
       "</tbody>\n",
       "</table>\n"
      ],
      "text/latex": [
       "\\begin{tabular}{r|lllll}\n",
       " AP & COURSE & COURSE2.GRADE & COURSE2.GRADE.REG & SKIP\\\\\n",
       "\\hline\n",
       "\t 0        & PHYS1    & 3.7      &       NA & NoSkip  \\\\\n",
       "\t 4        & PHYS1    & 4.0      & 3.829205 & NoSkip  \\\\\n",
       "\t 0        & PHYS1    & 4.0      &       NA & NoSkip  \\\\\n",
       "\t 0        & PHYS1    & 3.0      &       NA & NoSkip  \\\\\n",
       "\t 0        & PHYS1    & 4.0      &       NA & NoSkip  \\\\\n",
       "\t 0        & PHYS1    & 2.7      &       NA & NoSkip  \\\\\n",
       "\\end{tabular}\n"
      ],
      "text/markdown": [
       "\n",
       "| AP | COURSE | COURSE2.GRADE | COURSE2.GRADE.REG | SKIP |\n",
       "|---|---|---|---|---|\n",
       "| 0        | PHYS1    | 3.7      |       NA | NoSkip   |\n",
       "| 4        | PHYS1    | 4.0      | 3.829205 | NoSkip   |\n",
       "| 0        | PHYS1    | 4.0      |       NA | NoSkip   |\n",
       "| 0        | PHYS1    | 3.0      |       NA | NoSkip   |\n",
       "| 0        | PHYS1    | 4.0      |       NA | NoSkip   |\n",
       "| 0        | PHYS1    | 2.7      |       NA | NoSkip   |\n",
       "\n"
      ],
      "text/plain": [
       "  AP COURSE COURSE2.GRADE COURSE2.GRADE.REG SKIP  \n",
       "1 0  PHYS1  3.7                 NA          NoSkip\n",
       "2 4  PHYS1  4.0           3.829205          NoSkip\n",
       "3 0  PHYS1  4.0                 NA          NoSkip\n",
       "4 0  PHYS1  3.0                 NA          NoSkip\n",
       "5 0  PHYS1  4.0                 NA          NoSkip\n",
       "6 0  PHYS1  2.7                 NA          NoSkip"
      ]
     },
     "metadata": {},
     "output_type": "display_data"
    }
   ],
   "source": [
    "#PHYSICS\n",
    "df_viz_phys <- df_ind_phys %>%\n",
    "  mutate(SKIP = case_when(\n",
    "    skipped_course == 0 ~ \"NoSkip\",\n",
    "    skipped_course == 1 ~ \"Skip\"\n",
    "  )) %>%\n",
    "  filter(!is.na(SKIP))\n",
    "\n",
    "lm_phys <- lm(numgrade_2 ~ apscore + factor(firstgen) + factor(lowincomeflag) + factor(gender) + factor(ethniccode_cat) +\n",
    "               hsgpa_z + scale(mathsr) + scale(englsr) + factor(crs_term), \n",
    "              df_viz_phys, na.action = na.exclude)\n",
    "\n",
    "df_viz_phys_shiny <- df_viz_phys %>%\n",
    "  mutate(AP = apscore) %>%\n",
    "  mutate(COURSE2.GRADE = numgrade_2) %>%\n",
    "  mutate(COURSE2.GRADE.REG =  fitted(lm_phys)) %>%\n",
    "  mutate(COURSE = \"PHYS1\") %>%\n",
    "  dplyr::select(AP, COURSE, \n",
    "                COURSE2.GRADE, COURSE2.GRADE.REG, SKIP)\n",
    "\n",
    "head(df_viz_phys_shiny)\n",
    "\n",
    "# Change all NA under AP score to 0\n",
    "df_viz_phys_shiny$AP <- ifelse(is.na(df_viz_phys_shiny$AP), 0, df_viz_phys_shiny$AP)\n",
    "head(df_viz_phys_shiny)"
   ]
  },
  {
   "cell_type": "code",
   "execution_count": 7,
   "metadata": {},
   "outputs": [
    {
     "data": {
      "text/html": [
       "<table>\n",
       "<thead><tr><th scope=col>AP</th><th scope=col>COURSE</th><th scope=col>COURSE2.GRADE</th><th scope=col>COURSE2.GRADE.REG</th><th scope=col>SKIP</th><th scope=col>n.AP</th></tr></thead>\n",
       "<tbody>\n",
       "\t<tr><td>0       </td><td>GCHEM1  </td><td>2.3     </td><td>2.095493</td><td>NoSkip  </td><td>7111    </td></tr>\n",
       "\t<tr><td>3       </td><td>GCHEM1  </td><td>2.0     </td><td>2.576573</td><td>NoSkip  </td><td> 640    </td></tr>\n",
       "\t<tr><td>0       </td><td>GCHEM1  </td><td>3.3     </td><td>2.762103</td><td>NoSkip  </td><td>7111    </td></tr>\n",
       "\t<tr><td>0       </td><td>GCHEM1  </td><td>1.7     </td><td>2.767599</td><td>NoSkip  </td><td>7111    </td></tr>\n",
       "\t<tr><td>0       </td><td>GCHEM1  </td><td>2.0     </td><td>2.646307</td><td>NoSkip  </td><td>7111    </td></tr>\n",
       "\t<tr><td>0       </td><td>GCHEM1  </td><td>3.7     </td><td>2.898258</td><td>NoSkip  </td><td>7111    </td></tr>\n",
       "</tbody>\n",
       "</table>\n"
      ],
      "text/latex": [
       "\\begin{tabular}{r|llllll}\n",
       " AP & COURSE & COURSE2.GRADE & COURSE2.GRADE.REG & SKIP & n.AP\\\\\n",
       "\\hline\n",
       "\t 0        & GCHEM1   & 2.3      & 2.095493 & NoSkip   & 7111    \\\\\n",
       "\t 3        & GCHEM1   & 2.0      & 2.576573 & NoSkip   &  640    \\\\\n",
       "\t 0        & GCHEM1   & 3.3      & 2.762103 & NoSkip   & 7111    \\\\\n",
       "\t 0        & GCHEM1   & 1.7      & 2.767599 & NoSkip   & 7111    \\\\\n",
       "\t 0        & GCHEM1   & 2.0      & 2.646307 & NoSkip   & 7111    \\\\\n",
       "\t 0        & GCHEM1   & 3.7      & 2.898258 & NoSkip   & 7111    \\\\\n",
       "\\end{tabular}\n"
      ],
      "text/markdown": [
       "\n",
       "| AP | COURSE | COURSE2.GRADE | COURSE2.GRADE.REG | SKIP | n.AP |\n",
       "|---|---|---|---|---|---|\n",
       "| 0        | GCHEM1   | 2.3      | 2.095493 | NoSkip   | 7111     |\n",
       "| 3        | GCHEM1   | 2.0      | 2.576573 | NoSkip   |  640     |\n",
       "| 0        | GCHEM1   | 3.3      | 2.762103 | NoSkip   | 7111     |\n",
       "| 0        | GCHEM1   | 1.7      | 2.767599 | NoSkip   | 7111     |\n",
       "| 0        | GCHEM1   | 2.0      | 2.646307 | NoSkip   | 7111     |\n",
       "| 0        | GCHEM1   | 3.7      | 2.898258 | NoSkip   | 7111     |\n",
       "\n"
      ],
      "text/plain": [
       "  AP COURSE COURSE2.GRADE COURSE2.GRADE.REG SKIP   n.AP\n",
       "1 0  GCHEM1 2.3           2.095493          NoSkip 7111\n",
       "2 3  GCHEM1 2.0           2.576573          NoSkip  640\n",
       "3 0  GCHEM1 3.3           2.762103          NoSkip 7111\n",
       "4 0  GCHEM1 1.7           2.767599          NoSkip 7111\n",
       "5 0  GCHEM1 2.0           2.646307          NoSkip 7111\n",
       "6 0  GCHEM1 3.7           2.898258          NoSkip 7111"
      ]
     },
     "metadata": {},
     "output_type": "display_data"
    }
   ],
   "source": [
    "#Combine Disciplines\n",
    "df_SEISMIC_AP_SHINY <- bind_rows(df_viz_chem_shiny, df_viz_phys_shiny) %>%\n",
    "  group_by(AP, COURSE) %>%\n",
    "  dplyr::mutate(n.AP = n()) %>%\n",
    "  ungroup\n",
    "\n",
    "head(df_SEISMIC_AP_SHINY)\n",
    "write.csv(df_SEISMIC_AP_SHINY, file = \"SEISMIC_AP_SHINY2.csv\")"
   ]
  },
  {
   "cell_type": "code",
   "execution_count": null,
   "metadata": {},
   "outputs": [],
   "source": []
  }
 ],
 "metadata": {
  "kernelspec": {
   "display_name": "R",
   "language": "R",
   "name": "ir"
  },
  "language_info": {
   "codemirror_mode": "r",
   "file_extension": ".r",
   "mimetype": "text/x-r-source",
   "name": "R",
   "pygments_lexer": "r",
   "version": "3.6.1"
  }
 },
 "nbformat": 4,
 "nbformat_minor": 4
}
