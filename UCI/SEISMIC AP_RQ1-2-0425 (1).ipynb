{
 "cells": [
  {
   "cell_type": "code",
   "execution_count": null,
   "metadata": {},
   "outputs": [],
   "source": [
    "# Inclusion criteria: https://docs.google.com/spreadsheets/d/1SzU4PcIEUsAGnKKyAcugHO2O2aZW29sf9a_cC-FAElk/edit#gid=1702351745"
   ]
  },
  {
   "cell_type": "code",
   "execution_count": 1,
   "metadata": {},
   "outputs": [
    {
     "name": "stderr",
     "output_type": "stream",
     "text": [
      "Updating HTML index of packages in '.Library'\n",
      "\n",
      "Making 'packages.html' ...\n",
      " done\n",
      "\n"
     ]
    }
   ],
   "source": [
    "# Load libraries\n",
    "install.packages(\"pacman\")\n",
    "pacman::p_load(\"tidyverse\", \"dplyr\", \"data.table\", \"psych\") # data wrangling/descriptive stats"
   ]
  },
  {
   "cell_type": "code",
   "execution_count": 3,
   "metadata": {},
   "outputs": [],
   "source": [
    "# Need sjstats for reporting robust SE\n",
    "# In R Studio you can just do install.packages(\"sjstats\"). \n",
    "# If that doesn't work try library(devtools) first.\n",
    "# library(sjstats)"
   ]
  },
  {
   "cell_type": "code",
   "execution_count": 1,
   "metadata": {},
   "outputs": [],
   "source": [
    "# Load prepared datasets (see data processing notebook)\n",
    "df_chem2 <- read.csv(\"/Users/thicn/Documents/AP Skip/AP Skip_DataFrames_0425/df_chem2.csv\")\n",
    "df_phys2 <- read.csv(\"/Users/thicn/Documents/AP Skip/AP Skip_DataFrames_0425/df_phys2.csv\")\n",
    "df_chemtakers <- read.csv(\"/Users/thicn/Documents/AP Skip/AP Skip_DataFrames_0425/df_chemtakers.csv\")\n",
    "df_phystakers <- read.csv(\"/Users/thicn/Documents/AP Skip/AP Skip_DataFrames_0425/df_phystakers.csv\")\n",
    "df_chemSkEligible <- read.csv(\"/Users/thicn/Documents/AP Skip/AP Skip_DataFrames_0425/df_chemSkEligible.csv\")\n",
    "df_physSkEligible <- read.csv(\"/Users/thicn/Documents/AP Skip/AP Skip_DataFrames_0425/df_physSkEligible.csv\")"
   ]
  },
  {
   "cell_type": "code",
   "execution_count": null,
   "metadata": {},
   "outputs": [],
   "source": [
    "# Notes: variable names all follow convention, except for hsgpa_z = scale(hsgpa)"
   ]
  },
  {
   "cell_type": "code",
   "execution_count": 2,
   "metadata": {},
   "outputs": [
    {
     "data": {
      "text/html": [
       "<ol class=list-inline>\n",
       "\t<li>'X'</li>\n",
       "\t<li>'st_id'</li>\n",
       "\t<li>'studentid'</li>\n",
       "\t<li>'eligible_to_skip'</li>\n",
       "\t<li>'tookap'</li>\n",
       "\t<li>'apyear'</li>\n",
       "\t<li>'apscore'</li>\n",
       "\t<li>'coursecode'</li>\n",
       "\t<li>'crs_name'</li>\n",
       "\t<li>'crs_catalog'</li>\n",
       "\t<li>'class_number'</li>\n",
       "\t<li>'crs_sbj'</li>\n",
       "\t<li>'level'</li>\n",
       "\t<li>'newfresh'</li>\n",
       "\t<li>'gender'</li>\n",
       "\t<li>'ethniccode'</li>\n",
       "\t<li>'ethniccode_cat'</li>\n",
       "\t<li>'ethniccode_cat2'</li>\n",
       "\t<li>'firstgen'</li>\n",
       "\t<li>'lowincomeflag'</li>\n",
       "\t<li>'ellflag'</li>\n",
       "\t<li>'hsgpa'</li>\n",
       "\t<li>'hsgpa_z'</li>\n",
       "\t<li>'bstsat1mathsr'</li>\n",
       "\t<li>'bstsat1readsr'</li>\n",
       "\t<li>'actenglsr'</li>\n",
       "\t<li>'actmathsr'</li>\n",
       "\t<li>'mathsr'</li>\n",
       "\t<li>'englsr'</li>\n",
       "\t<li>'crs_term'</li>\n",
       "\t<li>'admitdate'</li>\n",
       "\t<li>'enrl_from_cohort'</li>\n",
       "\t<li>'yearsenrolled'</li>\n",
       "\t<li>'cohort'</li>\n",
       "\t<li>'stemmajor'</li>\n",
       "\t<li>'notSkip_Eli'</li>\n",
       "\t<li>'skipped_course'</li>\n",
       "\t<li>'numgrade'</li>\n",
       "\t<li>'numgrade_2'</li>\n",
       "\t<li>'discipline'</li>\n",
       "\t<li>'numgrade_3'</li>\n",
       "</ol>\n"
      ],
      "text/latex": [
       "\\begin{enumerate*}\n",
       "\\item 'X'\n",
       "\\item 'st\\_id'\n",
       "\\item 'studentid'\n",
       "\\item 'eligible\\_to\\_skip'\n",
       "\\item 'tookap'\n",
       "\\item 'apyear'\n",
       "\\item 'apscore'\n",
       "\\item 'coursecode'\n",
       "\\item 'crs\\_name'\n",
       "\\item 'crs\\_catalog'\n",
       "\\item 'class\\_number'\n",
       "\\item 'crs\\_sbj'\n",
       "\\item 'level'\n",
       "\\item 'newfresh'\n",
       "\\item 'gender'\n",
       "\\item 'ethniccode'\n",
       "\\item 'ethniccode\\_cat'\n",
       "\\item 'ethniccode\\_cat2'\n",
       "\\item 'firstgen'\n",
       "\\item 'lowincomeflag'\n",
       "\\item 'ellflag'\n",
       "\\item 'hsgpa'\n",
       "\\item 'hsgpa\\_z'\n",
       "\\item 'bstsat1mathsr'\n",
       "\\item 'bstsat1readsr'\n",
       "\\item 'actenglsr'\n",
       "\\item 'actmathsr'\n",
       "\\item 'mathsr'\n",
       "\\item 'englsr'\n",
       "\\item 'crs\\_term'\n",
       "\\item 'admitdate'\n",
       "\\item 'enrl\\_from\\_cohort'\n",
       "\\item 'yearsenrolled'\n",
       "\\item 'cohort'\n",
       "\\item 'stemmajor'\n",
       "\\item 'notSkip\\_Eli'\n",
       "\\item 'skipped\\_course'\n",
       "\\item 'numgrade'\n",
       "\\item 'numgrade\\_2'\n",
       "\\item 'discipline'\n",
       "\\item 'numgrade\\_3'\n",
       "\\end{enumerate*}\n"
      ],
      "text/markdown": [
       "1. 'X'\n",
       "2. 'st_id'\n",
       "3. 'studentid'\n",
       "4. 'eligible_to_skip'\n",
       "5. 'tookap'\n",
       "6. 'apyear'\n",
       "7. 'apscore'\n",
       "8. 'coursecode'\n",
       "9. 'crs_name'\n",
       "10. 'crs_catalog'\n",
       "11. 'class_number'\n",
       "12. 'crs_sbj'\n",
       "13. 'level'\n",
       "14. 'newfresh'\n",
       "15. 'gender'\n",
       "16. 'ethniccode'\n",
       "17. 'ethniccode_cat'\n",
       "18. 'ethniccode_cat2'\n",
       "19. 'firstgen'\n",
       "20. 'lowincomeflag'\n",
       "21. 'ellflag'\n",
       "22. 'hsgpa'\n",
       "23. 'hsgpa_z'\n",
       "24. 'bstsat1mathsr'\n",
       "25. 'bstsat1readsr'\n",
       "26. 'actenglsr'\n",
       "27. 'actmathsr'\n",
       "28. 'mathsr'\n",
       "29. 'englsr'\n",
       "30. 'crs_term'\n",
       "31. 'admitdate'\n",
       "32. 'enrl_from_cohort'\n",
       "33. 'yearsenrolled'\n",
       "34. 'cohort'\n",
       "35. 'stemmajor'\n",
       "36. 'notSkip_Eli'\n",
       "37. 'skipped_course'\n",
       "38. 'numgrade'\n",
       "39. 'numgrade_2'\n",
       "40. 'discipline'\n",
       "41. 'numgrade_3'\n",
       "\n",
       "\n"
      ],
      "text/plain": [
       " [1] \"X\"                \"st_id\"            \"studentid\"        \"eligible_to_skip\"\n",
       " [5] \"tookap\"           \"apyear\"           \"apscore\"          \"coursecode\"      \n",
       " [9] \"crs_name\"         \"crs_catalog\"      \"class_number\"     \"crs_sbj\"         \n",
       "[13] \"level\"            \"newfresh\"         \"gender\"           \"ethniccode\"      \n",
       "[17] \"ethniccode_cat\"   \"ethniccode_cat2\"  \"firstgen\"         \"lowincomeflag\"   \n",
       "[21] \"ellflag\"          \"hsgpa\"            \"hsgpa_z\"          \"bstsat1mathsr\"   \n",
       "[25] \"bstsat1readsr\"    \"actenglsr\"        \"actmathsr\"        \"mathsr\"          \n",
       "[29] \"englsr\"           \"crs_term\"         \"admitdate\"        \"enrl_from_cohort\"\n",
       "[33] \"yearsenrolled\"    \"cohort\"           \"stemmajor\"        \"notSkip_Eli\"     \n",
       "[37] \"skipped_course\"   \"numgrade\"         \"numgrade_2\"       \"discipline\"      \n",
       "[41] \"numgrade_3\"      "
      ]
     },
     "metadata": {},
     "output_type": "display_data"
    },
    {
     "data": {
      "text/html": [
       "<table>\n",
       "<thead><tr><th scope=col>X</th><th scope=col>st_id</th><th scope=col>studentid</th><th scope=col>eligible_to_skip</th><th scope=col>tookap</th><th scope=col>apyear</th><th scope=col>apscore</th><th scope=col>coursecode</th><th scope=col>crs_name</th><th scope=col>crs_catalog</th><th scope=col>...</th><th scope=col>enrl_from_cohort</th><th scope=col>yearsenrolled</th><th scope=col>cohort</th><th scope=col>stemmajor</th><th scope=col>notSkip_Eli</th><th scope=col>skipped_course</th><th scope=col>numgrade</th><th scope=col>numgrade_2</th><th scope=col>discipline</th><th scope=col>numgrade_3</th></tr></thead>\n",
       "<tbody>\n",
       "\t<tr><td>2                </td><td>25               </td><td>10006293         </td><td>0                </td><td>0                </td><td>0                </td><td>0                </td><td>40240            </td><td>GENERAL CHEMISTRY</td><td>4024020153CHEM   </td><td>...              </td><td>2                </td><td>0.5              </td><td>2014             </td><td>2                </td><td>0                </td><td>0                </td><td> 2               </td><td>2.3              </td><td>CHEM             </td><td>NA               </td></tr>\n",
       "\t<tr><td>6                </td><td>51               </td><td>10031543         </td><td>0                </td><td>0                </td><td>0                </td><td>0                </td><td>40200            </td><td>GENERAL CHEMISTRY</td><td>4020020173CHEM   </td><td>...              </td><td>2                </td><td>0.5              </td><td>2016             </td><td>2                </td><td>0                </td><td>0                </td><td> 2               </td><td>3.3              </td><td>CHEM             </td><td>NA               </td></tr>\n",
       "\t<tr><td>7                </td><td>60               </td><td>10041236         </td><td>0                </td><td>0                </td><td>0                </td><td>0                </td><td>40220            </td><td>GENERAL CHEMISTRY</td><td>4022020133CHEM   </td><td>...              </td><td>2                </td><td>0.5              </td><td>2013             </td><td>2                </td><td>0                </td><td>0                </td><td>NA               </td><td>1.7              </td><td>CHEM             </td><td>NA               </td></tr>\n",
       "</tbody>\n",
       "</table>\n"
      ],
      "text/latex": [
       "\\begin{tabular}{r|lllllllllllllllllllllllllllllllllllllllll}\n",
       " X & st\\_id & studentid & eligible\\_to\\_skip & tookap & apyear & apscore & coursecode & crs\\_name & crs\\_catalog & ... & enrl\\_from\\_cohort & yearsenrolled & cohort & stemmajor & notSkip\\_Eli & skipped\\_course & numgrade & numgrade\\_2 & discipline & numgrade\\_3\\\\\n",
       "\\hline\n",
       "\t 2                 & 25                & 10006293          & 0                 & 0                 & 0                 & 0                 & 40240             & GENERAL CHEMISTRY & 4024020153CHEM    & ...               & 2                 & 0.5               & 2014              & 2                 & 0                 & 0                 &  2                & 2.3               & CHEM              & NA               \\\\\n",
       "\t 6                 & 51                & 10031543          & 0                 & 0                 & 0                 & 0                 & 40200             & GENERAL CHEMISTRY & 4020020173CHEM    & ...               & 2                 & 0.5               & 2016              & 2                 & 0                 & 0                 &  2                & 3.3               & CHEM              & NA               \\\\\n",
       "\t 7                 & 60                & 10041236          & 0                 & 0                 & 0                 & 0                 & 40220             & GENERAL CHEMISTRY & 4022020133CHEM    & ...               & 2                 & 0.5               & 2013              & 2                 & 0                 & 0                 & NA                & 1.7               & CHEM              & NA               \\\\\n",
       "\\end{tabular}\n"
      ],
      "text/markdown": [
       "\n",
       "| X | st_id | studentid | eligible_to_skip | tookap | apyear | apscore | coursecode | crs_name | crs_catalog | ... | enrl_from_cohort | yearsenrolled | cohort | stemmajor | notSkip_Eli | skipped_course | numgrade | numgrade_2 | discipline | numgrade_3 |\n",
       "|---|---|---|---|---|---|---|---|---|---|---|---|---|---|---|---|---|---|---|---|---|\n",
       "| 2                 | 25                | 10006293          | 0                 | 0                 | 0                 | 0                 | 40240             | GENERAL CHEMISTRY | 4024020153CHEM    | ...               | 2                 | 0.5               | 2014              | 2                 | 0                 | 0                 |  2                | 2.3               | CHEM              | NA                |\n",
       "| 6                 | 51                | 10031543          | 0                 | 0                 | 0                 | 0                 | 40200             | GENERAL CHEMISTRY | 4020020173CHEM    | ...               | 2                 | 0.5               | 2016              | 2                 | 0                 | 0                 |  2                | 3.3               | CHEM              | NA                |\n",
       "| 7                 | 60                | 10041236          | 0                 | 0                 | 0                 | 0                 | 40220             | GENERAL CHEMISTRY | 4022020133CHEM    | ...               | 2                 | 0.5               | 2013              | 2                 | 0                 | 0                 | NA                | 1.7               | CHEM              | NA                |\n",
       "\n"
      ],
      "text/plain": [
       "  X st_id studentid eligible_to_skip tookap apyear apscore coursecode\n",
       "1 2 25    10006293  0                0      0      0       40240     \n",
       "2 6 51    10031543  0                0      0      0       40200     \n",
       "3 7 60    10041236  0                0      0      0       40220     \n",
       "  crs_name          crs_catalog    ... enrl_from_cohort yearsenrolled cohort\n",
       "1 GENERAL CHEMISTRY 4024020153CHEM ... 2                0.5           2014  \n",
       "2 GENERAL CHEMISTRY 4020020173CHEM ... 2                0.5           2016  \n",
       "3 GENERAL CHEMISTRY 4022020133CHEM ... 2                0.5           2013  \n",
       "  stemmajor notSkip_Eli skipped_course numgrade numgrade_2 discipline\n",
       "1 2         0           0               2       2.3        CHEM      \n",
       "2 2         0           0               2       3.3        CHEM      \n",
       "3 2         0           0              NA       1.7        CHEM      \n",
       "  numgrade_3\n",
       "1 NA        \n",
       "2 NA        \n",
       "3 NA        "
      ]
     },
     "metadata": {},
     "output_type": "display_data"
    }
   ],
   "source": [
    "# Check to see files are formatted properly\n",
    "names(df_chem2)\n",
    "head(df_chem2, 3)"
   ]
  },
  {
   "cell_type": "code",
   "execution_count": 5,
   "metadata": {},
   "outputs": [],
   "source": [
    "# Recode reference level\n",
    "df_chem2$ethniccode_cat <- factor(df_chem2$ethniccode_cat)\n",
    "df_chem2$ethniccode_cat <- relevel(df_chem2$ethniccode_cat, ref=\"1\")\n",
    "\n",
    "df_chemtakers$ethniccode_cat <- factor(df_chemtakers$ethniccode_cat)\n",
    "df_chemtakers$ethniccode_cat <- relevel(df_chemtakers$ethniccode_cat, ref=\"1\")\n",
    "\n",
    "df_chemSkEligible$ethniccode_cat <- factor(df_chemSkEligible$ethniccode_cat)\n",
    "df_chemSkEligible$ethniccode_cat <- relevel(df_chemSkEligible$ethniccode_cat, ref=\"1\")\n",
    "\n",
    "df_phys2$ethniccode_cat <- factor(df_phys2$ethniccode_cat)\n",
    "df_phys2$ethniccode_cat <- relevel(df_phys2$ethniccode_cat, ref=\"1\")\n",
    "\n",
    "df_phystakers$ethniccode_cat <- factor(df_phystakers$ethniccode_cat)\n",
    "df_phystakers$ethniccode_cat <- relevel(df_phystakers$ethniccode_cat, ref=\"1\")\n",
    "\n",
    "df_physSkEligible$ethniccode_cat <- factor(df_physSkEligible$ethniccode_cat)\n",
    "df_physSkEligible$ethniccode_cat <- relevel(df_physSkEligible$ethniccode_cat, ref=\"1\")\n"
   ]
  },
  {
   "cell_type": "code",
   "execution_count": 6,
   "metadata": {},
   "outputs": [
    {
     "data": {
      "text/plain": [
       "\n",
       "Call:\n",
       "glm(formula = tookap ~ factor(firstgen) + factor(lowincomeflag) + \n",
       "    factor(gender) + factor(ethniccode_cat) + hsgpa_z + scale(mathsr) + \n",
       "    scale(englsr) + factor(cohort), family = binomial(link = \"logit\"), \n",
       "    data = df_chem2)\n",
       "\n",
       "Deviance Residuals: \n",
       "     Min        1Q    Median        3Q       Max  \n",
       "-1.47018  -0.62457  -0.00012  -0.00006   2.89417  \n",
       "\n",
       "Coefficients:\n",
       "                          Estimate Std. Error z value Pr(>|z|)    \n",
       "(Intercept)              -19.96069  188.31412  -0.106 0.915585    \n",
       "factor(firstgen)1          0.07103    0.08126   0.874 0.382023    \n",
       "factor(lowincomeflag)2     0.22878    0.07958   2.875 0.004044 ** \n",
       "factor(gender)1           -0.08900    0.07576  -1.175 0.240099    \n",
       "factor(ethniccode_cat)0    0.11017    0.12174   0.905 0.365464    \n",
       "factor(ethniccode_cat)2    0.33912    0.09075   3.737 0.000186 ***\n",
       "hsgpa_z                    0.26772    0.04837   5.535 3.12e-08 ***\n",
       "scale(mathsr)              0.51882    0.04696  11.047  < 2e-16 ***\n",
       "scale(englsr)             -0.11756    0.04323  -2.719 0.006547 ** \n",
       "factor(cohort)2014        17.28661  188.31411   0.092 0.926860    \n",
       "factor(cohort)2015        18.58446  188.31410   0.099 0.921386    \n",
       "factor(cohort)2016        18.62848  188.31410   0.099 0.921200    \n",
       "factor(cohort)2017        -0.07444 4783.67900   0.000 0.999988    \n",
       "---\n",
       "Signif. codes:  0 ‘***’ 0.001 ‘**’ 0.01 ‘*’ 0.05 ‘.’ 0.1 ‘ ’ 1\n",
       "\n",
       "(Dispersion parameter for binomial family taken to be 1)\n",
       "\n",
       "    Null deviance: 6560.7  on 8100  degrees of freedom\n",
       "Residual deviance: 4847.1  on 8088  degrees of freedom\n",
       "  (165 observations deleted due to missingness)\n",
       "AIC: 4873.1\n",
       "\n",
       "Number of Fisher Scoring iterations: 18\n"
      ]
     },
     "metadata": {},
     "output_type": "display_data"
    }
   ],
   "source": [
    "# RQ1. 1a: Took AP, full sample\n",
    "tookchem <- glm(tookap~factor(firstgen) + factor(lowincomeflag) + factor(gender) + factor(ethniccode_cat) +\n",
    "                  hsgpa_z + scale(mathsr) + scale(englsr) + factor(cohort), data=df_chem2, binomial(link=\"logit\"))\n",
    "summary(tookchem)\n",
    "#robustse(tookchem, coef=\"odd.ratio\") #robustse is a command from sjstats package"
   ]
  },
  {
   "cell_type": "code",
   "execution_count": 7,
   "metadata": {},
   "outputs": [
    {
     "data": {
      "text/plain": [
       "\n",
       "Call:\n",
       "lm(formula = scale(apscore) ~ factor(firstgen) + factor(lowincomeflag) + \n",
       "    factor(gender) + ethniccode_cat + hsgpa_z + scale(mathsr) + \n",
       "    scale(englsr) + factor(cohort), data = df_chemtakers)\n",
       "\n",
       "Residuals:\n",
       "    Min      1Q  Median      3Q     Max \n",
       "-2.7387 -0.5230  0.0665  0.5702  2.7668 \n",
       "\n",
       "Coefficients:\n",
       "                       Estimate Std. Error t value Pr(>|t|)    \n",
       "(Intercept)             0.07172    0.10494   0.683   0.4945    \n",
       "factor(firstgen)1      -0.07192    0.06148  -1.170   0.2423    \n",
       "factor(lowincomeflag)2  0.04448    0.05892   0.755   0.4504    \n",
       "factor(gender)1        -0.08388    0.05622  -1.492   0.1360    \n",
       "ethniccode_cat0        -0.04771    0.09439  -0.505   0.6133    \n",
       "ethniccode_cat2        -0.02726    0.07176  -0.380   0.7042    \n",
       "hsgpa_z                 0.07689    0.03798   2.025   0.0431 *  \n",
       "scale(mathsr)           0.30050    0.03475   8.647  < 2e-16 ***\n",
       "scale(englsr)           0.18981    0.03241   5.856 6.21e-09 ***\n",
       "factor(cohort)2015     -0.07862    0.08394  -0.937   0.3492    \n",
       "factor(cohort)2016      0.04928    0.08248   0.598   0.5503    \n",
       "---\n",
       "Signif. codes:  0 ‘***’ 0.001 ‘**’ 0.01 ‘*’ 0.05 ‘.’ 0.1 ‘ ’ 1\n",
       "\n",
       "Residual standard error: 0.8874 on 1123 degrees of freedom\n",
       "  (29 observations deleted due to missingness)\n",
       "Multiple R-squared:  0.2157,\tAdjusted R-squared:  0.2087 \n",
       "F-statistic: 30.88 on 10 and 1123 DF,  p-value: < 2.2e-16\n"
      ]
     },
     "metadata": {},
     "output_type": "display_data"
    }
   ],
   "source": [
    "# 1b. AP score for those who took AP\n",
    "# Logit model\n",
    "chemsr <- lm(scale(apscore)~factor(firstgen) + factor(lowincomeflag) + factor(gender) + ethniccode_cat +\n",
    "               hsgpa_z + scale(mathsr) + scale(englsr) + factor(cohort), data = df_chemtakers)\n",
    "summary(chemsr)\n",
    "#std_beta(chemsr) # from sjstats package"
   ]
  },
  {
   "cell_type": "code",
   "execution_count": 8,
   "metadata": {},
   "outputs": [
    {
     "data": {
      "text/plain": [
       "\n",
       "Call:\n",
       "glm(formula = eligible_to_skip ~ factor(firstgen) + factor(lowincomeflag) + \n",
       "    factor(gender) + factor(ethniccode_cat) + hsgpa_z + scale(mathsr) + \n",
       "    scale(englsr) + factor(cohort), family = binomial(link = \"logit\"), \n",
       "    data = df_chemtakers)\n",
       "\n",
       "Deviance Residuals: \n",
       "    Min       1Q   Median       3Q      Max  \n",
       "-1.7758  -0.5334  -0.2982  -0.1563   2.9584  \n",
       "\n",
       "Coefficients:\n",
       "                        Estimate Std. Error z value Pr(>|z|)    \n",
       "(Intercept)              -2.2060     0.4398  -5.016 5.27e-07 ***\n",
       "factor(firstgen)1        -0.5179     0.2423  -2.137  0.03257 *  \n",
       "factor(lowincomeflag)2    0.3035     0.2258   1.344  0.17901    \n",
       "factor(gender)1          -0.6479     0.1976  -3.279  0.00104 ** \n",
       "factor(ethniccode_cat)0  -0.1701     0.4112  -0.414  0.67910    \n",
       "factor(ethniccode_cat)2   0.3397     0.3411   0.996  0.31930    \n",
       "hsgpa_z                   0.4687     0.1570   2.985  0.00283 ** \n",
       "scale(mathsr)             0.8763     0.1392   6.296 3.05e-10 ***\n",
       "scale(englsr)             0.5361     0.1146   4.676 2.93e-06 ***\n",
       "factor(cohort)2015        0.1183     0.2946   0.402  0.68802    \n",
       "factor(cohort)2016       -0.4834     0.2942  -1.643  0.10039    \n",
       "---\n",
       "Signif. codes:  0 ‘***’ 0.001 ‘**’ 0.01 ‘*’ 0.05 ‘.’ 0.1 ‘ ’ 1\n",
       "\n",
       "(Dispersion parameter for binomial family taken to be 1)\n",
       "\n",
       "    Null deviance: 915.69  on 1133  degrees of freedom\n",
       "Residual deviance: 713.72  on 1123  degrees of freedom\n",
       "  (29 observations deleted due to missingness)\n",
       "AIC: 735.72\n",
       "\n",
       "Number of Fisher Scoring iterations: 6\n"
      ]
     },
     "metadata": {},
     "output_type": "display_data"
    }
   ],
   "source": [
    "# 1c.i. Eligible out of those who took AP\n",
    "skipchem <- glm(eligible_to_skip~factor(firstgen) + factor(lowincomeflag) + factor(gender) + factor(ethniccode_cat) +\n",
    "               hsgpa_z + scale(mathsr) + scale(englsr) + factor(cohort), \n",
    "                data=df_chemtakers, \n",
    "                binomial(link=\"logit\"))\n",
    "summary(skipchem)\n",
    "#robustse(skipchem, coef=\"odd.ratio\")"
   ]
  },
  {
   "cell_type": "code",
   "execution_count": 9,
   "metadata": {},
   "outputs": [
    {
     "data": {
      "text/plain": [
       "\n",
       "Call:\n",
       "glm(formula = eligible_to_skip ~ factor(firstgen) + factor(lowincomeflag) + \n",
       "    factor(gender) + factor(ethniccode_cat) + hsgpa_z + scale(mathsr) + \n",
       "    scale(englsr) + factor(cohort), family = binomial(link = \"logit\"), \n",
       "    data = df_chem2)\n",
       "\n",
       "Deviance Residuals: \n",
       "    Min       1Q   Median       3Q      Max  \n",
       "-1.2278  -0.1561  -0.0532   0.0000   3.5010  \n",
       "\n",
       "Coefficients:\n",
       "                          Estimate Std. Error z value Pr(>|z|)    \n",
       "(Intercept)             -2.244e+01  4.668e+02  -0.048  0.96165    \n",
       "factor(firstgen)1       -4.391e-01  2.188e-01  -2.007  0.04473 *  \n",
       "factor(lowincomeflag)2   3.819e-01  2.028e-01   1.883  0.05970 .  \n",
       "factor(gender)1         -5.002e-01  1.764e-01  -2.835  0.00458 ** \n",
       "factor(ethniccode_cat)0  5.318e-02  3.771e-01   0.141  0.88785    \n",
       "factor(ethniccode_cat)2  6.765e-01  3.129e-01   2.162  0.03060 *  \n",
       "hsgpa_z                  5.469e-01  1.347e-01   4.060 4.91e-05 ***\n",
       "scale(mathsr)            1.114e+00  1.197e-01   9.309  < 2e-16 ***\n",
       "scale(englsr)            4.113e-01  1.009e-01   4.076 4.58e-05 ***\n",
       "factor(cohort)2014       1.690e+01  4.668e+02   0.036  0.97112    \n",
       "factor(cohort)2015       1.802e+01  4.668e+02   0.039  0.96920    \n",
       "factor(cohort)2016       1.762e+01  4.668e+02   0.038  0.96989    \n",
       "factor(cohort)2017      -2.644e-01  1.194e+04   0.000  0.99998    \n",
       "---\n",
       "Signif. codes:  0 ‘***’ 0.001 ‘**’ 0.01 ‘*’ 0.05 ‘.’ 0.1 ‘ ’ 1\n",
       "\n",
       "(Dispersion parameter for binomial family taken to be 1)\n",
       "\n",
       "    Null deviance: 1557.0  on 8100  degrees of freedom\n",
       "Residual deviance: 1067.5  on 8088  degrees of freedom\n",
       "  (165 observations deleted due to missingness)\n",
       "AIC: 1093.5\n",
       "\n",
       "Number of Fisher Scoring iterations: 20\n"
      ]
     },
     "metadata": {},
     "output_type": "display_data"
    }
   ],
   "source": [
    "# 1c.ii. Eligible out of full sample\n",
    "skipchem2 <- glm(eligible_to_skip~factor(firstgen) + factor(lowincomeflag) + factor(gender) + factor(ethniccode_cat) +\n",
    "               hsgpa_z + scale(mathsr) + scale(englsr) + factor(cohort), \n",
    "                data=df_chem2, \n",
    "                binomial(link=\"logit\"))\n",
    "summary(skipchem2)\n",
    "#robustse(skipchem2, coef=\"odd.ratio\")"
   ]
  },
  {
   "cell_type": "code",
   "execution_count": 10,
   "metadata": {},
   "outputs": [
    {
     "data": {
      "text/plain": [
       "\n",
       "Call:\n",
       "glm(formula = skipped_course ~ factor(firstgen) + factor(lowincomeflag) + \n",
       "    factor(gender) + factor(ethniccode_cat) + hsgpa_z + scale(mathsr) + \n",
       "    scale(englsr) + factor(cohort), family = binomial(link = \"logit\"), \n",
       "    data = df_chemSkEligible)\n",
       "\n",
       "Deviance Residuals: \n",
       "     Min        1Q    Median        3Q       Max  \n",
       "-2.08724   0.00002   0.00004   0.00014   1.47435  \n",
       "\n",
       "Coefficients:\n",
       "                         Estimate Std. Error z value Pr(>|z|)   \n",
       "(Intercept)               22.3083  3527.9451   0.006  0.99495   \n",
       "factor(firstgen)1         -1.1564     0.6763  -1.710  0.08730 . \n",
       "factor(lowincomeflag)2     0.1348     0.7228   0.186  0.85210   \n",
       "factor(gender)1            0.1917     0.6048   0.317  0.75124   \n",
       "factor(ethniccode_cat)0   -1.0182     1.2239  -0.832  0.40547   \n",
       "factor(ethniccode_cat)2   -0.6162     1.0107  -0.610  0.54212   \n",
       "hsgpa_z                   -0.6998     0.5723  -1.223  0.22142   \n",
       "scale(mathsr)              0.9439     0.3640   2.593  0.00951 **\n",
       "scale(englsr)             -0.5024     0.3570  -1.407  0.15940   \n",
       "factor(cohort)2015       -20.5703  3527.9449  -0.006  0.99535   \n",
       "factor(cohort)2016        -0.2691  4050.6513   0.000  0.99995   \n",
       "---\n",
       "Signif. codes:  0 ‘***’ 0.001 ‘**’ 0.01 ‘*’ 0.05 ‘.’ 0.1 ‘ ’ 1\n",
       "\n",
       "(Dispersion parameter for binomial family taken to be 1)\n",
       "\n",
       "    Null deviance: 147.618  on 157  degrees of freedom\n",
       "Residual deviance:  75.738  on 147  degrees of freedom\n",
       "  (4 observations deleted due to missingness)\n",
       "AIC: 97.738\n",
       "\n",
       "Number of Fisher Scoring iterations: 19\n"
      ]
     },
     "metadata": {},
     "output_type": "display_data"
    }
   ],
   "source": [
    "# 2a. Took AP AND skip eligble and actually skip\n",
    "skipreal <- glm(skipped_course~factor(firstgen) + factor(lowincomeflag) + factor(gender) + factor(ethniccode_cat) +\n",
    "               hsgpa_z + scale(mathsr) + scale(englsr) + factor(cohort), \n",
    "                data=df_chemSkEligible, \n",
    "                binomial(link=\"logit\"))\n",
    "summary(skipreal)\n",
    "#robustse(skipreal, coef=\"odd.ratio\")"
   ]
  },
  {
   "cell_type": "code",
   "execution_count": 11,
   "metadata": {},
   "outputs": [
    {
     "data": {
      "text/plain": [
       "\n",
       "Call:\n",
       "lm(formula = scale(numgrade_2) ~ skipped_course + apscore + factor(firstgen) + \n",
       "    factor(lowincomeflag) + factor(gender) + factor(ethniccode_cat) + \n",
       "    hsgpa_z + scale(mathsr) + scale(englsr) + factor(crs_term), \n",
       "    data = df_chemSkEligible)\n",
       "\n",
       "Residuals:\n",
       "    Min      1Q  Median      3Q     Max \n",
       "-4.0981 -0.2886  0.1573  0.5435  1.5199 \n",
       "\n",
       "Coefficients:\n",
       "                         Estimate Std. Error t value Pr(>|t|)   \n",
       "(Intercept)             -2.101567   0.979303  -2.146  0.03354 * \n",
       "skipped_course           0.514690   0.247614   2.079  0.03942 * \n",
       "apscore                  0.452739   0.205126   2.207  0.02888 * \n",
       "factor(firstgen)1       -0.029932   0.219337  -0.136  0.89164   \n",
       "factor(lowincomeflag)2  -0.302076   0.198466  -1.522  0.13017   \n",
       "factor(gender)1         -0.130259   0.159853  -0.815  0.41648   \n",
       "factor(ethniccode_cat)0  0.076429   0.339265   0.225  0.82208   \n",
       "factor(ethniccode_cat)2 -0.139876   0.301827  -0.463  0.64375   \n",
       "hsgpa_z                  0.356766   0.130120   2.742  0.00688 **\n",
       "scale(mathsr)            0.207859   0.093150   2.231  0.02719 * \n",
       "scale(englsr)           -0.001139   0.091966  -0.012  0.99014   \n",
       "factor(crs_term)2016    -0.092104   0.252340  -0.365  0.71564   \n",
       "factor(crs_term)2017    -0.331237   0.236791  -1.399  0.16399   \n",
       "---\n",
       "Signif. codes:  0 ‘***’ 0.001 ‘**’ 0.01 ‘*’ 0.05 ‘.’ 0.1 ‘ ’ 1\n",
       "\n",
       "Residual standard error: 0.9308 on 145 degrees of freedom\n",
       "  (4 observations deleted due to missingness)\n",
       "Multiple R-squared:  0.2163,\tAdjusted R-squared:  0.1515 \n",
       "F-statistic: 3.335 on 12 and 145 DF,  p-value: 0.0002664\n"
      ]
     },
     "metadata": {},
     "output_type": "display_data"
    }
   ],
   "source": [
    "# 2b. Took AP, include AP score. Skip eligible\n",
    "chemsr5 <- lm(scale(numgrade_2)~skipped_course + apscore +\n",
    "              factor(firstgen) + factor(lowincomeflag) + factor(gender) + factor(ethniccode_cat) + \n",
    "              hsgpa_z + scale(mathsr) + scale(englsr) + factor(crs_term), data=df_chemSkEligible)\n",
    "summary(chemsr5)"
   ]
  },
  {
   "cell_type": "code",
   "execution_count": 12,
   "metadata": {},
   "outputs": [
    {
     "data": {
      "text/plain": [
       "\n",
       "Call:\n",
       "lm(formula = scale(numgrade_2) ~ skipped_course + factor(firstgen) + \n",
       "    factor(lowincomeflag) + factor(gender) + factor(ethniccode_cat) + \n",
       "    hsgpa_z + scale(mathsr) + scale(englsr) + factor(crs_term), \n",
       "    data = subset(df_chemSkEligible, apscore == 4))\n",
       "\n",
       "Residuals:\n",
       "    Min      1Q  Median      3Q     Max \n",
       "-3.7859 -0.2780  0.1614  0.5072  1.6983 \n",
       "\n",
       "Coefficients:\n",
       "                          Estimate Std. Error t value Pr(>|t|)   \n",
       "(Intercept)             -0.1759856  0.4887514  -0.360  0.71945   \n",
       "skipped_course           0.5897290  0.2811564   2.098  0.03812 * \n",
       "factor(firstgen)1        0.0304303  0.2418658   0.126  0.90010   \n",
       "factor(lowincomeflag)2  -0.3766302  0.2297359  -1.639  0.10384   \n",
       "factor(gender)1         -0.1677251  0.1832701  -0.915  0.36200   \n",
       "factor(ethniccode_cat)0 -0.0321786  0.3506459  -0.092  0.92704   \n",
       "factor(ethniccode_cat)2 -0.2114733  0.3070459  -0.689  0.49237   \n",
       "hsgpa_z                  0.4712223  0.1500094   3.141  0.00213 **\n",
       "scale(mathsr)            0.2221360  0.0991602   2.240  0.02698 * \n",
       "scale(englsr)           -0.0009637  0.1015295  -0.009  0.99244   \n",
       "factor(crs_term)2016    -0.1607093  0.2683057  -0.599  0.55036   \n",
       "factor(crs_term)2017    -0.4163061  0.2539242  -1.639  0.10382   \n",
       "---\n",
       "Signif. codes:  0 ‘***’ 0.001 ‘**’ 0.01 ‘*’ 0.05 ‘.’ 0.1 ‘ ’ 1\n",
       "\n",
       "Residual standard error: 0.9344 on 116 degrees of freedom\n",
       "  (4 observations deleted due to missingness)\n",
       "Multiple R-squared:  0.2222,\tAdjusted R-squared:  0.1484 \n",
       "F-statistic: 3.012 on 11 and 116 DF,  p-value: 0.001451\n"
      ]
     },
     "metadata": {},
     "output_type": "display_data"
    }
   ],
   "source": [
    "#2b.i. Took AP, Skip eligible, score of 4\n",
    "chemsr5ii <- lm(scale(numgrade_2)~skipped_course +\n",
    "              factor(firstgen) + factor(lowincomeflag) + factor(gender) + factor(ethniccode_cat) + \n",
    "              hsgpa_z + scale(mathsr) + scale(englsr) + factor(crs_term), data=subset(df_chemSkEligible, apscore==4))\n",
    "summary(chemsr5ii)"
   ]
  },
  {
   "cell_type": "code",
   "execution_count": 13,
   "metadata": {},
   "outputs": [
    {
     "data": {
      "text/plain": [
       "\n",
       "Call:\n",
       "lm(formula = scale(numgrade_2) ~ skipped_course + factor(firstgen) + \n",
       "    factor(lowincomeflag) + factor(gender) + factor(ethniccode_cat) + \n",
       "    hsgpa_z + scale(mathsr) + scale(englsr) + factor(crs_term), \n",
       "    data = subset(df_chemSkEligible, apscore == 5))\n",
       "\n",
       "Residuals:\n",
       "    Min      1Q  Median      3Q     Max \n",
       "-1.5778 -0.4531  0.0100  0.5385  1.6266 \n",
       "\n",
       "Coefficients:\n",
       "                        Estimate Std. Error t value Pr(>|t|)  \n",
       "(Intercept)              1.54844    1.49178   1.038   0.3123  \n",
       "skipped_course          -0.53069    0.56357  -0.942   0.3582  \n",
       "factor(firstgen)1        0.07223    0.58568   0.123   0.9031  \n",
       "factor(lowincomeflag)2   0.54819    0.41551   1.319   0.2027  \n",
       "factor(gender)1         -0.94751    0.36523  -2.594   0.0178 *\n",
       "factor(ethniccode_cat)2 -1.10817    0.78303  -1.415   0.1732  \n",
       "hsgpa_z                 -0.47040    0.32093  -1.466   0.1591  \n",
       "scale(mathsr)            0.17895    0.25749   0.695   0.4955  \n",
       "scale(englsr)           -0.01716    0.23288  -0.074   0.9420  \n",
       "factor(crs_term)2016     0.05771    0.90113   0.064   0.9496  \n",
       "factor(crs_term)2017     1.10935    0.81361   1.363   0.1887  \n",
       "---\n",
       "Signif. codes:  0 ‘***’ 0.001 ‘**’ 0.01 ‘*’ 0.05 ‘.’ 0.1 ‘ ’ 1\n",
       "\n",
       "Residual standard error: 0.8757 on 19 degrees of freedom\n",
       "Multiple R-squared:  0.4976,\tAdjusted R-squared:  0.2332 \n",
       "F-statistic: 1.882 on 10 and 19 DF,  p-value: 0.1131\n"
      ]
     },
     "metadata": {},
     "output_type": "display_data"
    }
   ],
   "source": [
    "#2b.i. Took AP, Skip eligible, score of 5\n",
    "chemsr5iii <- lm(scale(numgrade_2)~skipped_course +\n",
    "              factor(firstgen) + factor(lowincomeflag) + factor(gender) + factor(ethniccode_cat) + \n",
    "              hsgpa_z + scale(mathsr) + scale(englsr) + factor(crs_term), data=subset(df_chemSkEligible, apscore==5))\n",
    "summary(chemsr5iii) # small sample size, probably not accurate"
   ]
  },
  {
   "cell_type": "code",
   "execution_count": 14,
   "metadata": {},
   "outputs": [
    {
     "data": {
      "text/plain": [
       "\n",
       "Call:\n",
       "lm(formula = scale(numgrade_2) ~ skipped_course + apscore + factor(firstgen) + \n",
       "    factor(lowincomeflag) + factor(gender) + factor(ethniccode_cat) + \n",
       "    hsgpa_z + scale(mathsr) + scale(englsr) + factor(crs_term), \n",
       "    data = df_chem2)\n",
       "\n",
       "Residuals:\n",
       "    Min      1Q  Median      3Q     Max \n",
       "-3.2625 -0.4757  0.1017  0.6132  2.4950 \n",
       "\n",
       "Coefficients:\n",
       "                         Estimate Std. Error t value Pr(>|t|)    \n",
       "(Intercept)             -0.053852   0.033420  -1.611 0.107136    \n",
       "skipped_course          -0.001448   0.094028  -0.015 0.987717    \n",
       "apscore                  0.097598   0.014201   6.873 6.77e-12 ***\n",
       "factor(firstgen)1       -0.023161   0.021953  -1.055 0.291435    \n",
       "factor(lowincomeflag)2   0.001759   0.021584   0.082 0.935032    \n",
       "factor(gender)1         -0.103704   0.020911  -4.959 7.22e-07 ***\n",
       "factor(ethniccode_cat)0  0.175205   0.032173   5.446 5.31e-08 ***\n",
       "factor(ethniccode_cat)2  0.063235   0.023855   2.651 0.008046 ** \n",
       "hsgpa_z                  0.243229   0.011985  20.294  < 2e-16 ***\n",
       "scale(mathsr)            0.289332   0.012599  22.965  < 2e-16 ***\n",
       "scale(englsr)            0.022998   0.011907   1.931 0.053460 .  \n",
       "factor(crs_term)2014    -0.106699   0.032080  -3.326 0.000885 ***\n",
       "factor(crs_term)2015    -0.215688   0.031803  -6.782 1.27e-11 ***\n",
       "factor(crs_term)2016     0.030456   0.031886   0.955 0.339540    \n",
       "factor(crs_term)2017     0.233661   0.031316   7.461 9.45e-14 ***\n",
       "---\n",
       "Signif. codes:  0 ‘***’ 0.001 ‘**’ 0.01 ‘*’ 0.05 ‘.’ 0.1 ‘ ’ 1\n",
       "\n",
       "Residual standard error: 0.8739 on 8086 degrees of freedom\n",
       "  (165 observations deleted due to missingness)\n",
       "Multiple R-squared:  0.2355,\tAdjusted R-squared:  0.2341 \n",
       "F-statistic: 177.9 on 14 and 8086 DF,  p-value: < 2.2e-16\n"
      ]
     },
     "metadata": {},
     "output_type": "display_data"
    }
   ],
   "source": [
    "# 2c. Full sample, include AP score\n",
    "chemsr6 <- lm(scale(numgrade_2)~skipped_course + apscore +\n",
    "              factor(firstgen) + factor(lowincomeflag) + factor(gender) + factor(ethniccode_cat) + \n",
    "              hsgpa_z + scale(mathsr) + scale(englsr) + factor(crs_term), data=df_chem2)\n",
    "summary(chemsr6)"
   ]
  },
  {
   "cell_type": "code",
   "execution_count": 15,
   "metadata": {},
   "outputs": [
    {
     "data": {
      "text/plain": [
       "\n",
       "Call:\n",
       "lm(formula = scale(numgrade_2) ~ skipped_course + factor(firstgen) + \n",
       "    factor(lowincomeflag) + factor(gender) + factor(ethniccode_cat) + \n",
       "    hsgpa_z + scale(mathsr) + scale(englsr) + factor(crs_term), \n",
       "    data = df_chemtakers)\n",
       "\n",
       "Residuals:\n",
       "    Min      1Q  Median      3Q     Max \n",
       "-3.7819 -0.4623  0.1425  0.6117  1.9436 \n",
       "\n",
       "Coefficients:\n",
       "                         Estimate Std. Error t value Pr(>|t|)    \n",
       "(Intercept)             -0.380070   0.107004  -3.552 0.000398 ***\n",
       "skipped_course           0.337062   0.089380   3.771 0.000171 ***\n",
       "factor(firstgen)1        0.066927   0.061604   1.086 0.277533    \n",
       "factor(lowincomeflag)2  -0.106641   0.058846  -1.812 0.070221 .  \n",
       "factor(gender)1         -0.113497   0.056390  -2.013 0.044383 *  \n",
       "factor(ethniccode_cat)0  0.202896   0.094330   2.151 0.031697 *  \n",
       "factor(ethniccode_cat)2  0.071507   0.071623   0.998 0.318308    \n",
       "hsgpa_z                  0.316745   0.037948   8.347  < 2e-16 ***\n",
       "scale(mathsr)            0.257656   0.035303   7.298  5.5e-13 ***\n",
       "scale(englsr)            0.005455   0.032543   0.168 0.866901    \n",
       "factor(crs_term)2016     0.146462   0.084674   1.730 0.083956 .  \n",
       "factor(crs_term)2017     0.348359   0.082808   4.207  2.8e-05 ***\n",
       "---\n",
       "Signif. codes:  0 ‘***’ 0.001 ‘**’ 0.01 ‘*’ 0.05 ‘.’ 0.1 ‘ ’ 1\n",
       "\n",
       "Residual standard error: 0.8855 on 1122 degrees of freedom\n",
       "  (29 observations deleted due to missingness)\n",
       "Multiple R-squared:  0.2176,\tAdjusted R-squared:  0.2099 \n",
       "F-statistic: 28.36 on 11 and 1122 DF,  p-value: < 2.2e-16\n"
      ]
     },
     "metadata": {},
     "output_type": "display_data"
    }
   ],
   "source": [
    "# 2d. 2nd course grade; took AP sample for those who actually skip\n",
    "chemsr <- lm(scale(numgrade_2)~skipped_course + \n",
    "             factor(firstgen) + factor(lowincomeflag) + factor(gender) + factor(ethniccode_cat) + \n",
    "              hsgpa_z + scale(mathsr) + scale(englsr) + factor(crs_term), \n",
    "             data=df_chemtakers)\n",
    "summary(chemsr)"
   ]
  },
  {
   "cell_type": "code",
   "execution_count": 16,
   "metadata": {},
   "outputs": [
    {
     "data": {
      "text/plain": [
       "\n",
       "Call:\n",
       "lm(formula = scale(numgrade_2) ~ skipped_course + factor(firstgen) + \n",
       "    factor(lowincomeflag) + factor(gender) + factor(ethniccode_cat) + \n",
       "    hsgpa_z + scale(mathsr) + scale(englsr) + factor(crs_term), \n",
       "    data = df_chem2)\n",
       "\n",
       "Residuals:\n",
       "    Min      1Q  Median      3Q     Max \n",
       "-3.2934 -0.4781  0.1053  0.6170  2.5199 \n",
       "\n",
       "Coefficients:\n",
       "                         Estimate Std. Error t value Pr(>|t|)    \n",
       "(Intercept)             -0.059221   0.033506  -1.767 0.077187 .  \n",
       "skipped_course           0.347961   0.079324   4.387 1.17e-05 ***\n",
       "factor(firstgen)1       -0.021025   0.022013  -0.955 0.339550    \n",
       "factor(lowincomeflag)2   0.005299   0.021639   0.245 0.806552    \n",
       "factor(gender)1         -0.103886   0.020971  -4.954 7.42e-07 ***\n",
       "factor(ethniccode_cat)0  0.178508   0.032261   5.533 3.24e-08 ***\n",
       "factor(ethniccode_cat)2  0.068996   0.023909   2.886 0.003914 ** \n",
       "hsgpa_z                  0.247468   0.012003  20.617  < 2e-16 ***\n",
       "scale(mathsr)            0.299644   0.012545  23.885  < 2e-16 ***\n",
       "scale(englsr)            0.022627   0.011941   1.895 0.058146 .  \n",
       "factor(crs_term)2014    -0.107893   0.032171  -3.354 0.000801 ***\n",
       "factor(crs_term)2015    -0.201861   0.031830  -6.342 2.39e-10 ***\n",
       "factor(crs_term)2016     0.073714   0.031348   2.351 0.018723 *  \n",
       "factor(crs_term)2017     0.281350   0.030625   9.187  < 2e-16 ***\n",
       "---\n",
       "Signif. codes:  0 ‘***’ 0.001 ‘**’ 0.01 ‘*’ 0.05 ‘.’ 0.1 ‘ ’ 1\n",
       "\n",
       "Residual standard error: 0.8764 on 8087 degrees of freedom\n",
       "  (165 observations deleted due to missingness)\n",
       "Multiple R-squared:  0.231,\tAdjusted R-squared:  0.2298 \n",
       "F-statistic: 186.9 on 13 and 8087 DF,  p-value: < 2.2e-16\n"
      ]
     },
     "metadata": {},
     "output_type": "display_data"
    }
   ],
   "source": [
    "#2e. 2nd course grade; everyone, actually skipped\n",
    "chemsr2 <- lm(scale(numgrade_2) ~ skipped_course + factor(firstgen) + \n",
    "    factor(lowincomeflag) + factor(gender) + factor(ethniccode_cat) + \n",
    "    hsgpa_z + scale(mathsr) + scale(englsr) + factor(crs_term), data=df_chem2)\n",
    "summary(chemsr2)"
   ]
  },
  {
   "cell_type": "code",
   "execution_count": 17,
   "metadata": {},
   "outputs": [
    {
     "data": {
      "text/plain": [
       "\n",
       "Call:\n",
       "lm(formula = scale(numgrade_2) ~ eligible_to_skip + factor(firstgen) + \n",
       "    factor(lowincomeflag) + factor(gender) + factor(ethniccode_cat) + \n",
       "    hsgpa_z + scale(mathsr) + scale(englsr) + factor(crs_term), \n",
       "    data = df_chemtakers)\n",
       "\n",
       "Residuals:\n",
       "    Min      1Q  Median      3Q     Max \n",
       "-3.7537 -0.4660  0.1438  0.6123  1.9318 \n",
       "\n",
       "Coefficients:\n",
       "                        Estimate Std. Error t value Pr(>|t|)    \n",
       "(Intercept)             -0.36985    0.10663  -3.468 0.000543 ***\n",
       "eligible_to_skip         0.30652    0.08272   3.706 0.000221 ***\n",
       "factor(firstgen)1        0.06448    0.06157   1.047 0.295225    \n",
       "factor(lowincomeflag)2  -0.10703    0.05887  -1.818 0.069309 .  \n",
       "factor(gender)1         -0.11294    0.05642  -2.002 0.045564 *  \n",
       "factor(ethniccode_cat)0  0.19927    0.09431   2.113 0.034829 *  \n",
       "factor(ethniccode_cat)2  0.06740    0.07164   0.941 0.347003    \n",
       "hsgpa_z                  0.31405    0.03801   8.262 4.00e-16 ***\n",
       "scale(mathsr)            0.25949    0.03524   7.363 3.47e-13 ***\n",
       "scale(englsr)            0.00204    0.03268   0.062 0.950228    \n",
       "factor(crs_term)2016     0.12500    0.08458   1.478 0.139732    \n",
       "factor(crs_term)2017     0.34707    0.08281   4.191 3.00e-05 ***\n",
       "---\n",
       "Signif. codes:  0 ‘***’ 0.001 ‘**’ 0.01 ‘*’ 0.05 ‘.’ 0.1 ‘ ’ 1\n",
       "\n",
       "Residual standard error: 0.8857 on 1122 degrees of freedom\n",
       "  (29 observations deleted due to missingness)\n",
       "Multiple R-squared:  0.2172,\tAdjusted R-squared:  0.2096 \n",
       "F-statistic: 28.31 on 11 and 1122 DF,  p-value: < 2.2e-16\n"
      ]
     },
     "metadata": {},
     "output_type": "display_data"
    }
   ],
   "source": [
    "#2f. Course grade, Skip eligible for those who took AP\n",
    "chemsr3 <- lm(scale(numgrade_2)~eligible_to_skip + factor(firstgen) + \n",
    "    factor(lowincomeflag) + factor(gender) + factor(ethniccode_cat) + \n",
    "    hsgpa_z + scale(mathsr) + scale(englsr) + factor(crs_term), data=df_chemtakers)\n",
    "summary(chemsr3)"
   ]
  },
  {
   "cell_type": "code",
   "execution_count": 18,
   "metadata": {},
   "outputs": [
    {
     "data": {
      "text/plain": [
       "\n",
       "Call:\n",
       "lm(formula = scale(numgrade_2) ~ eligible_to_skip + factor(firstgen) + \n",
       "    factor(lowincomeflag) + factor(gender) + factor(ethniccode_cat) + \n",
       "    hsgpa_z + scale(mathsr) + scale(englsr) + factor(crs_term), \n",
       "    data = df_chem2)\n",
       "\n",
       "Residuals:\n",
       "    Min      1Q  Median      3Q     Max \n",
       "-3.2740 -0.4781  0.1065  0.6162  2.5181 \n",
       "\n",
       "Coefficients:\n",
       "                         Estimate Std. Error t value Pr(>|t|)    \n",
       "(Intercept)             -0.058570   0.033501  -1.748 0.080448 .  \n",
       "eligible_to_skip         0.329071   0.072291   4.552 5.39e-06 ***\n",
       "factor(firstgen)1       -0.021366   0.022009  -0.971 0.331688    \n",
       "factor(lowincomeflag)2   0.005019   0.021638   0.232 0.816572    \n",
       "factor(gender)1         -0.103878   0.020968  -4.954 7.41e-07 ***\n",
       "factor(ethniccode_cat)0  0.177947   0.032257   5.517 3.56e-08 ***\n",
       "factor(ethniccode_cat)2  0.068300   0.023909   2.857 0.004292 ** \n",
       "hsgpa_z                  0.246925   0.012006  20.567  < 2e-16 ***\n",
       "scale(mathsr)            0.299439   0.012544  23.871  < 2e-16 ***\n",
       "scale(englsr)            0.022138   0.011944   1.853 0.063849 .  \n",
       "factor(crs_term)2014    -0.107751   0.032168  -3.350 0.000813 ***\n",
       "factor(crs_term)2015    -0.201394   0.031823  -6.329 2.60e-10 ***\n",
       "factor(crs_term)2016     0.068911   0.031414   2.194 0.028290 *  \n",
       "factor(crs_term)2017     0.282355   0.030600   9.227  < 2e-16 ***\n",
       "---\n",
       "Signif. codes:  0 ‘***’ 0.001 ‘**’ 0.01 ‘*’ 0.05 ‘.’ 0.1 ‘ ’ 1\n",
       "\n",
       "Residual standard error: 0.8763 on 8087 degrees of freedom\n",
       "  (165 observations deleted due to missingness)\n",
       "Multiple R-squared:  0.2311,\tAdjusted R-squared:  0.2299 \n",
       "F-statistic:   187 on 13 and 8087 DF,  p-value: < 2.2e-16\n"
      ]
     },
     "metadata": {},
     "output_type": "display_data"
    }
   ],
   "source": [
    "#2g. Skip eligible, full sample\n",
    "chemsr4<- lm(scale(numgrade_2)~eligible_to_skip + factor(firstgen) + \n",
    "    factor(lowincomeflag) + factor(gender) + factor(ethniccode_cat) + \n",
    "    hsgpa_z + scale(mathsr) + scale(englsr) + factor(crs_term), data=df_chem2)\n",
    "summary(chemsr4)"
   ]
  },
  {
   "cell_type": "code",
   "execution_count": null,
   "metadata": {},
   "outputs": [],
   "source": [
    "#####################\n",
    "# Physics"
   ]
  },
  {
   "cell_type": "code",
   "execution_count": 19,
   "metadata": {},
   "outputs": [
    {
     "data": {
      "text/plain": [
       "\n",
       "Call:\n",
       "glm(formula = tookap ~ factor(firstgen) + factor(lowincomeflag) + \n",
       "    factor(gender) + factor(ethniccode_cat) + hsgpa_z + scale(mathsr) + \n",
       "    scale(englsr) + factor(cohort), family = binomial(link = \"logit\"), \n",
       "    data = df_phys2)\n",
       "\n",
       "Deviance Residuals: \n",
       "    Min       1Q   Median       3Q      Max  \n",
       "-1.1399  -0.6422  -0.5125  -0.3640   2.5622  \n",
       "\n",
       "Coefficients:\n",
       "                         Estimate Std. Error z value Pr(>|z|)    \n",
       "(Intercept)              -2.03032    0.15843 -12.815  < 2e-16 ***\n",
       "factor(firstgen)1        -0.11987    0.12049  -0.995  0.31980    \n",
       "factor(lowincomeflag)2    0.34662    0.12086   2.868  0.00413 ** \n",
       "factor(gender)1          -0.29866    0.12659  -2.359  0.01831 *  \n",
       "factor(ethniccode_cat)0   0.18223    0.16994   1.072  0.28358    \n",
       "factor(ethniccode_cat)2   0.16796    0.14276   1.176  0.23940    \n",
       "hsgpa_z                  -0.08120    0.06015  -1.350  0.17704    \n",
       "scale(mathsr)             0.47095    0.06649   7.083 1.41e-12 ***\n",
       "scale(englsr)             0.17019    0.06094   2.793  0.00523 ** \n",
       "factor(cohort)2014        0.21047    0.14121   1.490  0.13612    \n",
       "factor(cohort)2015        0.42230    0.14017   3.013  0.00259 ** \n",
       "factor(cohort)2016        0.33062    0.13750   2.404  0.01620 *  \n",
       "factor(cohort)2017      -11.25346  324.74375  -0.035  0.97236    \n",
       "---\n",
       "Signif. codes:  0 ‘***’ 0.001 ‘**’ 0.01 ‘*’ 0.05 ‘.’ 0.1 ‘ ’ 1\n",
       "\n",
       "(Dispersion parameter for binomial family taken to be 1)\n",
       "\n",
       "    Null deviance: 2709.9  on 3017  degrees of freedom\n",
       "Residual deviance: 2551.4  on 3005  degrees of freedom\n",
       "  (72 observations deleted due to missingness)\n",
       "AIC: 2577.4\n",
       "\n",
       "Number of Fisher Scoring iterations: 11\n"
      ]
     },
     "metadata": {},
     "output_type": "display_data"
    }
   ],
   "source": [
    "#1a. Took AP, full sample\n",
    "tookphysap <- glm(tookap~factor(firstgen) + factor(lowincomeflag) + factor(gender) + factor(ethniccode_cat) +\n",
    "                  hsgpa_z + scale(mathsr) + scale(englsr) + factor(cohort), \n",
    "                  data=df_phys2, binomial(link=\"logit\"))\n",
    "summary(tookphysap)\n",
    "#robustse(tookphysap, coef=\"odd.ratio\")"
   ]
  },
  {
   "cell_type": "code",
   "execution_count": 20,
   "metadata": {},
   "outputs": [
    {
     "data": {
      "text/plain": [
       "\n",
       "Call:\n",
       "lm(formula = scale(apscore) ~ factor(firstgen) + factor(lowincomeflag) + \n",
       "    factor(gender) + factor(ethniccode_cat) + hsgpa_z + scale(mathsr) + \n",
       "    scale(englsr) + factor(cohort), data = df_phystakers)\n",
       "\n",
       "Residuals:\n",
       "    Min      1Q  Median      3Q     Max \n",
       "-0.9063 -0.3040 -0.1899 -0.0722  6.2630 \n",
       "\n",
       "Coefficients:\n",
       "                        Estimate Std. Error t value Pr(>|t|)  \n",
       "(Intercept)             -0.15020    0.15276  -0.983   0.3260  \n",
       "factor(firstgen)1        0.13010    0.11400   1.141   0.2544  \n",
       "factor(lowincomeflag)2  -0.06742    0.11269  -0.598   0.5499  \n",
       "factor(gender)1          0.11605    0.11858   0.979   0.3282  \n",
       "factor(ethniccode_cat)0  0.03733    0.15672   0.238   0.8118  \n",
       "factor(ethniccode_cat)2  0.05187    0.13513   0.384   0.7012  \n",
       "hsgpa_z                 -0.13387    0.05457  -2.453   0.0145 *\n",
       "scale(mathsr)            0.08656    0.05659   1.530   0.1268  \n",
       "scale(englsr)           -0.03764    0.05543  -0.679   0.4974  \n",
       "factor(cohort)2014       0.18905    0.12899   1.466   0.1434  \n",
       "factor(cohort)2015       0.20931    0.12570   1.665   0.0965 .\n",
       "factor(cohort)2016       0.09862    0.12358   0.798   0.4253  \n",
       "---\n",
       "Signif. codes:  0 ‘***’ 0.001 ‘**’ 0.01 ‘*’ 0.05 ‘.’ 0.1 ‘ ’ 1\n",
       "\n",
       "Residual standard error: 1.008 on 488 degrees of freedom\n",
       "  (11 observations deleted due to missingness)\n",
       "Multiple R-squared:  0.02778,\tAdjusted R-squared:  0.005863 \n",
       "F-statistic: 1.268 on 11 and 488 DF,  p-value: 0.2401\n"
      ]
     },
     "metadata": {},
     "output_type": "display_data"
    }
   ],
   "source": [
    "# 1b: AP Score for those who took AP\n",
    "physsr <- lm(scale(apscore)~factor(firstgen) + factor(lowincomeflag) + factor(gender) + factor(ethniccode_cat) +\n",
    "               hsgpa_z + scale(mathsr) + scale(englsr) + factor(cohort), data=df_phystakers)\n",
    "summary(physsr)\n",
    "#std_beta(physsr)"
   ]
  },
  {
   "cell_type": "code",
   "execution_count": 21,
   "metadata": {},
   "outputs": [
    {
     "data": {
      "text/plain": [
       "\n",
       "Call:\n",
       "glm(formula = eligible_to_skip ~ factor(firstgen) + factor(lowincomeflag) + \n",
       "    factor(gender) + factor(ethniccode_cat) + hsgpa_z + scale(mathsr) + \n",
       "    scale(englsr) + factor(cohort), family = binomial(link = \"logit\"), \n",
       "    data = df_phystakers)\n",
       "\n",
       "Deviance Residuals: \n",
       "    Min       1Q   Median       3Q      Max  \n",
       "-0.9842  -0.6075  -0.5026  -0.4174   2.4110  \n",
       "\n",
       "Coefficients:\n",
       "                        Estimate Std. Error z value Pr(>|z|)    \n",
       "(Intercept)             -2.49785    0.47672  -5.240 1.61e-07 ***\n",
       "factor(firstgen)1        0.27722    0.32689   0.848   0.3964    \n",
       "factor(lowincomeflag)2  -0.52012    0.33517  -1.552   0.1207    \n",
       "factor(gender)1         -0.32412    0.35494  -0.913   0.3612    \n",
       "factor(ethniccode_cat)0  0.39112    0.48816   0.801   0.4230    \n",
       "factor(ethniccode_cat)2  0.97068    0.41511   2.338   0.0194 *  \n",
       "hsgpa_z                 -0.14332    0.15633  -0.917   0.3593    \n",
       "scale(mathsr)           -0.39710    0.16083  -2.469   0.0135 *  \n",
       "scale(englsr)            0.04888    0.15559   0.314   0.7534    \n",
       "factor(cohort)2014       0.18088    0.37784   0.479   0.6321    \n",
       "factor(cohort)2015       0.36315    0.35415   1.025   0.3052    \n",
       "factor(cohort)2016       0.26898    0.35732   0.753   0.4516    \n",
       "---\n",
       "Signif. codes:  0 ‘***’ 0.001 ‘**’ 0.01 ‘*’ 0.05 ‘.’ 0.1 ‘ ’ 1\n",
       "\n",
       "(Dispersion parameter for binomial family taken to be 1)\n",
       "\n",
       "    Null deviance: 415.71  on 499  degrees of freedom\n",
       "Residual deviance: 401.96  on 488  degrees of freedom\n",
       "  (11 observations deleted due to missingness)\n",
       "AIC: 425.96\n",
       "\n",
       "Number of Fisher Scoring iterations: 5\n"
      ]
     },
     "metadata": {},
     "output_type": "display_data"
    }
   ],
   "source": [
    "# 1c.i Eligible out of those who took AP\n",
    "skipphys <- glm(eligible_to_skip~factor(firstgen) + factor(lowincomeflag) + factor(gender) + factor(ethniccode_cat) +\n",
    "               hsgpa_z + scale(mathsr) + scale(englsr) + factor(cohort), \n",
    "                data=df_phystakers, \n",
    "                binomial(link=\"logit\"))\n",
    "summary(skipphys)\n",
    "#robustse(skipphys, coef=\"odd.ratio\")"
   ]
  },
  {
   "cell_type": "code",
   "execution_count": 22,
   "metadata": {},
   "outputs": [
    {
     "data": {
      "text/plain": [
       "\n",
       "Call:\n",
       "glm(formula = eligible_to_skip ~ factor(firstgen) + factor(lowincomeflag) + \n",
       "    factor(gender) + factor(ethniccode_cat) + hsgpa_z + scale(mathsr) + \n",
       "    scale(englsr) + factor(cohort), family = binomial(link = \"logit\"), \n",
       "    data = df_phys2)\n",
       "\n",
       "Deviance Residuals: \n",
       "    Min       1Q   Median       3Q      Max  \n",
       "-0.4729  -0.2504  -0.2050  -0.1628   3.1811  \n",
       "\n",
       "Coefficients:\n",
       "                         Estimate Std. Error z value Pr(>|z|)    \n",
       "(Intercept)              -4.42788    0.41688 -10.622   <2e-16 ***\n",
       "factor(firstgen)1         0.05282    0.28302   0.187   0.8519    \n",
       "factor(lowincomeflag)2   -0.06620    0.29110  -0.227   0.8201    \n",
       "factor(gender)1          -0.54358    0.32507  -1.672   0.0945 .  \n",
       "factor(ethniccode_cat)0   0.38483    0.44916   0.857   0.3916    \n",
       "factor(ethniccode_cat)2   0.81979    0.36975   2.217   0.0266 *  \n",
       "hsgpa_z                  -0.17314    0.13522  -1.280   0.2004    \n",
       "scale(mathsr)             0.05454    0.15382   0.355   0.7229    \n",
       "scale(englsr)             0.18486    0.14445   1.280   0.2006    \n",
       "factor(cohort)2014        0.28130    0.34686   0.811   0.4174    \n",
       "factor(cohort)2015        0.62662    0.32401   1.934   0.0531 .  \n",
       "factor(cohort)2016        0.47609    0.32974   1.444   0.1488    \n",
       "factor(cohort)2017       -9.20037  535.41138  -0.017   0.9863    \n",
       "---\n",
       "Signif. codes:  0 ‘***’ 0.001 ‘**’ 0.01 ‘*’ 0.05 ‘.’ 0.1 ‘ ’ 1\n",
       "\n",
       "(Dispersion parameter for binomial family taken to be 1)\n",
       "\n",
       "    Null deviance: 687.62  on 3017  degrees of freedom\n",
       "Residual deviance: 665.25  on 3005  degrees of freedom\n",
       "  (72 observations deleted due to missingness)\n",
       "AIC: 691.25\n",
       "\n",
       "Number of Fisher Scoring iterations: 12\n"
      ]
     },
     "metadata": {},
     "output_type": "display_data"
    }
   ],
   "source": [
    "# 1c.ii Eligible out of full sample\n",
    "skipphys2 <- glm(eligible_to_skip~factor(firstgen) + factor(lowincomeflag) + factor(gender) + factor(ethniccode_cat) +\n",
    "               hsgpa_z + scale(mathsr) + scale(englsr) + factor(cohort), \n",
    "                data=df_phys2, \n",
    "                binomial(link=\"logit\"))\n",
    "summary(skipphys2)\n",
    "#robustse(skipphys2, coef=\"odd.ratio\")"
   ]
  },
  {
   "cell_type": "code",
   "execution_count": 23,
   "metadata": {},
   "outputs": [
    {
     "data": {
      "text/plain": [
       "\n",
       "Call:\n",
       "glm(formula = skipped_course ~ factor(firstgen) + factor(lowincomeflag) + \n",
       "    factor(gender) + factor(ethniccode_cat) + hsgpa_z + scale(mathsr) + \n",
       "    scale(englsr) + factor(cohort), family = binomial(link = \"logit\"), \n",
       "    data = df_physSkEligible)\n",
       "\n",
       "Deviance Residuals: \n",
       "    Min       1Q   Median       3Q      Max  \n",
       "-2.0237  -1.1624   0.7015   0.8445   1.3220  \n",
       "\n",
       "Coefficients:\n",
       "                         Estimate Std. Error z value Pr(>|z|)\n",
       "(Intercept)             -0.647385   1.189128  -0.544    0.586\n",
       "factor(firstgen)1        0.255775   0.785643   0.326    0.745\n",
       "factor(lowincomeflag)2  -0.455402   0.778089  -0.585    0.558\n",
       "factor(gender)1         -1.042983   0.741975  -1.406    0.160\n",
       "factor(ethniccode_cat)0  1.468454   1.158131   1.268    0.205\n",
       "factor(ethniccode_cat)2  1.452297   0.959888   1.513    0.130\n",
       "hsgpa_z                  0.284183   0.323519   0.878    0.380\n",
       "scale(mathsr)            0.004872   0.347240   0.014    0.989\n",
       "scale(englsr)           -0.470850   0.361550  -1.302    0.193\n",
       "factor(cohort)2014       0.580150   0.841856   0.689    0.491\n",
       "factor(cohort)2015       1.025933   0.857570   1.196    0.232\n",
       "factor(cohort)2016       0.201389   0.808325   0.249    0.803\n",
       "\n",
       "(Dispersion parameter for binomial family taken to be 1)\n",
       "\n",
       "    Null deviance: 90.972  on 72  degrees of freedom\n",
       "Residual deviance: 84.992  on 61  degrees of freedom\n",
       "  (3 observations deleted due to missingness)\n",
       "AIC: 108.99\n",
       "\n",
       "Number of Fisher Scoring iterations: 4\n"
      ]
     },
     "metadata": {},
     "output_type": "display_data"
    }
   ],
   "source": [
    "# 2a. Took AP and skip eligble and actually skip\n",
    "skipreal <- glm(skipped_course~factor(firstgen) + factor(lowincomeflag) + factor(gender) + factor(ethniccode_cat) +\n",
    "               hsgpa_z + scale(mathsr) + scale(englsr) + factor(cohort), \n",
    "                data=df_physSkEligible, \n",
    "                binomial(link=\"logit\"))\n",
    "summary(skipreal) # small sample size, coeff. probably not reliable"
   ]
  },
  {
   "cell_type": "code",
   "execution_count": 24,
   "metadata": {},
   "outputs": [
    {
     "data": {
      "text/plain": [
       "\n",
       "Call:\n",
       "lm(formula = scale(numgrade_2) ~ skipped_course + apscore + factor(firstgen) + \n",
       "    factor(lowincomeflag) + factor(gender) + factor(ethniccode_cat) + \n",
       "    hsgpa_z + scale(mathsr) + scale(englsr) + factor(crs_term), \n",
       "    data = df_physSkEligible)\n",
       "\n",
       "Residuals:\n",
       "     Min       1Q   Median       3Q      Max \n",
       "-1.61078 -0.56391  0.03182  0.51196  1.72802 \n",
       "\n",
       "Coefficients:\n",
       "                        Estimate Std. Error t value Pr(>|t|)   \n",
       "(Intercept)             -0.23200    0.55217  -0.420  0.67592   \n",
       "skipped_course          -0.02373    0.23455  -0.101  0.91977   \n",
       "apscore                  0.09549    0.08047   1.187  0.24022   \n",
       "factor(firstgen)1        0.22460    0.30146   0.745  0.45926   \n",
       "factor(lowincomeflag)2  -0.37200    0.29099  -1.278  0.20620   \n",
       "factor(gender)1          0.04503    0.29244   0.154  0.87816   \n",
       "factor(ethniccode_cat)0  1.20949    0.44853   2.697  0.00916 **\n",
       "factor(ethniccode_cat)2  0.90925    0.37359   2.434  0.01804 * \n",
       "hsgpa_z                  0.25153    0.12493   2.013  0.04873 * \n",
       "scale(mathsr)            0.34913    0.13450   2.596  0.01194 * \n",
       "scale(englsr)           -0.12877    0.14001  -0.920  0.36153   \n",
       "factor(crs_term)2014    -0.64410    0.41388  -1.556  0.12509   \n",
       "factor(crs_term)2015    -0.81664    0.40199  -2.031  0.04679 * \n",
       "factor(crs_term)2016    -0.72051    0.40111  -1.796  0.07765 . \n",
       "factor(crs_term)2017    -0.73982    0.40037  -1.848  0.06973 . \n",
       "---\n",
       "Signif. codes:  0 ‘***’ 0.001 ‘**’ 0.01 ‘*’ 0.05 ‘.’ 0.1 ‘ ’ 1\n",
       "\n",
       "Residual standard error: 0.8553 on 58 degrees of freedom\n",
       "  (3 observations deleted due to missingness)\n",
       "Multiple R-squared:  0.4321,\tAdjusted R-squared:  0.295 \n",
       "F-statistic: 3.152 on 14 and 58 DF,  p-value: 0.001051\n"
      ]
     },
     "metadata": {},
     "output_type": "display_data"
    }
   ],
   "source": [
    "# 2b. Took AP, include AP score\n",
    "physsr5 <- lm(scale(numgrade_2)~skipped_course + apscore + \n",
    "              factor(firstgen) + factor(lowincomeflag) + factor(gender) + factor(ethniccode_cat) +\n",
    "               hsgpa_z + scale(mathsr) + scale(englsr) + factor(crs_term), \n",
    "              data=df_physSkEligible)\n",
    "summary(physsr5)\n",
    "\n",
    "#std_beta(physsr5)\n",
    "# not doing 2bi and 2bii (for ap score subset because small saple size)"
   ]
  },
  {
   "cell_type": "code",
   "execution_count": 25,
   "metadata": {},
   "outputs": [
    {
     "data": {
      "text/plain": [
       "\n",
       "Call:\n",
       "lm(formula = scale(numgrade_2) ~ skipped_course + apscore + factor(firstgen) + \n",
       "    factor(lowincomeflag) + factor(gender) + factor(ethniccode_cat) + \n",
       "    hsgpa_z + scale(mathsr) + scale(englsr) + factor(crs_term), \n",
       "    data = df_phys2)\n",
       "\n",
       "Residuals:\n",
       "    Min      1Q  Median      3Q     Max \n",
       "-3.2400 -0.5268  0.0895  0.6511  2.5732 \n",
       "\n",
       "Coefficients:\n",
       "                        Estimate Std. Error t value Pr(>|t|)    \n",
       "(Intercept)             -0.15679    0.05861  -2.675 0.007508 ** \n",
       "skipped_course           0.09371    0.13072   0.717 0.473489    \n",
       "apscore                  0.11970    0.05124   2.336 0.019559 *  \n",
       "factor(firstgen)1       -0.04215    0.03882  -1.086 0.277642    \n",
       "factor(lowincomeflag)2   0.05080    0.03920   1.296 0.195164    \n",
       "factor(gender)1         -0.20548    0.03871  -5.308 1.19e-07 ***\n",
       "factor(ethniccode_cat)0  0.24620    0.05410   4.551 5.55e-06 ***\n",
       "factor(ethniccode_cat)2  0.14497    0.04377   3.312 0.000938 ***\n",
       "hsgpa_z                  0.22770    0.01994  11.420  < 2e-16 ***\n",
       "scale(mathsr)            0.22342    0.02121  10.532  < 2e-16 ***\n",
       "scale(englsr)            0.06991    0.02033   3.438 0.000593 ***\n",
       "factor(crs_term)2014    -0.08402    0.05405  -1.554 0.120183    \n",
       "factor(crs_term)2015     0.01342    0.05569   0.241 0.809539    \n",
       "factor(crs_term)2016    -0.03337    0.05630  -0.593 0.553334    \n",
       "factor(crs_term)2017     0.17037    0.05456   3.123 0.001809 ** \n",
       "---\n",
       "Signif. codes:  0 ‘***’ 0.001 ‘**’ 0.01 ‘*’ 0.05 ‘.’ 0.1 ‘ ’ 1\n",
       "\n",
       "Residual standard error: 0.9095 on 3003 degrees of freedom\n",
       "  (72 observations deleted due to missingness)\n",
       "Multiple R-squared:  0.1744,\tAdjusted R-squared:  0.1705 \n",
       "F-statistic:  45.3 on 14 and 3003 DF,  p-value: < 2.2e-16\n"
      ]
     },
     "metadata": {},
     "output_type": "display_data"
    }
   ],
   "source": [
    "# 2c. Full sample, include AP score\n",
    "physsr6 <- lm(scale(numgrade_2)~skipped_course + apscore + \n",
    "              factor(firstgen) + factor(lowincomeflag) + factor(gender) + factor(ethniccode_cat) +\n",
    "               hsgpa_z + scale(mathsr) + scale(englsr) + factor(crs_term), data=df_phys2)\n",
    "summary(physsr6)\n",
    "#std_beta(physsr6)"
   ]
  },
  {
   "cell_type": "code",
   "execution_count": 26,
   "metadata": {},
   "outputs": [
    {
     "data": {
      "text/plain": [
       "\n",
       "Call:\n",
       "lm(formula = scale(numgrade_2) ~ skipped_course + factor(firstgen) + \n",
       "    factor(lowincomeflag) + factor(gender) + factor(ethniccode_cat) + \n",
       "    hsgpa_z + scale(mathsr) + scale(englsr) + factor(crs_term), \n",
       "    data = df_phystakers)\n",
       "\n",
       "Residuals:\n",
       "    Min      1Q  Median      3Q     Max \n",
       "-3.4279 -0.5951  0.0612  0.6574  1.9767 \n",
       "\n",
       "Coefficients:\n",
       "                        Estimate Std. Error t value Pr(>|t|)    \n",
       "(Intercept)             -0.06734    0.16134  -0.417   0.6766    \n",
       "skipped_course          -0.03596    0.13718  -0.262   0.7933    \n",
       "factor(firstgen)1       -0.07661    0.10298  -0.744   0.4573    \n",
       "factor(lowincomeflag)2   0.07050    0.10205   0.691   0.4900    \n",
       "factor(gender)1         -0.18241    0.10698  -1.705   0.0888 .  \n",
       "factor(ethniccode_cat)0  0.30577    0.14190   2.155   0.0317 *  \n",
       "factor(ethniccode_cat)2  0.18142    0.12290   1.476   0.1405    \n",
       "hsgpa_z                  0.32752    0.04912   6.667 7.10e-11 ***\n",
       "scale(mathsr)            0.26477    0.05119   5.172 3.39e-07 ***\n",
       "scale(englsr)           -0.03457    0.05003  -0.691   0.4899    \n",
       "factor(crs_term)2014    -0.29488    0.14188  -2.078   0.0382 *  \n",
       "factor(crs_term)2015    -0.25458    0.14053  -1.812   0.0707 .  \n",
       "factor(crs_term)2016    -0.11349    0.13872  -0.818   0.4137    \n",
       "factor(crs_term)2017    -0.10893    0.13308  -0.819   0.4135    \n",
       "---\n",
       "Signif. codes:  0 ‘***’ 0.001 ‘**’ 0.01 ‘*’ 0.05 ‘.’ 0.1 ‘ ’ 1\n",
       "\n",
       "Residual standard error: 0.9071 on 486 degrees of freedom\n",
       "  (11 observations deleted due to missingness)\n",
       "Multiple R-squared:  0.2068,\tAdjusted R-squared:  0.1856 \n",
       "F-statistic: 9.746 on 13 and 486 DF,  p-value: < 2.2e-16\n"
      ]
     },
     "metadata": {},
     "output_type": "display_data"
    }
   ],
   "source": [
    "# 2d. 2nd course grade; took AP sample for those who actually skip\n",
    "physsr <- lm(scale(numgrade_2)~skipped_course + factor(firstgen) + factor(lowincomeflag) + factor(gender) + factor(ethniccode_cat) +\n",
    "               hsgpa_z + scale(mathsr) + scale(englsr) + factor(crs_term), \n",
    "             data=df_phystakers)\n",
    "summary(physsr)\n",
    "\n",
    "#std_beta(physsr)"
   ]
  },
  {
   "cell_type": "code",
   "execution_count": 27,
   "metadata": {},
   "outputs": [
    {
     "data": {
      "text/plain": [
       "\n",
       "Call:\n",
       "lm(formula = scale(numgrade_2) ~ skipped_course + factor(firstgen) + \n",
       "    factor(lowincomeflag) + factor(gender) + factor(ethniccode_cat) + \n",
       "    hsgpa_z + scale(mathsr) + scale(englsr) + factor(crs_term), \n",
       "    data = df_phys2)\n",
       "\n",
       "Residuals:\n",
       "    Min      1Q  Median      3Q     Max \n",
       "-3.2450 -0.5250  0.0910  0.6498  2.5648 \n",
       "\n",
       "Coefficients:\n",
       "                        Estimate Std. Error t value Pr(>|t|)    \n",
       "(Intercept)             -0.15582    0.05865  -2.657 0.007929 ** \n",
       "skipped_course           0.12344    0.13019   0.948 0.343160    \n",
       "factor(firstgen)1       -0.04081    0.03884  -1.051 0.293545    \n",
       "factor(lowincomeflag)2   0.05164    0.03923   1.316 0.188188    \n",
       "factor(gender)1         -0.20458    0.03874  -5.281 1.38e-07 ***\n",
       "factor(ethniccode_cat)0  0.24678    0.05414   4.558 5.36e-06 ***\n",
       "factor(ethniccode_cat)2  0.14528    0.04381   3.316 0.000923 ***\n",
       "hsgpa_z                  0.22532    0.01993  11.307  < 2e-16 ***\n",
       "scale(mathsr)            0.22606    0.02120  10.663  < 2e-16 ***\n",
       "scale(englsr)            0.06972    0.02035   3.426 0.000620 ***\n",
       "factor(crs_term)2014    -0.08503    0.05409  -1.572 0.116025    \n",
       "factor(crs_term)2015     0.01586    0.05572   0.285 0.775972    \n",
       "factor(crs_term)2016    -0.02968    0.05632  -0.527 0.598220    \n",
       "factor(crs_term)2017     0.17115    0.05460   3.135 0.001737 ** \n",
       "---\n",
       "Signif. codes:  0 ‘***’ 0.001 ‘**’ 0.01 ‘*’ 0.05 ‘.’ 0.1 ‘ ’ 1\n",
       "\n",
       "Residual standard error: 0.9102 on 3004 degrees of freedom\n",
       "  (72 observations deleted due to missingness)\n",
       "Multiple R-squared:  0.1729,\tAdjusted R-squared:  0.1693 \n",
       "F-statistic:  48.3 on 13 and 3004 DF,  p-value: < 2.2e-16\n"
      ]
     },
     "metadata": {},
     "output_type": "display_data"
    }
   ],
   "source": [
    "#2e. 2nd course grade; everyone, actually skipped\n",
    "physsr2 <- lm(scale(numgrade_2)~skipped_course + factor(firstgen) + factor(lowincomeflag) + factor(gender) + factor(ethniccode_cat) +\n",
    "               hsgpa_z + scale(mathsr) + scale(englsr) + factor(crs_term), data=df_phys2)\n",
    "summary(physsr2)\n",
    "\n",
    "#std_beta(physsr2)"
   ]
  },
  {
   "cell_type": "code",
   "execution_count": 28,
   "metadata": {},
   "outputs": [
    {
     "data": {
      "text/plain": [
       "\n",
       "Call:\n",
       "lm(formula = scale(numgrade_2) ~ eligible_to_skip + factor(firstgen) + \n",
       "    factor(lowincomeflag) + factor(gender) + factor(ethniccode_cat) + \n",
       "    hsgpa_z + scale(mathsr) + scale(englsr) + factor(crs_term), \n",
       "    data = df_phystakers)\n",
       "\n",
       "Residuals:\n",
       "    Min      1Q  Median      3Q     Max \n",
       "-3.4291 -0.5986  0.0587  0.6557  1.9749 \n",
       "\n",
       "Coefficients:\n",
       "                        Estimate Std. Error t value Pr(>|t|)    \n",
       "(Intercept)             -0.06677    0.16135  -0.414   0.6792    \n",
       "eligible_to_skip        -0.04028    0.11661  -0.345   0.7299    \n",
       "factor(firstgen)1       -0.07618    0.10299  -0.740   0.4598    \n",
       "factor(lowincomeflag)2   0.06980    0.10208   0.684   0.4944    \n",
       "factor(gender)1         -0.18232    0.10688  -1.706   0.0887 .  \n",
       "factor(ethniccode_cat)0  0.30584    0.14183   2.156   0.0315 *  \n",
       "factor(ethniccode_cat)2  0.18243    0.12284   1.485   0.1382    \n",
       "hsgpa_z                  0.32695    0.04916   6.651 7.87e-11 ***\n",
       "scale(mathsr)            0.26412    0.05126   5.153 3.74e-07 ***\n",
       "scale(englsr)           -0.03420    0.05002  -0.684   0.4945    \n",
       "factor(crs_term)2014    -0.29267    0.14187  -2.063   0.0397 *  \n",
       "factor(crs_term)2015    -0.25367    0.14058  -1.804   0.0718 .  \n",
       "factor(crs_term)2016    -0.11196    0.13887  -0.806   0.4205    \n",
       "factor(crs_term)2017    -0.10723    0.13325  -0.805   0.4214    \n",
       "---\n",
       "Signif. codes:  0 ‘***’ 0.001 ‘**’ 0.01 ‘*’ 0.05 ‘.’ 0.1 ‘ ’ 1\n",
       "\n",
       "Residual standard error: 0.9071 on 486 degrees of freedom\n",
       "  (11 observations deleted due to missingness)\n",
       "Multiple R-squared:  0.2069,\tAdjusted R-squared:  0.1857 \n",
       "F-statistic: 9.751 on 13 and 486 DF,  p-value: < 2.2e-16\n"
      ]
     },
     "metadata": {},
     "output_type": "display_data"
    }
   ],
   "source": [
    "#2f. Skip eligible for those who took AP\n",
    "physsrsr3 <- lm(scale(numgrade_2)~eligible_to_skip + \n",
    "                factor(firstgen) + factor(lowincomeflag) + factor(gender) + factor(ethniccode_cat) +\n",
    "               hsgpa_z + scale(mathsr) + scale(englsr) + factor(crs_term), data=df_phystakers)\n",
    "summary(physsrsr3)\n",
    "\n",
    "#std_beta(physsrsr3)"
   ]
  },
  {
   "cell_type": "code",
   "execution_count": 29,
   "metadata": {},
   "outputs": [
    {
     "data": {
      "text/plain": [
       "\n",
       "Call:\n",
       "lm(formula = scale(numgrade_2) ~ eligible_to_skip + factor(firstgen) + \n",
       "    factor(lowincomeflag) + factor(gender) + factor(ethniccode_cat) + \n",
       "    hsgpa_z + scale(mathsr) + scale(englsr) + factor(crs_term), \n",
       "    data = df_phys2)\n",
       "\n",
       "Residuals:\n",
       "    Min      1Q  Median      3Q     Max \n",
       "-3.2443 -0.5272  0.0898  0.6505  2.5659 \n",
       "\n",
       "Coefficients:\n",
       "                        Estimate Std. Error t value Pr(>|t|)    \n",
       "(Intercept)             -0.15591    0.05865  -2.658 0.007893 ** \n",
       "eligible_to_skip         0.10748    0.10823   0.993 0.320752    \n",
       "factor(firstgen)1       -0.04088    0.03884  -1.052 0.292657    \n",
       "factor(lowincomeflag)2   0.05168    0.03923   1.317 0.187816    \n",
       "factor(gender)1         -0.20466    0.03874  -5.283 1.36e-07 ***\n",
       "factor(ethniccode_cat)0  0.24698    0.05413   4.562 5.26e-06 ***\n",
       "factor(ethniccode_cat)2  0.14532    0.04380   3.318 0.000919 ***\n",
       "hsgpa_z                  0.22561    0.01993  11.319  < 2e-16 ***\n",
       "scale(mathsr)            0.22603    0.02120  10.662  < 2e-16 ***\n",
       "scale(englsr)            0.06942    0.02035   3.411 0.000656 ***\n",
       "factor(crs_term)2014    -0.08604    0.05409  -1.591 0.111759    \n",
       "factor(crs_term)2015     0.01557    0.05572   0.279 0.779904    \n",
       "factor(crs_term)2016    -0.03031    0.05633  -0.538 0.590528    \n",
       "factor(crs_term)2017     0.17040    0.05461   3.120 0.001825 ** \n",
       "---\n",
       "Signif. codes:  0 ‘***’ 0.001 ‘**’ 0.01 ‘*’ 0.05 ‘.’ 0.1 ‘ ’ 1\n",
       "\n",
       "Residual standard error: 0.9102 on 3004 degrees of freedom\n",
       "  (72 observations deleted due to missingness)\n",
       "Multiple R-squared:  0.1729,\tAdjusted R-squared:  0.1693 \n",
       "F-statistic: 48.31 on 13 and 3004 DF,  p-value: < 2.2e-16\n"
      ]
     },
     "metadata": {},
     "output_type": "display_data"
    }
   ],
   "source": [
    "#2g. Skip eligible, full sample\n",
    "physsr4<- lm(scale(numgrade_2)~eligible_to_skip + \n",
    "                factor(firstgen) + factor(lowincomeflag) + factor(gender) + factor(ethniccode_cat) +\n",
    "               hsgpa_z + scale(mathsr) + scale(englsr) + factor(crs_term), data=df_phys2)\n",
    "summary(physsr4)\n",
    "\n",
    "#std_beta(physsr4)"
   ]
  },
  {
   "cell_type": "code",
   "execution_count": 30,
   "metadata": {},
   "outputs": [
    {
     "data": {
      "text/plain": [
       "\n",
       "Call:\n",
       "lm(formula = scale(numgrade_2) ~ skipped_course + apscore + factor(firstgen) + \n",
       "    factor(lowincomeflag) + factor(gender) + factor(ethniccode_cat) + \n",
       "    hsgpa_z + scale(mathsr) + scale(englsr) + factor(crs_term) + \n",
       "    factor(enrl_from_cohort), data = df_chemSkEligible)\n",
       "\n",
       "Residuals:\n",
       "    Min      1Q  Median      3Q     Max \n",
       "-4.0998 -0.2684  0.1809  0.5069  1.4792 \n",
       "\n",
       "Coefficients:\n",
       "                           Estimate Std. Error t value Pr(>|t|)   \n",
       "(Intercept)               -2.144496   0.975247  -2.199  0.02948 * \n",
       "skipped_course             0.507528   0.246531   2.059  0.04133 * \n",
       "apscore                    0.470092   0.204508   2.299  0.02296 * \n",
       "factor(firstgen)1         -0.022904   0.218387  -0.105  0.91662   \n",
       "factor(lowincomeflag)2    -0.346274   0.199672  -1.734  0.08502 . \n",
       "factor(gender)1           -0.129143   0.159126  -0.812  0.41838   \n",
       "factor(ethniccode_cat)0    0.085366   0.337770   0.253  0.80083   \n",
       "factor(ethniccode_cat)2   -0.126631   0.300577  -0.421  0.67417   \n",
       "hsgpa_z                    0.343481   0.129819   2.646  0.00905 **\n",
       "scale(mathsr)              0.194540   0.093135   2.089  0.03849 * \n",
       "scale(englsr)             -0.009399   0.091707  -0.102  0.91851   \n",
       "factor(crs_term)2016      -0.061965   0.251965  -0.246  0.80609   \n",
       "factor(crs_term)2017      -0.316953   0.235898  -1.344  0.18119   \n",
       "factor(enrl_from_cohort)3 -0.420129   0.275230  -1.526  0.12909   \n",
       "---\n",
       "Signif. codes:  0 ‘***’ 0.001 ‘**’ 0.01 ‘*’ 0.05 ‘.’ 0.1 ‘ ’ 1\n",
       "\n",
       "Residual standard error: 0.9265 on 144 degrees of freedom\n",
       "  (4 observations deleted due to missingness)\n",
       "Multiple R-squared:  0.2288,\tAdjusted R-squared:  0.1592 \n",
       "F-statistic: 3.286 on 13 and 144 DF,  p-value: 0.0002154\n"
      ]
     },
     "metadata": {},
     "output_type": "display_data"
    }
   ],
   "source": [
    "##############\n",
    "# Following April 17 meeting conversation, for RQ2, try to include enrl_from_cohort\n",
    "# CHEM, 2b\n",
    "chemsr5_enr <- lm(scale(numgrade_2)~skipped_course + apscore +\n",
    "              factor(firstgen) + factor(lowincomeflag) + factor(gender) + factor(ethniccode_cat) + \n",
    "              hsgpa_z + scale(mathsr) + scale(englsr) + factor(crs_term) + factor(enrl_from_cohort), data=df_chemSkEligible)\n",
    "summary(chemsr5_enr)"
   ]
  },
  {
   "cell_type": "code",
   "execution_count": 133,
   "metadata": {},
   "outputs": [
    {
     "name": "stderr",
     "output_type": "stream",
     "text": [
      "Updating HTML index of packages in '.Library'\n",
      "\n",
      "Making 'packages.html' ...\n",
      " done\n",
      "\n"
     ]
    }
   ],
   "source": [
    "install.packages(\"fmsb\")"
   ]
  },
  {
   "cell_type": "code",
   "execution_count": 31,
   "metadata": {},
   "outputs": [
    {
     "data": {
      "text/html": [
       "1.29666985209404"
      ],
      "text/latex": [
       "1.29666985209404"
      ],
      "text/markdown": [
       "1.29666985209404"
      ],
      "text/plain": [
       "[1] 1.29667"
      ]
     },
     "metadata": {},
     "output_type": "display_data"
    }
   ],
   "source": [
    "library(fmsb)\n",
    "VIF(chemsr5_enr)"
   ]
  },
  {
   "cell_type": "code",
   "execution_count": null,
   "metadata": {},
   "outputs": [],
   "source": []
  }
 ],
 "metadata": {
  "kernelspec": {
   "display_name": "R",
   "language": "R",
   "name": "ir"
  },
  "language_info": {
   "codemirror_mode": "r",
   "file_extension": ".r",
   "mimetype": "text/x-r-source",
   "name": "R",
   "pygments_lexer": "r",
   "version": "3.6.1"
  }
 },
 "nbformat": 4,
 "nbformat_minor": 4
}
