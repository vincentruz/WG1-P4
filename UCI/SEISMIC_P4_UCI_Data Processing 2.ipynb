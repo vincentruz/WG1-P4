{
 "cells": [
  {
   "cell_type": "code",
   "execution_count": 1,
   "metadata": {},
   "outputs": [],
   "source": [
    "# Libraries\n",
    "pacman::p_load(\"haven\", # loading .dta file\n",
    "               \"tidyverse\", \"dplyr\", \"data.table\", \"psych\", \"tidyr\")"
   ]
  },
  {
   "cell_type": "code",
   "execution_count": 2,
   "metadata": {},
   "outputs": [],
   "source": [
    "## Load data\n",
    "# This step may vary by institutions\n",
    "apfull <- read.csv(\"/Users/thicn/Documents/AP Skip/apfull_SkipEl.csv\") # change to your local directory/dataset"
   ]
  },
  {
   "cell_type": "code",
   "execution_count": 3,
   "metadata": {},
   "outputs": [
    {
     "data": {
      "text/html": [
       "<table>\n",
       "<thead><tr><th scope=col>X.1</th><th scope=col>X</th><th scope=col>st_id</th><th scope=col>studentid</th><th scope=col>apskipper_GChem1</th><th scope=col>apskipper_Phys1</th><th scope=col>aptaker_Chem</th><th scope=col>apyear_Chem</th><th scope=col>apscore_Chem</th><th scope=col>aptaker_Mec</th><th scope=col>...</th><th scope=col>crs_term</th><th scope=col>admitdate</th><th scope=col>enrl_from_cohort</th><th scope=col>yearsenrolled</th><th scope=col>cohort</th><th scope=col>stemmajor</th><th scope=col>chemNotSkipthoughEl</th><th scope=col>aprealskipper_GChem1</th><th scope=col>physNotSkipthoughEl</th><th scope=col>aprealskipper_Phys1</th></tr></thead>\n",
       "<tbody>\n",
       "\t<tr><td>1       </td><td>1       </td><td>25      </td><td>10006293</td><td>0       </td><td>0       </td><td>0       </td><td>0       </td><td>0       </td><td>0       </td><td>...     </td><td>2014    </td><td>F14     </td><td>1       </td><td>0.25    </td><td>2014    </td><td>2       </td><td>0       </td><td>0       </td><td>0       </td><td>0       </td></tr>\n",
       "\t<tr><td>2       </td><td>2       </td><td>25      </td><td>10006293</td><td>0       </td><td>0       </td><td>0       </td><td>0       </td><td>0       </td><td>0       </td><td>...     </td><td>2014    </td><td>F14     </td><td>1       </td><td>0.25    </td><td>2014    </td><td>2       </td><td>0       </td><td>0       </td><td>0       </td><td>0       </td></tr>\n",
       "\t<tr><td>3       </td><td>3       </td><td>25      </td><td>10006293</td><td>0       </td><td>0       </td><td>0       </td><td>0       </td><td>0       </td><td>0       </td><td>...     </td><td>2014    </td><td>F14     </td><td>1       </td><td>0.25    </td><td>2014    </td><td>2       </td><td>0       </td><td>0       </td><td>0       </td><td>0       </td></tr>\n",
       "</tbody>\n",
       "</table>\n"
      ],
      "text/latex": [
       "\\begin{tabular}{r|lllllllllllllllllllllllllllllllllllllllllllllllll}\n",
       " X.1 & X & st\\_id & studentid & apskipper\\_GChem1 & apskipper\\_Phys1 & aptaker\\_Chem & apyear\\_Chem & apscore\\_Chem & aptaker\\_Mec & ... & crs\\_term & admitdate & enrl\\_from\\_cohort & yearsenrolled & cohort & stemmajor & chemNotSkipthoughEl & aprealskipper\\_GChem1 & physNotSkipthoughEl & aprealskipper\\_Phys1\\\\\n",
       "\\hline\n",
       "\t 1        & 1        & 25       & 10006293 & 0        & 0        & 0        & 0        & 0        & 0        & ...      & 2014     & F14      & 1        & 0.25     & 2014     & 2        & 0        & 0        & 0        & 0       \\\\\n",
       "\t 2        & 2        & 25       & 10006293 & 0        & 0        & 0        & 0        & 0        & 0        & ...      & 2014     & F14      & 1        & 0.25     & 2014     & 2        & 0        & 0        & 0        & 0       \\\\\n",
       "\t 3        & 3        & 25       & 10006293 & 0        & 0        & 0        & 0        & 0        & 0        & ...      & 2014     & F14      & 1        & 0.25     & 2014     & 2        & 0        & 0        & 0        & 0       \\\\\n",
       "\\end{tabular}\n"
      ],
      "text/markdown": [
       "\n",
       "| X.1 | X | st_id | studentid | apskipper_GChem1 | apskipper_Phys1 | aptaker_Chem | apyear_Chem | apscore_Chem | aptaker_Mec | ... | crs_term | admitdate | enrl_from_cohort | yearsenrolled | cohort | stemmajor | chemNotSkipthoughEl | aprealskipper_GChem1 | physNotSkipthoughEl | aprealskipper_Phys1 |\n",
       "|---|---|---|---|---|---|---|---|---|---|---|---|---|---|---|---|---|---|---|---|---|\n",
       "| 1        | 1        | 25       | 10006293 | 0        | 0        | 0        | 0        | 0        | 0        | ...      | 2014     | F14      | 1        | 0.25     | 2014     | 2        | 0        | 0        | 0        | 0        |\n",
       "| 2        | 2        | 25       | 10006293 | 0        | 0        | 0        | 0        | 0        | 0        | ...      | 2014     | F14      | 1        | 0.25     | 2014     | 2        | 0        | 0        | 0        | 0        |\n",
       "| 3        | 3        | 25       | 10006293 | 0        | 0        | 0        | 0        | 0        | 0        | ...      | 2014     | F14      | 1        | 0.25     | 2014     | 2        | 0        | 0        | 0        | 0        |\n",
       "\n"
      ],
      "text/plain": [
       "  X.1 X st_id studentid apskipper_GChem1 apskipper_Phys1 aptaker_Chem\n",
       "1 1   1 25    10006293  0                0               0           \n",
       "2 2   2 25    10006293  0                0               0           \n",
       "3 3   3 25    10006293  0                0               0           \n",
       "  apyear_Chem apscore_Chem aptaker_Mec ... crs_term admitdate enrl_from_cohort\n",
       "1 0           0            0           ... 2014     F14       1               \n",
       "2 0           0            0           ... 2014     F14       1               \n",
       "3 0           0            0           ... 2014     F14       1               \n",
       "  yearsenrolled cohort stemmajor chemNotSkipthoughEl aprealskipper_GChem1\n",
       "1 0.25          2014   2         0                   0                   \n",
       "2 0.25          2014   2         0                   0                   \n",
       "3 0.25          2014   2         0                   0                   \n",
       "  physNotSkipthoughEl aprealskipper_Phys1\n",
       "1 0                   0                  \n",
       "2 0                   0                  \n",
       "3 0                   0                  "
      ]
     },
     "metadata": {},
     "output_type": "display_data"
    }
   ],
   "source": [
    "head(apfull, 3)"
   ]
  },
  {
   "cell_type": "code",
   "execution_count": 4,
   "metadata": {},
   "outputs": [
    {
     "data": {
      "text/html": [
       "<ol class=list-inline>\n",
       "\t<li>'X.1'</li>\n",
       "\t<li>'X'</li>\n",
       "\t<li>'st_id'</li>\n",
       "\t<li>'studentid'</li>\n",
       "\t<li>'apskipper_GChem1'</li>\n",
       "\t<li>'apskipper_Phys1'</li>\n",
       "\t<li>'aptaker_Chem'</li>\n",
       "\t<li>'apyear_Chem'</li>\n",
       "\t<li>'apscore_Chem'</li>\n",
       "\t<li>'aptaker_Mec'</li>\n",
       "\t<li>'aptaker_Elec'</li>\n",
       "\t<li>'apyear_Mec'</li>\n",
       "\t<li>'apyear_Elec'</li>\n",
       "\t<li>'apscore_Mec'</li>\n",
       "\t<li>'apscore_Elec'</li>\n",
       "\t<li>'coursecode'</li>\n",
       "\t<li>'crs_name'</li>\n",
       "\t<li>'crs_catalog'</li>\n",
       "\t<li>'class_number'</li>\n",
       "\t<li>'crs_sbj'</li>\n",
       "\t<li>'level'</li>\n",
       "\t<li>'newfresh'</li>\n",
       "\t<li>'numgrade'</li>\n",
       "\t<li>'gender'</li>\n",
       "\t<li>'ethniccode'</li>\n",
       "\t<li>'ethniccode_cat'</li>\n",
       "\t<li>'ethniccode_cat2'</li>\n",
       "\t<li>'firstgen'</li>\n",
       "\t<li>'lowincomeflag'</li>\n",
       "\t<li>'ellflag'</li>\n",
       "\t<li>'international'</li>\n",
       "\t<li>'hsgpa'</li>\n",
       "\t<li>'hsgpa_z'</li>\n",
       "\t<li>'bstsat1mathsr'</li>\n",
       "\t<li>'bstsat1readsr'</li>\n",
       "\t<li>'actenglsr'</li>\n",
       "\t<li>'actmathsr'</li>\n",
       "\t<li>'mathsr'</li>\n",
       "\t<li>'englsr'</li>\n",
       "\t<li>'crs_term'</li>\n",
       "\t<li>'admitdate'</li>\n",
       "\t<li>'enrl_from_cohort'</li>\n",
       "\t<li>'yearsenrolled'</li>\n",
       "\t<li>'cohort'</li>\n",
       "\t<li>'stemmajor'</li>\n",
       "\t<li>'chemNotSkipthoughEl'</li>\n",
       "\t<li>'aprealskipper_GChem1'</li>\n",
       "\t<li>'physNotSkipthoughEl'</li>\n",
       "\t<li>'aprealskipper_Phys1'</li>\n",
       "</ol>\n"
      ],
      "text/latex": [
       "\\begin{enumerate*}\n",
       "\\item 'X.1'\n",
       "\\item 'X'\n",
       "\\item 'st\\_id'\n",
       "\\item 'studentid'\n",
       "\\item 'apskipper\\_GChem1'\n",
       "\\item 'apskipper\\_Phys1'\n",
       "\\item 'aptaker\\_Chem'\n",
       "\\item 'apyear\\_Chem'\n",
       "\\item 'apscore\\_Chem'\n",
       "\\item 'aptaker\\_Mec'\n",
       "\\item 'aptaker\\_Elec'\n",
       "\\item 'apyear\\_Mec'\n",
       "\\item 'apyear\\_Elec'\n",
       "\\item 'apscore\\_Mec'\n",
       "\\item 'apscore\\_Elec'\n",
       "\\item 'coursecode'\n",
       "\\item 'crs\\_name'\n",
       "\\item 'crs\\_catalog'\n",
       "\\item 'class\\_number'\n",
       "\\item 'crs\\_sbj'\n",
       "\\item 'level'\n",
       "\\item 'newfresh'\n",
       "\\item 'numgrade'\n",
       "\\item 'gender'\n",
       "\\item 'ethniccode'\n",
       "\\item 'ethniccode\\_cat'\n",
       "\\item 'ethniccode\\_cat2'\n",
       "\\item 'firstgen'\n",
       "\\item 'lowincomeflag'\n",
       "\\item 'ellflag'\n",
       "\\item 'international'\n",
       "\\item 'hsgpa'\n",
       "\\item 'hsgpa\\_z'\n",
       "\\item 'bstsat1mathsr'\n",
       "\\item 'bstsat1readsr'\n",
       "\\item 'actenglsr'\n",
       "\\item 'actmathsr'\n",
       "\\item 'mathsr'\n",
       "\\item 'englsr'\n",
       "\\item 'crs\\_term'\n",
       "\\item 'admitdate'\n",
       "\\item 'enrl\\_from\\_cohort'\n",
       "\\item 'yearsenrolled'\n",
       "\\item 'cohort'\n",
       "\\item 'stemmajor'\n",
       "\\item 'chemNotSkipthoughEl'\n",
       "\\item 'aprealskipper\\_GChem1'\n",
       "\\item 'physNotSkipthoughEl'\n",
       "\\item 'aprealskipper\\_Phys1'\n",
       "\\end{enumerate*}\n"
      ],
      "text/markdown": [
       "1. 'X.1'\n",
       "2. 'X'\n",
       "3. 'st_id'\n",
       "4. 'studentid'\n",
       "5. 'apskipper_GChem1'\n",
       "6. 'apskipper_Phys1'\n",
       "7. 'aptaker_Chem'\n",
       "8. 'apyear_Chem'\n",
       "9. 'apscore_Chem'\n",
       "10. 'aptaker_Mec'\n",
       "11. 'aptaker_Elec'\n",
       "12. 'apyear_Mec'\n",
       "13. 'apyear_Elec'\n",
       "14. 'apscore_Mec'\n",
       "15. 'apscore_Elec'\n",
       "16. 'coursecode'\n",
       "17. 'crs_name'\n",
       "18. 'crs_catalog'\n",
       "19. 'class_number'\n",
       "20. 'crs_sbj'\n",
       "21. 'level'\n",
       "22. 'newfresh'\n",
       "23. 'numgrade'\n",
       "24. 'gender'\n",
       "25. 'ethniccode'\n",
       "26. 'ethniccode_cat'\n",
       "27. 'ethniccode_cat2'\n",
       "28. 'firstgen'\n",
       "29. 'lowincomeflag'\n",
       "30. 'ellflag'\n",
       "31. 'international'\n",
       "32. 'hsgpa'\n",
       "33. 'hsgpa_z'\n",
       "34. 'bstsat1mathsr'\n",
       "35. 'bstsat1readsr'\n",
       "36. 'actenglsr'\n",
       "37. 'actmathsr'\n",
       "38. 'mathsr'\n",
       "39. 'englsr'\n",
       "40. 'crs_term'\n",
       "41. 'admitdate'\n",
       "42. 'enrl_from_cohort'\n",
       "43. 'yearsenrolled'\n",
       "44. 'cohort'\n",
       "45. 'stemmajor'\n",
       "46. 'chemNotSkipthoughEl'\n",
       "47. 'aprealskipper_GChem1'\n",
       "48. 'physNotSkipthoughEl'\n",
       "49. 'aprealskipper_Phys1'\n",
       "\n",
       "\n"
      ],
      "text/plain": [
       " [1] \"X.1\"                  \"X\"                    \"st_id\"               \n",
       " [4] \"studentid\"            \"apskipper_GChem1\"     \"apskipper_Phys1\"     \n",
       " [7] \"aptaker_Chem\"         \"apyear_Chem\"          \"apscore_Chem\"        \n",
       "[10] \"aptaker_Mec\"          \"aptaker_Elec\"         \"apyear_Mec\"          \n",
       "[13] \"apyear_Elec\"          \"apscore_Mec\"          \"apscore_Elec\"        \n",
       "[16] \"coursecode\"           \"crs_name\"             \"crs_catalog\"         \n",
       "[19] \"class_number\"         \"crs_sbj\"              \"level\"               \n",
       "[22] \"newfresh\"             \"numgrade\"             \"gender\"              \n",
       "[25] \"ethniccode\"           \"ethniccode_cat\"       \"ethniccode_cat2\"     \n",
       "[28] \"firstgen\"             \"lowincomeflag\"        \"ellflag\"             \n",
       "[31] \"international\"        \"hsgpa\"                \"hsgpa_z\"             \n",
       "[34] \"bstsat1mathsr\"        \"bstsat1readsr\"        \"actenglsr\"           \n",
       "[37] \"actmathsr\"            \"mathsr\"               \"englsr\"              \n",
       "[40] \"crs_term\"             \"admitdate\"            \"enrl_from_cohort\"    \n",
       "[43] \"yearsenrolled\"        \"cohort\"               \"stemmajor\"           \n",
       "[46] \"chemNotSkipthoughEl\"  \"aprealskipper_GChem1\" \"physNotSkipthoughEl\" \n",
       "[49] \"aprealskipper_Phys1\" "
      ]
     },
     "metadata": {},
     "output_type": "display_data"
    }
   ],
   "source": [
    "names(apfull)"
   ]
  },
  {
   "cell_type": "code",
   "execution_count": 5,
   "metadata": {},
   "outputs": [
    {
     "data": {
      "text/html": [
       "<table>\n",
       "<thead><tr><th></th><th scope=col>X.1</th><th scope=col>X</th><th scope=col>st_id</th><th scope=col>studentid</th><th scope=col>apskipper_GChem1</th><th scope=col>apskipper_Phys1</th><th scope=col>aptaker_Chem</th><th scope=col>apyear_Chem</th><th scope=col>apscore_Chem</th><th scope=col>aptaker_Mec</th><th scope=col>...</th><th scope=col>crs_term</th><th scope=col>admitdate</th><th scope=col>enrl_from_cohort</th><th scope=col>yearsenrolled</th><th scope=col>cohort</th><th scope=col>stemmajor</th><th scope=col>chemNotSkipthoughEl</th><th scope=col>aprealskipper_GChem1</th><th scope=col>physNotSkipthoughEl</th><th scope=col>aprealskipper_Phys1</th></tr></thead>\n",
       "<tbody>\n",
       "\t<tr><th scope=row>1</th><td> 1      </td><td> 1      </td><td>25      </td><td>10006293</td><td>0       </td><td>0       </td><td>0       </td><td>   0    </td><td>0       </td><td>0       </td><td>...     </td><td>2014    </td><td>F14     </td><td>1       </td><td>0.25    </td><td>2014    </td><td>2       </td><td>0       </td><td>0       </td><td>0       </td><td>0       </td></tr>\n",
       "\t<tr><th scope=row>10</th><td>10      </td><td>10      </td><td>25      </td><td>10006293</td><td>0       </td><td>0       </td><td>0       </td><td>   0    </td><td>0       </td><td>0       </td><td>...     </td><td>2015    </td><td>F14     </td><td>2       </td><td>0.50    </td><td>2014    </td><td>2       </td><td>0       </td><td>0       </td><td>0       </td><td>0       </td></tr>\n",
       "\t<tr><th scope=row>60</th><td>60      </td><td>60      </td><td>45      </td><td>10026709</td><td>0       </td><td>0       </td><td>1       </td><td>2012    </td><td>3       </td><td>0       </td><td>...     </td><td>2013    </td><td>F13     </td><td>1       </td><td>0.25    </td><td>2013    </td><td>1       </td><td>0       </td><td>0       </td><td>0       </td><td>0       </td></tr>\n",
       "\t<tr><th scope=row>65</th><td>65      </td><td>65      </td><td>45      </td><td>10026709</td><td>0       </td><td>0       </td><td>1       </td><td>2012    </td><td>3       </td><td>0       </td><td>...     </td><td>2014    </td><td>F13     </td><td>2       </td><td>0.50    </td><td>2013    </td><td>1       </td><td>0       </td><td>0       </td><td>0       </td><td>0       </td></tr>\n",
       "\t<tr><th scope=row>87</th><td>87      </td><td>87      </td><td>51      </td><td>10031543</td><td>0       </td><td>0       </td><td>0       </td><td>   0    </td><td>0       </td><td>0       </td><td>...     </td><td>2016    </td><td>F16     </td><td>1       </td><td>0.25    </td><td>2016    </td><td>2       </td><td>0       </td><td>0       </td><td>0       </td><td>0       </td></tr>\n",
       "\t<tr><th scope=row>95</th><td>95      </td><td>95      </td><td>51      </td><td>10031543</td><td>0       </td><td>0       </td><td>0       </td><td>   0    </td><td>0       </td><td>0       </td><td>...     </td><td>2017    </td><td>F16     </td><td>2       </td><td>0.50    </td><td>2016    </td><td>2       </td><td>0       </td><td>0       </td><td>0       </td><td>0       </td></tr>\n",
       "</tbody>\n",
       "</table>\n"
      ],
      "text/latex": [
       "\\begin{tabular}{r|lllllllllllllllllllllllllllllllllllllllllllllllll}\n",
       "  & X.1 & X & st\\_id & studentid & apskipper\\_GChem1 & apskipper\\_Phys1 & aptaker\\_Chem & apyear\\_Chem & apscore\\_Chem & aptaker\\_Mec & ... & crs\\_term & admitdate & enrl\\_from\\_cohort & yearsenrolled & cohort & stemmajor & chemNotSkipthoughEl & aprealskipper\\_GChem1 & physNotSkipthoughEl & aprealskipper\\_Phys1\\\\\n",
       "\\hline\n",
       "\t1 &  1       &  1       & 25       & 10006293 & 0        & 0        & 0        &    0     & 0        & 0        & ...      & 2014     & F14      & 1        & 0.25     & 2014     & 2        & 0        & 0        & 0        & 0       \\\\\n",
       "\t10 & 10       & 10       & 25       & 10006293 & 0        & 0        & 0        &    0     & 0        & 0        & ...      & 2015     & F14      & 2        & 0.50     & 2014     & 2        & 0        & 0        & 0        & 0       \\\\\n",
       "\t60 & 60       & 60       & 45       & 10026709 & 0        & 0        & 1        & 2012     & 3        & 0        & ...      & 2013     & F13      & 1        & 0.25     & 2013     & 1        & 0        & 0        & 0        & 0       \\\\\n",
       "\t65 & 65       & 65       & 45       & 10026709 & 0        & 0        & 1        & 2012     & 3        & 0        & ...      & 2014     & F13      & 2        & 0.50     & 2013     & 1        & 0        & 0        & 0        & 0       \\\\\n",
       "\t87 & 87       & 87       & 51       & 10031543 & 0        & 0        & 0        &    0     & 0        & 0        & ...      & 2016     & F16      & 1        & 0.25     & 2016     & 2        & 0        & 0        & 0        & 0       \\\\\n",
       "\t95 & 95       & 95       & 51       & 10031543 & 0        & 0        & 0        &    0     & 0        & 0        & ...      & 2017     & F16      & 2        & 0.50     & 2016     & 2        & 0        & 0        & 0        & 0       \\\\\n",
       "\\end{tabular}\n"
      ],
      "text/markdown": [
       "\n",
       "| <!--/--> | X.1 | X | st_id | studentid | apskipper_GChem1 | apskipper_Phys1 | aptaker_Chem | apyear_Chem | apscore_Chem | aptaker_Mec | ... | crs_term | admitdate | enrl_from_cohort | yearsenrolled | cohort | stemmajor | chemNotSkipthoughEl | aprealskipper_GChem1 | physNotSkipthoughEl | aprealskipper_Phys1 |\n",
       "|---|---|---|---|---|---|---|---|---|---|---|---|---|---|---|---|---|---|---|---|---|---|\n",
       "| 1 |  1       |  1       | 25       | 10006293 | 0        | 0        | 0        |    0     | 0        | 0        | ...      | 2014     | F14      | 1        | 0.25     | 2014     | 2        | 0        | 0        | 0        | 0        |\n",
       "| 10 | 10       | 10       | 25       | 10006293 | 0        | 0        | 0        |    0     | 0        | 0        | ...      | 2015     | F14      | 2        | 0.50     | 2014     | 2        | 0        | 0        | 0        | 0        |\n",
       "| 60 | 60       | 60       | 45       | 10026709 | 0        | 0        | 1        | 2012     | 3        | 0        | ...      | 2013     | F13      | 1        | 0.25     | 2013     | 1        | 0        | 0        | 0        | 0        |\n",
       "| 65 | 65       | 65       | 45       | 10026709 | 0        | 0        | 1        | 2012     | 3        | 0        | ...      | 2014     | F13      | 2        | 0.50     | 2013     | 1        | 0        | 0        | 0        | 0        |\n",
       "| 87 | 87       | 87       | 51       | 10031543 | 0        | 0        | 0        |    0     | 0        | 0        | ...      | 2016     | F16      | 1        | 0.25     | 2016     | 2        | 0        | 0        | 0        | 0        |\n",
       "| 95 | 95       | 95       | 51       | 10031543 | 0        | 0        | 0        |    0     | 0        | 0        | ...      | 2017     | F16      | 2        | 0.50     | 2016     | 2        | 0        | 0        | 0        | 0        |\n",
       "\n"
      ],
      "text/plain": [
       "   X.1 X  st_id studentid apskipper_GChem1 apskipper_Phys1 aptaker_Chem\n",
       "1   1   1 25    10006293  0                0               0           \n",
       "10 10  10 25    10006293  0                0               0           \n",
       "60 60  60 45    10026709  0                0               1           \n",
       "65 65  65 45    10026709  0                0               1           \n",
       "87 87  87 51    10031543  0                0               0           \n",
       "95 95  95 51    10031543  0                0               0           \n",
       "   apyear_Chem apscore_Chem aptaker_Mec ... crs_term admitdate enrl_from_cohort\n",
       "1     0        0            0           ... 2014     F14       1               \n",
       "10    0        0            0           ... 2015     F14       2               \n",
       "60 2012        3            0           ... 2013     F13       1               \n",
       "65 2012        3            0           ... 2014     F13       2               \n",
       "87    0        0            0           ... 2016     F16       1               \n",
       "95    0        0            0           ... 2017     F16       2               \n",
       "   yearsenrolled cohort stemmajor chemNotSkipthoughEl aprealskipper_GChem1\n",
       "1  0.25          2014   2         0                   0                   \n",
       "10 0.50          2014   2         0                   0                   \n",
       "60 0.25          2013   1         0                   0                   \n",
       "65 0.50          2013   1         0                   0                   \n",
       "87 0.25          2016   2         0                   0                   \n",
       "95 0.50          2016   2         0                   0                   \n",
       "   physNotSkipthoughEl aprealskipper_Phys1\n",
       "1  0                   0                  \n",
       "10 0                   0                  \n",
       "60 0                   0                  \n",
       "65 0                   0                  \n",
       "87 0                   0                  \n",
       "95 0                   0                  "
      ]
     },
     "metadata": {},
     "output_type": "display_data"
    },
    {
     "data": {
      "text/plain": [
       "\n",
       "    0     1 \n",
       "14559  4557 "
      ]
     },
     "metadata": {},
     "output_type": "display_data"
    }
   ],
   "source": [
    "# Reshape to dataset format from Pitts (file dataset_example)\n",
    "chem <- subset(apfull, class_number%in%c(\"0001A\", \"0001B\") & crs_name==\"GENERAL CHEMISTRY\")\n",
    "head(chem)\n",
    "table(chem$aptaker_Chem)"
   ]
  },
  {
   "cell_type": "code",
   "execution_count": 6,
   "metadata": {},
   "outputs": [],
   "source": [
    "chemSelect <- chem[c(\"st_id\", \"studentid\", \"apskipper_GChem1\", \"aptaker_Chem\", \"apyear_Chem\", \"apscore_Chem\",\n",
    "                    \"coursecode\", \"crs_name\", \"crs_catalog\", \"class_number\", \"crs_sbj\", \"level\", \"newfresh\",\n",
    "                    \"numgrade\", \"gender\", \"ethniccode\", \"ethniccode_cat\", \"ethniccode_cat2\", \"firstgen\", \"lowincomeflag\",\n",
    "                    \"ellflag\", \"hsgpa\", \"hsgpa_z\", \"bstsat1mathsr\", \"bstsat1readsr\", \"actenglsr\", \"actmathsr\", \"mathsr\", \"englsr\",\n",
    "                    \"crs_term\", \"admitdate\", \"enrl_from_cohort\", \"yearsenrolled\", \"cohort\", \"stemmajor\", \"chemNotSkipthoughEl\", \"aprealskipper_GChem1\")]"
   ]
  },
  {
   "cell_type": "code",
   "execution_count": 7,
   "metadata": {
    "scrolled": true
   },
   "outputs": [
    {
     "data": {
      "text/html": [
       "<table>\n",
       "<thead><tr><th scope=col>st_id</th><th scope=col>studentid</th><th scope=col>apskipper_GChem1</th><th scope=col>aptaker_Chem</th><th scope=col>apyear_Chem</th><th scope=col>apscore_Chem</th><th scope=col>coursecode</th><th scope=col>crs_name</th><th scope=col>crs_catalog</th><th scope=col>crs_sbj</th><th scope=col>...</th><th scope=col>crs_term</th><th scope=col>admitdate</th><th scope=col>enrl_from_cohort</th><th scope=col>yearsenrolled</th><th scope=col>cohort</th><th scope=col>stemmajor</th><th scope=col>chemNotSkipthoughEl</th><th scope=col>aprealskipper_GChem1</th><th scope=col>0001A</th><th scope=col>0001B</th></tr></thead>\n",
       "<tbody>\n",
       "\t<tr><td>25               </td><td>10006293         </td><td>0                </td><td>0                </td><td>   0             </td><td>0                </td><td>40030            </td><td>GENERAL CHEMISTRY</td><td>4003020142CHEM   </td><td>CHEM             </td><td>...              </td><td>2014             </td><td>F14              </td><td>1                </td><td>0.25             </td><td>2014             </td><td>2                </td><td>0                </td><td>0                </td><td> 2               </td><td> NA              </td></tr>\n",
       "\t<tr><td>25               </td><td>10006293         </td><td>0                </td><td>0                </td><td>   0             </td><td>0                </td><td>40240            </td><td>GENERAL CHEMISTRY</td><td>4024020153CHEM   </td><td>CHEM             </td><td>...              </td><td>2015             </td><td>F14              </td><td>2                </td><td>0.50             </td><td>2014             </td><td>2                </td><td>0                </td><td>0                </td><td>NA               </td><td>2.3              </td></tr>\n",
       "\t<tr><td>45               </td><td>10026709         </td><td>0                </td><td>1                </td><td>2012             </td><td>3                </td><td>40050            </td><td>GENERAL CHEMISTRY</td><td>4005020132CHEM   </td><td>CHEM             </td><td>...              </td><td>2013             </td><td>F13              </td><td>1                </td><td>0.25             </td><td>2013             </td><td>1                </td><td>0                </td><td>0                </td><td> 3               </td><td> NA              </td></tr>\n",
       "\t<tr><td>45               </td><td>10026709         </td><td>0                </td><td>1                </td><td>2012             </td><td>3                </td><td>40240            </td><td>GENERAL CHEMISTRY</td><td>4024020143CHEM   </td><td>CHEM             </td><td>...              </td><td>2014             </td><td>F13              </td><td>2                </td><td>0.50             </td><td>2013             </td><td>1                </td><td>0                </td><td>0                </td><td>NA               </td><td>2.0              </td></tr>\n",
       "\t<tr><td>51               </td><td>10031543         </td><td>0                </td><td>0                </td><td>   0             </td><td>0                </td><td>40000            </td><td>GENERAL CHEMISTRY</td><td>4000020162CHEM   </td><td>CHEM             </td><td>...              </td><td>2016             </td><td>F16              </td><td>1                </td><td>0.25             </td><td>2016             </td><td>2                </td><td>0                </td><td>0                </td><td> 2               </td><td> NA              </td></tr>\n",
       "\t<tr><td>51               </td><td>10031543         </td><td>0                </td><td>0                </td><td>   0             </td><td>0                </td><td>40200            </td><td>GENERAL CHEMISTRY</td><td>4020020173CHEM   </td><td>CHEM             </td><td>...              </td><td>2017             </td><td>F16              </td><td>2                </td><td>0.50             </td><td>2016             </td><td>2                </td><td>0                </td><td>0                </td><td>NA               </td><td>3.3              </td></tr>\n",
       "</tbody>\n",
       "</table>\n"
      ],
      "text/latex": [
       "\\begin{tabular}{r|lllllllllllllllllllllllllllllllllllll}\n",
       " st\\_id & studentid & apskipper\\_GChem1 & aptaker\\_Chem & apyear\\_Chem & apscore\\_Chem & coursecode & crs\\_name & crs\\_catalog & crs\\_sbj & ... & crs\\_term & admitdate & enrl\\_from\\_cohort & yearsenrolled & cohort & stemmajor & chemNotSkipthoughEl & aprealskipper\\_GChem1 & 0001A & 0001B\\\\\n",
       "\\hline\n",
       "\t 25                & 10006293          & 0                 & 0                 &    0              & 0                 & 40030             & GENERAL CHEMISTRY & 4003020142CHEM    & CHEM              & ...               & 2014              & F14               & 1                 & 0.25              & 2014              & 2                 & 0                 & 0                 &  2                &  NA              \\\\\n",
       "\t 25                & 10006293          & 0                 & 0                 &    0              & 0                 & 40240             & GENERAL CHEMISTRY & 4024020153CHEM    & CHEM              & ...               & 2015              & F14               & 2                 & 0.50              & 2014              & 2                 & 0                 & 0                 & NA                & 2.3              \\\\\n",
       "\t 45                & 10026709          & 0                 & 1                 & 2012              & 3                 & 40050             & GENERAL CHEMISTRY & 4005020132CHEM    & CHEM              & ...               & 2013              & F13               & 1                 & 0.25              & 2013              & 1                 & 0                 & 0                 &  3                &  NA              \\\\\n",
       "\t 45                & 10026709          & 0                 & 1                 & 2012              & 3                 & 40240             & GENERAL CHEMISTRY & 4024020143CHEM    & CHEM              & ...               & 2014              & F13               & 2                 & 0.50              & 2013              & 1                 & 0                 & 0                 & NA                & 2.0              \\\\\n",
       "\t 51                & 10031543          & 0                 & 0                 &    0              & 0                 & 40000             & GENERAL CHEMISTRY & 4000020162CHEM    & CHEM              & ...               & 2016              & F16               & 1                 & 0.25              & 2016              & 2                 & 0                 & 0                 &  2                &  NA              \\\\\n",
       "\t 51                & 10031543          & 0                 & 0                 &    0              & 0                 & 40200             & GENERAL CHEMISTRY & 4020020173CHEM    & CHEM              & ...               & 2017              & F16               & 2                 & 0.50              & 2016              & 2                 & 0                 & 0                 & NA                & 3.3              \\\\\n",
       "\\end{tabular}\n"
      ],
      "text/markdown": [
       "\n",
       "| st_id | studentid | apskipper_GChem1 | aptaker_Chem | apyear_Chem | apscore_Chem | coursecode | crs_name | crs_catalog | crs_sbj | ... | crs_term | admitdate | enrl_from_cohort | yearsenrolled | cohort | stemmajor | chemNotSkipthoughEl | aprealskipper_GChem1 | 0001A | 0001B |\n",
       "|---|---|---|---|---|---|---|---|---|---|---|---|---|---|---|---|---|---|---|---|---|\n",
       "| 25                | 10006293          | 0                 | 0                 |    0              | 0                 | 40030             | GENERAL CHEMISTRY | 4003020142CHEM    | CHEM              | ...               | 2014              | F14               | 1                 | 0.25              | 2014              | 2                 | 0                 | 0                 |  2                |  NA               |\n",
       "| 25                | 10006293          | 0                 | 0                 |    0              | 0                 | 40240             | GENERAL CHEMISTRY | 4024020153CHEM    | CHEM              | ...               | 2015              | F14               | 2                 | 0.50              | 2014              | 2                 | 0                 | 0                 | NA                | 2.3               |\n",
       "| 45                | 10026709          | 0                 | 1                 | 2012              | 3                 | 40050             | GENERAL CHEMISTRY | 4005020132CHEM    | CHEM              | ...               | 2013              | F13               | 1                 | 0.25              | 2013              | 1                 | 0                 | 0                 |  3                |  NA               |\n",
       "| 45                | 10026709          | 0                 | 1                 | 2012              | 3                 | 40240             | GENERAL CHEMISTRY | 4024020143CHEM    | CHEM              | ...               | 2014              | F13               | 2                 | 0.50              | 2013              | 1                 | 0                 | 0                 | NA                | 2.0               |\n",
       "| 51                | 10031543          | 0                 | 0                 |    0              | 0                 | 40000             | GENERAL CHEMISTRY | 4000020162CHEM    | CHEM              | ...               | 2016              | F16               | 1                 | 0.25              | 2016              | 2                 | 0                 | 0                 |  2                |  NA               |\n",
       "| 51                | 10031543          | 0                 | 0                 |    0              | 0                 | 40200             | GENERAL CHEMISTRY | 4020020173CHEM    | CHEM              | ...               | 2017              | F16               | 2                 | 0.50              | 2016              | 2                 | 0                 | 0                 | NA                | 3.3               |\n",
       "\n"
      ],
      "text/plain": [
       "  st_id studentid apskipper_GChem1 aptaker_Chem apyear_Chem apscore_Chem\n",
       "1 25    10006293  0                0               0        0           \n",
       "2 25    10006293  0                0               0        0           \n",
       "3 45    10026709  0                1            2012        3           \n",
       "4 45    10026709  0                1            2012        3           \n",
       "5 51    10031543  0                0               0        0           \n",
       "6 51    10031543  0                0               0        0           \n",
       "  coursecode crs_name          crs_catalog    crs_sbj ... crs_term admitdate\n",
       "1 40030      GENERAL CHEMISTRY 4003020142CHEM CHEM    ... 2014     F14      \n",
       "2 40240      GENERAL CHEMISTRY 4024020153CHEM CHEM    ... 2015     F14      \n",
       "3 40050      GENERAL CHEMISTRY 4005020132CHEM CHEM    ... 2013     F13      \n",
       "4 40240      GENERAL CHEMISTRY 4024020143CHEM CHEM    ... 2014     F13      \n",
       "5 40000      GENERAL CHEMISTRY 4000020162CHEM CHEM    ... 2016     F16      \n",
       "6 40200      GENERAL CHEMISTRY 4020020173CHEM CHEM    ... 2017     F16      \n",
       "  enrl_from_cohort yearsenrolled cohort stemmajor chemNotSkipthoughEl\n",
       "1 1                0.25          2014   2         0                  \n",
       "2 2                0.50          2014   2         0                  \n",
       "3 1                0.25          2013   1         0                  \n",
       "4 2                0.50          2013   1         0                  \n",
       "5 1                0.25          2016   2         0                  \n",
       "6 2                0.50          2016   2         0                  \n",
       "  aprealskipper_GChem1 0001A 0001B\n",
       "1 0                     2     NA  \n",
       "2 0                    NA    2.3  \n",
       "3 0                     3     NA  \n",
       "4 0                    NA    2.0  \n",
       "5 0                     2     NA  \n",
       "6 0                    NA    3.3  "
      ]
     },
     "metadata": {},
     "output_type": "display_data"
    }
   ],
   "source": [
    "# Create two columns for numgrade for course 1A and 1B\n",
    "chemSelectWide <- spread(chemSelect, class_number, numgrade)\n",
    "head(chemSelectWide)"
   ]
  },
  {
   "cell_type": "code",
   "execution_count": 8,
   "metadata": {},
   "outputs": [],
   "source": [
    "colnames(chemSelectWide)[which(names(chemSelectWide)==\"0001A\")] <- \"crs1\"\n",
    "colnames(chemSelectWide)[which(names(chemSelectWide)==\"0001B\")] <- \"crs2\""
   ]
  },
  {
   "cell_type": "code",
   "execution_count": 9,
   "metadata": {},
   "outputs": [],
   "source": [
    "chemSelectWide2 <- sapply(split(chemSelectWide, f = chemSelectWide$st_id), FUN = function(x) {\n",
    "  out <- data.frame(st_id = unique(x$st_id),\n",
    "                   numgrade_1 = paste(unique(na.omit(x$crs1)), collapse = \",\"),\n",
    "                   numgrade_2 = paste(unique(na.omit(x$crs2)), collapse = \",\"))\n",
    "  out\n",
    "}, simplify = FALSE)\n",
    "\n",
    "chemSelectWide2 <- do.call(rbind, chemSelectWide2)"
   ]
  },
  {
   "cell_type": "code",
   "execution_count": 10,
   "metadata": {},
   "outputs": [
    {
     "data": {
      "text/html": [
       "<table>\n",
       "<thead><tr><th></th><th scope=col>st_id</th><th scope=col>numgrade_1</th><th scope=col>numgrade_2</th></tr></thead>\n",
       "<tbody>\n",
       "\t<tr><th scope=row>25</th><td>25 </td><td>2  </td><td>2.3</td></tr>\n",
       "\t<tr><th scope=row>45</th><td>45 </td><td>3  </td><td>2  </td></tr>\n",
       "\t<tr><th scope=row>51</th><td>51 </td><td>2  </td><td>3.3</td></tr>\n",
       "\t<tr><th scope=row>60</th><td>60 </td><td>   </td><td>1.7</td></tr>\n",
       "\t<tr><th scope=row>64</th><td>64 </td><td>   </td><td>2  </td></tr>\n",
       "\t<tr><th scope=row>83</th><td>83 </td><td>4  </td><td>3.7</td></tr>\n",
       "</tbody>\n",
       "</table>\n"
      ],
      "text/latex": [
       "\\begin{tabular}{r|lll}\n",
       "  & st\\_id & numgrade\\_1 & numgrade\\_2\\\\\n",
       "\\hline\n",
       "\t25 & 25  & 2   & 2.3\\\\\n",
       "\t45 & 45  & 3   & 2  \\\\\n",
       "\t51 & 51  & 2   & 3.3\\\\\n",
       "\t60 & 60  &     & 1.7\\\\\n",
       "\t64 & 64  &     & 2  \\\\\n",
       "\t83 & 83  & 4   & 3.7\\\\\n",
       "\\end{tabular}\n"
      ],
      "text/markdown": [
       "\n",
       "| <!--/--> | st_id | numgrade_1 | numgrade_2 |\n",
       "|---|---|---|---|\n",
       "| 25 | 25  | 2   | 2.3 |\n",
       "| 45 | 45  | 3   | 2   |\n",
       "| 51 | 51  | 2   | 3.3 |\n",
       "| 60 | 60  |     | 1.7 |\n",
       "| 64 | 64  |     | 2   |\n",
       "| 83 | 83  | 4   | 3.7 |\n",
       "\n"
      ],
      "text/plain": [
       "   st_id numgrade_1 numgrade_2\n",
       "25 25    2          2.3       \n",
       "45 45    3          2         \n",
       "51 51    2          3.3       \n",
       "60 60               1.7       \n",
       "64 64               2         \n",
       "83 83    4          3.7       "
      ]
     },
     "metadata": {},
     "output_type": "display_data"
    }
   ],
   "source": [
    "head(chemSelectWide2)"
   ]
  },
  {
   "cell_type": "code",
   "execution_count": 11,
   "metadata": {},
   "outputs": [],
   "source": [
    "write.csv(chemSelectWide2, \"/Users/thicn/Documents/AP Skip/chemGrade.csv\")\n",
    "# Retain first value"
   ]
  },
  {
   "cell_type": "code",
   "execution_count": 21,
   "metadata": {},
   "outputs": [],
   "source": [
    "chemSelectWide3 <- read.csv(\"/Users/thicn/Documents/AP Skip/chemGrade.csv\")"
   ]
  },
  {
   "cell_type": "code",
   "execution_count": 22,
   "metadata": {},
   "outputs": [
    {
     "data": {
      "text/html": [
       "<table>\n",
       "<thead><tr><th scope=col>st_id</th><th scope=col>numgrade_1</th><th scope=col>numgrade_2</th></tr></thead>\n",
       "<tbody>\n",
       "\t<tr><td>25 </td><td>2  </td><td>2.3</td></tr>\n",
       "\t<tr><td>45 </td><td>3  </td><td>2.0</td></tr>\n",
       "\t<tr><td>51 </td><td>2  </td><td>3.3</td></tr>\n",
       "</tbody>\n",
       "</table>\n"
      ],
      "text/latex": [
       "\\begin{tabular}{r|lll}\n",
       " st\\_id & numgrade\\_1 & numgrade\\_2\\\\\n",
       "\\hline\n",
       "\t 25  & 2   & 2.3\\\\\n",
       "\t 45  & 3   & 2.0\\\\\n",
       "\t 51  & 2   & 3.3\\\\\n",
       "\\end{tabular}\n"
      ],
      "text/markdown": [
       "\n",
       "| st_id | numgrade_1 | numgrade_2 |\n",
       "|---|---|---|\n",
       "| 25  | 2   | 2.3 |\n",
       "| 45  | 3   | 2.0 |\n",
       "| 51  | 2   | 3.3 |\n",
       "\n"
      ],
      "text/plain": [
       "  st_id numgrade_1 numgrade_2\n",
       "1 25    2          2.3       \n",
       "2 45    3          2.0       \n",
       "3 51    2          3.3       "
      ]
     },
     "metadata": {},
     "output_type": "display_data"
    }
   ],
   "source": [
    "head(chemSelectWide3, 3)"
   ]
  },
  {
   "cell_type": "code",
   "execution_count": 63,
   "metadata": {},
   "outputs": [],
   "source": [
    "chemSelectMerge <- left_join(chemSelect, chemSelectWide3, by=\"st_id\")"
   ]
  },
  {
   "cell_type": "code",
   "execution_count": 64,
   "metadata": {},
   "outputs": [
    {
     "data": {
      "text/html": [
       "<table>\n",
       "<thead><tr><th scope=col>st_id</th><th scope=col>studentid</th><th scope=col>apskipper_GChem1</th><th scope=col>aptaker_Chem</th><th scope=col>apyear_Chem</th><th scope=col>apscore_Chem</th><th scope=col>coursecode</th><th scope=col>crs_name</th><th scope=col>crs_catalog</th><th scope=col>class_number</th><th scope=col>...</th><th scope=col>crs_term</th><th scope=col>admitdate</th><th scope=col>enrl_from_cohort</th><th scope=col>yearsenrolled</th><th scope=col>cohort</th><th scope=col>stemmajor</th><th scope=col>chemNotSkipthoughEl</th><th scope=col>aprealskipper_GChem1</th><th scope=col>numgrade_1</th><th scope=col>numgrade_2</th></tr></thead>\n",
       "<tbody>\n",
       "\t<tr><td>25               </td><td>10006293         </td><td>0                </td><td>0                </td><td>   0             </td><td>0                </td><td>40030            </td><td>GENERAL CHEMISTRY</td><td>4003020142CHEM   </td><td>0001A            </td><td>...              </td><td>2014             </td><td>F14              </td><td>1                </td><td>0.25             </td><td>2014             </td><td>2                </td><td>0                </td><td>0                </td><td>2                </td><td>2.3              </td></tr>\n",
       "\t<tr><td>25               </td><td>10006293         </td><td>0                </td><td>0                </td><td>   0             </td><td>0                </td><td>40240            </td><td>GENERAL CHEMISTRY</td><td>4024020153CHEM   </td><td>0001B            </td><td>...              </td><td>2015             </td><td>F14              </td><td>2                </td><td>0.50             </td><td>2014             </td><td>2                </td><td>0                </td><td>0                </td><td>2                </td><td>2.3              </td></tr>\n",
       "\t<tr><td>45               </td><td>10026709         </td><td>0                </td><td>1                </td><td>2012             </td><td>3                </td><td>40050            </td><td>GENERAL CHEMISTRY</td><td>4005020132CHEM   </td><td>0001A            </td><td>...              </td><td>2013             </td><td>F13              </td><td>1                </td><td>0.25             </td><td>2013             </td><td>1                </td><td>0                </td><td>0                </td><td>3                </td><td>2.0              </td></tr>\n",
       "\t<tr><td>45               </td><td>10026709         </td><td>0                </td><td>1                </td><td>2012             </td><td>3                </td><td>40240            </td><td>GENERAL CHEMISTRY</td><td>4024020143CHEM   </td><td>0001B            </td><td>...              </td><td>2014             </td><td>F13              </td><td>2                </td><td>0.50             </td><td>2013             </td><td>1                </td><td>0                </td><td>0                </td><td>3                </td><td>2.0              </td></tr>\n",
       "\t<tr><td>51               </td><td>10031543         </td><td>0                </td><td>0                </td><td>   0             </td><td>0                </td><td>40000            </td><td>GENERAL CHEMISTRY</td><td>4000020162CHEM   </td><td>0001A            </td><td>...              </td><td>2016             </td><td>F16              </td><td>1                </td><td>0.25             </td><td>2016             </td><td>2                </td><td>0                </td><td>0                </td><td>2                </td><td>3.3              </td></tr>\n",
       "\t<tr><td>51               </td><td>10031543         </td><td>0                </td><td>0                </td><td>   0             </td><td>0                </td><td>40200            </td><td>GENERAL CHEMISTRY</td><td>4020020173CHEM   </td><td>0001B            </td><td>...              </td><td>2017             </td><td>F16              </td><td>2                </td><td>0.50             </td><td>2016             </td><td>2                </td><td>0                </td><td>0                </td><td>2                </td><td>3.3              </td></tr>\n",
       "</tbody>\n",
       "</table>\n"
      ],
      "text/latex": [
       "\\begin{tabular}{r|lllllllllllllllllllllllllllllllllllllll}\n",
       " st\\_id & studentid & apskipper\\_GChem1 & aptaker\\_Chem & apyear\\_Chem & apscore\\_Chem & coursecode & crs\\_name & crs\\_catalog & class\\_number & ... & crs\\_term & admitdate & enrl\\_from\\_cohort & yearsenrolled & cohort & stemmajor & chemNotSkipthoughEl & aprealskipper\\_GChem1 & numgrade\\_1 & numgrade\\_2\\\\\n",
       "\\hline\n",
       "\t 25                & 10006293          & 0                 & 0                 &    0              & 0                 & 40030             & GENERAL CHEMISTRY & 4003020142CHEM    & 0001A             & ...               & 2014              & F14               & 1                 & 0.25              & 2014              & 2                 & 0                 & 0                 & 2                 & 2.3              \\\\\n",
       "\t 25                & 10006293          & 0                 & 0                 &    0              & 0                 & 40240             & GENERAL CHEMISTRY & 4024020153CHEM    & 0001B             & ...               & 2015              & F14               & 2                 & 0.50              & 2014              & 2                 & 0                 & 0                 & 2                 & 2.3              \\\\\n",
       "\t 45                & 10026709          & 0                 & 1                 & 2012              & 3                 & 40050             & GENERAL CHEMISTRY & 4005020132CHEM    & 0001A             & ...               & 2013              & F13               & 1                 & 0.25              & 2013              & 1                 & 0                 & 0                 & 3                 & 2.0              \\\\\n",
       "\t 45                & 10026709          & 0                 & 1                 & 2012              & 3                 & 40240             & GENERAL CHEMISTRY & 4024020143CHEM    & 0001B             & ...               & 2014              & F13               & 2                 & 0.50              & 2013              & 1                 & 0                 & 0                 & 3                 & 2.0              \\\\\n",
       "\t 51                & 10031543          & 0                 & 0                 &    0              & 0                 & 40000             & GENERAL CHEMISTRY & 4000020162CHEM    & 0001A             & ...               & 2016              & F16               & 1                 & 0.25              & 2016              & 2                 & 0                 & 0                 & 2                 & 3.3              \\\\\n",
       "\t 51                & 10031543          & 0                 & 0                 &    0              & 0                 & 40200             & GENERAL CHEMISTRY & 4020020173CHEM    & 0001B             & ...               & 2017              & F16               & 2                 & 0.50              & 2016              & 2                 & 0                 & 0                 & 2                 & 3.3              \\\\\n",
       "\\end{tabular}\n"
      ],
      "text/markdown": [
       "\n",
       "| st_id | studentid | apskipper_GChem1 | aptaker_Chem | apyear_Chem | apscore_Chem | coursecode | crs_name | crs_catalog | class_number | ... | crs_term | admitdate | enrl_from_cohort | yearsenrolled | cohort | stemmajor | chemNotSkipthoughEl | aprealskipper_GChem1 | numgrade_1 | numgrade_2 |\n",
       "|---|---|---|---|---|---|---|---|---|---|---|---|---|---|---|---|---|---|---|---|---|\n",
       "| 25                | 10006293          | 0                 | 0                 |    0              | 0                 | 40030             | GENERAL CHEMISTRY | 4003020142CHEM    | 0001A             | ...               | 2014              | F14               | 1                 | 0.25              | 2014              | 2                 | 0                 | 0                 | 2                 | 2.3               |\n",
       "| 25                | 10006293          | 0                 | 0                 |    0              | 0                 | 40240             | GENERAL CHEMISTRY | 4024020153CHEM    | 0001B             | ...               | 2015              | F14               | 2                 | 0.50              | 2014              | 2                 | 0                 | 0                 | 2                 | 2.3               |\n",
       "| 45                | 10026709          | 0                 | 1                 | 2012              | 3                 | 40050             | GENERAL CHEMISTRY | 4005020132CHEM    | 0001A             | ...               | 2013              | F13               | 1                 | 0.25              | 2013              | 1                 | 0                 | 0                 | 3                 | 2.0               |\n",
       "| 45                | 10026709          | 0                 | 1                 | 2012              | 3                 | 40240             | GENERAL CHEMISTRY | 4024020143CHEM    | 0001B             | ...               | 2014              | F13               | 2                 | 0.50              | 2013              | 1                 | 0                 | 0                 | 3                 | 2.0               |\n",
       "| 51                | 10031543          | 0                 | 0                 |    0              | 0                 | 40000             | GENERAL CHEMISTRY | 4000020162CHEM    | 0001A             | ...               | 2016              | F16               | 1                 | 0.25              | 2016              | 2                 | 0                 | 0                 | 2                 | 3.3               |\n",
       "| 51                | 10031543          | 0                 | 0                 |    0              | 0                 | 40200             | GENERAL CHEMISTRY | 4020020173CHEM    | 0001B             | ...               | 2017              | F16               | 2                 | 0.50              | 2016              | 2                 | 0                 | 0                 | 2                 | 3.3               |\n",
       "\n"
      ],
      "text/plain": [
       "  st_id studentid apskipper_GChem1 aptaker_Chem apyear_Chem apscore_Chem\n",
       "1 25    10006293  0                0               0        0           \n",
       "2 25    10006293  0                0               0        0           \n",
       "3 45    10026709  0                1            2012        3           \n",
       "4 45    10026709  0                1            2012        3           \n",
       "5 51    10031543  0                0               0        0           \n",
       "6 51    10031543  0                0               0        0           \n",
       "  coursecode crs_name          crs_catalog    class_number ... crs_term\n",
       "1 40030      GENERAL CHEMISTRY 4003020142CHEM 0001A        ... 2014    \n",
       "2 40240      GENERAL CHEMISTRY 4024020153CHEM 0001B        ... 2015    \n",
       "3 40050      GENERAL CHEMISTRY 4005020132CHEM 0001A        ... 2013    \n",
       "4 40240      GENERAL CHEMISTRY 4024020143CHEM 0001B        ... 2014    \n",
       "5 40000      GENERAL CHEMISTRY 4000020162CHEM 0001A        ... 2016    \n",
       "6 40200      GENERAL CHEMISTRY 4020020173CHEM 0001B        ... 2017    \n",
       "  admitdate enrl_from_cohort yearsenrolled cohort stemmajor chemNotSkipthoughEl\n",
       "1 F14       1                0.25          2014   2         0                  \n",
       "2 F14       2                0.50          2014   2         0                  \n",
       "3 F13       1                0.25          2013   1         0                  \n",
       "4 F13       2                0.50          2013   1         0                  \n",
       "5 F16       1                0.25          2016   2         0                  \n",
       "6 F16       2                0.50          2016   2         0                  \n",
       "  aprealskipper_GChem1 numgrade_1 numgrade_2\n",
       "1 0                    2          2.3       \n",
       "2 0                    2          2.3       \n",
       "3 0                    3          2.0       \n",
       "4 0                    3          2.0       \n",
       "5 0                    2          3.3       \n",
       "6 0                    2          3.3       "
      ]
     },
     "metadata": {},
     "output_type": "display_data"
    }
   ],
   "source": [
    "head(chemSelectMerge)"
   ]
  },
  {
   "cell_type": "code",
   "execution_count": 65,
   "metadata": {},
   "outputs": [
    {
     "data": {
      "text/html": [
       "<ol class=list-inline>\n",
       "\t<li>'st_id'</li>\n",
       "\t<li>'studentid'</li>\n",
       "\t<li>'apskipper_GChem1'</li>\n",
       "\t<li>'aptaker_Chem'</li>\n",
       "\t<li>'apyear_Chem'</li>\n",
       "\t<li>'apscore_Chem'</li>\n",
       "\t<li>'coursecode'</li>\n",
       "\t<li>'crs_name'</li>\n",
       "\t<li>'crs_catalog'</li>\n",
       "\t<li>'class_number'</li>\n",
       "\t<li>'crs_sbj'</li>\n",
       "\t<li>'level'</li>\n",
       "\t<li>'newfresh'</li>\n",
       "\t<li>'numgrade'</li>\n",
       "\t<li>'gender'</li>\n",
       "\t<li>'ethniccode'</li>\n",
       "\t<li>'ethniccode_cat'</li>\n",
       "\t<li>'ethniccode_cat2'</li>\n",
       "\t<li>'firstgen'</li>\n",
       "\t<li>'lowincomeflag'</li>\n",
       "\t<li>'ellflag'</li>\n",
       "\t<li>'hsgpa'</li>\n",
       "\t<li>'hsgpa_z'</li>\n",
       "\t<li>'bstsat1mathsr'</li>\n",
       "\t<li>'bstsat1readsr'</li>\n",
       "\t<li>'actenglsr'</li>\n",
       "\t<li>'actmathsr'</li>\n",
       "\t<li>'mathsr'</li>\n",
       "\t<li>'englsr'</li>\n",
       "\t<li>'crs_term'</li>\n",
       "\t<li>'admitdate'</li>\n",
       "\t<li>'enrl_from_cohort'</li>\n",
       "\t<li>'yearsenrolled'</li>\n",
       "\t<li>'cohort'</li>\n",
       "\t<li>'stemmajor'</li>\n",
       "\t<li>'chemNotSkipthoughEl'</li>\n",
       "\t<li>'aprealskipper_GChem1'</li>\n",
       "\t<li>'numgrade_1'</li>\n",
       "\t<li>'numgrade_2'</li>\n",
       "</ol>\n"
      ],
      "text/latex": [
       "\\begin{enumerate*}\n",
       "\\item 'st\\_id'\n",
       "\\item 'studentid'\n",
       "\\item 'apskipper\\_GChem1'\n",
       "\\item 'aptaker\\_Chem'\n",
       "\\item 'apyear\\_Chem'\n",
       "\\item 'apscore\\_Chem'\n",
       "\\item 'coursecode'\n",
       "\\item 'crs\\_name'\n",
       "\\item 'crs\\_catalog'\n",
       "\\item 'class\\_number'\n",
       "\\item 'crs\\_sbj'\n",
       "\\item 'level'\n",
       "\\item 'newfresh'\n",
       "\\item 'numgrade'\n",
       "\\item 'gender'\n",
       "\\item 'ethniccode'\n",
       "\\item 'ethniccode\\_cat'\n",
       "\\item 'ethniccode\\_cat2'\n",
       "\\item 'firstgen'\n",
       "\\item 'lowincomeflag'\n",
       "\\item 'ellflag'\n",
       "\\item 'hsgpa'\n",
       "\\item 'hsgpa\\_z'\n",
       "\\item 'bstsat1mathsr'\n",
       "\\item 'bstsat1readsr'\n",
       "\\item 'actenglsr'\n",
       "\\item 'actmathsr'\n",
       "\\item 'mathsr'\n",
       "\\item 'englsr'\n",
       "\\item 'crs\\_term'\n",
       "\\item 'admitdate'\n",
       "\\item 'enrl\\_from\\_cohort'\n",
       "\\item 'yearsenrolled'\n",
       "\\item 'cohort'\n",
       "\\item 'stemmajor'\n",
       "\\item 'chemNotSkipthoughEl'\n",
       "\\item 'aprealskipper\\_GChem1'\n",
       "\\item 'numgrade\\_1'\n",
       "\\item 'numgrade\\_2'\n",
       "\\end{enumerate*}\n"
      ],
      "text/markdown": [
       "1. 'st_id'\n",
       "2. 'studentid'\n",
       "3. 'apskipper_GChem1'\n",
       "4. 'aptaker_Chem'\n",
       "5. 'apyear_Chem'\n",
       "6. 'apscore_Chem'\n",
       "7. 'coursecode'\n",
       "8. 'crs_name'\n",
       "9. 'crs_catalog'\n",
       "10. 'class_number'\n",
       "11. 'crs_sbj'\n",
       "12. 'level'\n",
       "13. 'newfresh'\n",
       "14. 'numgrade'\n",
       "15. 'gender'\n",
       "16. 'ethniccode'\n",
       "17. 'ethniccode_cat'\n",
       "18. 'ethniccode_cat2'\n",
       "19. 'firstgen'\n",
       "20. 'lowincomeflag'\n",
       "21. 'ellflag'\n",
       "22. 'hsgpa'\n",
       "23. 'hsgpa_z'\n",
       "24. 'bstsat1mathsr'\n",
       "25. 'bstsat1readsr'\n",
       "26. 'actenglsr'\n",
       "27. 'actmathsr'\n",
       "28. 'mathsr'\n",
       "29. 'englsr'\n",
       "30. 'crs_term'\n",
       "31. 'admitdate'\n",
       "32. 'enrl_from_cohort'\n",
       "33. 'yearsenrolled'\n",
       "34. 'cohort'\n",
       "35. 'stemmajor'\n",
       "36. 'chemNotSkipthoughEl'\n",
       "37. 'aprealskipper_GChem1'\n",
       "38. 'numgrade_1'\n",
       "39. 'numgrade_2'\n",
       "\n",
       "\n"
      ],
      "text/plain": [
       " [1] \"st_id\"                \"studentid\"            \"apskipper_GChem1\"    \n",
       " [4] \"aptaker_Chem\"         \"apyear_Chem\"          \"apscore_Chem\"        \n",
       " [7] \"coursecode\"           \"crs_name\"             \"crs_catalog\"         \n",
       "[10] \"class_number\"         \"crs_sbj\"              \"level\"               \n",
       "[13] \"newfresh\"             \"numgrade\"             \"gender\"              \n",
       "[16] \"ethniccode\"           \"ethniccode_cat\"       \"ethniccode_cat2\"     \n",
       "[19] \"firstgen\"             \"lowincomeflag\"        \"ellflag\"             \n",
       "[22] \"hsgpa\"                \"hsgpa_z\"              \"bstsat1mathsr\"       \n",
       "[25] \"bstsat1readsr\"        \"actenglsr\"            \"actmathsr\"           \n",
       "[28] \"mathsr\"               \"englsr\"               \"crs_term\"            \n",
       "[31] \"admitdate\"            \"enrl_from_cohort\"     \"yearsenrolled\"       \n",
       "[34] \"cohort\"               \"stemmajor\"            \"chemNotSkipthoughEl\" \n",
       "[37] \"aprealskipper_GChem1\" \"numgrade_1\"           \"numgrade_2\"          "
      ]
     },
     "metadata": {},
     "output_type": "display_data"
    }
   ],
   "source": [
    "names(chemSelectMerge)"
   ]
  },
  {
   "cell_type": "code",
   "execution_count": 66,
   "metadata": {},
   "outputs": [
    {
     "data": {
      "text/html": [
       "<ol class=list-inline>\n",
       "\t<li>'st_id'</li>\n",
       "\t<li>'studentid'</li>\n",
       "\t<li>'eligible_to_skip'</li>\n",
       "\t<li>'tookap'</li>\n",
       "\t<li>'apyear'</li>\n",
       "\t<li>'apscore'</li>\n",
       "\t<li>'coursecode'</li>\n",
       "\t<li>'crs_name'</li>\n",
       "\t<li>'crs_catalog'</li>\n",
       "\t<li>'class_number'</li>\n",
       "\t<li>'crs_sbj'</li>\n",
       "\t<li>'level'</li>\n",
       "\t<li>'newfresh'</li>\n",
       "\t<li>'numgradeALL'</li>\n",
       "\t<li>'gender'</li>\n",
       "\t<li>'ethniccode'</li>\n",
       "\t<li>'ethniccode_cat'</li>\n",
       "\t<li>'ethniccode_cat2'</li>\n",
       "\t<li>'firstgen'</li>\n",
       "\t<li>'lowincomeflag'</li>\n",
       "\t<li>'ellflag'</li>\n",
       "\t<li>'hsgpa'</li>\n",
       "\t<li>'hsgpa_z'</li>\n",
       "\t<li>'bstsat1mathsr'</li>\n",
       "\t<li>'bstsat1readsr'</li>\n",
       "\t<li>'actenglsr'</li>\n",
       "\t<li>'actmathsr'</li>\n",
       "\t<li>'mathsr'</li>\n",
       "\t<li>'englsr'</li>\n",
       "\t<li>'crs_term'</li>\n",
       "\t<li>'admitdate'</li>\n",
       "\t<li>'enrl_from_cohort'</li>\n",
       "\t<li>'yearsenrolled'</li>\n",
       "\t<li>'cohort'</li>\n",
       "\t<li>'stemmajor'</li>\n",
       "\t<li>'notSkip_Eli'</li>\n",
       "\t<li>'skipped_course'</li>\n",
       "\t<li>'numgrade'</li>\n",
       "\t<li>'numgrade_2'</li>\n",
       "\t<li>'discipline'</li>\n",
       "</ol>\n"
      ],
      "text/latex": [
       "\\begin{enumerate*}\n",
       "\\item 'st\\_id'\n",
       "\\item 'studentid'\n",
       "\\item 'eligible\\_to\\_skip'\n",
       "\\item 'tookap'\n",
       "\\item 'apyear'\n",
       "\\item 'apscore'\n",
       "\\item 'coursecode'\n",
       "\\item 'crs\\_name'\n",
       "\\item 'crs\\_catalog'\n",
       "\\item 'class\\_number'\n",
       "\\item 'crs\\_sbj'\n",
       "\\item 'level'\n",
       "\\item 'newfresh'\n",
       "\\item 'numgradeALL'\n",
       "\\item 'gender'\n",
       "\\item 'ethniccode'\n",
       "\\item 'ethniccode\\_cat'\n",
       "\\item 'ethniccode\\_cat2'\n",
       "\\item 'firstgen'\n",
       "\\item 'lowincomeflag'\n",
       "\\item 'ellflag'\n",
       "\\item 'hsgpa'\n",
       "\\item 'hsgpa\\_z'\n",
       "\\item 'bstsat1mathsr'\n",
       "\\item 'bstsat1readsr'\n",
       "\\item 'actenglsr'\n",
       "\\item 'actmathsr'\n",
       "\\item 'mathsr'\n",
       "\\item 'englsr'\n",
       "\\item 'crs\\_term'\n",
       "\\item 'admitdate'\n",
       "\\item 'enrl\\_from\\_cohort'\n",
       "\\item 'yearsenrolled'\n",
       "\\item 'cohort'\n",
       "\\item 'stemmajor'\n",
       "\\item 'notSkip\\_Eli'\n",
       "\\item 'skipped\\_course'\n",
       "\\item 'numgrade'\n",
       "\\item 'numgrade\\_2'\n",
       "\\item 'discipline'\n",
       "\\end{enumerate*}\n"
      ],
      "text/markdown": [
       "1. 'st_id'\n",
       "2. 'studentid'\n",
       "3. 'eligible_to_skip'\n",
       "4. 'tookap'\n",
       "5. 'apyear'\n",
       "6. 'apscore'\n",
       "7. 'coursecode'\n",
       "8. 'crs_name'\n",
       "9. 'crs_catalog'\n",
       "10. 'class_number'\n",
       "11. 'crs_sbj'\n",
       "12. 'level'\n",
       "13. 'newfresh'\n",
       "14. 'numgradeALL'\n",
       "15. 'gender'\n",
       "16. 'ethniccode'\n",
       "17. 'ethniccode_cat'\n",
       "18. 'ethniccode_cat2'\n",
       "19. 'firstgen'\n",
       "20. 'lowincomeflag'\n",
       "21. 'ellflag'\n",
       "22. 'hsgpa'\n",
       "23. 'hsgpa_z'\n",
       "24. 'bstsat1mathsr'\n",
       "25. 'bstsat1readsr'\n",
       "26. 'actenglsr'\n",
       "27. 'actmathsr'\n",
       "28. 'mathsr'\n",
       "29. 'englsr'\n",
       "30. 'crs_term'\n",
       "31. 'admitdate'\n",
       "32. 'enrl_from_cohort'\n",
       "33. 'yearsenrolled'\n",
       "34. 'cohort'\n",
       "35. 'stemmajor'\n",
       "36. 'notSkip_Eli'\n",
       "37. 'skipped_course'\n",
       "38. 'numgrade'\n",
       "39. 'numgrade_2'\n",
       "40. 'discipline'\n",
       "\n",
       "\n"
      ],
      "text/plain": [
       " [1] \"st_id\"            \"studentid\"        \"eligible_to_skip\" \"tookap\"          \n",
       " [5] \"apyear\"           \"apscore\"          \"coursecode\"       \"crs_name\"        \n",
       " [9] \"crs_catalog\"      \"class_number\"     \"crs_sbj\"          \"level\"           \n",
       "[13] \"newfresh\"         \"numgradeALL\"      \"gender\"           \"ethniccode\"      \n",
       "[17] \"ethniccode_cat\"   \"ethniccode_cat2\"  \"firstgen\"         \"lowincomeflag\"   \n",
       "[21] \"ellflag\"          \"hsgpa\"            \"hsgpa_z\"          \"bstsat1mathsr\"   \n",
       "[25] \"bstsat1readsr\"    \"actenglsr\"        \"actmathsr\"        \"mathsr\"          \n",
       "[29] \"englsr\"           \"crs_term\"         \"admitdate\"        \"enrl_from_cohort\"\n",
       "[33] \"yearsenrolled\"    \"cohort\"           \"stemmajor\"        \"notSkip_Eli\"     \n",
       "[37] \"skipped_course\"   \"numgrade\"         \"numgrade_2\"       \"discipline\"      "
      ]
     },
     "metadata": {},
     "output_type": "display_data"
    },
    {
     "data": {
      "text/html": [
       "<table>\n",
       "<thead><tr><th scope=col>st_id</th><th scope=col>studentid</th><th scope=col>eligible_to_skip</th><th scope=col>tookap</th><th scope=col>apyear</th><th scope=col>apscore</th><th scope=col>coursecode</th><th scope=col>crs_name</th><th scope=col>crs_catalog</th><th scope=col>class_number</th><th scope=col>...</th><th scope=col>admitdate</th><th scope=col>enrl_from_cohort</th><th scope=col>yearsenrolled</th><th scope=col>cohort</th><th scope=col>stemmajor</th><th scope=col>notSkip_Eli</th><th scope=col>skipped_course</th><th scope=col>numgrade</th><th scope=col>numgrade_2</th><th scope=col>discipline</th></tr></thead>\n",
       "<tbody>\n",
       "\t<tr><td>25               </td><td>10006293         </td><td>0                </td><td>0                </td><td>   0             </td><td>0                </td><td>40030            </td><td>GENERAL CHEMISTRY</td><td>4003020142CHEM   </td><td>0001A            </td><td>...              </td><td>F14              </td><td>1                </td><td>0.25             </td><td>2014             </td><td>2                </td><td>0                </td><td>0                </td><td>2                </td><td>2.3              </td><td>CHEM             </td></tr>\n",
       "\t<tr><td>25               </td><td>10006293         </td><td>0                </td><td>0                </td><td>   0             </td><td>0                </td><td>40240            </td><td>GENERAL CHEMISTRY</td><td>4024020153CHEM   </td><td>0001B            </td><td>...              </td><td>F14              </td><td>2                </td><td>0.50             </td><td>2014             </td><td>2                </td><td>0                </td><td>0                </td><td>2                </td><td>2.3              </td><td>CHEM             </td></tr>\n",
       "\t<tr><td>45               </td><td>10026709         </td><td>0                </td><td>1                </td><td>2012             </td><td>3                </td><td>40050            </td><td>GENERAL CHEMISTRY</td><td>4005020132CHEM   </td><td>0001A            </td><td>...              </td><td>F13              </td><td>1                </td><td>0.25             </td><td>2013             </td><td>1                </td><td>0                </td><td>0                </td><td>3                </td><td>2.0              </td><td>CHEM             </td></tr>\n",
       "</tbody>\n",
       "</table>\n"
      ],
      "text/latex": [
       "\\begin{tabular}{r|llllllllllllllllllllllllllllllllllllllll}\n",
       " st\\_id & studentid & eligible\\_to\\_skip & tookap & apyear & apscore & coursecode & crs\\_name & crs\\_catalog & class\\_number & ... & admitdate & enrl\\_from\\_cohort & yearsenrolled & cohort & stemmajor & notSkip\\_Eli & skipped\\_course & numgrade & numgrade\\_2 & discipline\\\\\n",
       "\\hline\n",
       "\t 25                & 10006293          & 0                 & 0                 &    0              & 0                 & 40030             & GENERAL CHEMISTRY & 4003020142CHEM    & 0001A             & ...               & F14               & 1                 & 0.25              & 2014              & 2                 & 0                 & 0                 & 2                 & 2.3               & CHEM             \\\\\n",
       "\t 25                & 10006293          & 0                 & 0                 &    0              & 0                 & 40240             & GENERAL CHEMISTRY & 4024020153CHEM    & 0001B             & ...               & F14               & 2                 & 0.50              & 2014              & 2                 & 0                 & 0                 & 2                 & 2.3               & CHEM             \\\\\n",
       "\t 45                & 10026709          & 0                 & 1                 & 2012              & 3                 & 40050             & GENERAL CHEMISTRY & 4005020132CHEM    & 0001A             & ...               & F13               & 1                 & 0.25              & 2013              & 1                 & 0                 & 0                 & 3                 & 2.0               & CHEM             \\\\\n",
       "\\end{tabular}\n"
      ],
      "text/markdown": [
       "\n",
       "| st_id | studentid | eligible_to_skip | tookap | apyear | apscore | coursecode | crs_name | crs_catalog | class_number | ... | admitdate | enrl_from_cohort | yearsenrolled | cohort | stemmajor | notSkip_Eli | skipped_course | numgrade | numgrade_2 | discipline |\n",
       "|---|---|---|---|---|---|---|---|---|---|---|---|---|---|---|---|---|---|---|---|---|\n",
       "| 25                | 10006293          | 0                 | 0                 |    0              | 0                 | 40030             | GENERAL CHEMISTRY | 4003020142CHEM    | 0001A             | ...               | F14               | 1                 | 0.25              | 2014              | 2                 | 0                 | 0                 | 2                 | 2.3               | CHEM              |\n",
       "| 25                | 10006293          | 0                 | 0                 |    0              | 0                 | 40240             | GENERAL CHEMISTRY | 4024020153CHEM    | 0001B             | ...               | F14               | 2                 | 0.50              | 2014              | 2                 | 0                 | 0                 | 2                 | 2.3               | CHEM              |\n",
       "| 45                | 10026709          | 0                 | 1                 | 2012              | 3                 | 40050             | GENERAL CHEMISTRY | 4005020132CHEM    | 0001A             | ...               | F13               | 1                 | 0.25              | 2013              | 1                 | 0                 | 0                 | 3                 | 2.0               | CHEM              |\n",
       "\n"
      ],
      "text/plain": [
       "  st_id studentid eligible_to_skip tookap apyear apscore coursecode\n",
       "1 25    10006293  0                0         0   0       40030     \n",
       "2 25    10006293  0                0         0   0       40240     \n",
       "3 45    10026709  0                1      2012   3       40050     \n",
       "  crs_name          crs_catalog    class_number ... admitdate enrl_from_cohort\n",
       "1 GENERAL CHEMISTRY 4003020142CHEM 0001A        ... F14       1               \n",
       "2 GENERAL CHEMISTRY 4024020153CHEM 0001B        ... F14       2               \n",
       "3 GENERAL CHEMISTRY 4005020132CHEM 0001A        ... F13       1               \n",
       "  yearsenrolled cohort stemmajor notSkip_Eli skipped_course numgrade numgrade_2\n",
       "1 0.25          2014   2         0           0              2        2.3       \n",
       "2 0.50          2014   2         0           0              2        2.3       \n",
       "3 0.25          2013   1         0           0              3        2.0       \n",
       "  discipline\n",
       "1 CHEM      \n",
       "2 CHEM      \n",
       "3 CHEM      "
      ]
     },
     "metadata": {},
     "output_type": "display_data"
    }
   ],
   "source": [
    "# Change column names\n",
    "names(chemSelectMerge) <- c(\"st_id\", \"studentid\", \"eligible_to_skip\", \"tookap\", \"apyear\", \"apscore\",\n",
    "                      \"coursecode\", \"crs_name\", \"crs_catalog\", \"class_number\", \"crs_sbj\",\n",
    "                      \"level\", \"newfresh\", \"numgradeALL\", \"gender\", \"ethniccode\", \"ethniccode_cat\", \"ethniccode_cat2\",\n",
    "                      \"firstgen\", \"lowincomeflag\", \"ellflag\", \"hsgpa\", \"hsgpa_z\",\n",
    "                      \"bstsat1mathsr\", 'bstsat1readsr', 'actenglsr', 'actmathsr', 'mathsr', 'englsr', 'crs_term', 'admitdate', 'enrl_from_cohort', 'yearsenrolled', 'cohort', 'stemmajor',\n",
    "                       'notSkip_Eli', 'skipped_course', \"numgrade\", \"numgrade_2\")\n",
    "# Make discipline for CHEM\n",
    "chemSelectMerge$discipline = \"CHEM\"\n",
    "\n",
    "names(chemSelectMerge)\n",
    "head(chemSelectMerge, 3)"
   ]
  },
  {
   "cell_type": "code",
   "execution_count": 92,
   "metadata": {},
   "outputs": [
    {
     "data": {
      "text/html": [
       "<table>\n",
       "<thead><tr><th></th><th scope=col>st_id</th><th scope=col>studentid</th><th scope=col>eligible_to_skip</th><th scope=col>tookap</th><th scope=col>apyear</th><th scope=col>apscore</th><th scope=col>coursecode</th><th scope=col>crs_name</th><th scope=col>crs_catalog</th><th scope=col>class_number</th><th scope=col>...</th><th scope=col>enrl_from_cohort</th><th scope=col>yearsenrolled</th><th scope=col>cohort</th><th scope=col>stemmajor</th><th scope=col>notSkip_Eli</th><th scope=col>skipped_course</th><th scope=col>numgrade</th><th scope=col>numgrade_2</th><th scope=col>discipline</th><th scope=col>numgrade_3</th></tr></thead>\n",
       "<tbody>\n",
       "\t<tr><th scope=row>2</th><td>25               </td><td>10006293         </td><td>0                </td><td>0                </td><td>   0             </td><td>0                </td><td>40240            </td><td>GENERAL CHEMISTRY</td><td>4024020153CHEM   </td><td>0001B            </td><td>...              </td><td>2                </td><td>0.5              </td><td>2014             </td><td>2                </td><td>0                </td><td>0                </td><td>2                </td><td>2.3              </td><td>CHEM             </td><td>NA               </td></tr>\n",
       "\t<tr><th scope=row>4</th><td>45               </td><td>10026709         </td><td>0                </td><td>1                </td><td>2012             </td><td>3                </td><td>40240            </td><td>GENERAL CHEMISTRY</td><td>4024020143CHEM   </td><td>0001B            </td><td>...              </td><td>2                </td><td>0.5              </td><td>2013             </td><td>1                </td><td>0                </td><td>0                </td><td>3                </td><td>2.0              </td><td>CHEM             </td><td>NA               </td></tr>\n",
       "\t<tr><th scope=row>6</th><td>51               </td><td>10031543         </td><td>0                </td><td>0                </td><td>   0             </td><td>0                </td><td>40200            </td><td>GENERAL CHEMISTRY</td><td>4020020173CHEM   </td><td>0001B            </td><td>...              </td><td>2                </td><td>0.5              </td><td>2016             </td><td>2                </td><td>0                </td><td>0                </td><td>2                </td><td>3.3              </td><td>CHEM             </td><td>NA               </td></tr>\n",
       "</tbody>\n",
       "</table>\n"
      ],
      "text/latex": [
       "\\begin{tabular}{r|llllllllllllllllllllllllllllllllllllllll}\n",
       "  & st\\_id & studentid & eligible\\_to\\_skip & tookap & apyear & apscore & coursecode & crs\\_name & crs\\_catalog & class\\_number & ... & enrl\\_from\\_cohort & yearsenrolled & cohort & stemmajor & notSkip\\_Eli & skipped\\_course & numgrade & numgrade\\_2 & discipline & numgrade\\_3\\\\\n",
       "\\hline\n",
       "\t2 & 25                & 10006293          & 0                 & 0                 &    0              & 0                 & 40240             & GENERAL CHEMISTRY & 4024020153CHEM    & 0001B             & ...               & 2                 & 0.5               & 2014              & 2                 & 0                 & 0                 & 2                 & 2.3               & CHEM              & NA               \\\\\n",
       "\t4 & 45                & 10026709          & 0                 & 1                 & 2012              & 3                 & 40240             & GENERAL CHEMISTRY & 4024020143CHEM    & 0001B             & ...               & 2                 & 0.5               & 2013              & 1                 & 0                 & 0                 & 3                 & 2.0               & CHEM              & NA               \\\\\n",
       "\t6 & 51                & 10031543          & 0                 & 0                 &    0              & 0                 & 40200             & GENERAL CHEMISTRY & 4020020173CHEM    & 0001B             & ...               & 2                 & 0.5               & 2016              & 2                 & 0                 & 0                 & 2                 & 3.3               & CHEM              & NA               \\\\\n",
       "\\end{tabular}\n"
      ],
      "text/markdown": [
       "\n",
       "| <!--/--> | st_id | studentid | eligible_to_skip | tookap | apyear | apscore | coursecode | crs_name | crs_catalog | class_number | ... | enrl_from_cohort | yearsenrolled | cohort | stemmajor | notSkip_Eli | skipped_course | numgrade | numgrade_2 | discipline | numgrade_3 |\n",
       "|---|---|---|---|---|---|---|---|---|---|---|---|---|---|---|---|---|---|---|---|---|---|\n",
       "| 2 | 25                | 10006293          | 0                 | 0                 |    0              | 0                 | 40240             | GENERAL CHEMISTRY | 4024020153CHEM    | 0001B             | ...               | 2                 | 0.5               | 2014              | 2                 | 0                 | 0                 | 2                 | 2.3               | CHEM              | NA                |\n",
       "| 4 | 45                | 10026709          | 0                 | 1                 | 2012              | 3                 | 40240             | GENERAL CHEMISTRY | 4024020143CHEM    | 0001B             | ...               | 2                 | 0.5               | 2013              | 1                 | 0                 | 0                 | 3                 | 2.0               | CHEM              | NA                |\n",
       "| 6 | 51                | 10031543          | 0                 | 0                 |    0              | 0                 | 40200             | GENERAL CHEMISTRY | 4020020173CHEM    | 0001B             | ...               | 2                 | 0.5               | 2016              | 2                 | 0                 | 0                 | 2                 | 3.3               | CHEM              | NA                |\n",
       "\n"
      ],
      "text/plain": [
       "  st_id studentid eligible_to_skip tookap apyear apscore coursecode\n",
       "2 25    10006293  0                0         0   0       40240     \n",
       "4 45    10026709  0                1      2012   3       40240     \n",
       "6 51    10031543  0                0         0   0       40200     \n",
       "  crs_name          crs_catalog    class_number ... enrl_from_cohort\n",
       "2 GENERAL CHEMISTRY 4024020153CHEM 0001B        ... 2               \n",
       "4 GENERAL CHEMISTRY 4024020143CHEM 0001B        ... 2               \n",
       "6 GENERAL CHEMISTRY 4020020173CHEM 0001B        ... 2               \n",
       "  yearsenrolled cohort stemmajor notSkip_Eli skipped_course numgrade numgrade_2\n",
       "2 0.5           2014   2         0           0              2        2.3       \n",
       "4 0.5           2013   1         0           0              3        2.0       \n",
       "6 0.5           2016   2         0           0              2        3.3       \n",
       "  discipline numgrade_3\n",
       "2 CHEM       NA        \n",
       "4 CHEM       NA        \n",
       "6 CHEM       NA        "
      ]
     },
     "metadata": {},
     "output_type": "display_data"
    }
   ],
   "source": [
    "# Keep unique df by st_id\n",
    "chemSelect_unique <- chemSelectMerge[chemSelectMerge$class_number==\"0001B\",]\n",
    "\n",
    "head(chemSelect_unique, 3)"
   ]
  },
  {
   "cell_type": "code",
   "execution_count": 93,
   "metadata": {},
   "outputs": [
    {
     "data": {
      "text/plain": [
       "\n",
       "   0    1 \n",
       "9176  546 "
      ]
     },
     "metadata": {},
     "output_type": "display_data"
    }
   ],
   "source": [
    "table(chemSelect_unique$skipped_course)"
   ]
  },
  {
   "cell_type": "code",
   "execution_count": 69,
   "metadata": {},
   "outputs": [],
   "source": [
    "write.csv(chemSelectMerge, \"/Users/thicn/Documents/AP Skip/chemSelect.csv\")\n",
    "write.csv(chemSelect_unique, \"/Users/thicn/Documents/AP Skip/chemSelect_unique.csv\")"
   ]
  },
  {
   "cell_type": "code",
   "execution_count": 49,
   "metadata": {},
   "outputs": [],
   "source": [
    "######\n",
    "# Physics\n",
    "phys <- subset(apfull, class_number%in%c(\"0007C\", \"0007D\", \"0007E\") & crs_name==\"CLASSICAL PHYSICS\")"
   ]
  },
  {
   "cell_type": "code",
   "execution_count": 31,
   "metadata": {},
   "outputs": [
    {
     "data": {
      "text/html": [
       "<table>\n",
       "<thead><tr><th></th><th scope=col>X.1</th><th scope=col>X</th><th scope=col>st_id</th><th scope=col>studentid</th><th scope=col>apskipper_GChem1</th><th scope=col>apskipper_Phys1</th><th scope=col>aptaker_Chem</th><th scope=col>apyear_Chem</th><th scope=col>apscore_Chem</th><th scope=col>aptaker_Mec</th><th scope=col>...</th><th scope=col>crs_term</th><th scope=col>admitdate</th><th scope=col>enrl_from_cohort</th><th scope=col>yearsenrolled</th><th scope=col>cohort</th><th scope=col>stemmajor</th><th scope=col>chemNotSkipthoughEl</th><th scope=col>aprealskipper_GChem1</th><th scope=col>physNotSkipthoughEl</th><th scope=col>aprealskipper_Phys1</th></tr></thead>\n",
       "<tbody>\n",
       "\t<tr><th scope=row>24</th><td> 24     </td><td> 24     </td><td> 26     </td><td>10006456</td><td>0       </td><td>0       </td><td>0       </td><td>0       </td><td>0       </td><td>0       </td><td>...     </td><td>2015    </td><td>F15     </td><td>1       </td><td>0.25    </td><td>2015    </td><td>1       </td><td>0       </td><td>0       </td><td>0       </td><td>0       </td></tr>\n",
       "\t<tr><th scope=row>162</th><td>162     </td><td>162     </td><td> 67     </td><td>10049520</td><td>0       </td><td>0       </td><td>0       </td><td>0       </td><td>0       </td><td>0       </td><td>...     </td><td>2017    </td><td>F16     </td><td>2       </td><td>0.50    </td><td>2016    </td><td>2       </td><td>0       </td><td>0       </td><td>0       </td><td>0       </td></tr>\n",
       "\t<tr><th scope=row>302</th><td>302     </td><td>302     </td><td>114     </td><td>10083085</td><td>0       </td><td>0       </td><td>0       </td><td>0       </td><td>0       </td><td>0       </td><td>...     </td><td>2017    </td><td>F16     </td><td>3       </td><td>0.75    </td><td>2016    </td><td>1       </td><td>0       </td><td>0       </td><td>0       </td><td>0       </td></tr>\n",
       "</tbody>\n",
       "</table>\n"
      ],
      "text/latex": [
       "\\begin{tabular}{r|lllllllllllllllllllllllllllllllllllllllllllllllll}\n",
       "  & X.1 & X & st\\_id & studentid & apskipper\\_GChem1 & apskipper\\_Phys1 & aptaker\\_Chem & apyear\\_Chem & apscore\\_Chem & aptaker\\_Mec & ... & crs\\_term & admitdate & enrl\\_from\\_cohort & yearsenrolled & cohort & stemmajor & chemNotSkipthoughEl & aprealskipper\\_GChem1 & physNotSkipthoughEl & aprealskipper\\_Phys1\\\\\n",
       "\\hline\n",
       "\t24 &  24      &  24      &  26      & 10006456 & 0        & 0        & 0        & 0        & 0        & 0        & ...      & 2015     & F15      & 1        & 0.25     & 2015     & 1        & 0        & 0        & 0        & 0       \\\\\n",
       "\t162 & 162      & 162      &  67      & 10049520 & 0        & 0        & 0        & 0        & 0        & 0        & ...      & 2017     & F16      & 2        & 0.50     & 2016     & 2        & 0        & 0        & 0        & 0       \\\\\n",
       "\t302 & 302      & 302      & 114      & 10083085 & 0        & 0        & 0        & 0        & 0        & 0        & ...      & 2017     & F16      & 3        & 0.75     & 2016     & 1        & 0        & 0        & 0        & 0       \\\\\n",
       "\\end{tabular}\n"
      ],
      "text/markdown": [
       "\n",
       "| <!--/--> | X.1 | X | st_id | studentid | apskipper_GChem1 | apskipper_Phys1 | aptaker_Chem | apyear_Chem | apscore_Chem | aptaker_Mec | ... | crs_term | admitdate | enrl_from_cohort | yearsenrolled | cohort | stemmajor | chemNotSkipthoughEl | aprealskipper_GChem1 | physNotSkipthoughEl | aprealskipper_Phys1 |\n",
       "|---|---|---|---|---|---|---|---|---|---|---|---|---|---|---|---|---|---|---|---|---|---|\n",
       "| 24 |  24      |  24      |  26      | 10006456 | 0        | 0        | 0        | 0        | 0        | 0        | ...      | 2015     | F15      | 1        | 0.25     | 2015     | 1        | 0        | 0        | 0        | 0        |\n",
       "| 162 | 162      | 162      |  67      | 10049520 | 0        | 0        | 0        | 0        | 0        | 0        | ...      | 2017     | F16      | 2        | 0.50     | 2016     | 2        | 0        | 0        | 0        | 0        |\n",
       "| 302 | 302      | 302      | 114      | 10083085 | 0        | 0        | 0        | 0        | 0        | 0        | ...      | 2017     | F16      | 3        | 0.75     | 2016     | 1        | 0        | 0        | 0        | 0        |\n",
       "\n"
      ],
      "text/plain": [
       "    X.1 X   st_id studentid apskipper_GChem1 apskipper_Phys1 aptaker_Chem\n",
       "24   24  24  26   10006456  0                0               0           \n",
       "162 162 162  67   10049520  0                0               0           \n",
       "302 302 302 114   10083085  0                0               0           \n",
       "    apyear_Chem apscore_Chem aptaker_Mec ... crs_term admitdate\n",
       "24  0           0            0           ... 2015     F15      \n",
       "162 0           0            0           ... 2017     F16      \n",
       "302 0           0            0           ... 2017     F16      \n",
       "    enrl_from_cohort yearsenrolled cohort stemmajor chemNotSkipthoughEl\n",
       "24  1                0.25          2015   1         0                  \n",
       "162 2                0.50          2016   2         0                  \n",
       "302 3                0.75          2016   1         0                  \n",
       "    aprealskipper_GChem1 physNotSkipthoughEl aprealskipper_Phys1\n",
       "24  0                    0                   0                  \n",
       "162 0                    0                   0                  \n",
       "302 0                    0                   0                  "
      ]
     },
     "metadata": {},
     "output_type": "display_data"
    },
    {
     "data": {
      "text/html": [
       "<ol class=list-inline>\n",
       "\t<li>'X.1'</li>\n",
       "\t<li>'X'</li>\n",
       "\t<li>'st_id'</li>\n",
       "\t<li>'studentid'</li>\n",
       "\t<li>'apskipper_GChem1'</li>\n",
       "\t<li>'apskipper_Phys1'</li>\n",
       "\t<li>'aptaker_Chem'</li>\n",
       "\t<li>'apyear_Chem'</li>\n",
       "\t<li>'apscore_Chem'</li>\n",
       "\t<li>'aptaker_Mec'</li>\n",
       "\t<li>'aptaker_Elec'</li>\n",
       "\t<li>'apyear_Mec'</li>\n",
       "\t<li>'apyear_Elec'</li>\n",
       "\t<li>'apscore_Mec'</li>\n",
       "\t<li>'apscore_Elec'</li>\n",
       "\t<li>'coursecode'</li>\n",
       "\t<li>'crs_name'</li>\n",
       "\t<li>'crs_catalog'</li>\n",
       "\t<li>'class_number'</li>\n",
       "\t<li>'crs_sbj'</li>\n",
       "\t<li>'level'</li>\n",
       "\t<li>'newfresh'</li>\n",
       "\t<li>'numgrade'</li>\n",
       "\t<li>'gender'</li>\n",
       "\t<li>'ethniccode'</li>\n",
       "\t<li>'ethniccode_cat'</li>\n",
       "\t<li>'ethniccode_cat2'</li>\n",
       "\t<li>'firstgen'</li>\n",
       "\t<li>'lowincomeflag'</li>\n",
       "\t<li>'ellflag'</li>\n",
       "\t<li>'international'</li>\n",
       "\t<li>'hsgpa'</li>\n",
       "\t<li>'hsgpa_z'</li>\n",
       "\t<li>'bstsat1mathsr'</li>\n",
       "\t<li>'bstsat1readsr'</li>\n",
       "\t<li>'actenglsr'</li>\n",
       "\t<li>'actmathsr'</li>\n",
       "\t<li>'mathsr'</li>\n",
       "\t<li>'englsr'</li>\n",
       "\t<li>'crs_term'</li>\n",
       "\t<li>'admitdate'</li>\n",
       "\t<li>'enrl_from_cohort'</li>\n",
       "\t<li>'yearsenrolled'</li>\n",
       "\t<li>'cohort'</li>\n",
       "\t<li>'stemmajor'</li>\n",
       "\t<li>'chemNotSkipthoughEl'</li>\n",
       "\t<li>'aprealskipper_GChem1'</li>\n",
       "\t<li>'physNotSkipthoughEl'</li>\n",
       "\t<li>'aprealskipper_Phys1'</li>\n",
       "</ol>\n"
      ],
      "text/latex": [
       "\\begin{enumerate*}\n",
       "\\item 'X.1'\n",
       "\\item 'X'\n",
       "\\item 'st\\_id'\n",
       "\\item 'studentid'\n",
       "\\item 'apskipper\\_GChem1'\n",
       "\\item 'apskipper\\_Phys1'\n",
       "\\item 'aptaker\\_Chem'\n",
       "\\item 'apyear\\_Chem'\n",
       "\\item 'apscore\\_Chem'\n",
       "\\item 'aptaker\\_Mec'\n",
       "\\item 'aptaker\\_Elec'\n",
       "\\item 'apyear\\_Mec'\n",
       "\\item 'apyear\\_Elec'\n",
       "\\item 'apscore\\_Mec'\n",
       "\\item 'apscore\\_Elec'\n",
       "\\item 'coursecode'\n",
       "\\item 'crs\\_name'\n",
       "\\item 'crs\\_catalog'\n",
       "\\item 'class\\_number'\n",
       "\\item 'crs\\_sbj'\n",
       "\\item 'level'\n",
       "\\item 'newfresh'\n",
       "\\item 'numgrade'\n",
       "\\item 'gender'\n",
       "\\item 'ethniccode'\n",
       "\\item 'ethniccode\\_cat'\n",
       "\\item 'ethniccode\\_cat2'\n",
       "\\item 'firstgen'\n",
       "\\item 'lowincomeflag'\n",
       "\\item 'ellflag'\n",
       "\\item 'international'\n",
       "\\item 'hsgpa'\n",
       "\\item 'hsgpa\\_z'\n",
       "\\item 'bstsat1mathsr'\n",
       "\\item 'bstsat1readsr'\n",
       "\\item 'actenglsr'\n",
       "\\item 'actmathsr'\n",
       "\\item 'mathsr'\n",
       "\\item 'englsr'\n",
       "\\item 'crs\\_term'\n",
       "\\item 'admitdate'\n",
       "\\item 'enrl\\_from\\_cohort'\n",
       "\\item 'yearsenrolled'\n",
       "\\item 'cohort'\n",
       "\\item 'stemmajor'\n",
       "\\item 'chemNotSkipthoughEl'\n",
       "\\item 'aprealskipper\\_GChem1'\n",
       "\\item 'physNotSkipthoughEl'\n",
       "\\item 'aprealskipper\\_Phys1'\n",
       "\\end{enumerate*}\n"
      ],
      "text/markdown": [
       "1. 'X.1'\n",
       "2. 'X'\n",
       "3. 'st_id'\n",
       "4. 'studentid'\n",
       "5. 'apskipper_GChem1'\n",
       "6. 'apskipper_Phys1'\n",
       "7. 'aptaker_Chem'\n",
       "8. 'apyear_Chem'\n",
       "9. 'apscore_Chem'\n",
       "10. 'aptaker_Mec'\n",
       "11. 'aptaker_Elec'\n",
       "12. 'apyear_Mec'\n",
       "13. 'apyear_Elec'\n",
       "14. 'apscore_Mec'\n",
       "15. 'apscore_Elec'\n",
       "16. 'coursecode'\n",
       "17. 'crs_name'\n",
       "18. 'crs_catalog'\n",
       "19. 'class_number'\n",
       "20. 'crs_sbj'\n",
       "21. 'level'\n",
       "22. 'newfresh'\n",
       "23. 'numgrade'\n",
       "24. 'gender'\n",
       "25. 'ethniccode'\n",
       "26. 'ethniccode_cat'\n",
       "27. 'ethniccode_cat2'\n",
       "28. 'firstgen'\n",
       "29. 'lowincomeflag'\n",
       "30. 'ellflag'\n",
       "31. 'international'\n",
       "32. 'hsgpa'\n",
       "33. 'hsgpa_z'\n",
       "34. 'bstsat1mathsr'\n",
       "35. 'bstsat1readsr'\n",
       "36. 'actenglsr'\n",
       "37. 'actmathsr'\n",
       "38. 'mathsr'\n",
       "39. 'englsr'\n",
       "40. 'crs_term'\n",
       "41. 'admitdate'\n",
       "42. 'enrl_from_cohort'\n",
       "43. 'yearsenrolled'\n",
       "44. 'cohort'\n",
       "45. 'stemmajor'\n",
       "46. 'chemNotSkipthoughEl'\n",
       "47. 'aprealskipper_GChem1'\n",
       "48. 'physNotSkipthoughEl'\n",
       "49. 'aprealskipper_Phys1'\n",
       "\n",
       "\n"
      ],
      "text/plain": [
       " [1] \"X.1\"                  \"X\"                    \"st_id\"               \n",
       " [4] \"studentid\"            \"apskipper_GChem1\"     \"apskipper_Phys1\"     \n",
       " [7] \"aptaker_Chem\"         \"apyear_Chem\"          \"apscore_Chem\"        \n",
       "[10] \"aptaker_Mec\"          \"aptaker_Elec\"         \"apyear_Mec\"          \n",
       "[13] \"apyear_Elec\"          \"apscore_Mec\"          \"apscore_Elec\"        \n",
       "[16] \"coursecode\"           \"crs_name\"             \"crs_catalog\"         \n",
       "[19] \"class_number\"         \"crs_sbj\"              \"level\"               \n",
       "[22] \"newfresh\"             \"numgrade\"             \"gender\"              \n",
       "[25] \"ethniccode\"           \"ethniccode_cat\"       \"ethniccode_cat2\"     \n",
       "[28] \"firstgen\"             \"lowincomeflag\"        \"ellflag\"             \n",
       "[31] \"international\"        \"hsgpa\"                \"hsgpa_z\"             \n",
       "[34] \"bstsat1mathsr\"        \"bstsat1readsr\"        \"actenglsr\"           \n",
       "[37] \"actmathsr\"            \"mathsr\"               \"englsr\"              \n",
       "[40] \"crs_term\"             \"admitdate\"            \"enrl_from_cohort\"    \n",
       "[43] \"yearsenrolled\"        \"cohort\"               \"stemmajor\"           \n",
       "[46] \"chemNotSkipthoughEl\"  \"aprealskipper_GChem1\" \"physNotSkipthoughEl\" \n",
       "[49] \"aprealskipper_Phys1\" "
      ]
     },
     "metadata": {},
     "output_type": "display_data"
    }
   ],
   "source": [
    "head(phys, 3)\n",
    "names(phys)"
   ]
  },
  {
   "cell_type": "code",
   "execution_count": 32,
   "metadata": {},
   "outputs": [],
   "source": [
    "# create variables: choose for year and score of best score from AP Elec and AP Mec\n",
    "phys$aptaker <- ifelse(phys$aptaker_Mec==1|phys$aptaker_Elec==1, 1, 0)\n",
    "phys$apscore <- ifelse(phys$apscore_Mec>phys$apscore_Elec, phys$apscore_Mec, phys$apscore_Elec)\n",
    "phys$apyear <- ifelse(phys$apscore_Mec>phys$apscore_Elec, phys$apyear_Mec, phys$apyear_Elec)"
   ]
  },
  {
   "cell_type": "code",
   "execution_count": 33,
   "metadata": {},
   "outputs": [
    {
     "data": {
      "text/html": [
       "<table>\n",
       "<thead><tr><th></th><th scope=col>X.1</th><th scope=col>X</th><th scope=col>st_id</th><th scope=col>studentid</th><th scope=col>apskipper_GChem1</th><th scope=col>apskipper_Phys1</th><th scope=col>aptaker_Chem</th><th scope=col>apyear_Chem</th><th scope=col>apscore_Chem</th><th scope=col>aptaker_Mec</th><th scope=col>...</th><th scope=col>yearsenrolled</th><th scope=col>cohort</th><th scope=col>stemmajor</th><th scope=col>chemNotSkipthoughEl</th><th scope=col>aprealskipper_GChem1</th><th scope=col>physNotSkipthoughEl</th><th scope=col>aprealskipper_Phys1</th><th scope=col>aptaker</th><th scope=col>apscore</th><th scope=col>apyear</th></tr></thead>\n",
       "<tbody>\n",
       "\t<tr><th scope=row>24</th><td> 24     </td><td> 24     </td><td> 26     </td><td>10006456</td><td>0       </td><td>0       </td><td>0       </td><td>0       </td><td>0       </td><td>0       </td><td>...     </td><td>0.25    </td><td>2015    </td><td>1       </td><td>0       </td><td>0       </td><td>0       </td><td>0       </td><td>0       </td><td>NA      </td><td>NA      </td></tr>\n",
       "\t<tr><th scope=row>162</th><td>162     </td><td>162     </td><td> 67     </td><td>10049520</td><td>0       </td><td>0       </td><td>0       </td><td>0       </td><td>0       </td><td>0       </td><td>...     </td><td>0.50    </td><td>2016    </td><td>2       </td><td>0       </td><td>0       </td><td>0       </td><td>0       </td><td>0       </td><td>NA      </td><td>NA      </td></tr>\n",
       "\t<tr><th scope=row>302</th><td>302     </td><td>302     </td><td>114     </td><td>10083085</td><td>0       </td><td>0       </td><td>0       </td><td>0       </td><td>0       </td><td>0       </td><td>...     </td><td>0.75    </td><td>2016    </td><td>1       </td><td>0       </td><td>0       </td><td>0       </td><td>0       </td><td>0       </td><td>NA      </td><td>NA      </td></tr>\n",
       "</tbody>\n",
       "</table>\n"
      ],
      "text/latex": [
       "\\begin{tabular}{r|llllllllllllllllllllllllllllllllllllllllllllllllllll}\n",
       "  & X.1 & X & st\\_id & studentid & apskipper\\_GChem1 & apskipper\\_Phys1 & aptaker\\_Chem & apyear\\_Chem & apscore\\_Chem & aptaker\\_Mec & ... & yearsenrolled & cohort & stemmajor & chemNotSkipthoughEl & aprealskipper\\_GChem1 & physNotSkipthoughEl & aprealskipper\\_Phys1 & aptaker & apscore & apyear\\\\\n",
       "\\hline\n",
       "\t24 &  24      &  24      &  26      & 10006456 & 0        & 0        & 0        & 0        & 0        & 0        & ...      & 0.25     & 2015     & 1        & 0        & 0        & 0        & 0        & 0        & NA       & NA      \\\\\n",
       "\t162 & 162      & 162      &  67      & 10049520 & 0        & 0        & 0        & 0        & 0        & 0        & ...      & 0.50     & 2016     & 2        & 0        & 0        & 0        & 0        & 0        & NA       & NA      \\\\\n",
       "\t302 & 302      & 302      & 114      & 10083085 & 0        & 0        & 0        & 0        & 0        & 0        & ...      & 0.75     & 2016     & 1        & 0        & 0        & 0        & 0        & 0        & NA       & NA      \\\\\n",
       "\\end{tabular}\n"
      ],
      "text/markdown": [
       "\n",
       "| <!--/--> | X.1 | X | st_id | studentid | apskipper_GChem1 | apskipper_Phys1 | aptaker_Chem | apyear_Chem | apscore_Chem | aptaker_Mec | ... | yearsenrolled | cohort | stemmajor | chemNotSkipthoughEl | aprealskipper_GChem1 | physNotSkipthoughEl | aprealskipper_Phys1 | aptaker | apscore | apyear |\n",
       "|---|---|---|---|---|---|---|---|---|---|---|---|---|---|---|---|---|---|---|---|---|---|\n",
       "| 24 |  24      |  24      |  26      | 10006456 | 0        | 0        | 0        | 0        | 0        | 0        | ...      | 0.25     | 2015     | 1        | 0        | 0        | 0        | 0        | 0        | NA       | NA       |\n",
       "| 162 | 162      | 162      |  67      | 10049520 | 0        | 0        | 0        | 0        | 0        | 0        | ...      | 0.50     | 2016     | 2        | 0        | 0        | 0        | 0        | 0        | NA       | NA       |\n",
       "| 302 | 302      | 302      | 114      | 10083085 | 0        | 0        | 0        | 0        | 0        | 0        | ...      | 0.75     | 2016     | 1        | 0        | 0        | 0        | 0        | 0        | NA       | NA       |\n",
       "\n"
      ],
      "text/plain": [
       "    X.1 X   st_id studentid apskipper_GChem1 apskipper_Phys1 aptaker_Chem\n",
       "24   24  24  26   10006456  0                0               0           \n",
       "162 162 162  67   10049520  0                0               0           \n",
       "302 302 302 114   10083085  0                0               0           \n",
       "    apyear_Chem apscore_Chem aptaker_Mec ... yearsenrolled cohort stemmajor\n",
       "24  0           0            0           ... 0.25          2015   1        \n",
       "162 0           0            0           ... 0.50          2016   2        \n",
       "302 0           0            0           ... 0.75          2016   1        \n",
       "    chemNotSkipthoughEl aprealskipper_GChem1 physNotSkipthoughEl\n",
       "24  0                   0                    0                  \n",
       "162 0                   0                    0                  \n",
       "302 0                   0                    0                  \n",
       "    aprealskipper_Phys1 aptaker apscore apyear\n",
       "24  0                   0       NA      NA    \n",
       "162 0                   0       NA      NA    \n",
       "302 0                   0       NA      NA    "
      ]
     },
     "metadata": {},
     "output_type": "display_data"
    }
   ],
   "source": [
    "head(phys, 3)"
   ]
  },
  {
   "cell_type": "code",
   "execution_count": 34,
   "metadata": {
    "scrolled": true
   },
   "outputs": [
    {
     "data": {
      "text/plain": [
       "\n",
       " 1  2  3  4  5 \n",
       " 4 21 49 56 79 "
      ]
     },
     "metadata": {},
     "output_type": "display_data"
    },
    {
     "data": {
      "text/plain": [
       "\n",
       "2010 2011 2012 2013 2014 2015 2016 2017 \n",
       "  16   18   30   28   54   42   20    1 "
      ]
     },
     "metadata": {},
     "output_type": "display_data"
    }
   ],
   "source": [
    "table(phys$apscore)\n",
    "table(phys$apyear)"
   ]
  },
  {
   "cell_type": "code",
   "execution_count": 35,
   "metadata": {},
   "outputs": [
    {
     "data": {
      "text/html": [
       "<table>\n",
       "<thead><tr><th scope=col>X.1</th><th scope=col>X</th><th scope=col>st_id</th><th scope=col>studentid</th><th scope=col>apskipper_GChem1</th><th scope=col>apskipper_Phys1</th><th scope=col>aptaker_Chem</th><th scope=col>apyear_Chem</th><th scope=col>apscore_Chem</th><th scope=col>aptaker_Mec</th><th scope=col>...</th><th scope=col>chemNotSkipthoughEl</th><th scope=col>aprealskipper_GChem1</th><th scope=col>physNotSkipthoughEl</th><th scope=col>aprealskipper_Phys1</th><th scope=col>aptaker</th><th scope=col>apscore</th><th scope=col>apyear</th><th scope=col>0007C</th><th scope=col>0007D</th><th scope=col>0007E</th></tr></thead>\n",
       "<tbody>\n",
       "\t<tr><td> 24     </td><td> 24     </td><td> 26     </td><td>10006456</td><td>0       </td><td>0       </td><td>0       </td><td>   0    </td><td>0       </td><td>0       </td><td>...     </td><td>0       </td><td>0       </td><td>0       </td><td>0       </td><td>0       </td><td>NA      </td><td>  NA    </td><td>2.7     </td><td> NA     </td><td>NA      </td></tr>\n",
       "\t<tr><td>162     </td><td>162     </td><td> 67     </td><td>10049520</td><td>0       </td><td>0       </td><td>0       </td><td>   0    </td><td>0       </td><td>0       </td><td>...     </td><td>0       </td><td>0       </td><td>0       </td><td>0       </td><td>0       </td><td>NA      </td><td>  NA    </td><td>0.0     </td><td> NA     </td><td>NA      </td></tr>\n",
       "\t<tr><td>302     </td><td>302     </td><td>114     </td><td>10083085</td><td>0       </td><td>0       </td><td>0       </td><td>   0    </td><td>0       </td><td>0       </td><td>...     </td><td>0       </td><td>0       </td><td>0       </td><td>0       </td><td>0       </td><td>NA      </td><td>  NA    </td><td>2.7     </td><td> NA     </td><td>NA      </td></tr>\n",
       "\t<tr><td>351     </td><td>351     </td><td>132     </td><td>10096302</td><td>1       </td><td>0       </td><td>1       </td><td>2011    </td><td>5       </td><td>0       </td><td>...     </td><td>0       </td><td>1       </td><td>0       </td><td>0       </td><td>0       </td><td>NA      </td><td>  NA    </td><td>3.0     </td><td> NA     </td><td>NA      </td></tr>\n",
       "\t<tr><td>352     </td><td>352     </td><td>132     </td><td>10096302</td><td>1       </td><td>0       </td><td>1       </td><td>2011    </td><td>5       </td><td>0       </td><td>...     </td><td>0       </td><td>1       </td><td>0       </td><td>0       </td><td>0       </td><td>NA      </td><td>  NA    </td><td> NA     </td><td>3.7     </td><td>NA      </td></tr>\n",
       "\t<tr><td>567     </td><td>567     </td><td>181     </td><td>10131427</td><td>1       </td><td>0       </td><td>1       </td><td>2012    </td><td>5       </td><td>1       </td><td>...     </td><td>0       </td><td>1       </td><td>0       </td><td>0       </td><td>1       </td><td> 4      </td><td>2014    </td><td>4.0     </td><td> NA     </td><td>NA      </td></tr>\n",
       "</tbody>\n",
       "</table>\n"
      ],
      "text/latex": [
       "\\begin{tabular}{r|lllllllllllllllllllllllllllllllllllllllllllllllllllll}\n",
       " X.1 & X & st\\_id & studentid & apskipper\\_GChem1 & apskipper\\_Phys1 & aptaker\\_Chem & apyear\\_Chem & apscore\\_Chem & aptaker\\_Mec & ... & chemNotSkipthoughEl & aprealskipper\\_GChem1 & physNotSkipthoughEl & aprealskipper\\_Phys1 & aptaker & apscore & apyear & 0007C & 0007D & 0007E\\\\\n",
       "\\hline\n",
       "\t  24      &  24      &  26      & 10006456 & 0        & 0        & 0        &    0     & 0        & 0        & ...      & 0        & 0        & 0        & 0        & 0        & NA       &   NA     & 2.7      &  NA      & NA      \\\\\n",
       "\t 162      & 162      &  67      & 10049520 & 0        & 0        & 0        &    0     & 0        & 0        & ...      & 0        & 0        & 0        & 0        & 0        & NA       &   NA     & 0.0      &  NA      & NA      \\\\\n",
       "\t 302      & 302      & 114      & 10083085 & 0        & 0        & 0        &    0     & 0        & 0        & ...      & 0        & 0        & 0        & 0        & 0        & NA       &   NA     & 2.7      &  NA      & NA      \\\\\n",
       "\t 351      & 351      & 132      & 10096302 & 1        & 0        & 1        & 2011     & 5        & 0        & ...      & 0        & 1        & 0        & 0        & 0        & NA       &   NA     & 3.0      &  NA      & NA      \\\\\n",
       "\t 352      & 352      & 132      & 10096302 & 1        & 0        & 1        & 2011     & 5        & 0        & ...      & 0        & 1        & 0        & 0        & 0        & NA       &   NA     &  NA      & 3.7      & NA      \\\\\n",
       "\t 567      & 567      & 181      & 10131427 & 1        & 0        & 1        & 2012     & 5        & 1        & ...      & 0        & 1        & 0        & 0        & 1        &  4       & 2014     & 4.0      &  NA      & NA      \\\\\n",
       "\\end{tabular}\n"
      ],
      "text/markdown": [
       "\n",
       "| X.1 | X | st_id | studentid | apskipper_GChem1 | apskipper_Phys1 | aptaker_Chem | apyear_Chem | apscore_Chem | aptaker_Mec | ... | chemNotSkipthoughEl | aprealskipper_GChem1 | physNotSkipthoughEl | aprealskipper_Phys1 | aptaker | apscore | apyear | 0007C | 0007D | 0007E |\n",
       "|---|---|---|---|---|---|---|---|---|---|---|---|---|---|---|---|---|---|---|---|---|\n",
       "|  24      |  24      |  26      | 10006456 | 0        | 0        | 0        |    0     | 0        | 0        | ...      | 0        | 0        | 0        | 0        | 0        | NA       |   NA     | 2.7      |  NA      | NA       |\n",
       "| 162      | 162      |  67      | 10049520 | 0        | 0        | 0        |    0     | 0        | 0        | ...      | 0        | 0        | 0        | 0        | 0        | NA       |   NA     | 0.0      |  NA      | NA       |\n",
       "| 302      | 302      | 114      | 10083085 | 0        | 0        | 0        |    0     | 0        | 0        | ...      | 0        | 0        | 0        | 0        | 0        | NA       |   NA     | 2.7      |  NA      | NA       |\n",
       "| 351      | 351      | 132      | 10096302 | 1        | 0        | 1        | 2011     | 5        | 0        | ...      | 0        | 1        | 0        | 0        | 0        | NA       |   NA     | 3.0      |  NA      | NA       |\n",
       "| 352      | 352      | 132      | 10096302 | 1        | 0        | 1        | 2011     | 5        | 0        | ...      | 0        | 1        | 0        | 0        | 0        | NA       |   NA     |  NA      | 3.7      | NA       |\n",
       "| 567      | 567      | 181      | 10131427 | 1        | 0        | 1        | 2012     | 5        | 1        | ...      | 0        | 1        | 0        | 0        | 1        |  4       | 2014     | 4.0      |  NA      | NA       |\n",
       "\n"
      ],
      "text/plain": [
       "  X.1 X   st_id studentid apskipper_GChem1 apskipper_Phys1 aptaker_Chem\n",
       "1  24  24  26   10006456  0                0               0           \n",
       "2 162 162  67   10049520  0                0               0           \n",
       "3 302 302 114   10083085  0                0               0           \n",
       "4 351 351 132   10096302  1                0               1           \n",
       "5 352 352 132   10096302  1                0               1           \n",
       "6 567 567 181   10131427  1                0               1           \n",
       "  apyear_Chem apscore_Chem aptaker_Mec ... chemNotSkipthoughEl\n",
       "1    0        0            0           ... 0                  \n",
       "2    0        0            0           ... 0                  \n",
       "3    0        0            0           ... 0                  \n",
       "4 2011        5            0           ... 0                  \n",
       "5 2011        5            0           ... 0                  \n",
       "6 2012        5            1           ... 0                  \n",
       "  aprealskipper_GChem1 physNotSkipthoughEl aprealskipper_Phys1 aptaker apscore\n",
       "1 0                    0                   0                   0       NA     \n",
       "2 0                    0                   0                   0       NA     \n",
       "3 0                    0                   0                   0       NA     \n",
       "4 1                    0                   0                   0       NA     \n",
       "5 1                    0                   0                   0       NA     \n",
       "6 1                    0                   0                   1        4     \n",
       "  apyear 0007C 0007D 0007E\n",
       "1   NA   2.7    NA   NA   \n",
       "2   NA   0.0    NA   NA   \n",
       "3   NA   2.7    NA   NA   \n",
       "4   NA   3.0    NA   NA   \n",
       "5   NA    NA   3.7   NA   \n",
       "6 2014   4.0    NA   NA   "
      ]
     },
     "metadata": {},
     "output_type": "display_data"
    }
   ],
   "source": [
    "# Reshape data for grades by course\n",
    "physSelectWide <- spread(phys, class_number, numgrade)\n",
    "head(physSelectWide)"
   ]
  },
  {
   "cell_type": "code",
   "execution_count": 36,
   "metadata": {},
   "outputs": [],
   "source": [
    "colnames(physSelectWide)[which(names(physSelectWide)==\"0007C\")] <- \"crs1\"\n",
    "colnames(physSelectWide)[which(names(physSelectWide)==\"0007D\")] <- \"crs2\"\n",
    "colnames(physSelectWide)[which(names(physSelectWide)==\"0007E\")] <- \"crs3\""
   ]
  },
  {
   "cell_type": "code",
   "execution_count": 37,
   "metadata": {},
   "outputs": [
    {
     "data": {
      "text/html": [
       "<table>\n",
       "<thead><tr><th></th><th scope=col>st_id</th><th scope=col>numgrade_1</th><th scope=col>numgrade_2</th><th scope=col>numgrade_3</th></tr></thead>\n",
       "<tbody>\n",
       "\t<tr><th scope=row>26</th><td> 26</td><td>2.7</td><td>   </td><td>   </td></tr>\n",
       "\t<tr><th scope=row>67</th><td> 67</td><td>0  </td><td>   </td><td>   </td></tr>\n",
       "\t<tr><th scope=row>114</th><td>114</td><td>2.7</td><td>   </td><td>   </td></tr>\n",
       "\t<tr><th scope=row>132</th><td>132</td><td>3  </td><td>3.7</td><td>   </td></tr>\n",
       "\t<tr><th scope=row>181</th><td>181</td><td>4  </td><td>4  </td><td>   </td></tr>\n",
       "\t<tr><th scope=row>186</th><td>186</td><td>3  </td><td>   </td><td>   </td></tr>\n",
       "</tbody>\n",
       "</table>\n"
      ],
      "text/latex": [
       "\\begin{tabular}{r|llll}\n",
       "  & st\\_id & numgrade\\_1 & numgrade\\_2 & numgrade\\_3\\\\\n",
       "\\hline\n",
       "\t26 &  26 & 2.7 &     &    \\\\\n",
       "\t67 &  67 & 0   &     &    \\\\\n",
       "\t114 & 114 & 2.7 &     &    \\\\\n",
       "\t132 & 132 & 3   & 3.7 &    \\\\\n",
       "\t181 & 181 & 4   & 4   &    \\\\\n",
       "\t186 & 186 & 3   &     &    \\\\\n",
       "\\end{tabular}\n"
      ],
      "text/markdown": [
       "\n",
       "| <!--/--> | st_id | numgrade_1 | numgrade_2 | numgrade_3 |\n",
       "|---|---|---|---|---|\n",
       "| 26 |  26 | 2.7 |     |     |\n",
       "| 67 |  67 | 0   |     |     |\n",
       "| 114 | 114 | 2.7 |     |     |\n",
       "| 132 | 132 | 3   | 3.7 |     |\n",
       "| 181 | 181 | 4   | 4   |     |\n",
       "| 186 | 186 | 3   |     |     |\n",
       "\n"
      ],
      "text/plain": [
       "    st_id numgrade_1 numgrade_2 numgrade_3\n",
       "26   26   2.7                             \n",
       "67   67   0                               \n",
       "114 114   2.7                             \n",
       "132 132   3          3.7                  \n",
       "181 181   4          4                    \n",
       "186 186   3                               "
      ]
     },
     "metadata": {},
     "output_type": "display_data"
    }
   ],
   "source": [
    "physSelectWide2 <- sapply(split(physSelectWide, f = physSelectWide$st_id), FUN = function(x) {\n",
    "  out <- data.frame(st_id = unique(x$st_id),\n",
    "                   numgrade_1 = paste(unique(na.omit(x$crs1)), collapse = \",\"),\n",
    "                   numgrade_2 = paste(unique(na.omit(x$crs2)), collapse = \",\"),\n",
    "                   numgrade_3 = paste(unique(na.omit(x$crs3)), collapse =\",\"))\n",
    "  out\n",
    "}, simplify = FALSE)\n",
    "\n",
    "physSelectWide2 <- do.call(rbind, physSelectWide2)\n",
    "head(physSelectWide2)"
   ]
  },
  {
   "cell_type": "code",
   "execution_count": 38,
   "metadata": {},
   "outputs": [],
   "source": [
    "write.csv(physSelectWide2, \"/Users/thicn/Documents/AP Skip/physGrade.csv\") #retain first value of first-time taking courses"
   ]
  },
  {
   "cell_type": "code",
   "execution_count": 39,
   "metadata": {},
   "outputs": [],
   "source": [
    "physSelectWide3 <- read.csv(\"/Users/thicn/Documents/AP Skip/physGrade.csv\")"
   ]
  },
  {
   "cell_type": "code",
   "execution_count": 41,
   "metadata": {},
   "outputs": [
    {
     "data": {
      "text/html": [
       "<table>\n",
       "<thead><tr><th scope=col>st_id</th><th scope=col>numgrade_1</th><th scope=col>numgrade_2</th><th scope=col>numgrade_3</th></tr></thead>\n",
       "<tbody>\n",
       "\t<tr><td> 26</td><td>2.7</td><td> NA</td><td>NA </td></tr>\n",
       "\t<tr><td> 67</td><td>0.0</td><td> NA</td><td>NA </td></tr>\n",
       "\t<tr><td>114</td><td>2.7</td><td> NA</td><td>NA </td></tr>\n",
       "\t<tr><td>132</td><td>3.0</td><td>3.7</td><td>NA </td></tr>\n",
       "\t<tr><td>181</td><td>4.0</td><td>4.0</td><td>NA </td></tr>\n",
       "</tbody>\n",
       "</table>\n"
      ],
      "text/latex": [
       "\\begin{tabular}{r|llll}\n",
       " st\\_id & numgrade\\_1 & numgrade\\_2 & numgrade\\_3\\\\\n",
       "\\hline\n",
       "\t  26 & 2.7 &  NA & NA \\\\\n",
       "\t  67 & 0.0 &  NA & NA \\\\\n",
       "\t 114 & 2.7 &  NA & NA \\\\\n",
       "\t 132 & 3.0 & 3.7 & NA \\\\\n",
       "\t 181 & 4.0 & 4.0 & NA \\\\\n",
       "\\end{tabular}\n"
      ],
      "text/markdown": [
       "\n",
       "| st_id | numgrade_1 | numgrade_2 | numgrade_3 |\n",
       "|---|---|---|---|\n",
       "|  26 | 2.7 |  NA | NA  |\n",
       "|  67 | 0.0 |  NA | NA  |\n",
       "| 114 | 2.7 |  NA | NA  |\n",
       "| 132 | 3.0 | 3.7 | NA  |\n",
       "| 181 | 4.0 | 4.0 | NA  |\n",
       "\n"
      ],
      "text/plain": [
       "  st_id numgrade_1 numgrade_2 numgrade_3\n",
       "1  26   2.7         NA        NA        \n",
       "2  67   0.0         NA        NA        \n",
       "3 114   2.7         NA        NA        \n",
       "4 132   3.0        3.7        NA        \n",
       "5 181   4.0        4.0        NA        "
      ]
     },
     "metadata": {},
     "output_type": "display_data"
    }
   ],
   "source": [
    "head(physSelectWide3, 5)"
   ]
  },
  {
   "cell_type": "code",
   "execution_count": 42,
   "metadata": {},
   "outputs": [
    {
     "data": {
      "text/html": [
       "<table>\n",
       "<thead><tr><th scope=col>X.1</th><th scope=col>X</th><th scope=col>st_id</th><th scope=col>studentid</th><th scope=col>apskipper_GChem1</th><th scope=col>apskipper_Phys1</th><th scope=col>aptaker_Chem</th><th scope=col>apyear_Chem</th><th scope=col>apscore_Chem</th><th scope=col>aptaker_Mec</th><th scope=col>...</th><th scope=col>chemNotSkipthoughEl</th><th scope=col>aprealskipper_GChem1</th><th scope=col>physNotSkipthoughEl</th><th scope=col>aprealskipper_Phys1</th><th scope=col>aptaker</th><th scope=col>apscore</th><th scope=col>apyear</th><th scope=col>numgrade_1</th><th scope=col>numgrade_2</th><th scope=col>numgrade_3</th></tr></thead>\n",
       "<tbody>\n",
       "\t<tr><td> 24     </td><td> 24     </td><td> 26     </td><td>10006456</td><td>0       </td><td>0       </td><td>0       </td><td>0       </td><td>0       </td><td>0       </td><td>...     </td><td>0       </td><td>0       </td><td>0       </td><td>0       </td><td>0       </td><td>NA      </td><td>NA      </td><td>2.7     </td><td>NA      </td><td>NA      </td></tr>\n",
       "\t<tr><td>162     </td><td>162     </td><td> 67     </td><td>10049520</td><td>0       </td><td>0       </td><td>0       </td><td>0       </td><td>0       </td><td>0       </td><td>...     </td><td>0       </td><td>0       </td><td>0       </td><td>0       </td><td>0       </td><td>NA      </td><td>NA      </td><td>0.0     </td><td>NA      </td><td>NA      </td></tr>\n",
       "\t<tr><td>302     </td><td>302     </td><td>114     </td><td>10083085</td><td>0       </td><td>0       </td><td>0       </td><td>0       </td><td>0       </td><td>0       </td><td>...     </td><td>0       </td><td>0       </td><td>0       </td><td>0       </td><td>0       </td><td>NA      </td><td>NA      </td><td>2.7     </td><td>NA      </td><td>NA      </td></tr>\n",
       "</tbody>\n",
       "</table>\n"
      ],
      "text/latex": [
       "\\begin{tabular}{r|lllllllllllllllllllllllllllllllllllllllllllllllllllllll}\n",
       " X.1 & X & st\\_id & studentid & apskipper\\_GChem1 & apskipper\\_Phys1 & aptaker\\_Chem & apyear\\_Chem & apscore\\_Chem & aptaker\\_Mec & ... & chemNotSkipthoughEl & aprealskipper\\_GChem1 & physNotSkipthoughEl & aprealskipper\\_Phys1 & aptaker & apscore & apyear & numgrade\\_1 & numgrade\\_2 & numgrade\\_3\\\\\n",
       "\\hline\n",
       "\t  24      &  24      &  26      & 10006456 & 0        & 0        & 0        & 0        & 0        & 0        & ...      & 0        & 0        & 0        & 0        & 0        & NA       & NA       & 2.7      & NA       & NA      \\\\\n",
       "\t 162      & 162      &  67      & 10049520 & 0        & 0        & 0        & 0        & 0        & 0        & ...      & 0        & 0        & 0        & 0        & 0        & NA       & NA       & 0.0      & NA       & NA      \\\\\n",
       "\t 302      & 302      & 114      & 10083085 & 0        & 0        & 0        & 0        & 0        & 0        & ...      & 0        & 0        & 0        & 0        & 0        & NA       & NA       & 2.7      & NA       & NA      \\\\\n",
       "\\end{tabular}\n"
      ],
      "text/markdown": [
       "\n",
       "| X.1 | X | st_id | studentid | apskipper_GChem1 | apskipper_Phys1 | aptaker_Chem | apyear_Chem | apscore_Chem | aptaker_Mec | ... | chemNotSkipthoughEl | aprealskipper_GChem1 | physNotSkipthoughEl | aprealskipper_Phys1 | aptaker | apscore | apyear | numgrade_1 | numgrade_2 | numgrade_3 |\n",
       "|---|---|---|---|---|---|---|---|---|---|---|---|---|---|---|---|---|---|---|---|---|\n",
       "|  24      |  24      |  26      | 10006456 | 0        | 0        | 0        | 0        | 0        | 0        | ...      | 0        | 0        | 0        | 0        | 0        | NA       | NA       | 2.7      | NA       | NA       |\n",
       "| 162      | 162      |  67      | 10049520 | 0        | 0        | 0        | 0        | 0        | 0        | ...      | 0        | 0        | 0        | 0        | 0        | NA       | NA       | 0.0      | NA       | NA       |\n",
       "| 302      | 302      | 114      | 10083085 | 0        | 0        | 0        | 0        | 0        | 0        | ...      | 0        | 0        | 0        | 0        | 0        | NA       | NA       | 2.7      | NA       | NA       |\n",
       "\n"
      ],
      "text/plain": [
       "  X.1 X   st_id studentid apskipper_GChem1 apskipper_Phys1 aptaker_Chem\n",
       "1  24  24  26   10006456  0                0               0           \n",
       "2 162 162  67   10049520  0                0               0           \n",
       "3 302 302 114   10083085  0                0               0           \n",
       "  apyear_Chem apscore_Chem aptaker_Mec ... chemNotSkipthoughEl\n",
       "1 0           0            0           ... 0                  \n",
       "2 0           0            0           ... 0                  \n",
       "3 0           0            0           ... 0                  \n",
       "  aprealskipper_GChem1 physNotSkipthoughEl aprealskipper_Phys1 aptaker apscore\n",
       "1 0                    0                   0                   0       NA     \n",
       "2 0                    0                   0                   0       NA     \n",
       "3 0                    0                   0                   0       NA     \n",
       "  apyear numgrade_1 numgrade_2 numgrade_3\n",
       "1 NA     2.7        NA         NA        \n",
       "2 NA     0.0        NA         NA        \n",
       "3 NA     2.7        NA         NA        "
      ]
     },
     "metadata": {},
     "output_type": "display_data"
    }
   ],
   "source": [
    "physSelectMerge <- left_join(phys, physSelectWide3, by=\"st_id\")\n",
    "head(physSelectMerge, 3)"
   ]
  },
  {
   "cell_type": "code",
   "execution_count": 43,
   "metadata": {},
   "outputs": [
    {
     "data": {
      "text/html": [
       "<ol class=list-inline>\n",
       "\t<li>'X.1'</li>\n",
       "\t<li>'X'</li>\n",
       "\t<li>'st_id'</li>\n",
       "\t<li>'studentid'</li>\n",
       "\t<li>'apskipper_GChem1'</li>\n",
       "\t<li>'apskipper_Phys1'</li>\n",
       "\t<li>'aptaker_Chem'</li>\n",
       "\t<li>'apyear_Chem'</li>\n",
       "\t<li>'apscore_Chem'</li>\n",
       "\t<li>'aptaker_Mec'</li>\n",
       "\t<li>'aptaker_Elec'</li>\n",
       "\t<li>'apyear_Mec'</li>\n",
       "\t<li>'apyear_Elec'</li>\n",
       "\t<li>'apscore_Mec'</li>\n",
       "\t<li>'apscore_Elec'</li>\n",
       "\t<li>'coursecode'</li>\n",
       "\t<li>'crs_name'</li>\n",
       "\t<li>'crs_catalog'</li>\n",
       "\t<li>'class_number'</li>\n",
       "\t<li>'crs_sbj'</li>\n",
       "\t<li>'level'</li>\n",
       "\t<li>'newfresh'</li>\n",
       "\t<li>'numgrade'</li>\n",
       "\t<li>'gender'</li>\n",
       "\t<li>'ethniccode'</li>\n",
       "\t<li>'ethniccode_cat'</li>\n",
       "\t<li>'ethniccode_cat2'</li>\n",
       "\t<li>'firstgen'</li>\n",
       "\t<li>'lowincomeflag'</li>\n",
       "\t<li>'ellflag'</li>\n",
       "\t<li>'international'</li>\n",
       "\t<li>'hsgpa'</li>\n",
       "\t<li>'hsgpa_z'</li>\n",
       "\t<li>'bstsat1mathsr'</li>\n",
       "\t<li>'bstsat1readsr'</li>\n",
       "\t<li>'actenglsr'</li>\n",
       "\t<li>'actmathsr'</li>\n",
       "\t<li>'mathsr'</li>\n",
       "\t<li>'englsr'</li>\n",
       "\t<li>'crs_term'</li>\n",
       "\t<li>'admitdate'</li>\n",
       "\t<li>'enrl_from_cohort'</li>\n",
       "\t<li>'yearsenrolled'</li>\n",
       "\t<li>'cohort'</li>\n",
       "\t<li>'stemmajor'</li>\n",
       "\t<li>'chemNotSkipthoughEl'</li>\n",
       "\t<li>'aprealskipper_GChem1'</li>\n",
       "\t<li>'physNotSkipthoughEl'</li>\n",
       "\t<li>'aprealskipper_Phys1'</li>\n",
       "\t<li>'aptaker'</li>\n",
       "\t<li>'apscore'</li>\n",
       "\t<li>'apyear'</li>\n",
       "\t<li>'numgrade_1'</li>\n",
       "\t<li>'numgrade_2'</li>\n",
       "\t<li>'numgrade_3'</li>\n",
       "</ol>\n"
      ],
      "text/latex": [
       "\\begin{enumerate*}\n",
       "\\item 'X.1'\n",
       "\\item 'X'\n",
       "\\item 'st\\_id'\n",
       "\\item 'studentid'\n",
       "\\item 'apskipper\\_GChem1'\n",
       "\\item 'apskipper\\_Phys1'\n",
       "\\item 'aptaker\\_Chem'\n",
       "\\item 'apyear\\_Chem'\n",
       "\\item 'apscore\\_Chem'\n",
       "\\item 'aptaker\\_Mec'\n",
       "\\item 'aptaker\\_Elec'\n",
       "\\item 'apyear\\_Mec'\n",
       "\\item 'apyear\\_Elec'\n",
       "\\item 'apscore\\_Mec'\n",
       "\\item 'apscore\\_Elec'\n",
       "\\item 'coursecode'\n",
       "\\item 'crs\\_name'\n",
       "\\item 'crs\\_catalog'\n",
       "\\item 'class\\_number'\n",
       "\\item 'crs\\_sbj'\n",
       "\\item 'level'\n",
       "\\item 'newfresh'\n",
       "\\item 'numgrade'\n",
       "\\item 'gender'\n",
       "\\item 'ethniccode'\n",
       "\\item 'ethniccode\\_cat'\n",
       "\\item 'ethniccode\\_cat2'\n",
       "\\item 'firstgen'\n",
       "\\item 'lowincomeflag'\n",
       "\\item 'ellflag'\n",
       "\\item 'international'\n",
       "\\item 'hsgpa'\n",
       "\\item 'hsgpa\\_z'\n",
       "\\item 'bstsat1mathsr'\n",
       "\\item 'bstsat1readsr'\n",
       "\\item 'actenglsr'\n",
       "\\item 'actmathsr'\n",
       "\\item 'mathsr'\n",
       "\\item 'englsr'\n",
       "\\item 'crs\\_term'\n",
       "\\item 'admitdate'\n",
       "\\item 'enrl\\_from\\_cohort'\n",
       "\\item 'yearsenrolled'\n",
       "\\item 'cohort'\n",
       "\\item 'stemmajor'\n",
       "\\item 'chemNotSkipthoughEl'\n",
       "\\item 'aprealskipper\\_GChem1'\n",
       "\\item 'physNotSkipthoughEl'\n",
       "\\item 'aprealskipper\\_Phys1'\n",
       "\\item 'aptaker'\n",
       "\\item 'apscore'\n",
       "\\item 'apyear'\n",
       "\\item 'numgrade\\_1'\n",
       "\\item 'numgrade\\_2'\n",
       "\\item 'numgrade\\_3'\n",
       "\\end{enumerate*}\n"
      ],
      "text/markdown": [
       "1. 'X.1'\n",
       "2. 'X'\n",
       "3. 'st_id'\n",
       "4. 'studentid'\n",
       "5. 'apskipper_GChem1'\n",
       "6. 'apskipper_Phys1'\n",
       "7. 'aptaker_Chem'\n",
       "8. 'apyear_Chem'\n",
       "9. 'apscore_Chem'\n",
       "10. 'aptaker_Mec'\n",
       "11. 'aptaker_Elec'\n",
       "12. 'apyear_Mec'\n",
       "13. 'apyear_Elec'\n",
       "14. 'apscore_Mec'\n",
       "15. 'apscore_Elec'\n",
       "16. 'coursecode'\n",
       "17. 'crs_name'\n",
       "18. 'crs_catalog'\n",
       "19. 'class_number'\n",
       "20. 'crs_sbj'\n",
       "21. 'level'\n",
       "22. 'newfresh'\n",
       "23. 'numgrade'\n",
       "24. 'gender'\n",
       "25. 'ethniccode'\n",
       "26. 'ethniccode_cat'\n",
       "27. 'ethniccode_cat2'\n",
       "28. 'firstgen'\n",
       "29. 'lowincomeflag'\n",
       "30. 'ellflag'\n",
       "31. 'international'\n",
       "32. 'hsgpa'\n",
       "33. 'hsgpa_z'\n",
       "34. 'bstsat1mathsr'\n",
       "35. 'bstsat1readsr'\n",
       "36. 'actenglsr'\n",
       "37. 'actmathsr'\n",
       "38. 'mathsr'\n",
       "39. 'englsr'\n",
       "40. 'crs_term'\n",
       "41. 'admitdate'\n",
       "42. 'enrl_from_cohort'\n",
       "43. 'yearsenrolled'\n",
       "44. 'cohort'\n",
       "45. 'stemmajor'\n",
       "46. 'chemNotSkipthoughEl'\n",
       "47. 'aprealskipper_GChem1'\n",
       "48. 'physNotSkipthoughEl'\n",
       "49. 'aprealskipper_Phys1'\n",
       "50. 'aptaker'\n",
       "51. 'apscore'\n",
       "52. 'apyear'\n",
       "53. 'numgrade_1'\n",
       "54. 'numgrade_2'\n",
       "55. 'numgrade_3'\n",
       "\n",
       "\n"
      ],
      "text/plain": [
       " [1] \"X.1\"                  \"X\"                    \"st_id\"               \n",
       " [4] \"studentid\"            \"apskipper_GChem1\"     \"apskipper_Phys1\"     \n",
       " [7] \"aptaker_Chem\"         \"apyear_Chem\"          \"apscore_Chem\"        \n",
       "[10] \"aptaker_Mec\"          \"aptaker_Elec\"         \"apyear_Mec\"          \n",
       "[13] \"apyear_Elec\"          \"apscore_Mec\"          \"apscore_Elec\"        \n",
       "[16] \"coursecode\"           \"crs_name\"             \"crs_catalog\"         \n",
       "[19] \"class_number\"         \"crs_sbj\"              \"level\"               \n",
       "[22] \"newfresh\"             \"numgrade\"             \"gender\"              \n",
       "[25] \"ethniccode\"           \"ethniccode_cat\"       \"ethniccode_cat2\"     \n",
       "[28] \"firstgen\"             \"lowincomeflag\"        \"ellflag\"             \n",
       "[31] \"international\"        \"hsgpa\"                \"hsgpa_z\"             \n",
       "[34] \"bstsat1mathsr\"        \"bstsat1readsr\"        \"actenglsr\"           \n",
       "[37] \"actmathsr\"            \"mathsr\"               \"englsr\"              \n",
       "[40] \"crs_term\"             \"admitdate\"            \"enrl_from_cohort\"    \n",
       "[43] \"yearsenrolled\"        \"cohort\"               \"stemmajor\"           \n",
       "[46] \"chemNotSkipthoughEl\"  \"aprealskipper_GChem1\" \"physNotSkipthoughEl\" \n",
       "[49] \"aprealskipper_Phys1\"  \"aptaker\"              \"apscore\"             \n",
       "[52] \"apyear\"               \"numgrade_1\"           \"numgrade_2\"          \n",
       "[55] \"numgrade_3\"          "
      ]
     },
     "metadata": {},
     "output_type": "display_data"
    }
   ],
   "source": [
    "names(physSelectMerge)"
   ]
  },
  {
   "cell_type": "code",
   "execution_count": 57,
   "metadata": {},
   "outputs": [],
   "source": [
    "# Select columns\n",
    "physSelectMerge2 <- physSelectMerge[c(\"st_id\", \"studentid\", \"apskipper_Phys1\", \"coursecode\", \"crs_name\", \"crs_catalog\", \"class_number\",\n",
    "                                     \"crs_sbj\", 'level', 'newfresh', 'gender', 'ethniccode', 'ethniccode_cat', 'ethniccode_cat2',\n",
    "                                      'firstgen', 'lowincomeflag', 'ellflag', 'hsgpa', 'hsgpa_z', 'bstsat1mathsr', 'bstsat1readsr',\n",
    "                                      'actenglsr', 'actmathsr', 'mathsr', 'englsr', 'crs_term', 'admitdate', 'enrl_from_cohort',\n",
    "                                      'yearsenrolled', 'cohort', 'stemmajor',  'physNotSkipthoughEl', 'aprealskipper_Phys1', 'aptaker', 'apscore', 'apyear', 'numgrade_1', 'numgrade_2', 'numgrade_3')]\n",
    "\n"
   ]
  },
  {
   "cell_type": "code",
   "execution_count": 58,
   "metadata": {},
   "outputs": [
    {
     "data": {
      "text/html": [
       "<ol class=list-inline>\n",
       "\t<li>'st_id'</li>\n",
       "\t<li>'studentid'</li>\n",
       "\t<li>'eligible_to_skip'</li>\n",
       "\t<li>'coursecode'</li>\n",
       "\t<li>'crs_name'</li>\n",
       "\t<li>'crs_catalog'</li>\n",
       "\t<li>'class_number'</li>\n",
       "\t<li>'crs_sbj'</li>\n",
       "\t<li>'level'</li>\n",
       "\t<li>'newfresh'</li>\n",
       "\t<li>'gender'</li>\n",
       "\t<li>'ethniccode'</li>\n",
       "\t<li>'ethniccode_cat'</li>\n",
       "\t<li>'ethniccode_cat2'</li>\n",
       "\t<li>'firstgen'</li>\n",
       "\t<li>'lowincomeflag'</li>\n",
       "\t<li>'ellflag'</li>\n",
       "\t<li>'hsgpa'</li>\n",
       "\t<li>'hsgpa_z'</li>\n",
       "\t<li>'bstsat1mathsr'</li>\n",
       "\t<li>'bstsat1readsr'</li>\n",
       "\t<li>'actenglsr'</li>\n",
       "\t<li>'actmathsr'</li>\n",
       "\t<li>'mathsr'</li>\n",
       "\t<li>'englsr'</li>\n",
       "\t<li>'crs_term'</li>\n",
       "\t<li>'admitdate'</li>\n",
       "\t<li>'enrl_from_cohort'</li>\n",
       "\t<li>'yearsenrolled'</li>\n",
       "\t<li>'cohort'</li>\n",
       "\t<li>'stemmajor'</li>\n",
       "\t<li>'notSkip_Eli'</li>\n",
       "\t<li>'skipped_course'</li>\n",
       "\t<li>'tookap'</li>\n",
       "\t<li>'apscore'</li>\n",
       "\t<li>'apyear'</li>\n",
       "\t<li>'numgrade'</li>\n",
       "\t<li>'numgrade_2'</li>\n",
       "\t<li>'numgrade_3'</li>\n",
       "\t<li>'discipline'</li>\n",
       "</ol>\n"
      ],
      "text/latex": [
       "\\begin{enumerate*}\n",
       "\\item 'st\\_id'\n",
       "\\item 'studentid'\n",
       "\\item 'eligible\\_to\\_skip'\n",
       "\\item 'coursecode'\n",
       "\\item 'crs\\_name'\n",
       "\\item 'crs\\_catalog'\n",
       "\\item 'class\\_number'\n",
       "\\item 'crs\\_sbj'\n",
       "\\item 'level'\n",
       "\\item 'newfresh'\n",
       "\\item 'gender'\n",
       "\\item 'ethniccode'\n",
       "\\item 'ethniccode\\_cat'\n",
       "\\item 'ethniccode\\_cat2'\n",
       "\\item 'firstgen'\n",
       "\\item 'lowincomeflag'\n",
       "\\item 'ellflag'\n",
       "\\item 'hsgpa'\n",
       "\\item 'hsgpa\\_z'\n",
       "\\item 'bstsat1mathsr'\n",
       "\\item 'bstsat1readsr'\n",
       "\\item 'actenglsr'\n",
       "\\item 'actmathsr'\n",
       "\\item 'mathsr'\n",
       "\\item 'englsr'\n",
       "\\item 'crs\\_term'\n",
       "\\item 'admitdate'\n",
       "\\item 'enrl\\_from\\_cohort'\n",
       "\\item 'yearsenrolled'\n",
       "\\item 'cohort'\n",
       "\\item 'stemmajor'\n",
       "\\item 'notSkip\\_Eli'\n",
       "\\item 'skipped\\_course'\n",
       "\\item 'tookap'\n",
       "\\item 'apscore'\n",
       "\\item 'apyear'\n",
       "\\item 'numgrade'\n",
       "\\item 'numgrade\\_2'\n",
       "\\item 'numgrade\\_3'\n",
       "\\item 'discipline'\n",
       "\\end{enumerate*}\n"
      ],
      "text/markdown": [
       "1. 'st_id'\n",
       "2. 'studentid'\n",
       "3. 'eligible_to_skip'\n",
       "4. 'coursecode'\n",
       "5. 'crs_name'\n",
       "6. 'crs_catalog'\n",
       "7. 'class_number'\n",
       "8. 'crs_sbj'\n",
       "9. 'level'\n",
       "10. 'newfresh'\n",
       "11. 'gender'\n",
       "12. 'ethniccode'\n",
       "13. 'ethniccode_cat'\n",
       "14. 'ethniccode_cat2'\n",
       "15. 'firstgen'\n",
       "16. 'lowincomeflag'\n",
       "17. 'ellflag'\n",
       "18. 'hsgpa'\n",
       "19. 'hsgpa_z'\n",
       "20. 'bstsat1mathsr'\n",
       "21. 'bstsat1readsr'\n",
       "22. 'actenglsr'\n",
       "23. 'actmathsr'\n",
       "24. 'mathsr'\n",
       "25. 'englsr'\n",
       "26. 'crs_term'\n",
       "27. 'admitdate'\n",
       "28. 'enrl_from_cohort'\n",
       "29. 'yearsenrolled'\n",
       "30. 'cohort'\n",
       "31. 'stemmajor'\n",
       "32. 'notSkip_Eli'\n",
       "33. 'skipped_course'\n",
       "34. 'tookap'\n",
       "35. 'apscore'\n",
       "36. 'apyear'\n",
       "37. 'numgrade'\n",
       "38. 'numgrade_2'\n",
       "39. 'numgrade_3'\n",
       "40. 'discipline'\n",
       "\n",
       "\n"
      ],
      "text/plain": [
       " [1] \"st_id\"            \"studentid\"        \"eligible_to_skip\" \"coursecode\"      \n",
       " [5] \"crs_name\"         \"crs_catalog\"      \"class_number\"     \"crs_sbj\"         \n",
       " [9] \"level\"            \"newfresh\"         \"gender\"           \"ethniccode\"      \n",
       "[13] \"ethniccode_cat\"   \"ethniccode_cat2\"  \"firstgen\"         \"lowincomeflag\"   \n",
       "[17] \"ellflag\"          \"hsgpa\"            \"hsgpa_z\"          \"bstsat1mathsr\"   \n",
       "[21] \"bstsat1readsr\"    \"actenglsr\"        \"actmathsr\"        \"mathsr\"          \n",
       "[25] \"englsr\"           \"crs_term\"         \"admitdate\"        \"enrl_from_cohort\"\n",
       "[29] \"yearsenrolled\"    \"cohort\"           \"stemmajor\"        \"notSkip_Eli\"     \n",
       "[33] \"skipped_course\"   \"tookap\"           \"apscore\"          \"apyear\"          \n",
       "[37] \"numgrade\"         \"numgrade_2\"       \"numgrade_3\"       \"discipline\"      "
      ]
     },
     "metadata": {},
     "output_type": "display_data"
    },
    {
     "data": {
      "text/html": [
       "<table>\n",
       "<thead><tr><th scope=col>st_id</th><th scope=col>studentid</th><th scope=col>eligible_to_skip</th><th scope=col>coursecode</th><th scope=col>crs_name</th><th scope=col>crs_catalog</th><th scope=col>class_number</th><th scope=col>crs_sbj</th><th scope=col>level</th><th scope=col>newfresh</th><th scope=col>...</th><th scope=col>stemmajor</th><th scope=col>notSkip_Eli</th><th scope=col>skipped_course</th><th scope=col>tookap</th><th scope=col>apscore</th><th scope=col>apyear</th><th scope=col>numgrade</th><th scope=col>numgrade_2</th><th scope=col>numgrade_3</th><th scope=col>discipline</th></tr></thead>\n",
       "<tbody>\n",
       "\t<tr><td> 26              </td><td>10006456         </td><td>0                </td><td>47240            </td><td>CLASSICAL PHYSICS</td><td>4724020152PHYSICS</td><td>0007C            </td><td>PHYSICS          </td><td>1                </td><td>2                </td><td>...              </td><td>1                </td><td>0                </td><td>0                </td><td>0                </td><td>NA               </td><td>NA               </td><td>2.7              </td><td>NA               </td><td>NA               </td><td>PHYS             </td></tr>\n",
       "\t<tr><td> 67              </td><td>10049520         </td><td>0                </td><td>47260            </td><td>CLASSICAL PHYSICS</td><td>4726020173PHYSICS</td><td>0007C            </td><td>PHYSICS          </td><td>1                </td><td>1                </td><td>...              </td><td>2                </td><td>0                </td><td>0                </td><td>0                </td><td>NA               </td><td>NA               </td><td>0.0              </td><td>NA               </td><td>NA               </td><td>PHYS             </td></tr>\n",
       "\t<tr><td>114              </td><td>10083085         </td><td>0                </td><td>47200            </td><td>CLASSICAL PHYSICS</td><td>4720020174PHYSICS</td><td>0007C            </td><td>PHYSICS          </td><td>1                </td><td>1                </td><td>...              </td><td>1                </td><td>0                </td><td>0                </td><td>0                </td><td>NA               </td><td>NA               </td><td>2.7              </td><td>NA               </td><td>NA               </td><td>PHYS             </td></tr>\n",
       "</tbody>\n",
       "</table>\n"
      ],
      "text/latex": [
       "\\begin{tabular}{r|llllllllllllllllllllllllllllllllllllllll}\n",
       " st\\_id & studentid & eligible\\_to\\_skip & coursecode & crs\\_name & crs\\_catalog & class\\_number & crs\\_sbj & level & newfresh & ... & stemmajor & notSkip\\_Eli & skipped\\_course & tookap & apscore & apyear & numgrade & numgrade\\_2 & numgrade\\_3 & discipline\\\\\n",
       "\\hline\n",
       "\t  26               & 10006456          & 0                 & 47240             & CLASSICAL PHYSICS & 4724020152PHYSICS & 0007C             & PHYSICS           & 1                 & 2                 & ...               & 1                 & 0                 & 0                 & 0                 & NA                & NA                & 2.7               & NA                & NA                & PHYS             \\\\\n",
       "\t  67               & 10049520          & 0                 & 47260             & CLASSICAL PHYSICS & 4726020173PHYSICS & 0007C             & PHYSICS           & 1                 & 1                 & ...               & 2                 & 0                 & 0                 & 0                 & NA                & NA                & 0.0               & NA                & NA                & PHYS             \\\\\n",
       "\t 114               & 10083085          & 0                 & 47200             & CLASSICAL PHYSICS & 4720020174PHYSICS & 0007C             & PHYSICS           & 1                 & 1                 & ...               & 1                 & 0                 & 0                 & 0                 & NA                & NA                & 2.7               & NA                & NA                & PHYS             \\\\\n",
       "\\end{tabular}\n"
      ],
      "text/markdown": [
       "\n",
       "| st_id | studentid | eligible_to_skip | coursecode | crs_name | crs_catalog | class_number | crs_sbj | level | newfresh | ... | stemmajor | notSkip_Eli | skipped_course | tookap | apscore | apyear | numgrade | numgrade_2 | numgrade_3 | discipline |\n",
       "|---|---|---|---|---|---|---|---|---|---|---|---|---|---|---|---|---|---|---|---|---|\n",
       "|  26               | 10006456          | 0                 | 47240             | CLASSICAL PHYSICS | 4724020152PHYSICS | 0007C             | PHYSICS           | 1                 | 2                 | ...               | 1                 | 0                 | 0                 | 0                 | NA                | NA                | 2.7               | NA                | NA                | PHYS              |\n",
       "|  67               | 10049520          | 0                 | 47260             | CLASSICAL PHYSICS | 4726020173PHYSICS | 0007C             | PHYSICS           | 1                 | 1                 | ...               | 2                 | 0                 | 0                 | 0                 | NA                | NA                | 0.0               | NA                | NA                | PHYS              |\n",
       "| 114               | 10083085          | 0                 | 47200             | CLASSICAL PHYSICS | 4720020174PHYSICS | 0007C             | PHYSICS           | 1                 | 1                 | ...               | 1                 | 0                 | 0                 | 0                 | NA                | NA                | 2.7               | NA                | NA                | PHYS              |\n",
       "\n"
      ],
      "text/plain": [
       "  st_id studentid eligible_to_skip coursecode crs_name         \n",
       "1  26   10006456  0                47240      CLASSICAL PHYSICS\n",
       "2  67   10049520  0                47260      CLASSICAL PHYSICS\n",
       "3 114   10083085  0                47200      CLASSICAL PHYSICS\n",
       "  crs_catalog       class_number crs_sbj level newfresh ... stemmajor\n",
       "1 4724020152PHYSICS 0007C        PHYSICS 1     2        ... 1        \n",
       "2 4726020173PHYSICS 0007C        PHYSICS 1     1        ... 2        \n",
       "3 4720020174PHYSICS 0007C        PHYSICS 1     1        ... 1        \n",
       "  notSkip_Eli skipped_course tookap apscore apyear numgrade numgrade_2\n",
       "1 0           0              0      NA      NA     2.7      NA        \n",
       "2 0           0              0      NA      NA     0.0      NA        \n",
       "3 0           0              0      NA      NA     2.7      NA        \n",
       "  numgrade_3 discipline\n",
       "1 NA         PHYS      \n",
       "2 NA         PHYS      \n",
       "3 NA         PHYS      "
      ]
     },
     "metadata": {},
     "output_type": "display_data"
    }
   ],
   "source": [
    "# Change column names\n",
    "names(physSelectMerge2) <- c(\"st_id\", \"studentid\", \"eligible_to_skip\", \n",
    "                      \"coursecode\", \"crs_name\", \"crs_catalog\", \"class_number\", \"crs_sbj\",\n",
    "                      \"level\", \"newfresh\", \"gender\", \"ethniccode\", \"ethniccode_cat\", \"ethniccode_cat2\",\n",
    "                      \"firstgen\", \"lowincomeflag\", \"ellflag\", \"hsgpa\", \"hsgpa_z\",\n",
    "                      \"bstsat1mathsr\", 'bstsat1readsr', 'actenglsr', 'actmathsr', 'mathsr', 'englsr', 'crs_term', 'admitdate', 'enrl_from_cohort', \n",
    "                             'yearsenrolled', 'cohort', 'stemmajor',\n",
    "                       'notSkip_Eli', 'skipped_course', \"tookap\", \"apscore\", \"apyear\", \"numgrade\", \"numgrade_2\", \"numgrade_3\")\n",
    "# Make discipline for CHEM\n",
    "physSelectMerge2$discipline = \"PHYS\"\n",
    "\n",
    "names(physSelectMerge2)\n",
    "head(physSelectMerge2, 3)\n"
   ]
  },
  {
   "cell_type": "code",
   "execution_count": 51,
   "metadata": {},
   "outputs": [],
   "source": [
    "physSelect_unique <- physSelectMerge2[physSelectMerge2$class_number==\"0007D\",]"
   ]
  },
  {
   "cell_type": "code",
   "execution_count": 52,
   "metadata": {},
   "outputs": [
    {
     "data": {
      "text/html": [
       "<table>\n",
       "<thead><tr><th></th><th scope=col>st_id</th><th scope=col>studentid</th><th scope=col>eligible_to_skip</th><th scope=col>coursecode</th><th scope=col>crs_name</th><th scope=col>crs_catalog</th><th scope=col>class_number</th><th scope=col>crs_sbj</th><th scope=col>level</th><th scope=col>newfresh</th><th scope=col>...</th><th scope=col>stemmajor</th><th scope=col>notSkip_Eli</th><th scope=col>skipped_course</th><th scope=col>tookap</th><th scope=col>apscore</th><th scope=col>apyear</th><th scope=col>numgrade</th><th scope=col>numgrade_2</th><th scope=col>numgrade_3</th><th scope=col>discipline</th></tr></thead>\n",
       "<tbody>\n",
       "\t<tr><th scope=row>5</th><td>132              </td><td>10096302         </td><td>0                </td><td>47250            </td><td>CLASSICAL PHYSICS</td><td>4725020134PHYSICS</td><td>0007D            </td><td>PHYSICS          </td><td>2                </td><td>1                </td><td>...              </td><td>2                </td><td>0                </td><td>0                </td><td>0                </td><td>NA               </td><td>  NA             </td><td>3                </td><td>3.7              </td><td>NA               </td><td>PHYS             </td></tr>\n",
       "\t<tr><th scope=row>7</th><td>181              </td><td>10131427         </td><td>0                </td><td>47250            </td><td>CLASSICAL PHYSICS</td><td>4725020144PHYSICS</td><td>0007D            </td><td>PHYSICS          </td><td>2                </td><td>1                </td><td>...              </td><td>2                </td><td>0                </td><td>0                </td><td>1                </td><td> 4               </td><td>2014             </td><td>4                </td><td>4.0              </td><td>NA               </td><td>PHYS             </td></tr>\n",
       "\t<tr><th scope=row>10</th><td>194              </td><td>10143426         </td><td>0                </td><td>47270            </td><td>CLASSICAL PHYSICS</td><td>4727020134PHYSICS</td><td>0007D            </td><td>PHYSICS          </td><td>2                </td><td>1                </td><td>...              </td><td>2                </td><td>0                </td><td>0                </td><td>0                </td><td>NA               </td><td>  NA             </td><td>4                </td><td>4.0              </td><td>NA               </td><td>PHYS             </td></tr>\n",
       "</tbody>\n",
       "</table>\n"
      ],
      "text/latex": [
       "\\begin{tabular}{r|llllllllllllllllllllllllllllllllllllllll}\n",
       "  & st\\_id & studentid & eligible\\_to\\_skip & coursecode & crs\\_name & crs\\_catalog & class\\_number & crs\\_sbj & level & newfresh & ... & stemmajor & notSkip\\_Eli & skipped\\_course & tookap & apscore & apyear & numgrade & numgrade\\_2 & numgrade\\_3 & discipline\\\\\n",
       "\\hline\n",
       "\t5 & 132               & 10096302          & 0                 & 47250             & CLASSICAL PHYSICS & 4725020134PHYSICS & 0007D             & PHYSICS           & 2                 & 1                 & ...               & 2                 & 0                 & 0                 & 0                 & NA                &   NA              & 3                 & 3.7               & NA                & PHYS             \\\\\n",
       "\t7 & 181               & 10131427          & 0                 & 47250             & CLASSICAL PHYSICS & 4725020144PHYSICS & 0007D             & PHYSICS           & 2                 & 1                 & ...               & 2                 & 0                 & 0                 & 1                 &  4                & 2014              & 4                 & 4.0               & NA                & PHYS             \\\\\n",
       "\t10 & 194               & 10143426          & 0                 & 47270             & CLASSICAL PHYSICS & 4727020134PHYSICS & 0007D             & PHYSICS           & 2                 & 1                 & ...               & 2                 & 0                 & 0                 & 0                 & NA                &   NA              & 4                 & 4.0               & NA                & PHYS             \\\\\n",
       "\\end{tabular}\n"
      ],
      "text/markdown": [
       "\n",
       "| <!--/--> | st_id | studentid | eligible_to_skip | coursecode | crs_name | crs_catalog | class_number | crs_sbj | level | newfresh | ... | stemmajor | notSkip_Eli | skipped_course | tookap | apscore | apyear | numgrade | numgrade_2 | numgrade_3 | discipline |\n",
       "|---|---|---|---|---|---|---|---|---|---|---|---|---|---|---|---|---|---|---|---|---|---|\n",
       "| 5 | 132               | 10096302          | 0                 | 47250             | CLASSICAL PHYSICS | 4725020134PHYSICS | 0007D             | PHYSICS           | 2                 | 1                 | ...               | 2                 | 0                 | 0                 | 0                 | NA                |   NA              | 3                 | 3.7               | NA                | PHYS              |\n",
       "| 7 | 181               | 10131427          | 0                 | 47250             | CLASSICAL PHYSICS | 4725020144PHYSICS | 0007D             | PHYSICS           | 2                 | 1                 | ...               | 2                 | 0                 | 0                 | 1                 |  4                | 2014              | 4                 | 4.0               | NA                | PHYS              |\n",
       "| 10 | 194               | 10143426          | 0                 | 47270             | CLASSICAL PHYSICS | 4727020134PHYSICS | 0007D             | PHYSICS           | 2                 | 1                 | ...               | 2                 | 0                 | 0                 | 0                 | NA                |   NA              | 4                 | 4.0               | NA                | PHYS              |\n",
       "\n"
      ],
      "text/plain": [
       "   st_id studentid eligible_to_skip coursecode crs_name         \n",
       "5  132   10096302  0                47250      CLASSICAL PHYSICS\n",
       "7  181   10131427  0                47250      CLASSICAL PHYSICS\n",
       "10 194   10143426  0                47270      CLASSICAL PHYSICS\n",
       "   crs_catalog       class_number crs_sbj level newfresh ... stemmajor\n",
       "5  4725020134PHYSICS 0007D        PHYSICS 2     1        ... 2        \n",
       "7  4725020144PHYSICS 0007D        PHYSICS 2     1        ... 2        \n",
       "10 4727020134PHYSICS 0007D        PHYSICS 2     1        ... 2        \n",
       "   notSkip_Eli skipped_course tookap apscore apyear numgrade numgrade_2\n",
       "5  0           0              0      NA        NA   3        3.7       \n",
       "7  0           0              1       4      2014   4        4.0       \n",
       "10 0           0              0      NA        NA   4        4.0       \n",
       "   numgrade_3 discipline\n",
       "5  NA         PHYS      \n",
       "7  NA         PHYS      \n",
       "10 NA         PHYS      "
      ]
     },
     "metadata": {},
     "output_type": "display_data"
    }
   ],
   "source": [
    "head(physSelect_unique, 3)"
   ]
  },
  {
   "cell_type": "code",
   "execution_count": 53,
   "metadata": {},
   "outputs": [
    {
     "data": {
      "text/plain": [
       "\n",
       "   0    1 \n",
       "3087   68 "
      ]
     },
     "metadata": {},
     "output_type": "display_data"
    }
   ],
   "source": [
    "table(physSelect_unique$skipped_course)"
   ]
  },
  {
   "cell_type": "code",
   "execution_count": 54,
   "metadata": {},
   "outputs": [],
   "source": [
    "write.csv(physSelectMerge2, \"/Users/thicn/Documents/AP Skip/physSelect.csv\")\n",
    "write.csv(physSelect_unique, \"/Users/thicn/Documents/AP Skip/physSelect_unique.csv\")"
   ]
  },
  {
   "cell_type": "code",
   "execution_count": 72,
   "metadata": {},
   "outputs": [
    {
     "data": {
      "text/html": [
       "<ol class=list-inline>\n",
       "\t<li>'st_id'</li>\n",
       "\t<li>'studentid'</li>\n",
       "\t<li>'eligible_to_skip'</li>\n",
       "\t<li>'tookap'</li>\n",
       "\t<li>'apyear'</li>\n",
       "\t<li>'apscore'</li>\n",
       "\t<li>'coursecode'</li>\n",
       "\t<li>'crs_name'</li>\n",
       "\t<li>'crs_catalog'</li>\n",
       "\t<li>'class_number'</li>\n",
       "\t<li>'crs_sbj'</li>\n",
       "\t<li>'level'</li>\n",
       "\t<li>'newfresh'</li>\n",
       "\t<li>'numgradeALL'</li>\n",
       "\t<li>'gender'</li>\n",
       "\t<li>'ethniccode'</li>\n",
       "\t<li>'ethniccode_cat'</li>\n",
       "\t<li>'ethniccode_cat2'</li>\n",
       "\t<li>'firstgen'</li>\n",
       "\t<li>'lowincomeflag'</li>\n",
       "\t<li>'ellflag'</li>\n",
       "\t<li>'hsgpa'</li>\n",
       "\t<li>'hsgpa_z'</li>\n",
       "\t<li>'bstsat1mathsr'</li>\n",
       "\t<li>'bstsat1readsr'</li>\n",
       "\t<li>'actenglsr'</li>\n",
       "\t<li>'actmathsr'</li>\n",
       "\t<li>'mathsr'</li>\n",
       "\t<li>'englsr'</li>\n",
       "\t<li>'crs_term'</li>\n",
       "\t<li>'admitdate'</li>\n",
       "\t<li>'enrl_from_cohort'</li>\n",
       "\t<li>'yearsenrolled'</li>\n",
       "\t<li>'cohort'</li>\n",
       "\t<li>'stemmajor'</li>\n",
       "\t<li>'notSkip_Eli'</li>\n",
       "\t<li>'skipped_course'</li>\n",
       "\t<li>'numgrade'</li>\n",
       "\t<li>'numgrade_2'</li>\n",
       "\t<li>'discipline'</li>\n",
       "</ol>\n"
      ],
      "text/latex": [
       "\\begin{enumerate*}\n",
       "\\item 'st\\_id'\n",
       "\\item 'studentid'\n",
       "\\item 'eligible\\_to\\_skip'\n",
       "\\item 'tookap'\n",
       "\\item 'apyear'\n",
       "\\item 'apscore'\n",
       "\\item 'coursecode'\n",
       "\\item 'crs\\_name'\n",
       "\\item 'crs\\_catalog'\n",
       "\\item 'class\\_number'\n",
       "\\item 'crs\\_sbj'\n",
       "\\item 'level'\n",
       "\\item 'newfresh'\n",
       "\\item 'numgradeALL'\n",
       "\\item 'gender'\n",
       "\\item 'ethniccode'\n",
       "\\item 'ethniccode\\_cat'\n",
       "\\item 'ethniccode\\_cat2'\n",
       "\\item 'firstgen'\n",
       "\\item 'lowincomeflag'\n",
       "\\item 'ellflag'\n",
       "\\item 'hsgpa'\n",
       "\\item 'hsgpa\\_z'\n",
       "\\item 'bstsat1mathsr'\n",
       "\\item 'bstsat1readsr'\n",
       "\\item 'actenglsr'\n",
       "\\item 'actmathsr'\n",
       "\\item 'mathsr'\n",
       "\\item 'englsr'\n",
       "\\item 'crs\\_term'\n",
       "\\item 'admitdate'\n",
       "\\item 'enrl\\_from\\_cohort'\n",
       "\\item 'yearsenrolled'\n",
       "\\item 'cohort'\n",
       "\\item 'stemmajor'\n",
       "\\item 'notSkip\\_Eli'\n",
       "\\item 'skipped\\_course'\n",
       "\\item 'numgrade'\n",
       "\\item 'numgrade\\_2'\n",
       "\\item 'discipline'\n",
       "\\end{enumerate*}\n"
      ],
      "text/markdown": [
       "1. 'st_id'\n",
       "2. 'studentid'\n",
       "3. 'eligible_to_skip'\n",
       "4. 'tookap'\n",
       "5. 'apyear'\n",
       "6. 'apscore'\n",
       "7. 'coursecode'\n",
       "8. 'crs_name'\n",
       "9. 'crs_catalog'\n",
       "10. 'class_number'\n",
       "11. 'crs_sbj'\n",
       "12. 'level'\n",
       "13. 'newfresh'\n",
       "14. 'numgradeALL'\n",
       "15. 'gender'\n",
       "16. 'ethniccode'\n",
       "17. 'ethniccode_cat'\n",
       "18. 'ethniccode_cat2'\n",
       "19. 'firstgen'\n",
       "20. 'lowincomeflag'\n",
       "21. 'ellflag'\n",
       "22. 'hsgpa'\n",
       "23. 'hsgpa_z'\n",
       "24. 'bstsat1mathsr'\n",
       "25. 'bstsat1readsr'\n",
       "26. 'actenglsr'\n",
       "27. 'actmathsr'\n",
       "28. 'mathsr'\n",
       "29. 'englsr'\n",
       "30. 'crs_term'\n",
       "31. 'admitdate'\n",
       "32. 'enrl_from_cohort'\n",
       "33. 'yearsenrolled'\n",
       "34. 'cohort'\n",
       "35. 'stemmajor'\n",
       "36. 'notSkip_Eli'\n",
       "37. 'skipped_course'\n",
       "38. 'numgrade'\n",
       "39. 'numgrade_2'\n",
       "40. 'discipline'\n",
       "\n",
       "\n"
      ],
      "text/plain": [
       " [1] \"st_id\"            \"studentid\"        \"eligible_to_skip\" \"tookap\"          \n",
       " [5] \"apyear\"           \"apscore\"          \"coursecode\"       \"crs_name\"        \n",
       " [9] \"crs_catalog\"      \"class_number\"     \"crs_sbj\"          \"level\"           \n",
       "[13] \"newfresh\"         \"numgradeALL\"      \"gender\"           \"ethniccode\"      \n",
       "[17] \"ethniccode_cat\"   \"ethniccode_cat2\"  \"firstgen\"         \"lowincomeflag\"   \n",
       "[21] \"ellflag\"          \"hsgpa\"            \"hsgpa_z\"          \"bstsat1mathsr\"   \n",
       "[25] \"bstsat1readsr\"    \"actenglsr\"        \"actmathsr\"        \"mathsr\"          \n",
       "[29] \"englsr\"           \"crs_term\"         \"admitdate\"        \"enrl_from_cohort\"\n",
       "[33] \"yearsenrolled\"    \"cohort\"           \"stemmajor\"        \"notSkip_Eli\"     \n",
       "[37] \"skipped_course\"   \"numgrade\"         \"numgrade_2\"       \"discipline\"      "
      ]
     },
     "metadata": {},
     "output_type": "display_data"
    },
    {
     "data": {
      "text/html": [
       "<ol class=list-inline>\n",
       "\t<li>'st_id'</li>\n",
       "\t<li>'studentid'</li>\n",
       "\t<li>'eligible_to_skip'</li>\n",
       "\t<li>'coursecode'</li>\n",
       "\t<li>'crs_name'</li>\n",
       "\t<li>'crs_catalog'</li>\n",
       "\t<li>'class_number'</li>\n",
       "\t<li>'crs_sbj'</li>\n",
       "\t<li>'level'</li>\n",
       "\t<li>'newfresh'</li>\n",
       "\t<li>'gender'</li>\n",
       "\t<li>'ethniccode'</li>\n",
       "\t<li>'ethniccode_cat'</li>\n",
       "\t<li>'ethniccode_cat2'</li>\n",
       "\t<li>'firstgen'</li>\n",
       "\t<li>'lowincomeflag'</li>\n",
       "\t<li>'ellflag'</li>\n",
       "\t<li>'hsgpa'</li>\n",
       "\t<li>'hsgpa_z'</li>\n",
       "\t<li>'bstsat1mathsr'</li>\n",
       "\t<li>'bstsat1readsr'</li>\n",
       "\t<li>'actenglsr'</li>\n",
       "\t<li>'actmathsr'</li>\n",
       "\t<li>'mathsr'</li>\n",
       "\t<li>'englsr'</li>\n",
       "\t<li>'crs_term'</li>\n",
       "\t<li>'admitdate'</li>\n",
       "\t<li>'enrl_from_cohort'</li>\n",
       "\t<li>'yearsenrolled'</li>\n",
       "\t<li>'cohort'</li>\n",
       "\t<li>'stemmajor'</li>\n",
       "\t<li>'notSkip_Eli'</li>\n",
       "\t<li>'skipped_course'</li>\n",
       "\t<li>'tookap'</li>\n",
       "\t<li>'apscore'</li>\n",
       "\t<li>'apyear'</li>\n",
       "\t<li>'numgrade'</li>\n",
       "\t<li>'numgrade_2'</li>\n",
       "\t<li>'numgrade_3'</li>\n",
       "\t<li>'discipline'</li>\n",
       "</ol>\n"
      ],
      "text/latex": [
       "\\begin{enumerate*}\n",
       "\\item 'st\\_id'\n",
       "\\item 'studentid'\n",
       "\\item 'eligible\\_to\\_skip'\n",
       "\\item 'coursecode'\n",
       "\\item 'crs\\_name'\n",
       "\\item 'crs\\_catalog'\n",
       "\\item 'class\\_number'\n",
       "\\item 'crs\\_sbj'\n",
       "\\item 'level'\n",
       "\\item 'newfresh'\n",
       "\\item 'gender'\n",
       "\\item 'ethniccode'\n",
       "\\item 'ethniccode\\_cat'\n",
       "\\item 'ethniccode\\_cat2'\n",
       "\\item 'firstgen'\n",
       "\\item 'lowincomeflag'\n",
       "\\item 'ellflag'\n",
       "\\item 'hsgpa'\n",
       "\\item 'hsgpa\\_z'\n",
       "\\item 'bstsat1mathsr'\n",
       "\\item 'bstsat1readsr'\n",
       "\\item 'actenglsr'\n",
       "\\item 'actmathsr'\n",
       "\\item 'mathsr'\n",
       "\\item 'englsr'\n",
       "\\item 'crs\\_term'\n",
       "\\item 'admitdate'\n",
       "\\item 'enrl\\_from\\_cohort'\n",
       "\\item 'yearsenrolled'\n",
       "\\item 'cohort'\n",
       "\\item 'stemmajor'\n",
       "\\item 'notSkip\\_Eli'\n",
       "\\item 'skipped\\_course'\n",
       "\\item 'tookap'\n",
       "\\item 'apscore'\n",
       "\\item 'apyear'\n",
       "\\item 'numgrade'\n",
       "\\item 'numgrade\\_2'\n",
       "\\item 'numgrade\\_3'\n",
       "\\item 'discipline'\n",
       "\\end{enumerate*}\n"
      ],
      "text/markdown": [
       "1. 'st_id'\n",
       "2. 'studentid'\n",
       "3. 'eligible_to_skip'\n",
       "4. 'coursecode'\n",
       "5. 'crs_name'\n",
       "6. 'crs_catalog'\n",
       "7. 'class_number'\n",
       "8. 'crs_sbj'\n",
       "9. 'level'\n",
       "10. 'newfresh'\n",
       "11. 'gender'\n",
       "12. 'ethniccode'\n",
       "13. 'ethniccode_cat'\n",
       "14. 'ethniccode_cat2'\n",
       "15. 'firstgen'\n",
       "16. 'lowincomeflag'\n",
       "17. 'ellflag'\n",
       "18. 'hsgpa'\n",
       "19. 'hsgpa_z'\n",
       "20. 'bstsat1mathsr'\n",
       "21. 'bstsat1readsr'\n",
       "22. 'actenglsr'\n",
       "23. 'actmathsr'\n",
       "24. 'mathsr'\n",
       "25. 'englsr'\n",
       "26. 'crs_term'\n",
       "27. 'admitdate'\n",
       "28. 'enrl_from_cohort'\n",
       "29. 'yearsenrolled'\n",
       "30. 'cohort'\n",
       "31. 'stemmajor'\n",
       "32. 'notSkip_Eli'\n",
       "33. 'skipped_course'\n",
       "34. 'tookap'\n",
       "35. 'apscore'\n",
       "36. 'apyear'\n",
       "37. 'numgrade'\n",
       "38. 'numgrade_2'\n",
       "39. 'numgrade_3'\n",
       "40. 'discipline'\n",
       "\n",
       "\n"
      ],
      "text/plain": [
       " [1] \"st_id\"            \"studentid\"        \"eligible_to_skip\" \"coursecode\"      \n",
       " [5] \"crs_name\"         \"crs_catalog\"      \"class_number\"     \"crs_sbj\"         \n",
       " [9] \"level\"            \"newfresh\"         \"gender\"           \"ethniccode\"      \n",
       "[13] \"ethniccode_cat\"   \"ethniccode_cat2\"  \"firstgen\"         \"lowincomeflag\"   \n",
       "[17] \"ellflag\"          \"hsgpa\"            \"hsgpa_z\"          \"bstsat1mathsr\"   \n",
       "[21] \"bstsat1readsr\"    \"actenglsr\"        \"actmathsr\"        \"mathsr\"          \n",
       "[25] \"englsr\"           \"crs_term\"         \"admitdate\"        \"enrl_from_cohort\"\n",
       "[29] \"yearsenrolled\"    \"cohort\"           \"stemmajor\"        \"notSkip_Eli\"     \n",
       "[33] \"skipped_course\"   \"tookap\"           \"apscore\"          \"apyear\"          \n",
       "[37] \"numgrade\"         \"numgrade_2\"       \"numgrade_3\"       \"discipline\"      "
      ]
     },
     "metadata": {},
     "output_type": "display_data"
    }
   ],
   "source": [
    "names(chemSelectMerge)\n",
    "names(physSelectMerge2)"
   ]
  },
  {
   "cell_type": "code",
   "execution_count": 77,
   "metadata": {},
   "outputs": [],
   "source": [
    "# Cbind 2 datasets Physics and Chemistry\n",
    "chemSelectMerge$numgrade_3 <- NA\n",
    "chemSelectMerge$numgradeALL <- NULL\n",
    "\n",
    "apMerge <- rbind(chemSelectMerge, physSelectMerge2)"
   ]
  },
  {
   "cell_type": "code",
   "execution_count": 78,
   "metadata": {},
   "outputs": [
    {
     "data": {
      "text/html": [
       "<table>\n",
       "<thead><tr><th scope=col>st_id</th><th scope=col>studentid</th><th scope=col>eligible_to_skip</th><th scope=col>tookap</th><th scope=col>apyear</th><th scope=col>apscore</th><th scope=col>coursecode</th><th scope=col>crs_name</th><th scope=col>crs_catalog</th><th scope=col>class_number</th><th scope=col>...</th><th scope=col>enrl_from_cohort</th><th scope=col>yearsenrolled</th><th scope=col>cohort</th><th scope=col>stemmajor</th><th scope=col>notSkip_Eli</th><th scope=col>skipped_course</th><th scope=col>numgrade</th><th scope=col>numgrade_2</th><th scope=col>discipline</th><th scope=col>numgrade_3</th></tr></thead>\n",
       "<tbody>\n",
       "\t<tr><td>25               </td><td>10006293         </td><td>0                </td><td>0                </td><td>   0             </td><td>0                </td><td>40030            </td><td>GENERAL CHEMISTRY</td><td>4003020142CHEM   </td><td>0001A            </td><td>...              </td><td>1                </td><td>0.25             </td><td>2014             </td><td>2                </td><td>0                </td><td>0                </td><td>2                </td><td>2.3              </td><td>CHEM             </td><td>NA               </td></tr>\n",
       "\t<tr><td>25               </td><td>10006293         </td><td>0                </td><td>0                </td><td>   0             </td><td>0                </td><td>40240            </td><td>GENERAL CHEMISTRY</td><td>4024020153CHEM   </td><td>0001B            </td><td>...              </td><td>2                </td><td>0.50             </td><td>2014             </td><td>2                </td><td>0                </td><td>0                </td><td>2                </td><td>2.3              </td><td>CHEM             </td><td>NA               </td></tr>\n",
       "\t<tr><td>45               </td><td>10026709         </td><td>0                </td><td>1                </td><td>2012             </td><td>3                </td><td>40050            </td><td>GENERAL CHEMISTRY</td><td>4005020132CHEM   </td><td>0001A            </td><td>...              </td><td>1                </td><td>0.25             </td><td>2013             </td><td>1                </td><td>0                </td><td>0                </td><td>3                </td><td>2.0              </td><td>CHEM             </td><td>NA               </td></tr>\n",
       "</tbody>\n",
       "</table>\n"
      ],
      "text/latex": [
       "\\begin{tabular}{r|llllllllllllllllllllllllllllllllllllllll}\n",
       " st\\_id & studentid & eligible\\_to\\_skip & tookap & apyear & apscore & coursecode & crs\\_name & crs\\_catalog & class\\_number & ... & enrl\\_from\\_cohort & yearsenrolled & cohort & stemmajor & notSkip\\_Eli & skipped\\_course & numgrade & numgrade\\_2 & discipline & numgrade\\_3\\\\\n",
       "\\hline\n",
       "\t 25                & 10006293          & 0                 & 0                 &    0              & 0                 & 40030             & GENERAL CHEMISTRY & 4003020142CHEM    & 0001A             & ...               & 1                 & 0.25              & 2014              & 2                 & 0                 & 0                 & 2                 & 2.3               & CHEM              & NA               \\\\\n",
       "\t 25                & 10006293          & 0                 & 0                 &    0              & 0                 & 40240             & GENERAL CHEMISTRY & 4024020153CHEM    & 0001B             & ...               & 2                 & 0.50              & 2014              & 2                 & 0                 & 0                 & 2                 & 2.3               & CHEM              & NA               \\\\\n",
       "\t 45                & 10026709          & 0                 & 1                 & 2012              & 3                 & 40050             & GENERAL CHEMISTRY & 4005020132CHEM    & 0001A             & ...               & 1                 & 0.25              & 2013              & 1                 & 0                 & 0                 & 3                 & 2.0               & CHEM              & NA               \\\\\n",
       "\\end{tabular}\n"
      ],
      "text/markdown": [
       "\n",
       "| st_id | studentid | eligible_to_skip | tookap | apyear | apscore | coursecode | crs_name | crs_catalog | class_number | ... | enrl_from_cohort | yearsenrolled | cohort | stemmajor | notSkip_Eli | skipped_course | numgrade | numgrade_2 | discipline | numgrade_3 |\n",
       "|---|---|---|---|---|---|---|---|---|---|---|---|---|---|---|---|---|---|---|---|---|\n",
       "| 25                | 10006293          | 0                 | 0                 |    0              | 0                 | 40030             | GENERAL CHEMISTRY | 4003020142CHEM    | 0001A             | ...               | 1                 | 0.25              | 2014              | 2                 | 0                 | 0                 | 2                 | 2.3               | CHEM              | NA                |\n",
       "| 25                | 10006293          | 0                 | 0                 |    0              | 0                 | 40240             | GENERAL CHEMISTRY | 4024020153CHEM    | 0001B             | ...               | 2                 | 0.50              | 2014              | 2                 | 0                 | 0                 | 2                 | 2.3               | CHEM              | NA                |\n",
       "| 45                | 10026709          | 0                 | 1                 | 2012              | 3                 | 40050             | GENERAL CHEMISTRY | 4005020132CHEM    | 0001A             | ...               | 1                 | 0.25              | 2013              | 1                 | 0                 | 0                 | 3                 | 2.0               | CHEM              | NA                |\n",
       "\n"
      ],
      "text/plain": [
       "  st_id studentid eligible_to_skip tookap apyear apscore coursecode\n",
       "1 25    10006293  0                0         0   0       40030     \n",
       "2 25    10006293  0                0         0   0       40240     \n",
       "3 45    10026709  0                1      2012   3       40050     \n",
       "  crs_name          crs_catalog    class_number ... enrl_from_cohort\n",
       "1 GENERAL CHEMISTRY 4003020142CHEM 0001A        ... 1               \n",
       "2 GENERAL CHEMISTRY 4024020153CHEM 0001B        ... 2               \n",
       "3 GENERAL CHEMISTRY 4005020132CHEM 0001A        ... 1               \n",
       "  yearsenrolled cohort stemmajor notSkip_Eli skipped_course numgrade numgrade_2\n",
       "1 0.25          2014   2         0           0              2        2.3       \n",
       "2 0.50          2014   2         0           0              2        2.3       \n",
       "3 0.25          2013   1         0           0              3        2.0       \n",
       "  discipline numgrade_3\n",
       "1 CHEM       NA        \n",
       "2 CHEM       NA        \n",
       "3 CHEM       NA        "
      ]
     },
     "metadata": {},
     "output_type": "display_data"
    }
   ],
   "source": [
    "head(apMerge, 3)"
   ]
  },
  {
   "cell_type": "code",
   "execution_count": 79,
   "metadata": {},
   "outputs": [],
   "source": [
    "write.csv(apMerge, \"/Users/thicn/Documents/AP Skip/apMerge_0428.csv\")"
   ]
  },
  {
   "cell_type": "code",
   "execution_count": 112,
   "metadata": {},
   "outputs": [
    {
     "data": {
      "text/plain": [
       "      \n",
       "           0  2009  2010  2011  2012  2013  2014  2015  2016  2017\n",
       "  CHEM 14559     2    63   411   919   887  1069   917   289     0\n",
       "  PHYS  9015     0    16    18    30    28    54    42    20     1"
      ]
     },
     "metadata": {},
     "output_type": "display_data"
    },
    {
     "data": {
      "text/plain": [
       "      \n",
       "          0 2014 2015 2016\n",
       "  CHEM 7111  552  465  146\n",
       "  PHYS 3070    0   16    8"
      ]
     },
     "metadata": {},
     "output_type": "display_data"
    }
   ],
   "source": [
    "##################################################\n",
    "# Dataframes to generate in the analysis file\n",
    "# Inclusion criteria\n",
    "# Only include those who took the new AP: APyear, 2013 (Biology), 2014 (Chemistry), 2015 (Physics)\n",
    "apMerge$apyear <- ifelse(apMerge$discipline==\"PHYS\" & is.na(apMerge$apyear), 0, apMerge$apyear)\n",
    "table(apMerge$discipline, apMerge$apyear)\n",
    "\n",
    "apMerge2 <- subset(apMerge, discipline==\"CHEM\" & apyear%in%c(0, 2014, 2015, 2016, 2017) & class_number==\"0001B\" |\n",
    "                  discipline==\"PHYS\" & apyear%in%c(0, 2015, 2016, 2017) & class_number==\"0007D\") \n",
    "table(apMerge2$discipline, apMerge2$apyear)"
   ]
  },
  {
   "cell_type": "code",
   "execution_count": 113,
   "metadata": {},
   "outputs": [],
   "source": [
    "apMerge2$apscore <- ifelse(is.na(apMerge2$apscore), 0, apMerge2$apscore)"
   ]
  },
  {
   "cell_type": "code",
   "execution_count": 114,
   "metadata": {},
   "outputs": [],
   "source": [
    "# Recode reference group for ethniccode (URM==1)\n",
    "apMerge2$ethniccode_cat <- as.factor(apMerge2$ethniccode_cat)\n",
    "apMerge2$ethniccode_cat <- relevel(apMerge2$ethniccode_cat, ref=\"1\")"
   ]
  },
  {
   "cell_type": "code",
   "execution_count": 115,
   "metadata": {},
   "outputs": [],
   "source": [
    "# Enrolled in the second course\n",
    "df_chem2 <- subset(apMerge2, !is.na(numgrade_2)&discipline==\"CHEM\")\n",
    "df_phys2 <- subset(apMerge2, !is.na(numgrade_2)&discipline==\"PHYS\")"
   ]
  },
  {
   "cell_type": "code",
   "execution_count": 116,
   "metadata": {},
   "outputs": [
    {
     "data": {
      "text/html": [
       "<ol class=list-inline>\n",
       "\t<li>8266</li>\n",
       "\t<li>40</li>\n",
       "</ol>\n"
      ],
      "text/latex": [
       "\\begin{enumerate*}\n",
       "\\item 8266\n",
       "\\item 40\n",
       "\\end{enumerate*}\n"
      ],
      "text/markdown": [
       "1. 8266\n",
       "2. 40\n",
       "\n",
       "\n"
      ],
      "text/plain": [
       "[1] 8266   40"
      ]
     },
     "metadata": {},
     "output_type": "display_data"
    },
    {
     "data": {
      "text/plain": [
       "\n",
       "   0  0.7    1  1.3  1.7    2  2.3  2.7    3  3.3  3.7    4 \n",
       " 707   48  563  167  687  941 1018  905 1117  763  638  712 "
      ]
     },
     "metadata": {},
     "output_type": "display_data"
    },
    {
     "data": {
      "text/html": [
       "<ol class=list-inline>\n",
       "\t<li>3090</li>\n",
       "\t<li>40</li>\n",
       "</ol>\n"
      ],
      "text/latex": [
       "\\begin{enumerate*}\n",
       "\\item 3090\n",
       "\\item 40\n",
       "\\end{enumerate*}\n"
      ],
      "text/markdown": [
       "1. 3090\n",
       "2. 40\n",
       "\n",
       "\n"
      ],
      "text/plain": [
       "[1] 3090   40"
      ]
     },
     "metadata": {},
     "output_type": "display_data"
    },
    {
     "data": {
      "text/plain": [
       "     \n",
       "        0   1   2   3   4   5\n",
       "  0   138   0   0   0   0   0\n",
       "  0.7  50   0   0   0   0   0\n",
       "  1   121   0   0   0   0   1\n",
       "  1.3  84   0   0   0   0   0\n",
       "  1.7 230   0   0   2   0   0\n",
       "  2   385   0   0   0   0   1\n",
       "  2.3 383   0   0   2   0   0\n",
       "  2.7 397   0   0   0   1   0\n",
       "  3   423   0   1   1   0   1\n",
       "  3.3 303   0   2   0   1   1\n",
       "  3.7 220   0   1   0   0   0\n",
       "  4   332   1   1   2   2   3"
      ]
     },
     "metadata": {},
     "output_type": "display_data"
    }
   ],
   "source": [
    "dim(df_chem2)\n",
    "table(df_chem2$numgrade_2)\n",
    "dim(df_phys2)\n",
    "table(df_phys2$numgrade_2, df_phys2$apscore)"
   ]
  },
  {
   "cell_type": "code",
   "execution_count": 117,
   "metadata": {},
   "outputs": [
    {
     "data": {
      "text/html": [
       "<ol class=list-inline>\n",
       "\t<li>1163</li>\n",
       "\t<li>40</li>\n",
       "</ol>\n"
      ],
      "text/latex": [
       "\\begin{enumerate*}\n",
       "\\item 1163\n",
       "\\item 40\n",
       "\\end{enumerate*}\n"
      ],
      "text/markdown": [
       "1. 1163\n",
       "2. 40\n",
       "\n",
       "\n"
      ],
      "text/plain": [
       "[1] 1163   40"
      ]
     },
     "metadata": {},
     "output_type": "display_data"
    },
    {
     "data": {
      "text/html": [
       "<ol class=list-inline>\n",
       "\t<li>511</li>\n",
       "\t<li>40</li>\n",
       "</ol>\n"
      ],
      "text/latex": [
       "\\begin{enumerate*}\n",
       "\\item 511\n",
       "\\item 40\n",
       "\\end{enumerate*}\n"
      ],
      "text/markdown": [
       "1. 511\n",
       "2. 40\n",
       "\n",
       "\n"
      ],
      "text/plain": [
       "[1] 511  40"
      ]
     },
     "metadata": {},
     "output_type": "display_data"
    }
   ],
   "source": [
    "# Took ap\n",
    "df_chemtakers <- subset(apMerge2, tookap==1 & discipline==\"CHEM\")\n",
    "df_phystakers <- subset(apMerge2, tookap==1 & discipline==\"PHYS\")\n",
    "dim(df_chemtakers)\n",
    "dim(df_phystakers)"
   ]
  },
  {
   "cell_type": "code",
   "execution_count": 118,
   "metadata": {},
   "outputs": [
    {
     "data": {
      "text/html": [
       "<ol class=list-inline>\n",
       "\t<li>162</li>\n",
       "\t<li>40</li>\n",
       "</ol>\n"
      ],
      "text/latex": [
       "\\begin{enumerate*}\n",
       "\\item 162\n",
       "\\item 40\n",
       "\\end{enumerate*}\n"
      ],
      "text/markdown": [
       "1. 162\n",
       "2. 40\n",
       "\n",
       "\n"
      ],
      "text/plain": [
       "[1] 162  40"
      ]
     },
     "metadata": {},
     "output_type": "display_data"
    },
    {
     "data": {
      "text/html": [
       "<ol class=list-inline>\n",
       "\t<li>76</li>\n",
       "\t<li>40</li>\n",
       "</ol>\n"
      ],
      "text/latex": [
       "\\begin{enumerate*}\n",
       "\\item 76\n",
       "\\item 40\n",
       "\\end{enumerate*}\n"
      ],
      "text/markdown": [
       "1. 76\n",
       "2. 40\n",
       "\n",
       "\n"
      ],
      "text/plain": [
       "[1] 76 40"
      ]
     },
     "metadata": {},
     "output_type": "display_data"
    }
   ],
   "source": [
    "# Skip eligible\n",
    "df_chemSkEligible <- subset(apMerge2, eligible_to_skip==1 & discipline==\"CHEM\")\n",
    "df_physSkEligible <- subset(apMerge2, eligible_to_skip==1 & discipline==\"PHYS\")\n",
    "\n",
    "dim(df_chemSkEligible)\n",
    "dim(df_physSkEligible)"
   ]
  },
  {
   "cell_type": "code",
   "execution_count": 119,
   "metadata": {},
   "outputs": [],
   "source": [
    "# Write to files\n",
    "write.csv(df_chem2, \"/Users/thicn/Documents/AP Skip/AP Skip_DataFrames_0425/df_chem2.csv\")\n",
    "write.csv(df_phys2, \"/Users/thicn/Documents/AP Skip/AP Skip_DataFrames_0425/df_phys2.csv\")\n",
    "write.csv(df_chemtakers, \"/Users/thicn/Documents/AP Skip/AP Skip_DataFrames_0425/df_chemtakers.csv\")\n",
    "write.csv(df_phystakers, \"/Users/thicn/Documents/AP Skip/AP Skip_DataFrames_0425/df_phystakers.csv\")\n",
    "write.csv(df_chemSkEligible, \"/Users/thicn/Documents/AP Skip/AP Skip_DataFrames_0425/df_chemSkEligible.csv\")\n",
    "write.csv(df_physSkEligible, \"/Users/thicn/Documents/AP Skip/AP Skip_DataFrames_0425/df_physSkEligible.csv\")"
   ]
  },
  {
   "cell_type": "code",
   "execution_count": null,
   "metadata": {},
   "outputs": [],
   "source": []
  }
 ],
 "metadata": {
  "kernelspec": {
   "display_name": "R",
   "language": "R",
   "name": "ir"
  },
  "language_info": {
   "codemirror_mode": "r",
   "file_extension": ".r",
   "mimetype": "text/x-r-source",
   "name": "R",
   "pygments_lexer": "r",
   "version": "3.6.1"
  }
 },
 "nbformat": 4,
 "nbformat_minor": 2
}
