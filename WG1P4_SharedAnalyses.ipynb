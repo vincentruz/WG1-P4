{
  "nbformat": 4,
  "nbformat_minor": 0,
  "metadata": {
    "kernelspec": {
      "display_name": "R",
      "language": "R",
      "name": "ir"
    },
    "language_info": {
      "codemirror_mode": "r",
      "file_extension": ".r",
      "mimetype": "text/x-r-source",
      "name": "R",
      "pygments_lexer": "r",
      "version": "3.6.1"
    },
    "colab": {
      "name": "P2_RQ1-2.ipynb",
      "provenance": [],
      "collapsed_sections": [],
      "include_colab_link": true
    }
  },
  "cells": [
    {
      "cell_type": "markdown",
      "metadata": {
        "id": "view-in-github",
        "colab_type": "text"
      },
      "source": [
        "<a href=\"https://colab.research.google.com/github/seismic2020/WG1-P4/blob/Edits/WG1P4_SharedAnalyses.ipynb\" target=\"_parent\"><img src=\"https://colab.research.google.com/assets/colab-badge.svg\" alt=\"Open In Colab\"/></a>"
      ]
    },
    {
      "cell_type": "code",
      "metadata": {
        "id": "WrJrwrtHReAF",
        "colab_type": "code",
        "colab": {}
      },
      "source": [
        "# Before running this code, check https://github.com/seismic2020/WG1-P4/blob/master/Analysis-Workflow.md for variable naming and data cleaning steps."
      ],
      "execution_count": 0,
      "outputs": []
    },
    {
      "cell_type": "code",
      "metadata": {
        "id": "kzhcUw9GReAK",
        "colab_type": "code",
        "colab": {}
      },
      "source": [
        "# Load libraries\n",
        "if (!require(\"pacman\")) install.packages(\"pacman\")\n",
        "library(pacman)\n",
        "pacman::p_load(\"tidyverse\", \"psych\", \"data.table\",  # Data wrangling and descriptive stats\n",
        "               \"epiDisplay\", \"sjstats\")             # Reporting Odds Ratio and Std. Betas"
      ],
      "execution_count": 0,
      "outputs": []
    },
    {
      "cell_type": "code",
      "metadata": {
        "id": "lpQDM_DjReAQ",
        "colab_type": "code",
        "colab": {}
      },
      "source": [
        "# Load full dataset\n",
        "df_full <- read.csv(\"~/YOUR FILE PATH HERE.csv\")"
      ],
      "execution_count": 0,
      "outputs": []
    },
    {
      "cell_type": "code",
      "metadata": {
        "id": "vgCIIfadReAT",
        "colab_type": "code",
        "colab": {}
      },
      "source": [
        "# View data \n",
        "# Note: Variable names should follow SEISMIC conventions found here: https://docs.google.com/spreadsheets/d/1SzU4PcIEUsAGnKKyAcugHO2O2aZW29sf9a_cC-FAElk/edit#gid=1679989021\n",
        "names(df_full)\n",
        "head(df_full)"
      ],
      "execution_count": 0,
      "outputs": []
    },
    {
      "cell_type": "code",
      "metadata": {
        "id": "woZXtHQrhSr3",
        "colab_type": "code",
        "colab": {}
      },
      "source": [
        "# Filter for student level inclusion/exclusion criteria\n",
        "df_full <- df_full %>%\n",
        "  # Include\n",
        "  filter(transfer == 0) %>%\n",
        "  filter(tookcourse_2 == 1) %>%\n",
        "  filter(cohort >= 2013 & cohort <= 2018) %>%\n",
        "  # Exclude\n",
        "  filter(international == 0)"
      ],
      "execution_count": 0,
      "outputs": []
    },
    {
      "cell_type": "code",
      "metadata": {
        "id": "7_z6Qx3zomfP",
        "colab_type": "code",
        "colab": {}
      },
      "source": [
        "# Create subset dataframes for each analysis sample (for each discipline)"
      ],
      "execution_count": 0,
      "outputs": []
    },
    {
      "cell_type": "code",
      "metadata": {
        "id": "n2pS66U_ReAb",
        "colab_type": "code",
        "colab": {}
      },
      "source": [
        "# Bio\n",
        "# Took 2nd course in sequence\n",
        "df_bio2 <- df_clean %>%\n",
        "  subset(discipline == \"BIO\") %>%\n",
        "  subset(apyear >= 2013)\n",
        "# Took AP \n",
        "df_bio_aptakers <- df_clean %>%\n",
        "  subset(discipline == \"BIO\") %>%\n",
        "  subset(aptaker == 1)\n",
        "# Skip eligible\n",
        "df_bio_skeligible <- df_clean %>%\n",
        "  subset(discipline == \"BIO\") %>%\n",
        "  subset(eligible_to_skip == 1)\n",
        "\n",
        "# Chem\n",
        "# Took 2nd course in sequence\n",
        "df_chem2 <- df_clean %>%\n",
        "  subset(discipline == \"CHEM\") %>%\n",
        "  subset(apyear >= 2013)\n",
        "# Took AP \n",
        "df_chem_aptakers <- df_clean %>%\n",
        "  subset(discipline == \"CHEM\") %>%\n",
        "  subset(aptaker == 1)\n",
        "# Skip eligible\n",
        "df_chem_skeligible <- df_clean %>%\n",
        "  subset(discipline == \"CHEM\") %>%\n",
        "  subset(eligible_to_skip == 1)\n",
        "\n",
        "# Phys\n",
        "# Took 2nd course in sequence\n",
        "df_phys2 <- df_clean %>%\n",
        "  subset(discipline == \"PHYS\") %>%\n",
        "  subset(apyear >= 2013)\n",
        "# Took AP \n",
        "df_phys_aptakers <- df_clean %>%\n",
        "  subset(discipline == \"PHYS\") %>%\n",
        "  subset(aptaker == 1)\n",
        "# Skip eligible\n",
        "df_phys_skeligible <- df_clean %>%\n",
        "  subset(discipline == \"PHYS\") %>%\n",
        "  subset(eligible_to_skip == 1)\n"
      ],
      "execution_count": 0,
      "outputs": []
    },
    {
      "cell_type": "code",
      "metadata": {
        "id": "QXkV77FVoiuE",
        "colab_type": "code",
        "colab": {}
      },
      "source": [
        "# Run Models (for each discipline)\n",
        "# Note: For model specifications, check: https://docs.google.com/spreadsheets/d/1rN8W_iz1mr7lEzBGfdTZHa45wKOSLiSF8VEpChCPsmE/edit#gid=129222174"
      ],
      "execution_count": 0,
      "outputs": []
    },
    {
      "cell_type": "code",
      "metadata": {
        "id": "aC0ZtaFfReAo",
        "colab_type": "code",
        "colab": {}
      },
      "source": [
        "# Bio\n",
        "# RQ1a - Who takes AP?\n",
        "bio_rq1a <- glm(aptaker ~ factor(firstgen) + factor(lowincomeflag) + factor(gender) + factor(ethniccode_cat) +\n",
        "                  scale(hsgpa) + scale(mathsr) + scale(englsr) + factor(cohort), \n",
        "                  data=df_bio2, binomial(link=\"logit\"))\n",
        "summary(bio_rq1a)\n",
        "robustse(bio_rq1a, coef=\"odd.ratio\") #robustse is a command from sjstats package\n",
        "logistic.display(bio_rq1a)"
      ],
      "execution_count": 0,
      "outputs": []
    },
    {
      "cell_type": "code",
      "metadata": {
        "id": "-gMH8kZtReAq",
        "colab_type": "code",
        "colab": {}
      },
      "source": [
        "# RQ1b - Who gets what score on AP exams? (DV: apscore, Sample: Took AP)\n",
        "bio_rq1b <- lm(scale(apscore) ~ factor(firstgen) + factor(lowincomeflag) + factor(gender) + factor(ethniccode_cat) +\n",
        "               scale(hsgpa) + scale(mathsr) + scale(englsr) + factor(cohort), \n",
        "               data=df_bio_takers)\n",
        "summary(bio_rq1b)\n",
        "std_beta(bio_rq1b) # from sjstats package"
      ],
      "execution_count": 0,
      "outputs": []
    },
    {
      "cell_type": "code",
      "metadata": {
        "id": "umgDo0TzReAs",
        "colab_type": "code",
        "colab": {}
      },
      "source": [
        "# RQ1c.i - Of those who take AP, who earns an AP score that makes them eligible to skip?\n",
        "bio_rq1ci <- glm(eligible_to_skip ~ factor(firstgen) + factor(lowincomeflag) + factor(gender) + factor(ethniccode_cat) +\n",
        "               scale(hsgpa) + scale(mathsr) + scale(englsr) + factor(crs_term), \n",
        "                data=df_bio_takers, \n",
        "                binomial(link=\"logit\"))\n",
        "summary(bio_rq1ci)\n",
        "logistic.display(bio_rq1ci)\n",
        "#robustse(rq1ci, coef=\"odd.ratio\")"
      ],
      "execution_count": 0,
      "outputs": []
    },
    {
      "cell_type": "code",
      "metadata": {
        "id": "CTsK6OQvReAu",
        "colab_type": "code",
        "colab": {}
      },
      "source": [
        "# RQ1c.ii - Of everyone, who earns an AP score that makes them eligible to skip? \n",
        "bio_rq1cii <- glm(eligible_to_skip ~ factor(firstgen) + factor(lowincomeflag) + factor(gender) + factor(ethniccode_cat) +\n",
        "               scale(hsgpa) + scale(mathsr) + scale(englsr) + factor(crs_term), \n",
        "                data=df_bio2, binomial(link=\"logit\"))\n",
        "summary(bio_rq1cii)\n",
        "logistic.display(bio_rq1cii)\n",
        "#robustse(bio_rq1cii, coef=\"odd.ratio\")"
      ],
      "execution_count": 0,
      "outputs": []
    },
    {
      "cell_type": "code",
      "metadata": {
        "id": "ce3xdH_eReAw",
        "colab_type": "code",
        "colab": {}
      },
      "source": [
        "# RQ2a - Of everyone who was eligible to skip, who actually skipped?\n",
        "bio_rq2a <- glm(eligible_to_skip ~ factor(firstgen) + factor(lowincomeflag) + factor(gender) + factor(ethniccode_cat) +\n",
        "               hsgpa_z + scale(mathsr) + scale(englsr) + factor(crs_term), \n",
        "               data=df_bio_eligible, binomial(link=\"logit\"))\n",
        "summary(bio_rq2a)\n",
        "logistic.display(bio_rq2a)\n",
        "#robustse(bio_rq2a, coef=\"odd.ratio\")"
      ],
      "execution_count": 0,
      "outputs": []
    },
    {
      "cell_type": "code",
      "metadata": {
        "id": "2k5nRXJxReAz",
        "colab_type": "code",
        "colab": {}
      },
      "source": [
        "# RQ2b - Of those who were eligible to skip, what was the effect of skipping on 2nd course grade (controlling for AP score)?\n",
        "bio_rq2b <- lm(scale(numgrade) ~ factor(skipped_course) + scale(apscore) + \n",
        "              factor(firstgen) + factor(lowincomeflag) + factor(gender) + factor(ethniccode_cat) + \n",
        "              scale(hsgpa) + scale(mathsr) + scale(englsr) + factor(crs_term), \n",
        "              data=df_bio_aptaker)\n",
        "summary(bio_rq2b)\n",
        "#std_beta(bio_rq2b)"
      ],
      "execution_count": 0,
      "outputs": []
    },
    {
      "cell_type": "code",
      "metadata": {
        "id": "ow16x74PReA1",
        "colab_type": "code",
        "colab": {}
      },
      "source": [
        "# RQ2c - Of everyone, what grade did they get in the 2nd course (controlling for AP score)? \n",
        "bio_rq2c <- lm(scale(numgrade) ~ factor(skipped_course) + scale(apscore) + \n",
        "              factor(firstgen) + factor(lowincomeflag) + factor(gender) + factor(ethniccode_cat) + \n",
        "              scale(hsgpa) + scale(mathsr) + scale(englsr) + factor(crs_term), \n",
        "              data=df_bio2)\n",
        "summary(bio_rq2c)\n",
        "#std_beta(bio_rq2c)"
      ],
      "execution_count": 0,
      "outputs": []
    },
    {
      "cell_type": "code",
      "metadata": {
        "id": "8Oh5p4NVReA3",
        "colab_type": "code",
        "colab": {}
      },
      "source": [
        "# RQ2d - Of everyone who took AP, what grade did they get in the 2nd course?\n",
        "chemsr <- lm(scale(numgrade) ~ factor(skipped_course) + \n",
        "              factor(firstgen) + factor(lowincomeflag) + factor(gender) + factor(ethniccode_cat) + \n",
        "              scale(hsgpa) + scale(mathsr) + scale(englsr) + factor(crs_term), \n",
        "              data=df_bio_aptakers)\n",
        "summary(chemsr)\n",
        "#std_beta(chemsr)"
      ],
      "execution_count": 0,
      "outputs": []
    },
    {
      "cell_type": "code",
      "metadata": {
        "id": "CQ0NBMpEReA5",
        "colab_type": "code",
        "colab": {}
      },
      "source": [
        "# RQ2e - Of everyone who took AP and skipped, what grade did they get in the 2nd course?\n",
        "chemsr2 <- lm(numgrade ~ aprealskipper_GChem1 + factor(firstgen) + \n",
        "    factor(lowincomeflag) + factor(gender) + factor(ethniccode_cat) + \n",
        "    hsgpa_z + scale(mathsr) + scale(englsr) + factor(crs_term), data=chemap_unique)\n",
        "summary(chemsr2)\n",
        "\n",
        "#std_beta(chemsr2)"
      ],
      "execution_count": 0,
      "outputs": []
    },
    {
      "cell_type": "code",
      "metadata": {
        "id": "YM9_s168ReA7",
        "colab_type": "code",
        "colab": {}
      },
      "source": [
        "# RQ2f - Course grade, Skip eligible for those who took AP\n",
        "chemsr3 <- lm(numgrade~apskipper_GChem1 + factor(firstgen) + \n",
        "    factor(lowincomeflag) + factor(gender) + factor(ethniccode_cat) + \n",
        "    hsgpa_z + scale(mathsr) + scale(englsr) + factor(crs_term), data=chem_tookap)\n",
        "summary(chemsr3)\n",
        "\n",
        "#std_beta(chemsr3)"
      ],
      "execution_count": 0,
      "outputs": []
    },
    {
      "cell_type": "code",
      "metadata": {
        "id": "7FR09PwcReA9",
        "colab_type": "code",
        "colab": {}
      },
      "source": [
        "# RQ2g -  Skip eligible, full sample\n",
        "chemsr4<- lm(numgrade~apskipper_GChem1 + factor(firstgen) + \n",
        "    factor(lowincomeflag) + factor(gender) + factor(ethniccode_cat) + \n",
        "    hsgpa_z + scale(mathsr) + scale(englsr) + factor(crs_term), data=chemap_unique)\n",
        "summary(chemsr4)\n",
        "\n",
        "#std_beta(chemsr4)"
      ],
      "execution_count": 0,
      "outputs": []
    },
    {
      "cell_type": "code",
      "metadata": {
        "id": "bzPVpoIKReBB",
        "colab_type": "code",
        "colab": {}
      },
      "source": [
        "## PHYSICS\n",
        "#table(apfull_SkipEl$apyear_Mec) # NA not coded\n",
        "apfull_SkipEl$apyear_Mec <- ifelse(is.na(apfull_SkipEl$apyear_Mec), 0, apfull_SkipEl$apyear_Mec)\n",
        "apfull_SkipEl$apyear_Elec <- ifelse(is.na(apfull_SkipEl$apyear_Elec), 0, apfull_SkipEl$apyear_Elec)\n",
        "\n",
        "table(apfull_SkipEl$apyear_Mec)\n",
        "table(apfull_SkipEl$apyear_Elec)"
      ],
      "execution_count": 0,
      "outputs": []
    },
    {
      "cell_type": "code",
      "metadata": {
        "id": "R6hcvhSvReBD",
        "colab_type": "code",
        "colab": {}
      },
      "source": [
        "# Chem\n",
        "# RQ1a - Who takes AP?\n",
        "bio_rq1a <- glm(aptaker ~ factor(firstgen) + factor(lowincomeflag) + factor(gender) + factor(ethniccode_cat) +\n",
        "                  scale(hsgpa) + scale(mathsr) + scale(englsr) + factor(cohort), \n",
        "                  data=df_bio2, binomial(link=\"logit\"))\n",
        "summary(bio_rq1a)\n",
        "robustse(bio_rq1a, coef=\"odd.ratio\") #robustse is a command from sjstats package\n",
        "logistic.display(bio_rq1a)"
      ],
      "execution_count": 0,
      "outputs": []
    }
  ]
}