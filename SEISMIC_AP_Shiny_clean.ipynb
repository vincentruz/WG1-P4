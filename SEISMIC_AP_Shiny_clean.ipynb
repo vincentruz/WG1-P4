{
  "nbformat": 4,
  "nbformat_minor": 0,
  "metadata": {
    "kernelspec": {
      "display_name": "R",
      "language": "R",
      "name": "ir"
    },
    "language_info": {
      "codemirror_mode": "r",
      "file_extension": ".r",
      "mimetype": "text/x-r-source",
      "name": "R",
      "pygments_lexer": "r",
      "version": "3.6.1"
    },
    "colab": {
      "name": "SEISMIC AP_Shiny clean.ipynb",
      "provenance": [],
      "include_colab_link": true
    }
  },
  "cells": [
    {
      "cell_type": "markdown",
      "metadata": {
        "id": "view-in-github",
        "colab_type": "text"
      },
      "source": [
        "<a href=\"https://colab.research.google.com/github/seismic2020/WG1-P4/blob/master/SEISMIC_AP_Shiny_clean.ipynb\" target=\"_parent\"><img src=\"https://colab.research.google.com/assets/colab-badge.svg\" alt=\"Open In Colab\"/></a>"
      ]
    },
    {
      "cell_type": "code",
      "metadata": {
        "id": "Lvwt381R1sQL",
        "colab_type": "code",
        "colab": {},
        "outputId": "028029ad-d71c-4d12-b53a-365e515f8311"
      },
      "source": [
        "# AP Skip\n",
        "# Linear reg model for shiny app\n",
        "# Feb 27, 2020\n",
        "# Code adapted from Eben's and Kyle's\n",
        "######################################\n",
        "# Load library\n",
        "library(tidyverse)\n",
        "library(dplyr)"
      ],
      "execution_count": 0,
      "outputs": [
        {
          "output_type": "stream",
          "text": [
            "── \u001b[1mAttaching packages\u001b[22m ─────────────────────────────────────── tidyverse 1.3.0 ──\n",
            "\n",
            "\u001b[32m✔\u001b[39m \u001b[34mggplot2\u001b[39m 3.3.0     \u001b[32m✔\u001b[39m \u001b[34mpurrr  \u001b[39m 0.3.3\n",
            "\u001b[32m✔\u001b[39m \u001b[34mtibble \u001b[39m 2.1.3     \u001b[32m✔\u001b[39m \u001b[34mdplyr  \u001b[39m 0.8.5\n",
            "\u001b[32m✔\u001b[39m \u001b[34mtidyr  \u001b[39m 1.0.2     \u001b[32m✔\u001b[39m \u001b[34mstringr\u001b[39m 1.4.0\n",
            "\u001b[32m✔\u001b[39m \u001b[34mreadr  \u001b[39m 1.3.1     \u001b[32m✔\u001b[39m \u001b[34mforcats\u001b[39m 0.4.0\n",
            "\n",
            "── \u001b[1mConflicts\u001b[22m ────────────────────────────────────────── tidyverse_conflicts() ──\n",
            "\u001b[31m✖\u001b[39m \u001b[34mdplyr\u001b[39m::\u001b[32mfilter()\u001b[39m masks \u001b[34mstats\u001b[39m::filter()\n",
            "\u001b[31m✖\u001b[39m \u001b[34mdplyr\u001b[39m::\u001b[32mlag()\u001b[39m    masks \u001b[34mstats\u001b[39m::lag()\n",
            "\n"
          ],
          "name": "stderr"
        }
      ]
    },
    {
      "cell_type": "code",
      "metadata": {
        "id": "G5rGJ0hZ1sQV",
        "colab_type": "code",
        "colab": {}
      },
      "source": [
        "# Load dataset\n",
        "setwd(\"/Users/thicn/Documents/AP Skip/\") # change to your local directory\n",
        "df_ind_chem <- read.csv(\"chemap_unique2.csv\")\n",
        "df_ind_phys <- read.csv(\"physap_unique2.csv\")"
      ],
      "execution_count": 0,
      "outputs": []
    },
    {
      "cell_type": "code",
      "metadata": {
        "id": "M9X41QbH1sQe",
        "colab_type": "code",
        "colab": {},
        "outputId": "751e15a5-1461-4da8-ada1-eff7df71fbb7"
      },
      "source": [
        "# Start with CHEM\n",
        "df_viz_gchem <- df_ind_chem %>%\n",
        "  mutate(SKIP = case_when(\n",
        "   aprealskipper_GChem1==0 ~ \"NoSkip\",\n",
        "   aprealskipper_GChem1==1 ~ \"Skip\"\n",
        " )) %>%\n",
        " filter(!is.na(SKIP))\n",
        "\n",
        "lm_chem <- lm(numgrade ~ apscore_Chem + factor(firstgen) + factor(lowincomeflag) + factor(gender) + factor(ethniccode_cat2) +\n",
        "               hsgpa_z + scale(mathsr) + scale(englsr) + factor(crs_term), \n",
        "              df_viz_gchem, na.action=na.exclude)\n",
        "\n",
        "df_viz_chem_shiny <- df_viz_gchem %>%\n",
        "  mutate(AP = apscore_Chem) %>%\n",
        "  mutate(COURSE2.GRADE = numgrade) %>%\n",
        "  mutate(COURSE2.GRADE.REG =  fitted(lm_chem)) %>%\n",
        "  mutate(COURSE = \"GCHEM1\") %>%\n",
        "  dplyr::select(AP, COURSE, \n",
        "                COURSE2.GRADE, COURSE2.GRADE.REG, SKIP)\n",
        "\n",
        "head(df_viz_chem_shiny)"
      ],
      "execution_count": 0,
      "outputs": [
        {
          "output_type": "display_data",
          "data": {
            "text/html": [
              "<table>\n",
              "<thead><tr><th scope=col>AP</th><th scope=col>COURSE</th><th scope=col>COURSE2.GRADE</th><th scope=col>COURSE2.GRADE.REG</th><th scope=col>SKIP</th></tr></thead>\n",
              "<tbody>\n",
              "\t<tr><td>0       </td><td>GCHEM1  </td><td>2.3     </td><td>2.184621</td><td>NoSkip  </td></tr>\n",
              "\t<tr><td>0       </td><td>GCHEM1  </td><td>3.3     </td><td>2.902330</td><td>NoSkip  </td></tr>\n",
              "\t<tr><td>0       </td><td>GCHEM1  </td><td>1.7     </td><td>2.800478</td><td>NoSkip  </td></tr>\n",
              "\t<tr><td>0       </td><td>GCHEM1  </td><td>2.0     </td><td>2.654872</td><td>NoSkip  </td></tr>\n",
              "\t<tr><td>0       </td><td>GCHEM1  </td><td>3.7     </td><td>2.994186</td><td>NoSkip  </td></tr>\n",
              "\t<tr><td>0       </td><td>GCHEM1  </td><td>2.0     </td><td>2.068392</td><td>NoSkip  </td></tr>\n",
              "</tbody>\n",
              "</table>\n"
            ],
            "text/latex": "\\begin{tabular}{r|lllll}\n AP & COURSE & COURSE2.GRADE & COURSE2.GRADE.REG & SKIP\\\\\n\\hline\n\t 0        & GCHEM1   & 2.3      & 2.184621 & NoSkip  \\\\\n\t 0        & GCHEM1   & 3.3      & 2.902330 & NoSkip  \\\\\n\t 0        & GCHEM1   & 1.7      & 2.800478 & NoSkip  \\\\\n\t 0        & GCHEM1   & 2.0      & 2.654872 & NoSkip  \\\\\n\t 0        & GCHEM1   & 3.7      & 2.994186 & NoSkip  \\\\\n\t 0        & GCHEM1   & 2.0      & 2.068392 & NoSkip  \\\\\n\\end{tabular}\n",
            "text/markdown": "\n| AP | COURSE | COURSE2.GRADE | COURSE2.GRADE.REG | SKIP |\n|---|---|---|---|---|\n| 0        | GCHEM1   | 2.3      | 2.184621 | NoSkip   |\n| 0        | GCHEM1   | 3.3      | 2.902330 | NoSkip   |\n| 0        | GCHEM1   | 1.7      | 2.800478 | NoSkip   |\n| 0        | GCHEM1   | 2.0      | 2.654872 | NoSkip   |\n| 0        | GCHEM1   | 3.7      | 2.994186 | NoSkip   |\n| 0        | GCHEM1   | 2.0      | 2.068392 | NoSkip   |\n\n",
            "text/plain": [
              "  AP COURSE COURSE2.GRADE COURSE2.GRADE.REG SKIP  \n",
              "1 0  GCHEM1 2.3           2.184621          NoSkip\n",
              "2 0  GCHEM1 3.3           2.902330          NoSkip\n",
              "3 0  GCHEM1 1.7           2.800478          NoSkip\n",
              "4 0  GCHEM1 2.0           2.654872          NoSkip\n",
              "5 0  GCHEM1 3.7           2.994186          NoSkip\n",
              "6 0  GCHEM1 2.0           2.068392          NoSkip"
            ]
          },
          "metadata": {
            "tags": []
          }
        }
      ]
    },
    {
      "cell_type": "code",
      "metadata": {
        "id": "eei0AA-W1sQn",
        "colab_type": "code",
        "colab": {},
        "outputId": "98abefa5-ccaa-4de2-ea7d-cb1d9ac83f62"
      },
      "source": [
        "#PHYSICS\n",
        "df_viz_phys <- df_ind_phys %>%\n",
        "  mutate(SKIP = case_when(\n",
        "    aprealskipper_Phys1 == 0 ~ \"NoSkip\",\n",
        "    aprealskipper_Phys1 == 1 ~ \"Skip\"\n",
        "  )) %>%\n",
        "  filter(!is.na(SKIP))\n",
        "\n",
        "lm_phys <- lm(numgrade ~ apscore_Phys + factor(firstgen) + factor(lowincomeflag) + factor(gender) + factor(ethniccode_cat2) +\n",
        "               hsgpa_z + scale(mathsr) + scale(englsr) + factor(crs_term), \n",
        "              df_viz_phys, na.action = na.exclude)\n",
        "\n",
        "df_viz_phys_shiny <- df_viz_phys %>%\n",
        "  mutate(AP = apscore_Phys) %>%\n",
        "  mutate(COURSE2.GRADE = numgrade) %>%\n",
        "  mutate(COURSE2.GRADE.REG =  fitted(lm_phys)) %>%\n",
        "  mutate(COURSE = \"PHYS1\") %>%\n",
        "  dplyr::select(AP, COURSE, \n",
        "                COURSE2.GRADE, COURSE2.GRADE.REG, SKIP)\n",
        "\n",
        "head(df_viz_phys_shiny)"
      ],
      "execution_count": 0,
      "outputs": [
        {
          "output_type": "display_data",
          "data": {
            "text/html": [
              "<table>\n",
              "<thead><tr><th scope=col>AP</th><th scope=col>COURSE</th><th scope=col>COURSE2.GRADE</th><th scope=col>COURSE2.GRADE.REG</th><th scope=col>SKIP</th></tr></thead>\n",
              "<tbody>\n",
              "\t<tr><td>0       </td><td>PHYS1   </td><td>4.0     </td><td>3.032733</td><td>NoSkip  </td></tr>\n",
              "\t<tr><td>0       </td><td>PHYS1   </td><td>1.7     </td><td>2.538960</td><td>NoSkip  </td></tr>\n",
              "\t<tr><td>0       </td><td>PHYS1   </td><td>2.7     </td><td>2.634305</td><td>NoSkip  </td></tr>\n",
              "\t<tr><td>5       </td><td>PHYS1   </td><td>4.0     </td><td>3.283638</td><td>NoSkip  </td></tr>\n",
              "\t<tr><td>0       </td><td>PHYS1   </td><td>3.0     </td><td>2.803802</td><td>NoSkip  </td></tr>\n",
              "\t<tr><td>0       </td><td>PHYS1   </td><td>3.7     </td><td>2.697887</td><td>NoSkip  </td></tr>\n",
              "</tbody>\n",
              "</table>\n"
            ],
            "text/latex": "\\begin{tabular}{r|lllll}\n AP & COURSE & COURSE2.GRADE & COURSE2.GRADE.REG & SKIP\\\\\n\\hline\n\t 0        & PHYS1    & 4.0      & 3.032733 & NoSkip  \\\\\n\t 0        & PHYS1    & 1.7      & 2.538960 & NoSkip  \\\\\n\t 0        & PHYS1    & 2.7      & 2.634305 & NoSkip  \\\\\n\t 5        & PHYS1    & 4.0      & 3.283638 & NoSkip  \\\\\n\t 0        & PHYS1    & 3.0      & 2.803802 & NoSkip  \\\\\n\t 0        & PHYS1    & 3.7      & 2.697887 & NoSkip  \\\\\n\\end{tabular}\n",
            "text/markdown": "\n| AP | COURSE | COURSE2.GRADE | COURSE2.GRADE.REG | SKIP |\n|---|---|---|---|---|\n| 0        | PHYS1    | 4.0      | 3.032733 | NoSkip   |\n| 0        | PHYS1    | 1.7      | 2.538960 | NoSkip   |\n| 0        | PHYS1    | 2.7      | 2.634305 | NoSkip   |\n| 5        | PHYS1    | 4.0      | 3.283638 | NoSkip   |\n| 0        | PHYS1    | 3.0      | 2.803802 | NoSkip   |\n| 0        | PHYS1    | 3.7      | 2.697887 | NoSkip   |\n\n",
            "text/plain": [
              "  AP COURSE COURSE2.GRADE COURSE2.GRADE.REG SKIP  \n",
              "1 0  PHYS1  4.0           3.032733          NoSkip\n",
              "2 0  PHYS1  1.7           2.538960          NoSkip\n",
              "3 0  PHYS1  2.7           2.634305          NoSkip\n",
              "4 5  PHYS1  4.0           3.283638          NoSkip\n",
              "5 0  PHYS1  3.0           2.803802          NoSkip\n",
              "6 0  PHYS1  3.7           2.697887          NoSkip"
            ]
          },
          "metadata": {
            "tags": []
          }
        }
      ]
    },
    {
      "cell_type": "code",
      "metadata": {
        "id": "HMOtBMxT1sQv",
        "colab_type": "code",
        "colab": {},
        "outputId": "500b5e52-417f-4dcc-cbf2-5b06d1e3fbd5"
      },
      "source": [
        "#Combine Disciplines\n",
        "df_SEISMIC_AP_SHINY <- bind_rows(df_viz_chem_shiny, df_viz_phys_shiny) %>%\n",
        "  group_by(AP, COURSE) %>%\n",
        "  dplyr::mutate(n.AP = n()) %>%\n",
        "  ungroup\n",
        "\n",
        "head(df_SEISMIC_AP_SHINY)\n",
        "write.csv(df_SEISMIC_AP_SHINY, file = \"SEISMIC_AP_SHINY2.csv\")"
      ],
      "execution_count": 0,
      "outputs": [
        {
          "output_type": "display_data",
          "data": {
            "text/html": [
              "<table>\n",
              "<thead><tr><th scope=col>AP</th><th scope=col>COURSE</th><th scope=col>COURSE2.GRADE</th><th scope=col>COURSE2.GRADE.REG</th><th scope=col>SKIP</th><th scope=col>n.AP</th></tr></thead>\n",
              "<tbody>\n",
              "\t<tr><td>0       </td><td>GCHEM1  </td><td>2.3     </td><td>2.184621</td><td>NoSkip  </td><td>6501    </td></tr>\n",
              "\t<tr><td>0       </td><td>GCHEM1  </td><td>3.3     </td><td>2.902330</td><td>NoSkip  </td><td>6501    </td></tr>\n",
              "\t<tr><td>0       </td><td>GCHEM1  </td><td>1.7     </td><td>2.800478</td><td>NoSkip  </td><td>6501    </td></tr>\n",
              "\t<tr><td>0       </td><td>GCHEM1  </td><td>2.0     </td><td>2.654872</td><td>NoSkip  </td><td>6501    </td></tr>\n",
              "\t<tr><td>0       </td><td>GCHEM1  </td><td>3.7     </td><td>2.994186</td><td>NoSkip  </td><td>6501    </td></tr>\n",
              "\t<tr><td>0       </td><td>GCHEM1  </td><td>2.0     </td><td>2.068392</td><td>NoSkip  </td><td>6501    </td></tr>\n",
              "</tbody>\n",
              "</table>\n"
            ],
            "text/latex": "\\begin{tabular}{r|llllll}\n AP & COURSE & COURSE2.GRADE & COURSE2.GRADE.REG & SKIP & n.AP\\\\\n\\hline\n\t 0        & GCHEM1   & 2.3      & 2.184621 & NoSkip   & 6501    \\\\\n\t 0        & GCHEM1   & 3.3      & 2.902330 & NoSkip   & 6501    \\\\\n\t 0        & GCHEM1   & 1.7      & 2.800478 & NoSkip   & 6501    \\\\\n\t 0        & GCHEM1   & 2.0      & 2.654872 & NoSkip   & 6501    \\\\\n\t 0        & GCHEM1   & 3.7      & 2.994186 & NoSkip   & 6501    \\\\\n\t 0        & GCHEM1   & 2.0      & 2.068392 & NoSkip   & 6501    \\\\\n\\end{tabular}\n",
            "text/markdown": "\n| AP | COURSE | COURSE2.GRADE | COURSE2.GRADE.REG | SKIP | n.AP |\n|---|---|---|---|---|---|\n| 0        | GCHEM1   | 2.3      | 2.184621 | NoSkip   | 6501     |\n| 0        | GCHEM1   | 3.3      | 2.902330 | NoSkip   | 6501     |\n| 0        | GCHEM1   | 1.7      | 2.800478 | NoSkip   | 6501     |\n| 0        | GCHEM1   | 2.0      | 2.654872 | NoSkip   | 6501     |\n| 0        | GCHEM1   | 3.7      | 2.994186 | NoSkip   | 6501     |\n| 0        | GCHEM1   | 2.0      | 2.068392 | NoSkip   | 6501     |\n\n",
            "text/plain": [
              "  AP COURSE COURSE2.GRADE COURSE2.GRADE.REG SKIP   n.AP\n",
              "1 0  GCHEM1 2.3           2.184621          NoSkip 6501\n",
              "2 0  GCHEM1 3.3           2.902330          NoSkip 6501\n",
              "3 0  GCHEM1 1.7           2.800478          NoSkip 6501\n",
              "4 0  GCHEM1 2.0           2.654872          NoSkip 6501\n",
              "5 0  GCHEM1 3.7           2.994186          NoSkip 6501\n",
              "6 0  GCHEM1 2.0           2.068392          NoSkip 6501"
            ]
          },
          "metadata": {
            "tags": []
          }
        }
      ]
    },
    {
      "cell_type": "code",
      "metadata": {
        "id": "985Y4BUp1sQ0",
        "colab_type": "code",
        "colab": {}
      },
      "source": [
        ""
      ],
      "execution_count": 0,
      "outputs": []
    }
  ]
}