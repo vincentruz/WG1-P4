{
 "cells": [
  {
   "cell_type": "code",
   "execution_count": 1,
   "metadata": {},
   "outputs": [
    {
     "name": "stderr",
     "output_type": "stream",
     "text": [
      "Loading required package: pacman\n",
      "Warning message:\n",
      "\"package 'pacman' was built under R version 3.6.3\"Warning message:\n",
      "\"unable to access index for repository http://www.stats.ox.ac.uk/pub/RWin/bin/windows/contrib/3.6:\n",
      "  cannot open URL 'http://www.stats.ox.ac.uk/pub/RWin/bin/windows/contrib/3.6/PACKAGES'\""
     ]
    },
    {
     "name": "stdout",
     "output_type": "stream",
     "text": [
      "package 'epiDisplay' successfully unpacked and MD5 sums checked\n",
      "\n",
      "The downloaded binary packages are in\n",
      "\tC:\\Users\\feng8\\AppData\\Local\\Temp\\RtmpOAjDVs\\downloaded_packages\n"
     ]
    },
    {
     "name": "stderr",
     "output_type": "stream",
     "text": [
      "\n",
      "epiDisplay installed\n",
      "Warning message:\n",
      "\"package 'epiDisplay' was built under R version 3.6.3\"also installing the dependencies 'rlang', 'estimability', 'mvtnorm', 'minqa', 'nloptr', 'statmod', 'RcppEigen', 'bayestestR', 'dplyr', 'effectsize', 'emmeans', 'insight', 'lme4', 'parameters', 'performance', 'sjlabelled', 'sjmisc'\n",
      "\n",
      "Warning message:\n",
      "\"unable to access index for repository http://www.stats.ox.ac.uk/pub/RWin/bin/windows/contrib/3.6:\n",
      "  cannot open URL 'http://www.stats.ox.ac.uk/pub/RWin/bin/windows/contrib/3.6/PACKAGES'\"Warning message:\n",
      "\"package 'dplyr' is in use and will not be installed\""
     ]
    },
    {
     "name": "stdout",
     "output_type": "stream",
     "text": [
      "package 'rlang' successfully unpacked and MD5 sums checked\n"
     ]
    },
    {
     "name": "stderr",
     "output_type": "stream",
     "text": [
      "Warning message:\n",
      "\"cannot remove prior installation of package 'rlang'\"Warning message in file.copy(savedcopy, lib, recursive = TRUE):\n",
      "\"problem copying D:\\Anaconda3\\envs\\R-tutorial\\Lib\\R\\library\\00LOCK\\rlang\\libs\\x64\\rlang.dll to D:\\Anaconda3\\envs\\R-tutorial\\Lib\\R\\library\\rlang\\libs\\x64\\rlang.dll: Permission denied\"Warning message:\n",
      "\"restored 'rlang'\""
     ]
    },
    {
     "name": "stdout",
     "output_type": "stream",
     "text": [
      "package 'estimability' successfully unpacked and MD5 sums checked\n",
      "package 'mvtnorm' successfully unpacked and MD5 sums checked\n",
      "package 'minqa' successfully unpacked and MD5 sums checked\n",
      "package 'nloptr' successfully unpacked and MD5 sums checked\n",
      "package 'statmod' successfully unpacked and MD5 sums checked\n",
      "package 'RcppEigen' successfully unpacked and MD5 sums checked\n",
      "package 'bayestestR' successfully unpacked and MD5 sums checked\n",
      "package 'effectsize' successfully unpacked and MD5 sums checked\n",
      "package 'emmeans' successfully unpacked and MD5 sums checked\n",
      "package 'insight' successfully unpacked and MD5 sums checked\n",
      "package 'lme4' successfully unpacked and MD5 sums checked\n",
      "package 'parameters' successfully unpacked and MD5 sums checked\n",
      "package 'performance' successfully unpacked and MD5 sums checked\n",
      "package 'sjlabelled' successfully unpacked and MD5 sums checked\n",
      "package 'sjmisc' successfully unpacked and MD5 sums checked\n",
      "package 'sjstats' successfully unpacked and MD5 sums checked\n",
      "\n",
      "The downloaded binary packages are in\n",
      "\tC:\\Users\\feng8\\AppData\\Local\\Temp\\RtmpOAjDVs\\downloaded_packages\n"
     ]
    },
    {
     "name": "stderr",
     "output_type": "stream",
     "text": [
      "\n",
      "sjstats installed\n",
      "Warning message:\n",
      "\"package 'sjstats' was built under R version 3.6.3\"Warning message in pacman::p_load(\"tidyverse\", \"psych\", \"data.table\", \"epiDisplay\", :\n",
      "\"Failed to install/load:\n",
      "sjstats\""
     ]
    },
    {
     "data": {
      "text/html": [
       "<table>\n",
       "<thead><tr><th scope=col>st_id</th><th scope=col>firstgen</th><th scope=col>ethniccode</th><th scope=col>ethniccode_cat</th><th scope=col>female</th><th scope=col>lowincomflag</th><th scope=col>transfer</th><th scope=col>international</th><th scope=col>us_hs</th><th scope=col>cohort</th><th scope=col>...</th><th scope=col>summer_crs_1</th><th scope=col>enrl_from_cohort_1</th><th scope=col>numgrade_1</th><th scope=col>crs_term</th><th scope=col>summer_crs</th><th scope=col>enrl_from_cohort</th><th scope=col>numgrade</th><th scope=col>honor_1</th><th scope=col>skipped_course</th><th scope=col>discipline</th></tr></thead>\n",
       "<tbody>\n",
       "\t<tr><td>2607686</td><td>0      </td><td>Asian  </td><td>2      </td><td>1      </td><td>0      </td><td>0      </td><td>0      </td><td>1      </td><td>2013   </td><td>...    </td><td> 0     </td><td>1.00   </td><td>2.3    </td><td>4152   </td><td>0      </td><td>1.33   </td><td>0.7    </td><td>0      </td><td>0      </td><td>BIO    </td></tr>\n",
       "\t<tr><td>2609268</td><td>1      </td><td>White  </td><td>0      </td><td>0      </td><td>0      </td><td>0      </td><td>0      </td><td>1      </td><td>2013   </td><td>...    </td><td> 0     </td><td>0.00   </td><td>4.0    </td><td>4152   </td><td>0      </td><td>1.33   </td><td>3.3    </td><td>0      </td><td>0      </td><td>BIO    </td></tr>\n",
       "\t<tr><td>2615928</td><td>1      </td><td>White  </td><td>0      </td><td>1      </td><td>1      </td><td>0      </td><td>0      </td><td>1      </td><td>2013   </td><td>...    </td><td> 0     </td><td>1.33   </td><td>4.0    </td><td>4158   </td><td>0      </td><td>2.00   </td><td>4.0    </td><td>0      </td><td>0      </td><td>BIO    </td></tr>\n",
       "\t<tr><td>2674044</td><td>0      </td><td>White  </td><td>0      </td><td>1      </td><td>1      </td><td>0      </td><td>0      </td><td>1      </td><td>2014   </td><td>...    </td><td>NA     </td><td>  NA   </td><td> NA    </td><td>4152   </td><td>0      </td><td>0.33   </td><td>3.7    </td><td>0      </td><td>1      </td><td>BIO    </td></tr>\n",
       "\t<tr><td>2743869</td><td>0      </td><td>White  </td><td>0      </td><td>1      </td><td>1      </td><td>0      </td><td>0      </td><td>1      </td><td>2014   </td><td>...    </td><td> 0     </td><td>1.00   </td><td>3.7    </td><td>4162   </td><td>0      </td><td>1.33   </td><td>3.0    </td><td>0      </td><td>0      </td><td>BIO    </td></tr>\n",
       "\t<tr><td>2744813</td><td>0      </td><td>White  </td><td>0      </td><td>1      </td><td>0      </td><td>0      </td><td>0      </td><td>1      </td><td>2014   </td><td>...    </td><td> 0     </td><td>0.33   </td><td>2.3    </td><td>4162   </td><td>0      </td><td>1.33   </td><td> NA    </td><td>0      </td><td>0      </td><td>BIO    </td></tr>\n",
       "</tbody>\n",
       "</table>\n"
      ],
      "text/latex": [
       "\\begin{tabular}{r|llllllllllllllllllllllllllllll}\n",
       " st\\_id & firstgen & ethniccode & ethniccode\\_cat & female & lowincomflag & transfer & international & us\\_hs & cohort & ... & summer\\_crs\\_1 & enrl\\_from\\_cohort\\_1 & numgrade\\_1 & crs\\_term & summer\\_crs & enrl\\_from\\_cohort & numgrade & honor\\_1 & skipped\\_course & discipline\\\\\n",
       "\\hline\n",
       "\t 2607686 & 0       & Asian   & 2       & 1       & 0       & 0       & 0       & 1       & 2013    & ...     &  0      & 1.00    & 2.3     & 4152    & 0       & 1.33    & 0.7     & 0       & 0       & BIO    \\\\\n",
       "\t 2609268 & 1       & White   & 0       & 0       & 0       & 0       & 0       & 1       & 2013    & ...     &  0      & 0.00    & 4.0     & 4152    & 0       & 1.33    & 3.3     & 0       & 0       & BIO    \\\\\n",
       "\t 2615928 & 1       & White   & 0       & 1       & 1       & 0       & 0       & 1       & 2013    & ...     &  0      & 1.33    & 4.0     & 4158    & 0       & 2.00    & 4.0     & 0       & 0       & BIO    \\\\\n",
       "\t 2674044 & 0       & White   & 0       & 1       & 1       & 0       & 0       & 1       & 2014    & ...     & NA      &   NA    &  NA     & 4152    & 0       & 0.33    & 3.7     & 0       & 1       & BIO    \\\\\n",
       "\t 2743869 & 0       & White   & 0       & 1       & 1       & 0       & 0       & 1       & 2014    & ...     &  0      & 1.00    & 3.7     & 4162    & 0       & 1.33    & 3.0     & 0       & 0       & BIO    \\\\\n",
       "\t 2744813 & 0       & White   & 0       & 1       & 0       & 0       & 0       & 1       & 2014    & ...     &  0      & 0.33    & 2.3     & 4162    & 0       & 1.33    &  NA     & 0       & 0       & BIO    \\\\\n",
       "\\end{tabular}\n"
      ],
      "text/markdown": [
       "\n",
       "| st_id | firstgen | ethniccode | ethniccode_cat | female | lowincomflag | transfer | international | us_hs | cohort | ... | summer_crs_1 | enrl_from_cohort_1 | numgrade_1 | crs_term | summer_crs | enrl_from_cohort | numgrade | honor_1 | skipped_course | discipline |\n",
       "|---|---|---|---|---|---|---|---|---|---|---|---|---|---|---|---|---|---|---|---|---|\n",
       "| 2607686 | 0       | Asian   | 2       | 1       | 0       | 0       | 0       | 1       | 2013    | ...     |  0      | 1.00    | 2.3     | 4152    | 0       | 1.33    | 0.7     | 0       | 0       | BIO     |\n",
       "| 2609268 | 1       | White   | 0       | 0       | 0       | 0       | 0       | 1       | 2013    | ...     |  0      | 0.00    | 4.0     | 4152    | 0       | 1.33    | 3.3     | 0       | 0       | BIO     |\n",
       "| 2615928 | 1       | White   | 0       | 1       | 1       | 0       | 0       | 1       | 2013    | ...     |  0      | 1.33    | 4.0     | 4158    | 0       | 2.00    | 4.0     | 0       | 0       | BIO     |\n",
       "| 2674044 | 0       | White   | 0       | 1       | 1       | 0       | 0       | 1       | 2014    | ...     | NA      |   NA    |  NA     | 4152    | 0       | 0.33    | 3.7     | 0       | 1       | BIO     |\n",
       "| 2743869 | 0       | White   | 0       | 1       | 1       | 0       | 0       | 1       | 2014    | ...     |  0      | 1.00    | 3.7     | 4162    | 0       | 1.33    | 3.0     | 0       | 0       | BIO     |\n",
       "| 2744813 | 0       | White   | 0       | 1       | 0       | 0       | 0       | 1       | 2014    | ...     |  0      | 0.33    | 2.3     | 4162    | 0       | 1.33    |  NA     | 0       | 0       | BIO     |\n",
       "\n"
      ],
      "text/plain": [
       "  st_id   firstgen ethniccode ethniccode_cat female lowincomflag transfer\n",
       "1 2607686 0        Asian      2              1      0            0       \n",
       "2 2609268 1        White      0              0      0            0       \n",
       "3 2615928 1        White      0              1      1            0       \n",
       "4 2674044 0        White      0              1      1            0       \n",
       "5 2743869 0        White      0              1      1            0       \n",
       "6 2744813 0        White      0              1      0            0       \n",
       "  international us_hs cohort ... summer_crs_1 enrl_from_cohort_1 numgrade_1\n",
       "1 0             1     2013   ...  0           1.00               2.3       \n",
       "2 0             1     2013   ...  0           0.00               4.0       \n",
       "3 0             1     2013   ...  0           1.33               4.0       \n",
       "4 0             1     2014   ... NA             NA                NA       \n",
       "5 0             1     2014   ...  0           1.00               3.7       \n",
       "6 0             1     2014   ...  0           0.33               2.3       \n",
       "  crs_term summer_crs enrl_from_cohort numgrade honor_1 skipped_course\n",
       "1 4152     0          1.33             0.7      0       0             \n",
       "2 4152     0          1.33             3.3      0       0             \n",
       "3 4158     0          2.00             4.0      0       0             \n",
       "4 4152     0          0.33             3.7      0       1             \n",
       "5 4162     0          1.33             3.0      0       0             \n",
       "6 4162     0          1.33              NA      0       0             \n",
       "  discipline\n",
       "1 BIO       \n",
       "2 BIO       \n",
       "3 BIO       \n",
       "4 BIO       \n",
       "5 BIO       \n",
       "6 BIO       "
      ]
     },
     "metadata": {},
     "output_type": "display_data"
    }
   ],
   "source": [
    "# Load libraries\n",
    "if (!require(\"pacman\")) install.packages(\"pacman\")\n",
    "library(pacman)\n",
    "pacman::p_load(\"tidyverse\", \"psych\", \"data.table\",  # Data wrangling and descriptive stats\n",
    "               \"epiDisplay\", \"sjstats\")             # Reporting Odds Ratio and Std. Betas\n",
    "\n",
    "\n",
    "# Load full dataset\n",
    "df_clean <- read.csv(\"X:/BAR/Projects/SEISMIC/MeasurementGroup/AP project/Data/Derived/AP_processed/df_clean.csv\")\n",
    "head(df_clean)"
   ]
  },
  {
   "cell_type": "code",
   "execution_count": 2,
   "metadata": {},
   "outputs": [],
   "source": [
    "# Subsets data for analysis \n",
    "# Took 2nd course in sequence\n",
    "df_bio2 <- df_clean %>%\n",
    "  subset(discipline == \"BIO\") \n",
    "# Took AP \n",
    "df_bio_aptakers <- df_clean %>%\n",
    "  subset(discipline == \"BIO\") %>%\n",
    "  subset(aptaker == 1)\n",
    "# Skip eligible\n",
    "df_bio_skeligible <- df_clean %>%\n",
    "  subset(discipline == \"BIO\") %>%\n",
    "  subset(eligible_to_skip == 1)\n",
    "\n",
    "# Chem\n",
    "# Took 2nd course in sequence\n",
    "df_chem2 <- df_clean %>%\n",
    "  subset(discipline == \"CHEM\") \n",
    "# Took AP \n",
    "df_chem_aptakers <- df_clean %>%\n",
    "  subset(discipline == \"CHEM\") %>%\n",
    "  subset(aptaker == 1)\n",
    "# Skip eligible\n",
    "df_chem_skeligible <- df_clean %>%\n",
    "  subset(discipline == \"CHEM\") %>%\n",
    "  subset(eligible_to_skip == 1)\n",
    "\n",
    "# Phys\n",
    "# Took 2nd course in sequence\n",
    "df_phys2 <- df_clean %>%\n",
    "  subset(discipline == \"PHYS\") \n",
    "# Took AP \n",
    "df_phys_aptakers <- df_clean %>%\n",
    "  subset(discipline == \"PHYS\") %>%\n",
    "  subset(aptaker == 1)\n",
    "# Skip eligible\n",
    "df_phys_skeligible <- df_clean %>%\n",
    "  subset(discipline == \"PHYS\") %>%\n",
    "  subset(eligible_to_skip == 1)"
   ]
  },
  {
   "cell_type": "code",
   "execution_count": null,
   "metadata": {},
   "outputs": [],
   "source": []
  }
 ],
 "metadata": {
  "kernelspec": {
   "display_name": "R",
   "language": "R",
   "name": "ir"
  },
  "language_info": {
   "codemirror_mode": "r",
   "file_extension": ".r",
   "mimetype": "text/x-r-source",
   "name": "R",
   "pygments_lexer": "r",
   "version": "3.6.1"
  }
 },
 "nbformat": 4,
 "nbformat_minor": 4
}
