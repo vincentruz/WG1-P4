{
  "nbformat": 4,
  "nbformat_minor": 0,
  "metadata": {
    "kernelspec": {
      "display_name": "R",
      "language": "R",
      "name": "ir"
    },
    "language_info": {
      "codemirror_mode": "r",
      "file_extension": ".r",
      "mimetype": "text/x-r-source",
      "name": "R",
      "pygments_lexer": "r",
      "version": "3.6.1"
    },
    "colab": {
      "name": "P2_RQ1-2.ipynb",
      "provenance": [],
      "collapsed_sections": [],
      "include_colab_link": true
    }
  },
  "cells": [
    {
      "cell_type": "markdown",
      "metadata": {
        "id": "view-in-github",
        "colab_type": "text"
      },
      "source": [
        "<a href=\"https://colab.research.google.com/github/ebwitherspoon/PITT_SEISMIC_AP/blob/master/P2_RQ1_2.ipynb\" target=\"_parent\"><img src=\"https://colab.research.google.com/assets/colab-badge.svg\" alt=\"Open In Colab\"/></a>"
      ]
    },
    {
      "cell_type": "code",
      "metadata": {
        "id": "WrJrwrtHReAF",
        "colab_type": "code",
        "colab": {}
      },
      "source": [
        "# Inclusion criteria: https://docs.google.com/spreadsheets/d/1SzU4PcIEUsAGnKKyAcugHO2O2aZW29sf9a_cC-FAElk/edit#gid=1702351745"
      ],
      "execution_count": 0,
      "outputs": []
    },
    {
      "cell_type": "code",
      "metadata": {
        "id": "kzhcUw9GReAK",
        "colab_type": "code",
        "colab": {}
      },
      "source": [
        "# Load libraries\n",
        "install.packages(\"pacman\")\n",
        "pacman::p_load(\"tidyverse\", \"dplyr\", \"data.table\", \"psych\") # data wrangling/descriptive stats"
      ],
      "execution_count": 0,
      "outputs": []
    },
    {
      "cell_type": "code",
      "metadata": {
        "id": "YUces9miReAO",
        "colab_type": "code",
        "colab": {}
      },
      "source": [
        "# Need sjstats for reporting robust SE\n",
        "# In R Studio you can just do install.packages(\"sjstats\")\n",
        "# library(sjstats)"
      ],
      "execution_count": 0,
      "outputs": []
    },
    {
      "cell_type": "code",
      "metadata": {
        "id": "lpQDM_DjReAQ",
        "colab_type": "code",
        "colab": {}
      },
      "source": [
        "# Load renamed dataset\n",
        "apfull_SkipEl <- read.csv(\"/Users/thicn/Documents/AP Skip/apfull_SkipEl.csv\")"
      ],
      "execution_count": 0,
      "outputs": []
    },
    {
      "cell_type": "code",
      "metadata": {
        "id": "vgCIIfadReAT",
        "colab_type": "code",
        "outputId": "e27c53eb-0ca4-4dcd-a3db-51b19d8124b0",
        "colab": {}
      },
      "source": [
        "names(apfull_SkipEl)\n",
        "head(apfull_SkipEl)"
      ],
      "execution_count": 0,
      "outputs": [
        {
          "output_type": "display_data",
          "data": {
            "text/html": [
              "<ol class=list-inline>\n",
              "\t<li>'X.1'</li>\n",
              "\t<li>'X'</li>\n",
              "\t<li>'st_id'</li>\n",
              "\t<li>'studentid'</li>\n",
              "\t<li>'apskipper_GChem1'</li>\n",
              "\t<li>'apskipper_Phys1'</li>\n",
              "\t<li>'aptaker_Chem'</li>\n",
              "\t<li>'apyear_Chem'</li>\n",
              "\t<li>'apscore_Chem'</li>\n",
              "\t<li>'aptaker_Mec'</li>\n",
              "\t<li>'aptaker_Elec'</li>\n",
              "\t<li>'apyear_Mec'</li>\n",
              "\t<li>'apyear_Elec'</li>\n",
              "\t<li>'apscore_Mec'</li>\n",
              "\t<li>'apscore_Elec'</li>\n",
              "\t<li>'coursecode'</li>\n",
              "\t<li>'crs_name'</li>\n",
              "\t<li>'crs_catalog'</li>\n",
              "\t<li>'class_number'</li>\n",
              "\t<li>'crs_sbj'</li>\n",
              "\t<li>'level'</li>\n",
              "\t<li>'newfresh'</li>\n",
              "\t<li>'numgrade'</li>\n",
              "\t<li>'gender'</li>\n",
              "\t<li>'ethniccode'</li>\n",
              "\t<li>'ethniccode_cat'</li>\n",
              "\t<li>'ethniccode_cat2'</li>\n",
              "\t<li>'firstgen'</li>\n",
              "\t<li>'lowincomeflag'</li>\n",
              "\t<li>'ellflag'</li>\n",
              "\t<li>'international'</li>\n",
              "\t<li>'hsgpa'</li>\n",
              "\t<li>'hsgpa_z'</li>\n",
              "\t<li>'bstsat1mathsr'</li>\n",
              "\t<li>'bstsat1readsr'</li>\n",
              "\t<li>'actenglsr'</li>\n",
              "\t<li>'actmathsr'</li>\n",
              "\t<li>'mathsr'</li>\n",
              "\t<li>'englsr'</li>\n",
              "\t<li>'crs_term'</li>\n",
              "\t<li>'admitdate'</li>\n",
              "\t<li>'enrl_from_cohort'</li>\n",
              "\t<li>'yearsenrolled'</li>\n",
              "\t<li>'cohort'</li>\n",
              "\t<li>'stemmajor'</li>\n",
              "\t<li>'chemNotSkipthoughEl'</li>\n",
              "\t<li>'aprealskipper_GChem1'</li>\n",
              "\t<li>'physNotSkipthoughEl'</li>\n",
              "\t<li>'aprealskipper_Phys1'</li>\n",
              "</ol>\n"
            ],
            "text/latex": "\\begin{enumerate*}\n\\item 'X.1'\n\\item 'X'\n\\item 'st\\_id'\n\\item 'studentid'\n\\item 'apskipper\\_GChem1'\n\\item 'apskipper\\_Phys1'\n\\item 'aptaker\\_Chem'\n\\item 'apyear\\_Chem'\n\\item 'apscore\\_Chem'\n\\item 'aptaker\\_Mec'\n\\item 'aptaker\\_Elec'\n\\item 'apyear\\_Mec'\n\\item 'apyear\\_Elec'\n\\item 'apscore\\_Mec'\n\\item 'apscore\\_Elec'\n\\item 'coursecode'\n\\item 'crs\\_name'\n\\item 'crs\\_catalog'\n\\item 'class\\_number'\n\\item 'crs\\_sbj'\n\\item 'level'\n\\item 'newfresh'\n\\item 'numgrade'\n\\item 'gender'\n\\item 'ethniccode'\n\\item 'ethniccode\\_cat'\n\\item 'ethniccode\\_cat2'\n\\item 'firstgen'\n\\item 'lowincomeflag'\n\\item 'ellflag'\n\\item 'international'\n\\item 'hsgpa'\n\\item 'hsgpa\\_z'\n\\item 'bstsat1mathsr'\n\\item 'bstsat1readsr'\n\\item 'actenglsr'\n\\item 'actmathsr'\n\\item 'mathsr'\n\\item 'englsr'\n\\item 'crs\\_term'\n\\item 'admitdate'\n\\item 'enrl\\_from\\_cohort'\n\\item 'yearsenrolled'\n\\item 'cohort'\n\\item 'stemmajor'\n\\item 'chemNotSkipthoughEl'\n\\item 'aprealskipper\\_GChem1'\n\\item 'physNotSkipthoughEl'\n\\item 'aprealskipper\\_Phys1'\n\\end{enumerate*}\n",
            "text/markdown": "1. 'X.1'\n2. 'X'\n3. 'st_id'\n4. 'studentid'\n5. 'apskipper_GChem1'\n6. 'apskipper_Phys1'\n7. 'aptaker_Chem'\n8. 'apyear_Chem'\n9. 'apscore_Chem'\n10. 'aptaker_Mec'\n11. 'aptaker_Elec'\n12. 'apyear_Mec'\n13. 'apyear_Elec'\n14. 'apscore_Mec'\n15. 'apscore_Elec'\n16. 'coursecode'\n17. 'crs_name'\n18. 'crs_catalog'\n19. 'class_number'\n20. 'crs_sbj'\n21. 'level'\n22. 'newfresh'\n23. 'numgrade'\n24. 'gender'\n25. 'ethniccode'\n26. 'ethniccode_cat'\n27. 'ethniccode_cat2'\n28. 'firstgen'\n29. 'lowincomeflag'\n30. 'ellflag'\n31. 'international'\n32. 'hsgpa'\n33. 'hsgpa_z'\n34. 'bstsat1mathsr'\n35. 'bstsat1readsr'\n36. 'actenglsr'\n37. 'actmathsr'\n38. 'mathsr'\n39. 'englsr'\n40. 'crs_term'\n41. 'admitdate'\n42. 'enrl_from_cohort'\n43. 'yearsenrolled'\n44. 'cohort'\n45. 'stemmajor'\n46. 'chemNotSkipthoughEl'\n47. 'aprealskipper_GChem1'\n48. 'physNotSkipthoughEl'\n49. 'aprealskipper_Phys1'\n\n\n",
            "text/plain": [
              " [1] \"X.1\"                  \"X\"                    \"st_id\"               \n",
              " [4] \"studentid\"            \"apskipper_GChem1\"     \"apskipper_Phys1\"     \n",
              " [7] \"aptaker_Chem\"         \"apyear_Chem\"          \"apscore_Chem\"        \n",
              "[10] \"aptaker_Mec\"          \"aptaker_Elec\"         \"apyear_Mec\"          \n",
              "[13] \"apyear_Elec\"          \"apscore_Mec\"          \"apscore_Elec\"        \n",
              "[16] \"coursecode\"           \"crs_name\"             \"crs_catalog\"         \n",
              "[19] \"class_number\"         \"crs_sbj\"              \"level\"               \n",
              "[22] \"newfresh\"             \"numgrade\"             \"gender\"              \n",
              "[25] \"ethniccode\"           \"ethniccode_cat\"       \"ethniccode_cat2\"     \n",
              "[28] \"firstgen\"             \"lowincomeflag\"        \"ellflag\"             \n",
              "[31] \"international\"        \"hsgpa\"                \"hsgpa_z\"             \n",
              "[34] \"bstsat1mathsr\"        \"bstsat1readsr\"        \"actenglsr\"           \n",
              "[37] \"actmathsr\"            \"mathsr\"               \"englsr\"              \n",
              "[40] \"crs_term\"             \"admitdate\"            \"enrl_from_cohort\"    \n",
              "[43] \"yearsenrolled\"        \"cohort\"               \"stemmajor\"           \n",
              "[46] \"chemNotSkipthoughEl\"  \"aprealskipper_GChem1\" \"physNotSkipthoughEl\" \n",
              "[49] \"aprealskipper_Phys1\" "
            ]
          },
          "metadata": {
            "tags": []
          }
        },
        {
          "output_type": "display_data",
          "data": {
            "text/html": [
              "<table>\n",
              "<thead><tr><th scope=col>X.1</th><th scope=col>X</th><th scope=col>st_id</th><th scope=col>studentid</th><th scope=col>apskipper_GChem1</th><th scope=col>apskipper_Phys1</th><th scope=col>aptaker_Chem</th><th scope=col>apyear_Chem</th><th scope=col>apscore_Chem</th><th scope=col>aptaker_Mec</th><th scope=col>...</th><th scope=col>crs_term</th><th scope=col>admitdate</th><th scope=col>enrl_from_cohort</th><th scope=col>yearsenrolled</th><th scope=col>cohort</th><th scope=col>stemmajor</th><th scope=col>chemNotSkipthoughEl</th><th scope=col>aprealskipper_GChem1</th><th scope=col>physNotSkipthoughEl</th><th scope=col>aprealskipper_Phys1</th></tr></thead>\n",
              "<tbody>\n",
              "\t<tr><td>1       </td><td>1       </td><td>25      </td><td>10006293</td><td>0       </td><td>0       </td><td>0       </td><td>0       </td><td>0       </td><td>0       </td><td>...     </td><td>2014    </td><td>F14     </td><td>1       </td><td>0.25    </td><td>2014    </td><td>2       </td><td>0       </td><td>0       </td><td>0       </td><td>0       </td></tr>\n",
              "\t<tr><td>2       </td><td>2       </td><td>25      </td><td>10006293</td><td>0       </td><td>0       </td><td>0       </td><td>0       </td><td>0       </td><td>0       </td><td>...     </td><td>2014    </td><td>F14     </td><td>1       </td><td>0.25    </td><td>2014    </td><td>2       </td><td>0       </td><td>0       </td><td>0       </td><td>0       </td></tr>\n",
              "\t<tr><td>3       </td><td>3       </td><td>25      </td><td>10006293</td><td>0       </td><td>0       </td><td>0       </td><td>0       </td><td>0       </td><td>0       </td><td>...     </td><td>2014    </td><td>F14     </td><td>1       </td><td>0.25    </td><td>2014    </td><td>2       </td><td>0       </td><td>0       </td><td>0       </td><td>0       </td></tr>\n",
              "\t<tr><td>4       </td><td>4       </td><td>25      </td><td>10006293</td><td>0       </td><td>0       </td><td>0       </td><td>0       </td><td>0       </td><td>0       </td><td>...     </td><td>2015    </td><td>F14     </td><td>4       </td><td>1.00    </td><td>2014    </td><td>2       </td><td>0       </td><td>0       </td><td>0       </td><td>0       </td></tr>\n",
              "\t<tr><td>5       </td><td>5       </td><td>25      </td><td>10006293</td><td>0       </td><td>0       </td><td>0       </td><td>0       </td><td>0       </td><td>0       </td><td>...     </td><td>2015    </td><td>F14     </td><td>5       </td><td>1.25    </td><td>2014    </td><td>2       </td><td>0       </td><td>0       </td><td>0       </td><td>0       </td></tr>\n",
              "\t<tr><td>6       </td><td>6       </td><td>25      </td><td>10006293</td><td>0       </td><td>0       </td><td>0       </td><td>0       </td><td>0       </td><td>0       </td><td>...     </td><td>2015    </td><td>F14     </td><td>5       </td><td>1.25    </td><td>2014    </td><td>2       </td><td>0       </td><td>0       </td><td>0       </td><td>0       </td></tr>\n",
              "</tbody>\n",
              "</table>\n"
            ],
            "text/latex": "\\begin{tabular}{r|lllllllllllllllllllllllllllllllllllllllllllllllll}\n X.1 & X & st\\_id & studentid & apskipper\\_GChem1 & apskipper\\_Phys1 & aptaker\\_Chem & apyear\\_Chem & apscore\\_Chem & aptaker\\_Mec & ... & crs\\_term & admitdate & enrl\\_from\\_cohort & yearsenrolled & cohort & stemmajor & chemNotSkipthoughEl & aprealskipper\\_GChem1 & physNotSkipthoughEl & aprealskipper\\_Phys1\\\\\n\\hline\n\t 1        & 1        & 25       & 10006293 & 0        & 0        & 0        & 0        & 0        & 0        & ...      & 2014     & F14      & 1        & 0.25     & 2014     & 2        & 0        & 0        & 0        & 0       \\\\\n\t 2        & 2        & 25       & 10006293 & 0        & 0        & 0        & 0        & 0        & 0        & ...      & 2014     & F14      & 1        & 0.25     & 2014     & 2        & 0        & 0        & 0        & 0       \\\\\n\t 3        & 3        & 25       & 10006293 & 0        & 0        & 0        & 0        & 0        & 0        & ...      & 2014     & F14      & 1        & 0.25     & 2014     & 2        & 0        & 0        & 0        & 0       \\\\\n\t 4        & 4        & 25       & 10006293 & 0        & 0        & 0        & 0        & 0        & 0        & ...      & 2015     & F14      & 4        & 1.00     & 2014     & 2        & 0        & 0        & 0        & 0       \\\\\n\t 5        & 5        & 25       & 10006293 & 0        & 0        & 0        & 0        & 0        & 0        & ...      & 2015     & F14      & 5        & 1.25     & 2014     & 2        & 0        & 0        & 0        & 0       \\\\\n\t 6        & 6        & 25       & 10006293 & 0        & 0        & 0        & 0        & 0        & 0        & ...      & 2015     & F14      & 5        & 1.25     & 2014     & 2        & 0        & 0        & 0        & 0       \\\\\n\\end{tabular}\n",
            "text/markdown": "\n| X.1 | X | st_id | studentid | apskipper_GChem1 | apskipper_Phys1 | aptaker_Chem | apyear_Chem | apscore_Chem | aptaker_Mec | ... | crs_term | admitdate | enrl_from_cohort | yearsenrolled | cohort | stemmajor | chemNotSkipthoughEl | aprealskipper_GChem1 | physNotSkipthoughEl | aprealskipper_Phys1 |\n|---|---|---|---|---|---|---|---|---|---|---|---|---|---|---|---|---|---|---|---|---|\n| 1        | 1        | 25       | 10006293 | 0        | 0        | 0        | 0        | 0        | 0        | ...      | 2014     | F14      | 1        | 0.25     | 2014     | 2        | 0        | 0        | 0        | 0        |\n| 2        | 2        | 25       | 10006293 | 0        | 0        | 0        | 0        | 0        | 0        | ...      | 2014     | F14      | 1        | 0.25     | 2014     | 2        | 0        | 0        | 0        | 0        |\n| 3        | 3        | 25       | 10006293 | 0        | 0        | 0        | 0        | 0        | 0        | ...      | 2014     | F14      | 1        | 0.25     | 2014     | 2        | 0        | 0        | 0        | 0        |\n| 4        | 4        | 25       | 10006293 | 0        | 0        | 0        | 0        | 0        | 0        | ...      | 2015     | F14      | 4        | 1.00     | 2014     | 2        | 0        | 0        | 0        | 0        |\n| 5        | 5        | 25       | 10006293 | 0        | 0        | 0        | 0        | 0        | 0        | ...      | 2015     | F14      | 5        | 1.25     | 2014     | 2        | 0        | 0        | 0        | 0        |\n| 6        | 6        | 25       | 10006293 | 0        | 0        | 0        | 0        | 0        | 0        | ...      | 2015     | F14      | 5        | 1.25     | 2014     | 2        | 0        | 0        | 0        | 0        |\n\n",
            "text/plain": [
              "  X.1 X st_id studentid apskipper_GChem1 apskipper_Phys1 aptaker_Chem\n",
              "1 1   1 25    10006293  0                0               0           \n",
              "2 2   2 25    10006293  0                0               0           \n",
              "3 3   3 25    10006293  0                0               0           \n",
              "4 4   4 25    10006293  0                0               0           \n",
              "5 5   5 25    10006293  0                0               0           \n",
              "6 6   6 25    10006293  0                0               0           \n",
              "  apyear_Chem apscore_Chem aptaker_Mec ... crs_term admitdate enrl_from_cohort\n",
              "1 0           0            0           ... 2014     F14       1               \n",
              "2 0           0            0           ... 2014     F14       1               \n",
              "3 0           0            0           ... 2014     F14       1               \n",
              "4 0           0            0           ... 2015     F14       4               \n",
              "5 0           0            0           ... 2015     F14       5               \n",
              "6 0           0            0           ... 2015     F14       5               \n",
              "  yearsenrolled cohort stemmajor chemNotSkipthoughEl aprealskipper_GChem1\n",
              "1 0.25          2014   2         0                   0                   \n",
              "2 0.25          2014   2         0                   0                   \n",
              "3 0.25          2014   2         0                   0                   \n",
              "4 1.00          2014   2         0                   0                   \n",
              "5 1.25          2014   2         0                   0                   \n",
              "6 1.25          2014   2         0                   0                   \n",
              "  physNotSkipthoughEl aprealskipper_Phys1\n",
              "1 0                   0                  \n",
              "2 0                   0                  \n",
              "3 0                   0                  \n",
              "4 0                   0                  \n",
              "5 0                   0                  \n",
              "6 0                   0                  "
            ]
          },
          "metadata": {
            "tags": []
          }
        }
      ]
    },
    {
      "cell_type": "code",
      "metadata": {
        "id": "Fy2onJpjReAW",
        "colab_type": "code",
        "colab": {}
      },
      "source": [
        "# Notes: variable names all follow convention, except for hsgpa_z = scale(hsgpa)"
      ],
      "execution_count": 0,
      "outputs": []
    },
    {
      "cell_type": "code",
      "metadata": {
        "id": "0X-Pm5YLReAZ",
        "colab_type": "code",
        "outputId": "1459f712-4556-4f1c-9a2c-3590fbe8ce4e",
        "colab": {}
      },
      "source": [
        "table(apfull_SkipEl$apyear_Chem)"
      ],
      "execution_count": 0,
      "outputs": [
        {
          "output_type": "display_data",
          "data": {
            "text/plain": [
              "\n",
              "     0   2007   2008   2009   2010   2011   2012   2013   2014   2015   2016 \n",
              "324238     11     21    206   2246   7992  13651  13992  15547  13597   5457 \n",
              "  2017 \n",
              "   946 "
            ]
          },
          "metadata": {
            "tags": []
          }
        }
      ]
    },
    {
      "cell_type": "code",
      "metadata": {
        "id": "n2pS66U_ReAb",
        "colab_type": "code",
        "outputId": "abf39c15-fd5c-4015-a8bc-fd8629abf27e",
        "colab": {}
      },
      "source": [
        "## Start with CHEM\n",
        "# Create a dataset with unique student ID for those who took the second Chem course\n",
        "# Here I retain those who didn't take the AP or only took it from 2014 onward.\n",
        "chemap_2 <- subset(apfull_SkipEl, class_number==\"0001B\" & crs_name==\"GENERAL CHEMISTRY\" &\n",
        "                  apyear_Chem%in%c(\"0\", \"2014\", \"2015\", \"2016\", \"2017\"))\n",
        "dim(chemap_2)\n",
        "table(chemap_2$apyear_Chem)\n",
        "\n",
        "chemap_unique <- chemap_2[!duplicated(chemap_2$st_id),]\n",
        "dim(chemap_unique)\n",
        "\n",
        "table(chemap_unique$aprealskipper_GChem1, chemap_unique$apscore_Chem)"
      ],
      "execution_count": 0,
      "outputs": [
        {
          "output_type": "display_data",
          "data": {
            "text/html": [
              "<ol class=list-inline>\n",
              "\t<li>8274</li>\n",
              "\t<li>49</li>\n",
              "</ol>\n"
            ],
            "text/latex": "\\begin{enumerate*}\n\\item 8274\n\\item 49\n\\end{enumerate*}\n",
            "text/markdown": "1. 8274\n2. 49\n\n\n",
            "text/plain": [
              "[1] 8274   49"
            ]
          },
          "metadata": {
            "tags": []
          }
        },
        {
          "output_type": "display_data",
          "data": {
            "text/plain": [
              "\n",
              "   0 2014 2015 2016 \n",
              "7111  552  465  146 "
            ]
          },
          "metadata": {
            "tags": []
          }
        },
        {
          "output_type": "display_data",
          "data": {
            "text/html": [
              "<ol class=list-inline>\n",
              "\t<li>7631</li>\n",
              "\t<li>49</li>\n",
              "</ol>\n"
            ],
            "text/latex": "\\begin{enumerate*}\n\\item 7631\n\\item 49\n\\end{enumerate*}\n",
            "text/markdown": "1. 7631\n2. 49\n\n\n",
            "text/plain": [
              "[1] 7631   49"
            ]
          },
          "metadata": {
            "tags": []
          }
        },
        {
          "output_type": "display_data",
          "data": {
            "text/plain": [
              "   \n",
              "       0    1    2    3    4    5\n",
              "  0 6501  194  361  286   20    8\n",
              "  1    0    0    0    0  111   22"
            ]
          },
          "metadata": {
            "tags": []
          }
        }
      ]
    },
    {
      "cell_type": "code",
      "metadata": {
        "id": "V22a0KtaReAj",
        "colab_type": "code",
        "outputId": "d4a4e1c6-484f-49f7-b90a-48a7d3ba3c5c",
        "colab": {}
      },
      "source": [
        "# Recode variables\n",
        "chemap_unique$aptaker_Chem <- as.factor(chemap_unique$aptaker_Chem)\n",
        "table(chemap_unique$aptaker_Chem)"
      ],
      "execution_count": 0,
      "outputs": [
        {
          "output_type": "display_data",
          "data": {
            "text/plain": [
              "\n",
              "   0    1 \n",
              "6501 1130 "
            ]
          },
          "metadata": {
            "tags": []
          }
        }
      ]
    },
    {
      "cell_type": "code",
      "metadata": {
        "id": "RbRdrjFzReAl",
        "colab_type": "code",
        "outputId": "14117792-ee02-4970-914f-a49f15869f56",
        "colab": {}
      },
      "source": [
        "chemap_unique <- subset(chemap_unique, crs_term!=\"2013\")\n",
        "table(chemap_unique$crs_term)\n",
        "class(chemap_unique$crs_term)\n",
        "chemap_unique$crs_term <- as.factor(chemap_unique$crs_term)"
      ],
      "execution_count": 0,
      "outputs": [
        {
          "output_type": "display_data",
          "data": {
            "text/plain": [
              "\n",
              "2014 2015 2016 2017 \n",
              "1347 1395 1593 1843 "
            ]
          },
          "metadata": {
            "tags": []
          }
        },
        {
          "output_type": "display_data",
          "data": {
            "text/html": [
              "'integer'"
            ],
            "text/latex": "'integer'",
            "text/markdown": "'integer'",
            "text/plain": [
              "[1] \"integer\""
            ]
          },
          "metadata": {
            "tags": []
          }
        }
      ]
    },
    {
      "cell_type": "code",
      "metadata": {
        "id": "aC0ZtaFfReAo",
        "colab_type": "code",
        "outputId": "7f51d214-7605-4e63-d3bd-c475ee737d15",
        "colab": {}
      },
      "source": [
        "# RQ1. 1a: Took AP, full sample\n",
        "tookchem <- glm(aptaker_Chem~factor(firstgen) + factor(lowincomeflag) + factor(gender) + factor(ethniccode_cat2) +\n",
        "                  hsgpa_z + scale(mathsr) + scale(englsr) + factor(crs_term), data=chemap_unique, binomial(link=\"logit\"))\n",
        "summary(tookchem)\n",
        "#robustse(tookchem, coef=\"odd.ratio\") #robustse is a command from sjstats package"
      ],
      "execution_count": 0,
      "outputs": [
        {
          "output_type": "display_data",
          "data": {
            "text/plain": [
              "\n",
              "Call:\n",
              "glm(formula = aptaker_Chem ~ factor(firstgen) + factor(lowincomeflag) + \n",
              "    factor(gender) + factor(ethniccode_cat2) + hsgpa_z + scale(mathsr) + \n",
              "    scale(englsr) + factor(crs_term), family = binomial(link = \"logit\"), \n",
              "    data = chemap_unique)\n",
              "\n",
              "Deviance Residuals: \n",
              "     Min        1Q    Median        3Q       Max  \n",
              "-1.43021  -0.71338  -0.43025  -0.00011   2.85923  \n",
              "\n",
              "Coefficients:\n",
              "                          Estimate Std. Error z value Pr(>|z|)    \n",
              "(Intercept)              -18.86425  175.27318  -0.108  0.91429    \n",
              "factor(firstgen)1          0.01288    0.08153   0.158  0.87446    \n",
              "factor(lowincomeflag)2     0.21538    0.08080   2.666  0.00768 ** \n",
              "factor(gender)1           -0.06286    0.07646  -0.822  0.41097    \n",
              "factor(ethniccode_cat2)1   0.13952    0.10261   1.360  0.17394    \n",
              "hsgpa_z                    0.27919    0.04934   5.659 1.52e-08 ***\n",
              "scale(mathsr)              0.55129    0.04509  12.227  < 2e-16 ***\n",
              "scale(englsr)             -0.09655    0.04325  -2.232  0.02559 *  \n",
              "factor(crs_term)2015      16.34245  175.27317   0.093  0.92571    \n",
              "factor(crs_term)2016      17.61403  175.27316   0.100  0.91995    \n",
              "factor(crs_term)2017      17.62259  175.27315   0.101  0.91991    \n",
              "---\n",
              "Signif. codes:  0 ‘***’ 0.001 ‘**’ 0.01 ‘*’ 0.05 ‘.’ 0.1 ‘ ’ 1\n",
              "\n",
              "(Dispersion parameter for binomial family taken to be 1)\n",
              "\n",
              "    Null deviance: 5743.5  on 6050  degrees of freedom\n",
              "Residual deviance: 4694.3  on 6040  degrees of freedom\n",
              "  (127 observations deleted due to missingness)\n",
              "AIC: 4716.3\n",
              "\n",
              "Number of Fisher Scoring iterations: 17\n"
            ]
          },
          "metadata": {
            "tags": []
          }
        }
      ]
    },
    {
      "cell_type": "code",
      "metadata": {
        "id": "-gMH8kZtReAq",
        "colab_type": "code",
        "outputId": "109e5004-8bc4-4eb9-fbe7-bd08b7bcbef2",
        "colab": {}
      },
      "source": [
        "# 1b. AP score for those who took AP\n",
        "# Recode numeric variable to numeric\n",
        "chemap_unique$apscore_Chem <- as.numeric(as.character(chemap_unique$apscore_Chem)) \n",
        "# Subset for those who took AP\n",
        "chem_tookap <- subset(chemap_unique, aptaker_Chem!=0)\n",
        "dim(chem_tookap)\n",
        "table(chem_tookap$apscore_Chem)\n",
        "\n",
        "# Logit model\n",
        "chemsr <- lm(apscore_Chem~factor(firstgen) + factor(lowincomeflag) + factor(gender) + factor(ethniccode_cat2) +\n",
        "               hsgpa_z + scale(mathsr) + scale(englsr) + factor(crs_term), data=chem_tookap)\n",
        "summary(chemsr)\n",
        "#std_beta(chemsr) # from sjstats package"
      ],
      "execution_count": 0,
      "outputs": [
        {
          "output_type": "display_data",
          "data": {
            "text/html": [
              "<ol class=list-inline>\n",
              "\t<li>1130</li>\n",
              "\t<li>49</li>\n",
              "</ol>\n"
            ],
            "text/latex": "\\begin{enumerate*}\n\\item 1130\n\\item 49\n\\end{enumerate*}\n",
            "text/markdown": "1. 1130\n2. 49\n\n\n",
            "text/plain": [
              "[1] 1130   49"
            ]
          },
          "metadata": {
            "tags": []
          }
        },
        {
          "output_type": "display_data",
          "data": {
            "text/plain": [
              "\n",
              "  1   2   3   4   5 \n",
              "194 361 286 131  30 "
            ]
          },
          "metadata": {
            "tags": []
          }
        },
        {
          "output_type": "display_data",
          "data": {
            "text/plain": [
              "\n",
              "Call:\n",
              "lm(formula = apscore_Chem ~ factor(firstgen) + factor(lowincomeflag) + \n",
              "    factor(gender) + factor(ethniccode_cat2) + hsgpa_z + scale(mathsr) + \n",
              "    scale(englsr) + factor(crs_term), data = chem_tookap)\n",
              "\n",
              "Residuals:\n",
              "     Min       1Q   Median       3Q      Max \n",
              "-2.07074 -0.59024 -0.03947  0.54309  3.00445 \n",
              "\n",
              "Coefficients:\n",
              "                         Estimate Std. Error t value Pr(>|t|)    \n",
              "(Intercept)               2.51606    0.10827  23.238  < 2e-16 ***\n",
              "factor(firstgen)1        -0.13947    0.06309  -2.211 0.027279 *  \n",
              "factor(lowincomeflag)2    0.03259    0.06065   0.537 0.591097    \n",
              "factor(gender)1          -0.14339    0.05725  -2.505 0.012418 *  \n",
              "factor(ethniccode_cat2)1  0.05695    0.07715   0.738 0.460595    \n",
              "hsgpa_z                   0.13675    0.03959   3.454 0.000576 ***\n",
              "scale(mathsr)             0.41767    0.03296  12.673  < 2e-16 ***\n",
              "scale(englsr)             0.19243    0.03282   5.864  6.2e-09 ***\n",
              "factor(crs_term)2016      0.08334    0.08815   0.945 0.344675    \n",
              "factor(crs_term)2017     -0.15773    0.08442  -1.868 0.062009 .  \n",
              "---\n",
              "Signif. codes:  0 ‘***’ 0.001 ‘**’ 0.01 ‘*’ 0.05 ‘.’ 0.1 ‘ ’ 1\n",
              "\n",
              "Residual standard error: 0.8442 on 970 degrees of freedom\n",
              "  (150 observations deleted due to missingness)\n",
              "Multiple R-squared:  0.3441,\tAdjusted R-squared:  0.338 \n",
              "F-statistic: 56.54 on 9 and 970 DF,  p-value: < 2.2e-16\n"
            ]
          },
          "metadata": {
            "tags": []
          }
        }
      ]
    },
    {
      "cell_type": "code",
      "metadata": {
        "id": "umgDo0TzReAs",
        "colab_type": "code",
        "outputId": "44dbec22-eef7-4f68-8073-a96a6b45f952",
        "colab": {}
      },
      "source": [
        "# 1c.i. Eligible out of those who took AP\n",
        "table(chem_tookap$apskipper_GChem1)\n",
        "skipchem <- glm(apskipper_GChem1~factor(firstgen) + factor(lowincomeflag) + factor(gender) + factor(ethniccode_cat2) +\n",
        "               hsgpa_z + scale(mathsr) + scale(englsr) + factor(crs_term), \n",
        "                data=chem_tookap, \n",
        "                binomial(link=\"logit\"))\n",
        "summary(skipchem)\n",
        "#robustse(skipchem, coef=\"odd.ratio\")"
      ],
      "execution_count": 0,
      "outputs": [
        {
          "output_type": "display_data",
          "data": {
            "text/plain": [
              "\n",
              "  0   1 \n",
              "969 161 "
            ]
          },
          "metadata": {
            "tags": []
          }
        },
        {
          "output_type": "display_data",
          "data": {
            "text/plain": [
              "\n",
              "Call:\n",
              "glm(formula = apskipper_GChem1 ~ factor(firstgen) + factor(lowincomeflag) + \n",
              "    factor(gender) + factor(ethniccode_cat2) + hsgpa_z + scale(mathsr) + \n",
              "    scale(englsr) + factor(crs_term), family = binomial(link = \"logit\"), \n",
              "    data = chem_tookap)\n",
              "\n",
              "Deviance Residuals: \n",
              "    Min       1Q   Median       3Q      Max  \n",
              "-1.8048  -0.5347  -0.3029  -0.1629   2.9019  \n",
              "\n",
              "Coefficients:\n",
              "                         Estimate Std. Error z value Pr(>|z|)    \n",
              "(Intercept)               -2.3161     0.3924  -5.903 3.57e-09 ***\n",
              "factor(firstgen)1         -0.5804     0.2424  -2.394  0.01667 *  \n",
              "factor(lowincomeflag)2     0.2736     0.2265   1.208  0.22704    \n",
              "factor(gender)1           -0.6412     0.1990  -3.222  0.00127 ** \n",
              "factor(ethniccode_cat2)1   0.4911     0.2766   1.775  0.07589 .  \n",
              "hsgpa_z                    0.4542     0.1577   2.880  0.00397 ** \n",
              "scale(mathsr)              0.8932     0.1339   6.669 2.58e-11 ***\n",
              "scale(englsr)              0.5301     0.1159   4.575 4.75e-06 ***\n",
              "factor(crs_term)2016       0.1224     0.2959   0.414  0.67915    \n",
              "factor(crs_term)2017      -0.5440     0.2951  -1.844  0.06523 .  \n",
              "---\n",
              "Signif. codes:  0 ‘***’ 0.001 ‘**’ 0.01 ‘*’ 0.05 ‘.’ 0.1 ‘ ’ 1\n",
              "\n",
              "(Dispersion parameter for binomial family taken to be 1)\n",
              "\n",
              "    Null deviance: 902.36  on 1101  degrees of freedom\n",
              "Residual deviance: 705.37  on 1092  degrees of freedom\n",
              "  (28 observations deleted due to missingness)\n",
              "AIC: 725.37\n",
              "\n",
              "Number of Fisher Scoring iterations: 6\n"
            ]
          },
          "metadata": {
            "tags": []
          }
        }
      ]
    },
    {
      "cell_type": "code",
      "metadata": {
        "id": "CTsK6OQvReAu",
        "colab_type": "code",
        "outputId": "8cdfb84f-4208-4f1d-feef-2b7c5b66f6d6",
        "colab": {}
      },
      "source": [
        "# 1c.ii. Eligible out of full sample\n",
        "skipchem2 <- glm(apskipper_GChem1~factor(firstgen) + factor(lowincomeflag) + factor(gender) + factor(ethniccode_cat2) +\n",
        "               hsgpa_z + scale(mathsr) + scale(englsr) + factor(crs_term), \n",
        "                data=chemap_unique, \n",
        "                binomial(link=\"logit\"))\n",
        "summary(skipchem2)\n",
        "#robustse(skipchem2, coef=\"odd.ratio\")"
      ],
      "execution_count": 0,
      "outputs": [
        {
          "output_type": "display_data",
          "data": {
            "text/plain": [
              "\n",
              "Call:\n",
              "glm(formula = apskipper_GChem1 ~ factor(firstgen) + factor(lowincomeflag) + \n",
              "    factor(gender) + factor(ethniccode_cat2) + hsgpa_z + scale(mathsr) + \n",
              "    scale(englsr) + factor(crs_term), family = binomial(link = \"logit\"), \n",
              "    data = chemap_unique)\n",
              "\n",
              "Deviance Residuals: \n",
              "    Min       1Q   Median       3Q      Max  \n",
              "-1.2576  -0.2030  -0.0964  -0.0221   3.5199  \n",
              "\n",
              "Coefficients:\n",
              "                          Estimate Std. Error z value Pr(>|z|)    \n",
              "(Intercept)              -21.43391  437.76156  -0.049   0.9609    \n",
              "factor(firstgen)1         -0.52043    0.21878  -2.379   0.0174 *  \n",
              "factor(lowincomeflag)2     0.35525    0.20316   1.749   0.0804 .  \n",
              "factor(gender)1           -0.48361    0.17702  -2.732   0.0063 ** \n",
              "factor(ethniccode_cat2)1   0.56468    0.24764   2.280   0.0226 *  \n",
              "hsgpa_z                    0.53566    0.13507   3.966 7.32e-05 ***\n",
              "scale(mathsr)              1.13362    0.11431   9.917  < 2e-16 ***\n",
              "scale(englsr)              0.41324    0.09999   4.133 3.58e-05 ***\n",
              "factor(crs_term)2015      16.05959  437.76152   0.037   0.9707    \n",
              "factor(crs_term)2016      17.14496  437.76149   0.039   0.9688    \n",
              "factor(crs_term)2017      16.70215  437.76149   0.038   0.9696    \n",
              "---\n",
              "Signif. codes:  0 ‘***’ 0.001 ‘**’ 0.01 ‘*’ 0.05 ‘.’ 0.1 ‘ ’ 1\n",
              "\n",
              "(Dispersion parameter for binomial family taken to be 1)\n",
              "\n",
              "    Null deviance: 1456.5  on 6050  degrees of freedom\n",
              "Residual deviance: 1063.4  on 6040  degrees of freedom\n",
              "  (127 observations deleted due to missingness)\n",
              "AIC: 1085.4\n",
              "\n",
              "Number of Fisher Scoring iterations: 19\n"
            ]
          },
          "metadata": {
            "tags": []
          }
        }
      ]
    },
    {
      "cell_type": "code",
      "metadata": {
        "id": "ce3xdH_eReAw",
        "colab_type": "code",
        "outputId": "16a7f7b6-b9f6-4d24-9139-96a91360a4f3",
        "colab": {}
      },
      "source": [
        "# 2a. Took AP AND skip eligble and actually skip\n",
        "table(chem_tookap$aprealskipper_GChem1)\n",
        "# Make skip eligible data subset\n",
        "skipel <- subset(chem_tookap, apskipper_GChem1==1)\n",
        "dim(skipel)\n",
        "\n",
        "skipreal <- glm(aprealskipper_GChem1~factor(firstgen) + factor(lowincomeflag) + factor(gender) + factor(ethniccode_cat2) +\n",
        "               hsgpa_z + scale(mathsr) + scale(englsr) + factor(crs_term), \n",
        "                data=skipel, \n",
        "                binomial(link=\"logit\"))\n",
        "summary(skipreal)\n",
        "#robustse(skipreal, coef=\"odd.ratio\")"
      ],
      "execution_count": 0,
      "outputs": [
        {
          "output_type": "display_data",
          "data": {
            "text/plain": [
              "\n",
              "  0   1 \n",
              "997 133 "
            ]
          },
          "metadata": {
            "tags": []
          }
        },
        {
          "output_type": "display_data",
          "data": {
            "text/html": [
              "<ol class=list-inline>\n",
              "\t<li>161</li>\n",
              "\t<li>49</li>\n",
              "</ol>\n"
            ],
            "text/latex": "\\begin{enumerate*}\n\\item 161\n\\item 49\n\\end{enumerate*}\n",
            "text/markdown": "1. 161\n2. 49\n\n\n",
            "text/plain": [
              "[1] 161  49"
            ]
          },
          "metadata": {
            "tags": []
          }
        },
        {
          "output_type": "display_data",
          "data": {
            "text/plain": [
              "\n",
              "Call:\n",
              "glm(formula = aprealskipper_GChem1 ~ factor(firstgen) + factor(lowincomeflag) + \n",
              "    factor(gender) + factor(ethniccode_cat2) + hsgpa_z + scale(mathsr) + \n",
              "    scale(englsr) + factor(crs_term), family = binomial(link = \"logit\"), \n",
              "    data = skipel)\n",
              "\n",
              "Deviance Residuals: \n",
              "     Min        1Q    Median        3Q       Max  \n",
              "-2.04741   0.00002   0.00004   0.00017   1.63527  \n",
              "\n",
              "Coefficients:\n",
              "                           Estimate Std. Error z value Pr(>|z|)   \n",
              "(Intercept)                21.21590 3541.01745   0.006  0.99522   \n",
              "factor(firstgen)1          -1.07641    0.66003  -1.631  0.10293   \n",
              "factor(lowincomeflag)2      0.04497    0.69560   0.065  0.94845   \n",
              "factor(gender)1             0.20344    0.60228   0.338  0.73552   \n",
              "factor(ethniccode_cat2)1    0.49697    0.86541   0.574  0.56579   \n",
              "hsgpa_z                    -0.73650    0.56828  -1.296  0.19497   \n",
              "scale(mathsr)               0.87313    0.33765   2.586  0.00971 **\n",
              "scale(englsr)              -0.47297    0.35175  -1.345  0.17875   \n",
              "factor(crs_term)2016      -20.50971 3541.01732  -0.006  0.99538   \n",
              "factor(crs_term)2017       -0.14173 4065.88985   0.000  0.99997   \n",
              "---\n",
              "Signif. codes:  0 ‘***’ 0.001 ‘**’ 0.01 ‘*’ 0.05 ‘.’ 0.1 ‘ ’ 1\n",
              "\n",
              "(Dispersion parameter for binomial family taken to be 1)\n",
              "\n",
              "    Null deviance: 147.226  on 156  degrees of freedom\n",
              "Residual deviance:  76.113  on 147  degrees of freedom\n",
              "  (4 observations deleted due to missingness)\n",
              "AIC: 96.113\n",
              "\n",
              "Number of Fisher Scoring iterations: 19\n"
            ]
          },
          "metadata": {
            "tags": []
          }
        }
      ]
    },
    {
      "cell_type": "code",
      "metadata": {
        "id": "2k5nRXJxReAz",
        "colab_type": "code",
        "outputId": "0fda9dc7-f5e5-4df5-dca7-a519c6bf1758",
        "colab": {}
      },
      "source": [
        "# 2b. Took AP, include AP score\n",
        "chemsr5 <- lm(numgrade~aprealskipper_GChem1 + apscore_Chem +\n",
        "              factor(firstgen) + factor(lowincomeflag) + factor(gender) + factor(ethniccode_cat2) + \n",
        "              hsgpa_z + scale(mathsr) + scale(englsr) + factor(crs_term), data=chem_tookap)\n",
        "summary(chemsr5)\n",
        "\n",
        "#std_beta(chemsr5)"
      ],
      "execution_count": 0,
      "outputs": [
        {
          "output_type": "display_data",
          "data": {
            "text/plain": [
              "\n",
              "Call:\n",
              "lm(formula = numgrade ~ aprealskipper_GChem1 + apscore_Chem + \n",
              "    factor(firstgen) + factor(lowincomeflag) + factor(gender) + \n",
              "    factor(ethniccode_cat2) + hsgpa_z + scale(mathsr) + scale(englsr) + \n",
              "    factor(crs_term), data = chem_tookap)\n",
              "\n",
              "Residuals:\n",
              "    Min      1Q  Median      3Q     Max \n",
              "-3.6063 -0.4137  0.1182  0.5201  1.6060 \n",
              "\n",
              "Coefficients:\n",
              "                           Estimate Std. Error t value Pr(>|t|)    \n",
              "(Intercept)               2.3034529  0.1250849  18.415  < 2e-16 ***\n",
              "aprealskipper_GChem1      0.0007455  0.0945423   0.008 0.993710    \n",
              "apscore_Chem              0.2230602  0.0348782   6.395 2.49e-10 ***\n",
              "factor(firstgen)1         0.1126677  0.0566239   1.990 0.046899 *  \n",
              "factor(lowincomeflag)2   -0.1084974  0.0542264  -2.001 0.045690 *  \n",
              "factor(gender)1          -0.0628662  0.0514196  -1.223 0.221775    \n",
              "factor(ethniccode_cat2)1 -0.0927188  0.0690454  -1.343 0.179630    \n",
              "hsgpa_z                   0.2483772  0.0355816   6.981 5.46e-12 ***\n",
              "scale(mathsr)             0.1586528  0.0317869   4.991 7.12e-07 ***\n",
              "scale(englsr)            -0.0178809  0.0298271  -0.599 0.548990    \n",
              "factor(crs_term)2016      0.0177905  0.0790096   0.225 0.821896    \n",
              "factor(crs_term)2017      0.2756924  0.0755946   3.647 0.000279 ***\n",
              "---\n",
              "Signif. codes:  0 ‘***’ 0.001 ‘**’ 0.01 ‘*’ 0.05 ‘.’ 0.1 ‘ ’ 1\n",
              "\n",
              "Residual standard error: 0.7541 on 968 degrees of freedom\n",
              "  (150 observations deleted due to missingness)\n",
              "Multiple R-squared:  0.2445,\tAdjusted R-squared:  0.2359 \n",
              "F-statistic: 28.48 on 11 and 968 DF,  p-value: < 2.2e-16\n"
            ]
          },
          "metadata": {
            "tags": []
          }
        }
      ]
    },
    {
      "cell_type": "code",
      "metadata": {
        "id": "ow16x74PReA1",
        "colab_type": "code",
        "outputId": "6816ba26-7b83-4239-9df6-73f9d766f455",
        "colab": {}
      },
      "source": [
        "# 2c. Full sample, include AP score\n",
        "chemsr6 <- lm(numgrade~aprealskipper_GChem1 + apscore_Chem +\n",
        "              factor(firstgen) + factor(lowincomeflag) + factor(gender) + factor(ethniccode_cat2) + \n",
        "              hsgpa_z + scale(mathsr) + scale(englsr) + factor(crs_term), data=chemap_unique)\n",
        "summary(chemsr6)\n",
        "\n",
        "#std_beta(chemsr6)"
      ],
      "execution_count": 0,
      "outputs": [
        {
          "output_type": "display_data",
          "data": {
            "text/plain": [
              "\n",
              "Call:\n",
              "lm(formula = numgrade ~ aprealskipper_GChem1 + apscore_Chem + \n",
              "    factor(firstgen) + factor(lowincomeflag) + factor(gender) + \n",
              "    factor(ethniccode_cat2) + hsgpa_z + scale(mathsr) + scale(englsr) + \n",
              "    factor(crs_term), data = chemap_unique)\n",
              "\n",
              "Residuals:\n",
              "    Min      1Q  Median      3Q     Max \n",
              "-3.6050 -0.4678  0.0844  0.6075  2.5635 \n",
              "\n",
              "Coefficients:\n",
              "                         Estimate Std. Error t value Pr(>|t|)    \n",
              "(Intercept)               2.51071    0.04121  60.919  < 2e-16 ***\n",
              "aprealskipper_GChem1      0.05636    0.09585   0.588  0.55654    \n",
              "apscore_Chem              0.09686    0.01466   6.606 4.29e-11 ***\n",
              "factor(firstgen)1        -0.03303    0.02563  -1.288  0.19764    \n",
              "factor(lowincomeflag)2    0.01624    0.02544   0.638  0.52327    \n",
              "factor(gender)1          -0.09626    0.02464  -3.906 9.49e-05 ***\n",
              "factor(ethniccode_cat2)1 -0.13446    0.03241  -4.149 3.38e-05 ***\n",
              "hsgpa_z                   0.25231    0.01458  17.306  < 2e-16 ***\n",
              "scale(mathsr)             0.27713    0.01431  19.370  < 2e-16 ***\n",
              "scale(englsr)             0.02281    0.01397   1.632  0.10271    \n",
              "factor(crs_term)2015     -0.08822    0.03463  -2.547  0.01088 *  \n",
              "factor(crs_term)2016      0.13158    0.03453   3.810  0.00014 ***\n",
              "factor(crs_term)2017      0.34079    0.03348  10.180  < 2e-16 ***\n",
              "---\n",
              "Signif. codes:  0 ‘***’ 0.001 ‘**’ 0.01 ‘*’ 0.05 ‘.’ 0.1 ‘ ’ 1\n",
              "\n",
              "Residual standard error: 0.8845 on 5910 degrees of freedom\n",
              "  (255 observations deleted due to missingness)\n",
              "Multiple R-squared:  0.2299,\tAdjusted R-squared:  0.2283 \n",
              "F-statistic:   147 on 12 and 5910 DF,  p-value: < 2.2e-16\n"
            ]
          },
          "metadata": {
            "tags": []
          }
        }
      ]
    },
    {
      "cell_type": "code",
      "metadata": {
        "id": "8Oh5p4NVReA3",
        "colab_type": "code",
        "outputId": "12caed76-59da-4977-d2f7-455984dbea6e",
        "colab": {}
      },
      "source": [
        "# 2d. 2nd course grade; took AP sample for those who actually skip\n",
        "chemsr <- lm(numgrade~aprealskipper_GChem1 + \n",
        "             factor(firstgen) + factor(lowincomeflag) + factor(gender) + factor(ethniccode_cat2) + \n",
        "              hsgpa_z + scale(mathsr) + scale(englsr) + factor(crs_term), \n",
        "             data=chem_tookap)\n",
        "summary(chemsr)\n",
        "\n",
        "#std_beta(chemsr)"
      ],
      "execution_count": 0,
      "outputs": [
        {
          "output_type": "display_data",
          "data": {
            "text/plain": [
              "\n",
              "Call:\n",
              "lm(formula = numgrade ~ aprealskipper_GChem1 + factor(firstgen) + \n",
              "    factor(lowincomeflag) + factor(gender) + factor(ethniccode_cat2) + \n",
              "    hsgpa_z + scale(mathsr) + scale(englsr) + factor(crs_term), \n",
              "    data = chem_tookap)\n",
              "\n",
              "Residuals:\n",
              "    Min      1Q  Median      3Q     Max \n",
              "-3.6137 -0.4322  0.1119  0.5380  1.7016 \n",
              "\n",
              "Coefficients:\n",
              "                          Estimate Std. Error t value Pr(>|t|)    \n",
              "(Intercept)               2.762432   0.094409  29.260  < 2e-16 ***\n",
              "aprealskipper_GChem1      0.321516   0.078785   4.081 4.81e-05 ***\n",
              "factor(firstgen)1         0.078870   0.054288   1.453   0.1466    \n",
              "factor(lowincomeflag)2   -0.089312   0.052396  -1.705   0.0886 .  \n",
              "factor(gender)1          -0.060543   0.049857  -1.214   0.2249    \n",
              "factor(ethniccode_cat2)1 -0.102681   0.066996  -1.533   0.1257    \n",
              "hsgpa_z                   0.280741   0.033943   8.271 3.84e-16 ***\n",
              "scale(mathsr)             0.239618   0.029459   8.134 1.12e-15 ***\n",
              "scale(englsr)             0.008505   0.028913   0.294   0.7687    \n",
              "factor(crs_term)2016      0.131295   0.075543   1.738   0.0825 .  \n",
              "factor(crs_term)2017      0.295069   0.073738   4.002 6.72e-05 ***\n",
              "---\n",
              "Signif. codes:  0 ‘***’ 0.001 ‘**’ 0.01 ‘*’ 0.05 ‘.’ 0.1 ‘ ’ 1\n",
              "\n",
              "Residual standard error: 0.7761 on 1091 degrees of freedom\n",
              "  (28 observations deleted due to missingness)\n",
              "Multiple R-squared:  0.2123,\tAdjusted R-squared:  0.2051 \n",
              "F-statistic: 29.41 on 10 and 1091 DF,  p-value: < 2.2e-16\n"
            ]
          },
          "metadata": {
            "tags": []
          }
        }
      ]
    },
    {
      "cell_type": "code",
      "metadata": {
        "id": "CQ0NBMpEReA5",
        "colab_type": "code",
        "outputId": "5159ca02-316a-43cb-92e7-2cf58efac94e",
        "colab": {}
      },
      "source": [
        "#2e. 2nd course grade; everyone, actually skipped\n",
        "#chemap_unique$numgrade <- as.numeric(as.character(chemap_unique$numgrade))\n",
        "chemsr2 <- lm(numgrade ~ aprealskipper_GChem1 + factor(firstgen) + \n",
        "    factor(lowincomeflag) + factor(gender) + factor(ethniccode_cat2) + \n",
        "    hsgpa_z + scale(mathsr) + scale(englsr) + factor(crs_term), data=chemap_unique)\n",
        "summary(chemsr2)\n",
        "\n",
        "#std_beta(chemsr2)"
      ],
      "execution_count": 0,
      "outputs": [
        {
          "output_type": "display_data",
          "data": {
            "text/plain": [
              "\n",
              "Call:\n",
              "lm(formula = numgrade ~ aprealskipper_GChem1 + factor(firstgen) + \n",
              "    factor(lowincomeflag) + factor(gender) + factor(ethniccode_cat2) + \n",
              "    hsgpa_z + scale(mathsr) + scale(englsr) + factor(crs_term), \n",
              "    data = chemap_unique)\n",
              "\n",
              "Residuals:\n",
              "    Min      1Q  Median      3Q     Max \n",
              "-3.6351 -0.4802  0.0945  0.6160  2.6109 \n",
              "\n",
              "Coefficients:\n",
              "                         Estimate Std. Error t value Pr(>|t|)    \n",
              "(Intercept)               2.50338    0.04104  61.000  < 2e-16 ***\n",
              "aprealskipper_GChem1      0.38602    0.08102   4.764 1.94e-06 ***\n",
              "factor(firstgen)1        -0.03257    0.02542  -1.281 0.200104    \n",
              "factor(lowincomeflag)2    0.02256    0.02522   0.895 0.371004    \n",
              "factor(gender)1          -0.09209    0.02445  -3.766 0.000168 ***\n",
              "factor(ethniccode_cat2)1 -0.13344    0.03216  -4.149 3.38e-05 ***\n",
              "hsgpa_z                   0.26120    0.01444  18.083  < 2e-16 ***\n",
              "scale(mathsr)             0.29605    0.01402  21.109  < 2e-16 ***\n",
              "scale(englsr)             0.02047    0.01388   1.475 0.140272    \n",
              "factor(crs_term)2015     -0.07242    0.03452  -2.098 0.035975 *  \n",
              "factor(crs_term)2016      0.19792    0.03340   5.926 3.28e-09 ***\n",
              "factor(crs_term)2017      0.39170    0.03258  12.023  < 2e-16 ***\n",
              "---\n",
              "Signif. codes:  0 ‘***’ 0.001 ‘**’ 0.01 ‘*’ 0.05 ‘.’ 0.1 ‘ ’ 1\n",
              "\n",
              "Residual standard error: 0.8867 on 6033 degrees of freedom\n",
              "  (133 observations deleted due to missingness)\n",
              "Multiple R-squared:  0.2263,\tAdjusted R-squared:  0.2249 \n",
              "F-statistic: 160.4 on 11 and 6033 DF,  p-value: < 2.2e-16\n"
            ]
          },
          "metadata": {
            "tags": []
          }
        }
      ]
    },
    {
      "cell_type": "code",
      "metadata": {
        "id": "YM9_s168ReA7",
        "colab_type": "code",
        "outputId": "8794e785-1960-4c50-fa9b-c464542159f1",
        "colab": {}
      },
      "source": [
        "#2f. Course grade, Skip eligible for those who took AP\n",
        "chemsr3 <- lm(numgrade~apskipper_GChem1 + factor(firstgen) + \n",
        "    factor(lowincomeflag) + factor(gender) + factor(ethniccode_cat2) + \n",
        "    hsgpa_z + scale(mathsr) + scale(englsr) + factor(crs_term), data=chem_tookap)\n",
        "summary(chemsr3)\n",
        "\n",
        "#std_beta(chemsr3)"
      ],
      "execution_count": 0,
      "outputs": [
        {
          "output_type": "display_data",
          "data": {
            "text/plain": [
              "\n",
              "Call:\n",
              "lm(formula = numgrade ~ apskipper_GChem1 + factor(firstgen) + \n",
              "    factor(lowincomeflag) + factor(gender) + factor(ethniccode_cat2) + \n",
              "    hsgpa_z + scale(mathsr) + scale(englsr) + factor(crs_term), \n",
              "    data = chem_tookap)\n",
              "\n",
              "Residuals:\n",
              "    Min      1Q  Median      3Q     Max \n",
              "-3.5774 -0.4338  0.1104  0.5419  1.6928 \n",
              "\n",
              "Coefficients:\n",
              "                          Estimate Std. Error t value Pr(>|t|)    \n",
              "(Intercept)               2.771220   0.094298  29.388  < 2e-16 ***\n",
              "apskipper_GChem1          0.280368   0.072937   3.844 0.000128 ***\n",
              "factor(firstgen)1         0.075936   0.054294   1.399 0.162217    \n",
              "factor(lowincomeflag)2   -0.089152   0.052445  -1.700 0.089429 .  \n",
              "factor(gender)1          -0.061241   0.049908  -1.227 0.220060    \n",
              "factor(ethniccode_cat2)1 -0.101853   0.067054  -1.519 0.129057    \n",
              "hsgpa_z                   0.278394   0.034024   8.182 7.70e-16 ***\n",
              "scale(mathsr)             0.241714   0.029447   8.208 6.27e-16 ***\n",
              "scale(englsr)             0.005873   0.029050   0.202 0.839822    \n",
              "factor(crs_term)2016      0.110485   0.075499   1.463 0.143646    \n",
              "factor(crs_term)2017      0.293245   0.073788   3.974 7.53e-05 ***\n",
              "---\n",
              "Signif. codes:  0 ‘***’ 0.001 ‘**’ 0.01 ‘*’ 0.05 ‘.’ 0.1 ‘ ’ 1\n",
              "\n",
              "Residual standard error: 0.7767 on 1091 degrees of freedom\n",
              "  (28 observations deleted due to missingness)\n",
              "Multiple R-squared:  0.211,\tAdjusted R-squared:  0.2038 \n",
              "F-statistic: 29.18 on 10 and 1091 DF,  p-value: < 2.2e-16\n"
            ]
          },
          "metadata": {
            "tags": []
          }
        }
      ]
    },
    {
      "cell_type": "code",
      "metadata": {
        "id": "7FR09PwcReA9",
        "colab_type": "code",
        "outputId": "a1f9f51c-d681-44a2-81a7-06ed4abc744f",
        "colab": {}
      },
      "source": [
        "#2g. Skip eligible, full sample\n",
        "chemsr4<- lm(numgrade~apskipper_GChem1 + factor(firstgen) + \n",
        "    factor(lowincomeflag) + factor(gender) + factor(ethniccode_cat2) + \n",
        "    hsgpa_z + scale(mathsr) + scale(englsr) + factor(crs_term), data=chemap_unique)\n",
        "summary(chemsr4)\n",
        "\n",
        "#std_beta(chemsr4)"
      ],
      "execution_count": 0,
      "outputs": [
        {
          "output_type": "display_data",
          "data": {
            "text/plain": [
              "\n",
              "Call:\n",
              "lm(formula = numgrade ~ apskipper_GChem1 + factor(firstgen) + \n",
              "    factor(lowincomeflag) + factor(gender) + factor(ethniccode_cat2) + \n",
              "    hsgpa_z + scale(mathsr) + scale(englsr) + factor(crs_term), \n",
              "    data = chemap_unique)\n",
              "\n",
              "Residuals:\n",
              "    Min      1Q  Median      3Q     Max \n",
              "-3.6029 -0.4791  0.0964  0.6140  2.6086 \n",
              "\n",
              "Coefficients:\n",
              "                         Estimate Std. Error t value Pr(>|t|)    \n",
              "(Intercept)               2.50382    0.04104  61.012  < 2e-16 ***\n",
              "apskipper_GChem1          0.35378    0.07384   4.791 1.70e-06 ***\n",
              "factor(firstgen)1        -0.03311    0.02541  -1.303 0.192639    \n",
              "factor(lowincomeflag)2    0.02228    0.02522   0.883 0.377069    \n",
              "factor(gender)1          -0.09233    0.02445  -3.776 0.000161 ***\n",
              "factor(ethniccode_cat2)1 -0.13324    0.03216  -4.143 3.47e-05 ***\n",
              "hsgpa_z                   0.26046    0.01445  18.026  < 2e-16 ***\n",
              "scale(mathsr)             0.29588    0.01403  21.093  < 2e-16 ***\n",
              "scale(englsr)             0.01986    0.01389   1.430 0.152831    \n",
              "factor(crs_term)2015     -0.07181    0.03452  -2.080 0.037543 *  \n",
              "factor(crs_term)2016      0.19256    0.03348   5.751 9.29e-09 ***\n",
              "factor(crs_term)2017      0.39310    0.03256  12.075  < 2e-16 ***\n",
              "---\n",
              "Signif. codes:  0 ‘***’ 0.001 ‘**’ 0.01 ‘*’ 0.05 ‘.’ 0.1 ‘ ’ 1\n",
              "\n",
              "Residual standard error: 0.8867 on 6033 degrees of freedom\n",
              "  (133 observations deleted due to missingness)\n",
              "Multiple R-squared:  0.2264,\tAdjusted R-squared:  0.2249 \n",
              "F-statistic: 160.5 on 11 and 6033 DF,  p-value: < 2.2e-16\n"
            ]
          },
          "metadata": {
            "tags": []
          }
        }
      ]
    },
    {
      "cell_type": "code",
      "metadata": {
        "id": "2fZB0JTOReA_",
        "colab_type": "code",
        "outputId": "70b87a87-0a01-4716-d1ed-d094b920d6ac",
        "colab": {}
      },
      "source": [
        "# Bring back the var names so I don't have to scroll up ...\n",
        "names(apfull_SkipEl)"
      ],
      "execution_count": 0,
      "outputs": [
        {
          "output_type": "display_data",
          "data": {
            "text/html": [
              "<ol class=list-inline>\n",
              "\t<li>'X.1'</li>\n",
              "\t<li>'X'</li>\n",
              "\t<li>'st_id'</li>\n",
              "\t<li>'studentid'</li>\n",
              "\t<li>'apskipper_GChem1'</li>\n",
              "\t<li>'apskipper_Phys1'</li>\n",
              "\t<li>'aptaker_Chem'</li>\n",
              "\t<li>'apyear_Chem'</li>\n",
              "\t<li>'apscore_Chem'</li>\n",
              "\t<li>'aptaker_Mec'</li>\n",
              "\t<li>'aptaker_Elec'</li>\n",
              "\t<li>'apyear_Mec'</li>\n",
              "\t<li>'apyear_Elec'</li>\n",
              "\t<li>'apscore_Mec'</li>\n",
              "\t<li>'apscore_Elec'</li>\n",
              "\t<li>'coursecode'</li>\n",
              "\t<li>'crs_name'</li>\n",
              "\t<li>'crs_catalog'</li>\n",
              "\t<li>'class_number'</li>\n",
              "\t<li>'crs_sbj'</li>\n",
              "\t<li>'level'</li>\n",
              "\t<li>'newfresh'</li>\n",
              "\t<li>'numgrade'</li>\n",
              "\t<li>'gender'</li>\n",
              "\t<li>'ethniccode'</li>\n",
              "\t<li>'ethniccode_cat'</li>\n",
              "\t<li>'ethniccode_cat2'</li>\n",
              "\t<li>'firstgen'</li>\n",
              "\t<li>'lowincomeflag'</li>\n",
              "\t<li>'ellflag'</li>\n",
              "\t<li>'international'</li>\n",
              "\t<li>'hsgpa'</li>\n",
              "\t<li>'hsgpa_z'</li>\n",
              "\t<li>'bstsat1mathsr'</li>\n",
              "\t<li>'bstsat1readsr'</li>\n",
              "\t<li>'actenglsr'</li>\n",
              "\t<li>'actmathsr'</li>\n",
              "\t<li>'mathsr'</li>\n",
              "\t<li>'englsr'</li>\n",
              "\t<li>'crs_term'</li>\n",
              "\t<li>'admitdate'</li>\n",
              "\t<li>'enrl_from_cohort'</li>\n",
              "\t<li>'yearsenrolled'</li>\n",
              "\t<li>'cohort'</li>\n",
              "\t<li>'stemmajor'</li>\n",
              "\t<li>'chemNotSkipthoughEl'</li>\n",
              "\t<li>'aprealskipper_GChem1'</li>\n",
              "\t<li>'physNotSkipthoughEl'</li>\n",
              "\t<li>'aprealskipper_Phys1'</li>\n",
              "</ol>\n"
            ],
            "text/latex": "\\begin{enumerate*}\n\\item 'X.1'\n\\item 'X'\n\\item 'st\\_id'\n\\item 'studentid'\n\\item 'apskipper\\_GChem1'\n\\item 'apskipper\\_Phys1'\n\\item 'aptaker\\_Chem'\n\\item 'apyear\\_Chem'\n\\item 'apscore\\_Chem'\n\\item 'aptaker\\_Mec'\n\\item 'aptaker\\_Elec'\n\\item 'apyear\\_Mec'\n\\item 'apyear\\_Elec'\n\\item 'apscore\\_Mec'\n\\item 'apscore\\_Elec'\n\\item 'coursecode'\n\\item 'crs\\_name'\n\\item 'crs\\_catalog'\n\\item 'class\\_number'\n\\item 'crs\\_sbj'\n\\item 'level'\n\\item 'newfresh'\n\\item 'numgrade'\n\\item 'gender'\n\\item 'ethniccode'\n\\item 'ethniccode\\_cat'\n\\item 'ethniccode\\_cat2'\n\\item 'firstgen'\n\\item 'lowincomeflag'\n\\item 'ellflag'\n\\item 'international'\n\\item 'hsgpa'\n\\item 'hsgpa\\_z'\n\\item 'bstsat1mathsr'\n\\item 'bstsat1readsr'\n\\item 'actenglsr'\n\\item 'actmathsr'\n\\item 'mathsr'\n\\item 'englsr'\n\\item 'crs\\_term'\n\\item 'admitdate'\n\\item 'enrl\\_from\\_cohort'\n\\item 'yearsenrolled'\n\\item 'cohort'\n\\item 'stemmajor'\n\\item 'chemNotSkipthoughEl'\n\\item 'aprealskipper\\_GChem1'\n\\item 'physNotSkipthoughEl'\n\\item 'aprealskipper\\_Phys1'\n\\end{enumerate*}\n",
            "text/markdown": "1. 'X.1'\n2. 'X'\n3. 'st_id'\n4. 'studentid'\n5. 'apskipper_GChem1'\n6. 'apskipper_Phys1'\n7. 'aptaker_Chem'\n8. 'apyear_Chem'\n9. 'apscore_Chem'\n10. 'aptaker_Mec'\n11. 'aptaker_Elec'\n12. 'apyear_Mec'\n13. 'apyear_Elec'\n14. 'apscore_Mec'\n15. 'apscore_Elec'\n16. 'coursecode'\n17. 'crs_name'\n18. 'crs_catalog'\n19. 'class_number'\n20. 'crs_sbj'\n21. 'level'\n22. 'newfresh'\n23. 'numgrade'\n24. 'gender'\n25. 'ethniccode'\n26. 'ethniccode_cat'\n27. 'ethniccode_cat2'\n28. 'firstgen'\n29. 'lowincomeflag'\n30. 'ellflag'\n31. 'international'\n32. 'hsgpa'\n33. 'hsgpa_z'\n34. 'bstsat1mathsr'\n35. 'bstsat1readsr'\n36. 'actenglsr'\n37. 'actmathsr'\n38. 'mathsr'\n39. 'englsr'\n40. 'crs_term'\n41. 'admitdate'\n42. 'enrl_from_cohort'\n43. 'yearsenrolled'\n44. 'cohort'\n45. 'stemmajor'\n46. 'chemNotSkipthoughEl'\n47. 'aprealskipper_GChem1'\n48. 'physNotSkipthoughEl'\n49. 'aprealskipper_Phys1'\n\n\n",
            "text/plain": [
              " [1] \"X.1\"                  \"X\"                    \"st_id\"               \n",
              " [4] \"studentid\"            \"apskipper_GChem1\"     \"apskipper_Phys1\"     \n",
              " [7] \"aptaker_Chem\"         \"apyear_Chem\"          \"apscore_Chem\"        \n",
              "[10] \"aptaker_Mec\"          \"aptaker_Elec\"         \"apyear_Mec\"          \n",
              "[13] \"apyear_Elec\"          \"apscore_Mec\"          \"apscore_Elec\"        \n",
              "[16] \"coursecode\"           \"crs_name\"             \"crs_catalog\"         \n",
              "[19] \"class_number\"         \"crs_sbj\"              \"level\"               \n",
              "[22] \"newfresh\"             \"numgrade\"             \"gender\"              \n",
              "[25] \"ethniccode\"           \"ethniccode_cat\"       \"ethniccode_cat2\"     \n",
              "[28] \"firstgen\"             \"lowincomeflag\"        \"ellflag\"             \n",
              "[31] \"international\"        \"hsgpa\"                \"hsgpa_z\"             \n",
              "[34] \"bstsat1mathsr\"        \"bstsat1readsr\"        \"actenglsr\"           \n",
              "[37] \"actmathsr\"            \"mathsr\"               \"englsr\"              \n",
              "[40] \"crs_term\"             \"admitdate\"            \"enrl_from_cohort\"    \n",
              "[43] \"yearsenrolled\"        \"cohort\"               \"stemmajor\"           \n",
              "[46] \"chemNotSkipthoughEl\"  \"aprealskipper_GChem1\" \"physNotSkipthoughEl\" \n",
              "[49] \"aprealskipper_Phys1\" "
            ]
          },
          "metadata": {
            "tags": []
          }
        }
      ]
    },
    {
      "cell_type": "code",
      "metadata": {
        "id": "bzPVpoIKReBB",
        "colab_type": "code",
        "outputId": "25fa81e3-1ec0-4d41-9323-d55641d51892",
        "colab": {}
      },
      "source": [
        "## PHYSICS\n",
        "#table(apfull_SkipEl$apyear_Mec) # NA not coded\n",
        "apfull_SkipEl$apyear_Mec <- ifelse(is.na(apfull_SkipEl$apyear_Mec), 0, apfull_SkipEl$apyear_Mec)\n",
        "apfull_SkipEl$apyear_Elec <- ifelse(is.na(apfull_SkipEl$apyear_Elec), 0, apfull_SkipEl$apyear_Elec)\n",
        "\n",
        "table(apfull_SkipEl$apyear_Mec)\n",
        "table(apfull_SkipEl$apyear_Elec)"
      ],
      "execution_count": 0,
      "outputs": [
        {
          "output_type": "display_data",
          "data": {
            "text/plain": [
              "\n",
              "     0   2009   2010   2011   2012   2013   2014   2015   2016   2017 \n",
              "385522     28    233   1120   2053   1973   2255   2947   1537    236 "
            ]
          },
          "metadata": {
            "tags": []
          }
        },
        {
          "output_type": "display_data",
          "data": {
            "text/plain": [
              "\n",
              "     0   2009   2010   2011   2012   2013   2014   2015   2016   2017 \n",
              "394116     18    141    382    674    469    815    900    344     45 "
            ]
          },
          "metadata": {
            "tags": []
          }
        }
      ]
    },
    {
      "cell_type": "code",
      "metadata": {
        "id": "R6hcvhSvReBD",
        "colab_type": "code",
        "outputId": "5d17913d-4008-4db7-cf76-c4ec42482ef1",
        "colab": {}
      },
      "source": [
        "## PHYSICS\n",
        "dim(apfull_SkipEl)\n",
        "physicsap <- subset(apfull_SkipEl, class_number==\"0007D\" & crs_name==\"CLASSICAL PHYSICS\" & \n",
        "                    apyear_Mec%in%c(\"0\", \"2015\", \"2016\", \"2017\") | \n",
        "                                    class_number==\"0007D\" & crs_name==\"CLASSICAL PHYSICS\" & \n",
        "                                    apyear_Elec%in%c(\"0\", \"2015\", \"2016\", \"2017\"))\n",
        "physicsap <- subset(physicsap, crs_term%in%c(\"2015\", \"2016\", \"2017\"))\n",
        "dim(physicsap)\n",
        "\n",
        "physicsap_unique <- physicsap[!duplicated(physicsap$st_id),]\n",
        "dim(physicsap_unique)\n",
        "\n",
        "table(physicsap_unique$aprealskipper_Phys1, physicsap_unique$apscore_Mec)\n",
        "table(physicsap_unique$aprealskipper_Phys1, physicsap_unique$apscore_Elec)"
      ],
      "execution_count": 0,
      "outputs": [
        {
          "output_type": "display_data",
          "data": {
            "text/html": [
              "<ol class=list-inline>\n",
              "\t<li>397904</li>\n",
              "\t<li>49</li>\n",
              "</ol>\n"
            ],
            "text/latex": "\\begin{enumerate*}\n\\item 397904\n\\item 49\n\\end{enumerate*}\n",
            "text/markdown": "1. 397904\n2. 49\n\n\n",
            "text/plain": [
              "[1] 397904     49"
            ]
          },
          "metadata": {
            "tags": []
          }
        },
        {
          "output_type": "display_data",
          "data": {
            "text/html": [
              "<ol class=list-inline>\n",
              "\t<li>1906</li>\n",
              "\t<li>49</li>\n",
              "</ol>\n"
            ],
            "text/latex": "\\begin{enumerate*}\n\\item 1906\n\\item 49\n\\end{enumerate*}\n",
            "text/markdown": "1. 1906\n2. 49\n\n\n",
            "text/plain": [
              "[1] 1906   49"
            ]
          },
          "metadata": {
            "tags": []
          }
        },
        {
          "output_type": "display_data",
          "data": {
            "text/html": [
              "<ol class=list-inline>\n",
              "\t<li>1867</li>\n",
              "\t<li>49</li>\n",
              "</ol>\n"
            ],
            "text/latex": "\\begin{enumerate*}\n\\item 1867\n\\item 49\n\\end{enumerate*}\n",
            "text/markdown": "1. 1867\n2. 49\n\n\n",
            "text/plain": [
              "[1] 1867   49"
            ]
          },
          "metadata": {
            "tags": []
          }
        },
        {
          "output_type": "display_data",
          "data": {
            "text/plain": [
              "   \n",
              "     1  2  3  4  5\n",
              "  0 30 49 44 13  7\n",
              "  1  0  0  0 22 15"
            ]
          },
          "metadata": {
            "tags": []
          }
        },
        {
          "output_type": "display_data",
          "data": {
            "text/plain": [
              "   \n",
              "     1  2  3  4  5\n",
              "  0  8 14 18  5 12\n",
              "  1  1  0  1  0  1"
            ]
          },
          "metadata": {
            "tags": []
          }
        }
      ]
    },
    {
      "cell_type": "code",
      "metadata": {
        "id": "ISpOsCk_ReBF",
        "colab_type": "code",
        "outputId": "865a3362-8e91-47ed-da42-d1773f263886",
        "colab": {}
      },
      "source": [
        "# More data processing\n",
        "# Create a dummy var for taking physics (either Mec or Elec)\n",
        "physicsap_unique$aptaker_Phys <- ifelse(physicsap_unique$aptaker_Elec==1|\n",
        "                                    physicsap_unique$aptaker_Mec==1, 1, 0)\n",
        "\n",
        "# Create a score for physics (as the best score from either Mec or Elec)\n",
        "# Replace NA with 0\n",
        "physicsap_unique$apscore_Elec[is.na(physicsap_unique$apscore_Elec)] <- 0\n",
        "physicsap_unique$apscore_Mec[is.na(physicsap_unique$apscore_Mec)] <- 0\n",
        "# Choose best score from either elec or mec: first replace with one, i.e., Mec score, and compare with Elec score; if higher then retain\n",
        "physicsap_unique$apscore_Phys <- physicsap_unique$apscore_Mec\n",
        "\n",
        "physicsap_unique$apscore_Phys <- ifelse(physicsap_unique$apscore_Elec > physicsap_unique$apscore_Phys, \n",
        "                                       physicsap_unique$apscore_Elec, physicsap_unique$apscore_Phys)\n",
        "table(physicsap_unique$apscore_Phys, physicsap_unique$apscore_Mec) # double checking\n",
        "table(physicsap_unique$apscore_Phys, physicsap_unique$aprealskipper_Phys1) # real skippers in those that score 4/5 on either test"
      ],
      "execution_count": 0,
      "outputs": [
        {
          "output_type": "display_data",
          "data": {
            "text/plain": [
              "   \n",
              "       0    1    2    3    4    5\n",
              "  0 1661    0    0    0    0    0\n",
              "  1    4   25    0    0    0    0\n",
              "  2    7    2   44    0    0    0\n",
              "  3    8    2    3   40    0    0\n",
              "  4    3    0    0    2   31    0\n",
              "  5    4    1    2    2    4   22"
            ]
          },
          "metadata": {
            "tags": []
          }
        },
        {
          "output_type": "display_data",
          "data": {
            "text/plain": [
              "   \n",
              "       0    1\n",
              "  0 1661    0\n",
              "  1   29    0\n",
              "  2   53    0\n",
              "  3   53    0\n",
              "  4   15   21\n",
              "  5   19   16"
            ]
          },
          "metadata": {
            "tags": []
          }
        }
      ]
    },
    {
      "cell_type": "code",
      "metadata": {
        "id": "nu1cA7nGReBH",
        "colab_type": "code",
        "outputId": "cc273742-df8b-4a54-defa-a73071e14474",
        "colab": {}
      },
      "source": [
        "#1a. Took AP, full sample\n",
        "tookphysap <- glm(aptaker_Phys~factor(firstgen) + factor(lowincomeflag) + factor(gender) + factor(ethniccode_cat2) +\n",
        "                  hsgpa_z + scale(mathsr) + scale(englsr) + factor(crs_term), \n",
        "                  data=physicsap_unique, binomial(link=\"logit\"))\n",
        "summary(tookphysap)\n",
        "#robustse(tookphysap, coef=\"odd.ratio\")"
      ],
      "execution_count": 0,
      "outputs": [
        {
          "output_type": "display_data",
          "data": {
            "text/plain": [
              "\n",
              "Call:\n",
              "glm(formula = aptaker_Phys ~ factor(firstgen) + factor(lowincomeflag) + \n",
              "    factor(gender) + factor(ethniccode_cat2) + hsgpa_z + scale(mathsr) + \n",
              "    scale(englsr) + factor(crs_term), family = binomial(link = \"logit\"), \n",
              "    data = physicsap_unique)\n",
              "\n",
              "Deviance Residuals: \n",
              "    Min       1Q   Median       3Q      Max  \n",
              "-1.2183  -0.6694  -0.5148  -0.3395   2.4949  \n",
              "\n",
              "Coefficients:\n",
              "                         Estimate Std. Error z value Pr(>|z|)    \n",
              "(Intercept)              -1.60033    0.17902  -8.939  < 2e-16 ***\n",
              "factor(firstgen)1        -0.47841    0.15725  -3.042  0.00235 ** \n",
              "factor(lowincomeflag)2    0.41153    0.15538   2.648  0.00809 ** \n",
              "factor(gender)1          -0.43611    0.16156  -2.699  0.00695 ** \n",
              "factor(ethniccode_cat2)1  0.04109    0.15799   0.260  0.79480    \n",
              "hsgpa_z                  -0.09636    0.07630  -1.263  0.20660    \n",
              "scale(mathsr)             0.53468    0.08047   6.645 3.04e-11 ***\n",
              "scale(englsr)             0.16491    0.07722   2.135  0.03273 *  \n",
              "factor(crs_term)2016      0.17428    0.16258   1.072  0.28372    \n",
              "factor(crs_term)2017      0.13003    0.15285   0.851  0.39495    \n",
              "---\n",
              "Signif. codes:  0 ‘***’ 0.001 ‘**’ 0.01 ‘*’ 0.05 ‘.’ 0.1 ‘ ’ 1\n",
              "\n",
              "(Dispersion parameter for binomial family taken to be 1)\n",
              "\n",
              "    Null deviance: 1728.9  on 1826  degrees of freedom\n",
              "Residual deviance: 1600.9  on 1817  degrees of freedom\n",
              "  (40 observations deleted due to missingness)\n",
              "AIC: 1620.9\n",
              "\n",
              "Number of Fisher Scoring iterations: 5\n"
            ]
          },
          "metadata": {
            "tags": []
          }
        }
      ]
    },
    {
      "cell_type": "code",
      "metadata": {
        "id": "8IjQHCniReBJ",
        "colab_type": "code",
        "outputId": "2217716f-23e9-454e-b6f7-a8f0bafe14f1",
        "colab": {}
      },
      "source": [
        "# 1b: AP Score for those who took AP\n",
        "phys_tookap <- subset(physicsap_unique, apscore_Phys!=0)\n",
        "dim(phys_tookap) \n",
        "table(phys_tookap$apscore_Phys)\n",
        "\n",
        "physsr <- lm(apscore_Phys~factor(firstgen) + factor(lowincomeflag) + factor(gender) + factor(ethniccode_cat2) +\n",
        "               hsgpa_z + scale(mathsr) + scale(englsr) + factor(crs_term), data=phys_tookap)\n",
        "summary(physsr)\n",
        "#std_beta(physsr)"
      ],
      "execution_count": 0,
      "outputs": [
        {
          "output_type": "display_data",
          "data": {
            "text/html": [
              "<ol class=list-inline>\n",
              "\t<li>206</li>\n",
              "\t<li>51</li>\n",
              "</ol>\n"
            ],
            "text/latex": "\\begin{enumerate*}\n\\item 206\n\\item 51\n\\end{enumerate*}\n",
            "text/markdown": "1. 206\n2. 51\n\n\n",
            "text/plain": [
              "[1] 206  51"
            ]
          },
          "metadata": {
            "tags": []
          }
        },
        {
          "output_type": "display_data",
          "data": {
            "text/plain": [
              "\n",
              " 1  2  3  4  5 \n",
              "29 53 53 36 35 "
            ]
          },
          "metadata": {
            "tags": []
          }
        },
        {
          "output_type": "display_data",
          "data": {
            "text/plain": [
              "\n",
              "Call:\n",
              "lm(formula = apscore_Phys ~ factor(firstgen) + factor(lowincomeflag) + \n",
              "    factor(gender) + factor(ethniccode_cat2) + hsgpa_z + scale(mathsr) + \n",
              "    scale(englsr) + factor(crs_term), data = phys_tookap)\n",
              "\n",
              "Residuals:\n",
              "     Min       1Q   Median       3Q      Max \n",
              "-2.31842 -0.97640 -0.04894  1.02794  2.33646 \n",
              "\n",
              "Coefficients:\n",
              "                         Estimate Std. Error t value Pr(>|t|)    \n",
              "(Intercept)               2.77073    0.26670  10.389   <2e-16 ***\n",
              "factor(firstgen)1        -0.08575    0.26178  -0.328    0.744    \n",
              "factor(lowincomeflag)2   -0.35349    0.25113  -1.408    0.161    \n",
              "factor(gender)1          -0.05413    0.24644  -0.220    0.826    \n",
              "factor(ethniccode_cat2)1  0.30919    0.24535   1.260    0.209    \n",
              "hsgpa_z                  -0.03570    0.12510  -0.285    0.776    \n",
              "scale(mathsr)             0.03025    0.10908   0.277    0.782    \n",
              "scale(englsr)            -0.13718    0.12072  -1.136    0.257    \n",
              "factor(crs_term)2016      0.24110    0.23730   1.016    0.311    \n",
              "factor(crs_term)2017      0.08858    0.22992   0.385    0.700    \n",
              "---\n",
              "Signif. codes:  0 ‘***’ 0.001 ‘**’ 0.01 ‘*’ 0.05 ‘.’ 0.1 ‘ ’ 1\n",
              "\n",
              "Residual standard error: 1.317 on 188 degrees of freedom\n",
              "  (8 observations deleted due to missingness)\n",
              "Multiple R-squared:  0.03138,\tAdjusted R-squared:  -0.01499 \n",
              "F-statistic: 0.6767 on 9 and 188 DF,  p-value: 0.7294\n"
            ]
          },
          "metadata": {
            "tags": []
          }
        }
      ]
    },
    {
      "cell_type": "code",
      "metadata": {
        "id": "v9upIZtZReBP",
        "colab_type": "code",
        "outputId": "8426ddd7-774f-4788-ae19-55a09d59b451",
        "colab": {}
      },
      "source": [
        "# 1c.i Eligible out of those who took AP\n",
        "skipphys <- glm(apskipper_Phys1~factor(firstgen) + factor(lowincomeflag) + factor(gender) + factor(ethniccode_cat2) +\n",
        "               hsgpa_z + scale(mathsr) + scale(englsr) + factor(crs_term), \n",
        "                data=phys_tookap, \n",
        "                binomial(link=\"logit\"))\n",
        "summary(skipphys)\n",
        "#robustse(skipphys, coef=\"odd.ratio\")"
      ],
      "execution_count": 0,
      "outputs": [
        {
          "output_type": "display_data",
          "data": {
            "text/plain": [
              "\n",
              "Call:\n",
              "glm(formula = apskipper_Phys1 ~ factor(firstgen) + factor(lowincomeflag) + \n",
              "    factor(gender) + factor(ethniccode_cat2) + hsgpa_z + scale(mathsr) + \n",
              "    scale(englsr) + factor(crs_term), family = binomial(link = \"logit\"), \n",
              "    data = phys_tookap)\n",
              "\n",
              "Deviance Residuals: \n",
              "    Min       1Q   Median       3Q      Max  \n",
              "-1.0998  -0.8184  -0.7024   1.3333   2.0724  \n",
              "\n",
              "Coefficients:\n",
              "                         Estimate Std. Error z value Pr(>|z|)   \n",
              "(Intercept)              -1.25663    0.47923  -2.622  0.00874 **\n",
              "factor(firstgen)1        -0.12437    0.46936  -0.265  0.79102   \n",
              "factor(lowincomeflag)2   -0.49682    0.45194  -1.099  0.27164   \n",
              "factor(gender)1          -0.64653    0.47057  -1.374  0.16946   \n",
              "factor(ethniccode_cat2)1  0.34921    0.43096   0.810  0.41776   \n",
              "hsgpa_z                   0.21514    0.22538   0.955  0.33981   \n",
              "scale(mathsr)            -0.06921    0.19018  -0.364  0.71594   \n",
              "scale(englsr)            -0.10250    0.21086  -0.486  0.62689   \n",
              "factor(crs_term)2016      0.22306    0.42376   0.526  0.59863   \n",
              "factor(crs_term)2017      0.34340    0.40199   0.854  0.39296   \n",
              "---\n",
              "Signif. codes:  0 ‘***’ 0.001 ‘**’ 0.01 ‘*’ 0.05 ‘.’ 0.1 ‘ ’ 1\n",
              "\n",
              "(Dispersion parameter for binomial family taken to be 1)\n",
              "\n",
              "    Null deviance: 230.05  on 197  degrees of freedom\n",
              "Residual deviance: 223.54  on 188  degrees of freedom\n",
              "  (8 observations deleted due to missingness)\n",
              "AIC: 243.54\n",
              "\n",
              "Number of Fisher Scoring iterations: 4\n"
            ]
          },
          "metadata": {
            "tags": []
          }
        }
      ]
    },
    {
      "cell_type": "code",
      "metadata": {
        "id": "p0tvQJ_EReBR",
        "colab_type": "code",
        "outputId": "3e8ae0d8-1faa-4e36-ddd0-83240811c8bc",
        "colab": {}
      },
      "source": [
        "# 1c.ii Eligible out of full sample\n",
        "skipphys2 <- glm(apskipper_Phys1~factor(firstgen) + factor(lowincomeflag) + factor(gender) + factor(ethniccode_cat2) +\n",
        "               hsgpa_z + scale(mathsr) + scale(englsr) + factor(crs_term), \n",
        "                data=physicsap_unique, \n",
        "                binomial(link=\"logit\"))\n",
        "summary(skipphys2)\n",
        "#robustse(skipphys2, coef=\"odd.ratio\")"
      ],
      "execution_count": 0,
      "outputs": [
        {
          "output_type": "display_data",
          "data": {
            "text/plain": [
              "\n",
              "Call:\n",
              "glm(formula = apskipper_Phys1 ~ factor(firstgen) + factor(lowincomeflag) + \n",
              "    factor(gender) + factor(ethniccode_cat2) + hsgpa_z + scale(mathsr) + \n",
              "    scale(englsr) + factor(crs_term), family = binomial(link = \"logit\"), \n",
              "    data = physicsap_unique)\n",
              "\n",
              "Deviance Residuals: \n",
              "    Min       1Q   Median       3Q      Max  \n",
              "-0.4469  -0.2775  -0.2193  -0.1735   3.1156  \n",
              "\n",
              "Coefficients:\n",
              "                         Estimate Std. Error z value Pr(>|z|)    \n",
              "(Intercept)              -3.72613    0.42336  -8.801   <2e-16 ***\n",
              "factor(firstgen)1        -0.43926    0.36084  -1.217   0.2235    \n",
              "factor(lowincomeflag)2   -0.02844    0.35498  -0.080   0.9361    \n",
              "factor(gender)1          -0.78314    0.41665  -1.880   0.0602 .  \n",
              "factor(ethniccode_cat2)1  0.36180    0.36941   0.979   0.3274    \n",
              "hsgpa_z                   0.05972    0.17634   0.339   0.7349    \n",
              "scale(mathsr)             0.34920    0.17919   1.949   0.0513 .  \n",
              "scale(englsr)             0.10489    0.17331   0.605   0.5450    \n",
              "factor(crs_term)2016      0.16379    0.36691   0.446   0.6553    \n",
              "factor(crs_term)2017      0.17096    0.34295   0.498   0.6181    \n",
              "---\n",
              "Signif. codes:  0 ‘***’ 0.001 ‘**’ 0.01 ‘*’ 0.05 ‘.’ 0.1 ‘ ’ 1\n",
              "\n",
              "(Dispersion parameter for binomial family taken to be 1)\n",
              "\n",
              "    Null deviance: 479.70  on 1826  degrees of freedom\n",
              "Residual deviance: 460.83  on 1817  degrees of freedom\n",
              "  (40 observations deleted due to missingness)\n",
              "AIC: 480.83\n",
              "\n",
              "Number of Fisher Scoring iterations: 7\n"
            ]
          },
          "metadata": {
            "tags": []
          }
        }
      ]
    },
    {
      "cell_type": "code",
      "metadata": {
        "id": "YRc7LbB7ReBT",
        "colab_type": "code",
        "outputId": "6251400c-69f2-4f22-b11f-7ef3bf416d24",
        "colab": {}
      },
      "source": [
        "# 2a. Took AP and skip eligble and actually skip\n",
        "table(phys_tookap$aprealskipper_Phys1)\n",
        "skipel <- subset(phys_tookap, apskipper_Phys1==1)\n",
        "dim(skipel)\n",
        "table(skipel$aprealskipper_Phys1)\n",
        "\n",
        "skipreal <- glm(aprealskipper_Phys1~factor(firstgen) + factor(lowincomeflag) + factor(gender) + factor(ethniccode_cat2) +\n",
        "               hsgpa_z + scale(mathsr) + scale(englsr) + factor(crs_term), \n",
        "                data=skipel, \n",
        "                binomial(link=\"logit\"))\n",
        "summary(skipreal) # very small dataset in UCI case | not reliable coefficients.\n",
        "#robustse(skipreal, coef=\"odd.ratio\")"
      ],
      "execution_count": 0,
      "outputs": [
        {
          "output_type": "display_data",
          "data": {
            "text/plain": [
              "\n",
              "  0   1 \n",
              "169  37 "
            ]
          },
          "metadata": {
            "tags": []
          }
        },
        {
          "output_type": "display_data",
          "data": {
            "text/html": [
              "<ol class=list-inline>\n",
              "\t<li>57</li>\n",
              "\t<li>51</li>\n",
              "</ol>\n"
            ],
            "text/latex": "\\begin{enumerate*}\n\\item 57\n\\item 51\n\\end{enumerate*}\n",
            "text/markdown": "1. 57\n2. 51\n\n\n",
            "text/plain": [
              "[1] 57 51"
            ]
          },
          "metadata": {
            "tags": []
          }
        },
        {
          "output_type": "display_data",
          "data": {
            "text/plain": [
              "\n",
              " 0  1 \n",
              "20 37 "
            ]
          },
          "metadata": {
            "tags": []
          }
        },
        {
          "output_type": "display_data",
          "data": {
            "text/plain": [
              "\n",
              "Call:\n",
              "glm(formula = aprealskipper_Phys1 ~ factor(firstgen) + factor(lowincomeflag) + \n",
              "    factor(gender) + factor(ethniccode_cat2) + hsgpa_z + scale(mathsr) + \n",
              "    scale(englsr) + factor(crs_term), family = binomial(link = \"logit\"), \n",
              "    data = skipel)\n",
              "\n",
              "Deviance Residuals: \n",
              "    Min       1Q   Median       3Q      Max  \n",
              "-1.9101  -1.2279   0.7868   0.8969   1.3047  \n",
              "\n",
              "Coefficients:\n",
              "                          Estimate Std. Error z value Pr(>|z|)\n",
              "(Intercept)               1.406276   0.991534   1.418    0.156\n",
              "factor(firstgen)1        -0.382455   0.959847  -0.398    0.690\n",
              "factor(lowincomeflag)2   -0.304647   0.933738  -0.326    0.744\n",
              "factor(gender)1          -0.530555   0.940600  -0.564    0.573\n",
              "factor(ethniccode_cat2)1 -0.244630   0.846912  -0.289    0.773\n",
              "hsgpa_z                   0.001352   0.446123   0.003    0.998\n",
              "scale(mathsr)             0.111766   0.367035   0.305    0.761\n",
              "scale(englsr)            -0.443238   0.415905  -1.066    0.287\n",
              "factor(crs_term)2016     -0.220520   0.884561  -0.249    0.803\n",
              "factor(crs_term)2017     -0.506377   0.814952  -0.621    0.534\n",
              "\n",
              "(Dispersion parameter for binomial family taken to be 1)\n",
              "\n",
              "    Null deviance: 67.923  on 52  degrees of freedom\n",
              "Residual deviance: 65.833  on 43  degrees of freedom\n",
              "  (4 observations deleted due to missingness)\n",
              "AIC: 85.833\n",
              "\n",
              "Number of Fisher Scoring iterations: 4\n"
            ]
          },
          "metadata": {
            "tags": []
          }
        }
      ]
    },
    {
      "cell_type": "code",
      "metadata": {
        "id": "0A6h3SQSReBV",
        "colab_type": "code",
        "outputId": "9fcf0fdb-d936-4729-b475-3ca4225cf8b4",
        "colab": {}
      },
      "source": [
        "# 2b. Took AP, include AP score\n",
        "physsr5 <- lm(numgrade~aprealskipper_Phys1 + apscore_Phys + \n",
        "              factor(firstgen) + factor(lowincomeflag) + factor(gender) + factor(ethniccode_cat2) +\n",
        "               hsgpa_z + scale(mathsr) + scale(englsr) + factor(crs_term), \n",
        "              data=phys_tookap)\n",
        "summary(physsr5)\n",
        "\n",
        "#std_beta(physsr5)\n"
      ],
      "execution_count": 0,
      "outputs": [
        {
          "output_type": "display_data",
          "data": {
            "text/plain": [
              "\n",
              "Call:\n",
              "lm(formula = numgrade ~ aprealskipper_Phys1 + apscore_Phys + \n",
              "    factor(firstgen) + factor(lowincomeflag) + factor(gender) + \n",
              "    factor(ethniccode_cat2) + hsgpa_z + scale(mathsr) + scale(englsr) + \n",
              "    factor(crs_term), data = phys_tookap)\n",
              "\n",
              "Residuals:\n",
              "     Min       1Q   Median       3Q      Max \n",
              "-2.49243 -0.44263  0.03635  0.52558  1.55960 \n",
              "\n",
              "Coefficients:\n",
              "                         Estimate Std. Error t value Pr(>|t|)    \n",
              "(Intercept)               3.22456    0.19362  16.654  < 2e-16 ***\n",
              "aprealskipper_Phys1      -0.12087    0.16635  -0.727   0.4684    \n",
              "apscore_Phys             -0.07923    0.04877  -1.625   0.1059    \n",
              "factor(firstgen)1        -0.33075    0.14811  -2.233   0.0267 *  \n",
              "factor(lowincomeflag)2    0.16505    0.14279   1.156   0.2492    \n",
              "factor(gender)1          -0.29347    0.14009  -2.095   0.0375 *  \n",
              "factor(ethniccode_cat2)1 -0.17276    0.13937  -1.240   0.2167    \n",
              "hsgpa_z                   0.29367    0.07107   4.132 5.42e-05 ***\n",
              "scale(mathsr)             0.36786    0.06173   5.959 1.25e-08 ***\n",
              "scale(englsr)            -0.10956    0.06855  -1.598   0.1117    \n",
              "factor(crs_term)2016      0.19426    0.13469   1.442   0.1509    \n",
              "factor(crs_term)2017      0.14173    0.13008   1.090   0.2773    \n",
              "---\n",
              "Signif. codes:  0 ‘***’ 0.001 ‘**’ 0.01 ‘*’ 0.05 ‘.’ 0.1 ‘ ’ 1\n",
              "\n",
              "Residual standard error: 0.7447 on 186 degrees of freedom\n",
              "  (8 observations deleted due to missingness)\n",
              "Multiple R-squared:  0.3382,\tAdjusted R-squared:  0.2991 \n",
              "F-statistic: 8.641 on 11 and 186 DF,  p-value: 2.795e-12\n"
            ]
          },
          "metadata": {
            "tags": []
          }
        }
      ]
    },
    {
      "cell_type": "code",
      "metadata": {
        "id": "FWMlClQmReBX",
        "colab_type": "code",
        "outputId": "d5d274fa-6872-4cff-cd90-2a3c7990bac2",
        "colab": {}
      },
      "source": [
        "# 2c. Full sample, include AP score\n",
        "physsr6 <- lm(numgrade~aprealskipper_Phys1 + apscore_Phys + \n",
        "              factor(firstgen) + factor(lowincomeflag) + factor(gender) + factor(ethniccode_cat2) +\n",
        "               hsgpa_z + scale(mathsr) + scale(englsr) + factor(crs_term), data=physicsap_unique)\n",
        "summary(physsr6)\n",
        "#std_beta(physsr6)"
      ],
      "execution_count": 0,
      "outputs": [
        {
          "output_type": "display_data",
          "data": {
            "text/plain": [
              "\n",
              "Call:\n",
              "lm(formula = numgrade ~ aprealskipper_Phys1 + apscore_Phys + \n",
              "    factor(firstgen) + factor(lowincomeflag) + factor(gender) + \n",
              "    factor(ethniccode_cat2) + hsgpa_z + scale(mathsr) + scale(englsr) + \n",
              "    factor(crs_term), data = physicsap_unique)\n",
              "\n",
              "Residuals:\n",
              "    Min      1Q  Median      3Q     Max \n",
              "-3.1494 -0.5106  0.0667  0.6141  2.4813 \n",
              "\n",
              "Coefficients:\n",
              "                         Estimate Std. Error t value Pr(>|t|)    \n",
              "(Intercept)               2.66814    0.05638  47.322  < 2e-16 ***\n",
              "aprealskipper_Phys1      -0.28169    0.17561  -1.604 0.108866    \n",
              "apscore_Phys              0.06174    0.02399   2.573 0.010147 *  \n",
              "factor(firstgen)1        -0.11256    0.04685  -2.403 0.016379 *  \n",
              "factor(lowincomeflag)2    0.08155    0.04758   1.714 0.086695 .  \n",
              "factor(gender)1          -0.16867    0.04588  -3.676 0.000243 ***\n",
              "factor(ethniccode_cat2)1 -0.11296    0.05174  -2.183 0.029151 *  \n",
              "hsgpa_z                   0.22380    0.02446   9.150  < 2e-16 ***\n",
              "scale(mathsr)             0.22082    0.02435   9.068  < 2e-16 ***\n",
              "scale(englsr)             0.02560    0.02453   1.044 0.296776    \n",
              "factor(crs_term)2016     -0.08468    0.04989  -1.697 0.089812 .  \n",
              "factor(crs_term)2017      0.14578    0.04781   3.049 0.002328 ** \n",
              "---\n",
              "Signif. codes:  0 ‘***’ 0.001 ‘**’ 0.01 ‘*’ 0.05 ‘.’ 0.1 ‘ ’ 1\n",
              "\n",
              "Residual standard error: 0.8434 on 1812 degrees of freedom\n",
              "  (43 observations deleted due to missingness)\n",
              "Multiple R-squared:  0.1607,\tAdjusted R-squared:  0.1556 \n",
              "F-statistic: 31.54 on 11 and 1812 DF,  p-value: < 2.2e-16\n"
            ]
          },
          "metadata": {
            "tags": []
          }
        }
      ]
    },
    {
      "cell_type": "code",
      "metadata": {
        "id": "KQ6-TL4xReBZ",
        "colab_type": "code",
        "outputId": "d6968ef2-6c47-4b9d-a952-c4dfcf24990e",
        "colab": {}
      },
      "source": [
        "# 2d. 2nd course grade; took AP sample for those who actually skip\n",
        "physsr <- lm(numgrade~aprealskipper_Phys1 + factor(firstgen) + factor(lowincomeflag) + factor(gender) + factor(ethniccode_cat2) +\n",
        "               hsgpa_z + scale(mathsr) + scale(englsr) + factor(crs_term), \n",
        "             data=phys_tookap)\n",
        "summary(physsr)\n",
        "\n",
        "#std_beta(physsr)"
      ],
      "execution_count": 0,
      "outputs": [
        {
          "output_type": "display_data",
          "data": {
            "text/plain": [
              "\n",
              "Call:\n",
              "lm(formula = numgrade ~ aprealskipper_Phys1 + factor(firstgen) + \n",
              "    factor(lowincomeflag) + factor(gender) + factor(ethniccode_cat2) + \n",
              "    hsgpa_z + scale(mathsr) + scale(englsr) + factor(crs_term), \n",
              "    data = phys_tookap)\n",
              "\n",
              "Residuals:\n",
              "     Min       1Q   Median       3Q      Max \n",
              "-2.44608 -0.44240  0.09435  0.54090  1.61489 \n",
              "\n",
              "Coefficients:\n",
              "                         Estimate Std. Error t value Pr(>|t|)    \n",
              "(Intercept)               3.03198    0.15376  19.718  < 2e-16 ***\n",
              "aprealskipper_Phys1      -0.26510    0.14130  -1.876   0.0622 .  \n",
              "factor(firstgen)1        -0.32846    0.14875  -2.208   0.0285 *  \n",
              "factor(lowincomeflag)2    0.18255    0.14301   1.277   0.2034    \n",
              "factor(gender)1          -0.30264    0.14059  -2.153   0.0326 *  \n",
              "factor(ethniccode_cat2)1 -0.19301    0.13942  -1.384   0.1679    \n",
              "hsgpa_z                   0.30141    0.07122   4.232 3.62e-05 ***\n",
              "scale(mathsr)             0.36440    0.06196   5.881 1.85e-08 ***\n",
              "scale(englsr)            -0.10394    0.06876  -1.512   0.1323    \n",
              "factor(crs_term)2016      0.17562    0.13478   1.303   0.1942    \n",
              "factor(crs_term)2017      0.13738    0.13062   1.052   0.2942    \n",
              "---\n",
              "Signif. codes:  0 ‘***’ 0.001 ‘**’ 0.01 ‘*’ 0.05 ‘.’ 0.1 ‘ ’ 1\n",
              "\n",
              "Residual standard error: 0.748 on 187 degrees of freedom\n",
              "  (8 observations deleted due to missingness)\n",
              "Multiple R-squared:  0.3288,\tAdjusted R-squared:  0.2929 \n",
              "F-statistic: 9.161 on 10 and 187 DF,  p-value: 2.915e-12\n"
            ]
          },
          "metadata": {
            "tags": []
          }
        }
      ]
    },
    {
      "cell_type": "code",
      "metadata": {
        "id": "ZSnPzwxaReBc",
        "colab_type": "code",
        "outputId": "71af7362-8d05-4b13-ee6c-bad53fa253f0",
        "colab": {}
      },
      "source": [
        "#2e. 2nd course grade; everyone, actually skipped\n",
        "physsr2 <- lm(numgrade~aprealskipper_Phys1 + factor(firstgen) + factor(lowincomeflag) + factor(gender) + factor(ethniccode_cat2) +\n",
        "               hsgpa_z + scale(mathsr) + scale(englsr) + factor(crs_term), data=physicsap_unique)\n",
        "summary(physsr2)\n",
        "\n",
        "#std_beta(physsr2)"
      ],
      "execution_count": 0,
      "outputs": [
        {
          "output_type": "display_data",
          "data": {
            "text/plain": [
              "\n",
              "Call:\n",
              "lm(formula = numgrade ~ aprealskipper_Phys1 + factor(firstgen) + \n",
              "    factor(lowincomeflag) + factor(gender) + factor(ethniccode_cat2) + \n",
              "    hsgpa_z + scale(mathsr) + scale(englsr) + factor(crs_term), \n",
              "    data = physicsap_unique)\n",
              "\n",
              "Residuals:\n",
              "    Min      1Q  Median      3Q     Max \n",
              "-3.1801 -0.5076  0.0732  0.6111  2.4705 \n",
              "\n",
              "Coefficients:\n",
              "                         Estimate Std. Error t value Pr(>|t|)    \n",
              "(Intercept)               2.68068    0.05626  47.649  < 2e-16 ***\n",
              "aprealskipper_Phys1      -0.02452    0.14462  -0.170 0.865382    \n",
              "factor(firstgen)1        -0.11580    0.04690  -2.469 0.013640 *  \n",
              "factor(lowincomeflag)2    0.08711    0.04760   1.830 0.067409 .  \n",
              "factor(gender)1          -0.17006    0.04594  -3.701 0.000221 ***\n",
              "factor(ethniccode_cat2)1 -0.10928    0.05180  -2.110 0.035018 *  \n",
              "hsgpa_z                   0.22130    0.02448   9.041  < 2e-16 ***\n",
              "scale(mathsr)             0.22723    0.02426   9.366  < 2e-16 ***\n",
              "scale(englsr)             0.02753    0.02456   1.121 0.262462    \n",
              "factor(crs_term)2016     -0.08226    0.04996  -1.647 0.099801 .  \n",
              "factor(crs_term)2017      0.14420    0.04788   3.012 0.002633 ** \n",
              "---\n",
              "Signif. codes:  0 ‘***’ 0.001 ‘**’ 0.01 ‘*’ 0.05 ‘.’ 0.1 ‘ ’ 1\n",
              "\n",
              "Residual standard error: 0.8448 on 1813 degrees of freedom\n",
              "  (43 observations deleted due to missingness)\n",
              "Multiple R-squared:  0.1576,\tAdjusted R-squared:  0.153 \n",
              "F-statistic: 33.93 on 10 and 1813 DF,  p-value: < 2.2e-16\n"
            ]
          },
          "metadata": {
            "tags": []
          }
        }
      ]
    },
    {
      "cell_type": "code",
      "metadata": {
        "id": "tAmN062xReBd",
        "colab_type": "code",
        "outputId": "d324e753-40b8-450f-b626-2be9145bf005",
        "colab": {}
      },
      "source": [
        "#2f. Skip eligible for those who took AP\n",
        "physsrsr3 <- lm(numgrade~apskipper_Phys1 + \n",
        "                factor(firstgen) + factor(lowincomeflag) + factor(gender) + factor(ethniccode_cat2) +\n",
        "               hsgpa_z + scale(mathsr) + scale(englsr) + factor(crs_term), data=phys_tookap)\n",
        "summary(physsrsr3)\n",
        "\n",
        "#std_beta(physsrsr3)"
      ],
      "execution_count": 0,
      "outputs": [
        {
          "output_type": "display_data",
          "data": {
            "text/plain": [
              "\n",
              "Call:\n",
              "lm(formula = numgrade ~ apskipper_Phys1 + factor(firstgen) + \n",
              "    factor(lowincomeflag) + factor(gender) + factor(ethniccode_cat2) + \n",
              "    hsgpa_z + scale(mathsr) + scale(englsr) + factor(crs_term), \n",
              "    data = phys_tookap)\n",
              "\n",
              "Residuals:\n",
              "     Min       1Q   Median       3Q      Max \n",
              "-2.46542 -0.44816  0.07446  0.52640  1.60620 \n",
              "\n",
              "Coefficients:\n",
              "                         Estimate Std. Error t value Pr(>|t|)    \n",
              "(Intercept)               3.03545    0.15388  19.726  < 2e-16 ***\n",
              "apskipper_Phys1          -0.23505    0.12195  -1.927   0.0554 .  \n",
              "factor(firstgen)1        -0.32540    0.14863  -2.189   0.0298 *  \n",
              "factor(lowincomeflag)2    0.18000    0.14301   1.259   0.2097    \n",
              "factor(gender)1          -0.30483    0.14060  -2.168   0.0314 *  \n",
              "factor(ethniccode_cat2)1 -0.18513    0.13952  -1.327   0.1862    \n",
              "hsgpa_z                   0.30204    0.07119   4.243 3.47e-05 ***\n",
              "scale(mathsr)             0.36312    0.06195   5.862 2.03e-08 ***\n",
              "scale(englsr)            -0.09901    0.06857  -1.444   0.1505    \n",
              "factor(crs_term)2016      0.18466    0.13481   1.370   0.1724    \n",
              "factor(crs_term)2017      0.14771    0.13076   1.130   0.2601    \n",
              "---\n",
              "Signif. codes:  0 ‘***’ 0.001 ‘**’ 0.01 ‘*’ 0.05 ‘.’ 0.1 ‘ ’ 1\n",
              "\n",
              "Residual standard error: 0.7476 on 187 degrees of freedom\n",
              "  (8 observations deleted due to missingness)\n",
              "Multiple R-squared:  0.3295,\tAdjusted R-squared:  0.2936 \n",
              "F-statistic:  9.19 on 10 and 187 DF,  p-value: 2.671e-12\n"
            ]
          },
          "metadata": {
            "tags": []
          }
        }
      ]
    },
    {
      "cell_type": "code",
      "metadata": {
        "id": "Jy8RjFmNReBg",
        "colab_type": "code",
        "outputId": "915a46c0-7475-4563-fd07-b4dd03bd3051",
        "colab": {}
      },
      "source": [
        "#2g. Skip eligible, full sample\n",
        "physsr4<- lm(numgrade~apskipper_Phys1 + \n",
        "                factor(firstgen) + factor(lowincomeflag) + factor(gender) + factor(ethniccode_cat2) +\n",
        "               hsgpa_z + scale(mathsr) + scale(englsr) + factor(crs_term), data=physicsap_unique)\n",
        "summary(physsr4)\n",
        "\n",
        "#std_beta(physsr4)"
      ],
      "execution_count": 0,
      "outputs": [
        {
          "output_type": "display_data",
          "data": {
            "text/plain": [
              "\n",
              "Call:\n",
              "lm(formula = numgrade ~ apskipper_Phys1 + factor(firstgen) + \n",
              "    factor(lowincomeflag) + factor(gender) + factor(ethniccode_cat2) + \n",
              "    hsgpa_z + scale(mathsr) + scale(englsr) + factor(crs_term), \n",
              "    data = physicsap_unique)\n",
              "\n",
              "Residuals:\n",
              "    Min      1Q  Median      3Q     Max \n",
              "-3.1783 -0.5144  0.0725  0.6069  2.4708 \n",
              "\n",
              "Coefficients:\n",
              "                         Estimate Std. Error t value Pr(>|t|)    \n",
              "(Intercept)               2.67972    0.05626  47.631  < 2e-16 ***\n",
              "apskipper_Phys1           0.01653    0.11833   0.140 0.888941    \n",
              "factor(firstgen)1        -0.11540    0.04691  -2.460 0.013974 *  \n",
              "factor(lowincomeflag)2    0.08715    0.04760   1.831 0.067307 .  \n",
              "factor(gender)1          -0.16945    0.04595  -3.688 0.000233 ***\n",
              "factor(ethniccode_cat2)1 -0.10959    0.05181  -2.115 0.034537 *  \n",
              "hsgpa_z                   0.22124    0.02448   9.039  < 2e-16 ***\n",
              "scale(mathsr)             0.22693    0.02427   9.351  < 2e-16 ***\n",
              "scale(englsr)             0.02749    0.02456   1.119 0.263078    \n",
              "factor(crs_term)2016     -0.08235    0.04996  -1.648 0.099469 .  \n",
              "factor(crs_term)2017      0.14411    0.04788   3.010 0.002652 ** \n",
              "---\n",
              "Signif. codes:  0 ‘***’ 0.001 ‘**’ 0.01 ‘*’ 0.05 ‘.’ 0.1 ‘ ’ 1\n",
              "\n",
              "Residual standard error: 0.8448 on 1813 degrees of freedom\n",
              "  (43 observations deleted due to missingness)\n",
              "Multiple R-squared:  0.1576,\tAdjusted R-squared:  0.153 \n",
              "F-statistic: 33.93 on 10 and 1813 DF,  p-value: < 2.2e-16\n"
            ]
          },
          "metadata": {
            "tags": []
          }
        }
      ]
    },
    {
      "cell_type": "code",
      "metadata": {
        "id": "FYvSC2aeReBh",
        "colab_type": "code",
        "colab": {}
      },
      "source": [
        ""
      ],
      "execution_count": 0,
      "outputs": []
    }
  ]
}
