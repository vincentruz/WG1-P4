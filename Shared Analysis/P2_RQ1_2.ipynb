{
  "nbformat": 4,
  "nbformat_minor": 0,
  "metadata": {
    "kernelspec": {
      "display_name": "R",
      "language": "R",
      "name": "ir"
    },
    "language_info": {
      "codemirror_mode": "r",
      "file_extension": ".r",
      "mimetype": "text/x-r-source",
      "name": "R",
      "pygments_lexer": "r",
      "version": "3.6.1"
    },
    "colab": {
      "name": "P2_RQ1-2.ipynb",
      "provenance": [],
      "collapsed_sections": [],
      "include_colab_link": true
    }
  },
  "cells": [
    {
      "cell_type": "markdown",
      "metadata": {
        "id": "view-in-github",
        "colab_type": "text"
      },
      "source": [
        "<a href=\"https://colab.research.google.com/github/seismic2020/WG1-P4/blob/master/Shared%20Analysis/P2_RQ1_2.ipynb\" target=\"_parent\"><img src=\"https://colab.research.google.com/assets/colab-badge.svg\" alt=\"Open In Colab\"/></a>"
      ]
    },
    {
      "cell_type": "code",
      "metadata": {
        "id": "WrJrwrtHReAF",
        "colab_type": "code",
        "colab": {}
      },
      "source": [
        "# Before running this code, check https://github.com/seismic2020/WG1-P4/blob/master/Analysis-Workflow.md for variable naming and data cleaning steps."
      ],
      "execution_count": 0,
      "outputs": []
    },
    {
      "cell_type": "code",
      "metadata": {
        "id": "kzhcUw9GReAK",
        "colab_type": "code",
        "colab": {}
      },
      "source": [
        "# Load libraries\n",
        "if (!require(\"pacman\")) install.packages(\"pacman\")\n",
        "library(pacman)\n",
        "pacman::p_load(\"tidyverse\", \"psych\", \"data.table\",  # Data wrangling and descriptive stats\n",
        "               \"epiDisplay\", \"sjstats\")             # Reporting Odds Ratio and Std. Betas"
      ],
      "execution_count": 0,
      "outputs": []
    },
    {
      "cell_type": "code",
      "metadata": {
        "id": "lpQDM_DjReAQ",
        "colab_type": "code",
        "colab": {}
      },
      "source": [
        "# Load full dataset\n",
        "df_full <- read.csv(\"~/YOUR FILE PATH HERE.csv\")"
      ],
      "execution_count": 0,
      "outputs": []
    },
    {
      "cell_type": "code",
      "metadata": {
        "id": "vgCIIfadReAT",
        "colab_type": "code",
        "colab": {}
      },
      "source": [
        "# View data \n",
        "# Note: Variable names should follow SEISMIC conventions found here: https://docs.google.com/spreadsheets/d/1SzU4PcIEUsAGnKKyAcugHO2O2aZW29sf9a_cC-FAElk/edit#gid=1679989021\n",
        "names(df_full)\n",
        "head(df_full)"
      ],
      "execution_count": 0,
      "outputs": []
    },
    {
      "cell_type": "code",
      "metadata": {
        "id": "woZXtHQrhSr3",
        "colab_type": "code",
        "colab": {}
      },
      "source": [
        "# Filter for student level inclusion/exclusion criteria\n",
        "df_full <- df_full %>%\n",
        "  # Include\n",
        "  filter(transfer == 0) %>%\n",
        "  filter(tookcourse_2 == 1) %>%\n",
        "  filter(cohort >= 2013 & cohort <= 2018) %>%\n",
        "  # Exclude\n",
        "  filter(international == 0)"
      ],
      "execution_count": 0,
      "outputs": []
    },
    {
      "cell_type": "code",
      "metadata": {
        "id": "7_z6Qx3zomfP",
        "colab_type": "code",
        "colab": {}
      },
      "source": [
        "# Create subset dataframes for each analysis sample (for each discipline)"
      ],
      "execution_count": 0,
      "outputs": []
    },
    {
      "cell_type": "code",
      "metadata": {
        "id": "n2pS66U_ReAb",
        "colab_type": "code",
        "colab": {}
      },
      "source": [
        "# Bio\n",
        "# Took 2nd course in sequence\n",
        "df_bio2 <- df_clean %>%\n",
        "  subset(discipline == \"BIO\") %>%\n",
        "  subset(apyear >= 2013)\n",
        "# Took AP \n",
        "df_bio_aptakers <- df_clean %>%\n",
        "  subset(discipline == \"BIO\") %>%\n",
        "  subset(aptaker == 1)\n",
        "# Skip eligible\n",
        "df_bio_skeligible <- df_clean %>%\n",
        "  subset(discipline == \"BIO\") %>%\n",
        "  subset(eligible_to_skip == 1)\n",
        "\n",
        "# Chem\n",
        "# Took 2nd course in sequence\n",
        "df_chem2 <- df_clean %>%\n",
        "  subset(discipline == \"CHEM\") %>%\n",
        "  subset(apyear >= 2013)\n",
        "# Took AP \n",
        "df_chem_aptakers <- df_clean %>%\n",
        "  subset(discipline == \"CHEM\") %>%\n",
        "  subset(aptaker == 1)\n",
        "# Skip eligible\n",
        "df_chem_skeligible <- df_clean %>%\n",
        "  subset(discipline == \"CHEM\") %>%\n",
        "  subset(eligible_to_skip == 1)\n",
        "\n",
        "# Phys\n",
        "# Took 2nd course in sequence\n",
        "df_phys2 <- df_clean %>%\n",
        "  subset(discipline == \"PHYS\") %>%\n",
        "  subset(apyear >= 2013)\n",
        "# Took AP \n",
        "df_phys_aptakers <- df_clean %>%\n",
        "  subset(discipline == \"PHYS\") %>%\n",
        "  subset(aptaker == 1)\n",
        "# Skip eligible\n",
        "df_phys_skeligible <- df_clean %>%\n",
        "  subset(discipline == \"PHYS\") %>%\n",
        "  subset(eligible_to_skip == 1)\n"
      ],
      "execution_count": 0,
      "outputs": []
    },
    {
      "cell_type": "code",
      "metadata": {
        "id": "QXkV77FVoiuE",
        "colab_type": "code",
        "colab": {}
      },
      "source": [
        "# Run Models (for each discipline)\n",
        "# Note: For model specifications, check: https://docs.google.com/spreadsheets/d/1rN8W_iz1mr7lEzBGfdTZHa45wKOSLiSF8VEpChCPsmE/edit#gid=129222174"
      ],
      "execution_count": 0,
      "outputs": []
    },
    {
      "cell_type": "code",
      "metadata": {
        "id": "aC0ZtaFfReAo",
        "colab_type": "code",
        "colab": {}
      },
      "source": [
        "# BIO\n",
        "# RQ1a - Who takes AP?\n",
        "bio_rq1a <- glm(aptaker ~ \n",
        "              factor(firstgen) + factor(lowincomeflag) + factor(gender) + factor(ethniccode_cat) +\n",
        "              scale(hsgpa) + scale(mathsr) + scale(englsr) + factor(cohort), \n",
        "              data=df_bio2, binomial(link=\"logit\"))\n",
        "summary(bio_rq1a)\n",
        "robustse(bio_rq1a, coef=\"odd.ratio\") #robustse is a command from sjstats package\n",
        "logistic.display(bio_rq1a)"
      ],
      "execution_count": 0,
      "outputs": []
    },
    {
      "cell_type": "code",
      "metadata": {
        "id": "-gMH8kZtReAq",
        "colab_type": "code",
        "colab": {}
      },
      "source": [
        "# RQ1b - Who gets what score on AP exams? (DV: apscore, Sample: Took AP)\n",
        "bio_rq1b <- lm(scale(apscore) ~ \n",
        "              factor(firstgen) + factor(lowincomeflag) + factor(gender) + factor(ethniccode_cat) +\n",
        "              scale(hsgpa) + scale(mathsr) + scale(englsr) + factor(cohort), \n",
        "              data=df_bio_aptakers)\n",
        "summary(bio_rq1b)\n",
        "std_beta(bio_rq1b) # from sjstats package"
      ],
      "execution_count": 0,
      "outputs": []
    },
    {
      "cell_type": "code",
      "metadata": {
        "id": "CTsK6OQvReAu",
        "colab_type": "code",
        "colab": {}
      },
      "source": [
        "# RQ1c.i - Of everyone, who earns an AP score that makes them eligible to skip? \n",
        "bio_rq1ci <- glm(eligible_to_skip ~ factor(firstgen) + factor(lowincomeflag) + factor(gender) + factor(ethniccode_cat) +\n",
        "                scale(hsgpa) + scale(mathsr) + scale(englsr) + factor(cohort), \n",
        "                data=df_bio2, binomial(link=\"logit\"))\n",
        "summary(bio_rq1ci)\n",
        "logistic.display(bio_rq1ci)\n",
        "#robustse(bio_rq1ci, coef=\"odd.ratio\")"
      ],
      "execution_count": 0,
      "outputs": []
    },
    {
      "cell_type": "code",
      "metadata": {
        "id": "umgDo0TzReAs",
        "colab_type": "code",
        "colab": {}
      },
      "source": [
        "# RQ1c.ii - Of those who take AP, who earns an AP score that makes them eligible to skip?\n",
        "bio_rq1cii <- glm(eligible_to_skip ~ \n",
        "              factor(firstgen) + factor(lowincomeflag) + factor(gender) + factor(ethniccode_cat) +\n",
        "              scale(hsgpa) + scale(mathsr) + scale(englsr) + factor(cohort), \n",
        "              data=df_bio_aptakers, binomial(link=\"logit\"))\n",
        "summary(bio_rq1cii)\n",
        "logistic.display(bio_rq1cii)\n",
        "#robustse(bio_rq1cii, coef=\"odd.ratio\")"
      ],
      "execution_count": 0,
      "outputs": []
    },
    {
      "cell_type": "code",
      "metadata": {
        "id": "ce3xdH_eReAw",
        "colab_type": "code",
        "colab": {}
      },
      "source": [
        "# RQ2a - Of everyone who was eligible to skip, who actually skipped?\n",
        "bio_rq2a <- glm(eligible_to_skip ~ \n",
        "               factor(firstgen) + factor(lowincomeflag) + factor(gender) + factor(ethniccode_cat) +\n",
        "               scale(hsgpa) + scale(mathsr) + scale(englsr) + factor(crs_term), \n",
        "               data=df_bio_skeligible, binomial(link=\"logit\"))\n",
        "summary(bio_rq2a)\n",
        "logistic.display(bio_rq2a)\n",
        "#robustse(bio_rq2a, coef=\"odd.ratio\")"
      ],
      "execution_count": 0,
      "outputs": []
    },
    {
      "cell_type": "code",
      "metadata": {
        "id": "2k5nRXJxReAz",
        "colab_type": "code",
        "colab": {}
      },
      "source": [
        "# RQ2b - Of those who were eligible to skip, what was the effect of skipping on 2nd course grade (controlling for AP score)?\n",
        "bio_rq2b <- lm(scale(numgrade) ~ factor(skipped_course) + scale(apscore) + \n",
        "              factor(firstgen) + factor(lowincomeflag) + factor(gender) + factor(ethniccode_cat) + \n",
        "              scale(hsgpa) + scale(mathsr) + scale(englsr) + factor(crs_term), \n",
        "              data=df_bio_aptakers)\n",
        "summary(bio_rq2b)\n",
        "#std_beta(bio_rq2b)"
      ],
      "execution_count": 0,
      "outputs": []
    },
    {
      "cell_type": "code",
      "metadata": {
        "id": "ow16x74PReA1",
        "colab_type": "code",
        "colab": {}
      },
      "source": [
        "# RQ2c - Of everyone, what grade did they get in the 2nd course (controlling for AP score)? \n",
        "bio_rq2c <- lm(scale(numgrade) ~ factor(skipped_course) + scale(apscore) + \n",
        "              factor(firstgen) + factor(lowincomeflag) + factor(gender) + factor(ethniccode_cat) + \n",
        "              scale(hsgpa) + scale(mathsr) + scale(englsr) + factor(crs_term), \n",
        "              data=df_bio2)\n",
        "summary(bio_rq2c)\n",
        "#std_beta(bio_rq2c)"
      ],
      "execution_count": 0,
      "outputs": []
    },
    {
      "cell_type": "code",
      "metadata": {
        "id": "8Oh5p4NVReA3",
        "colab_type": "code",
        "colab": {}
      },
      "source": [
        "# RQ2d - Of everyone who took AP, what grade did they get in the 2nd course?\n",
        "bio_rq2d <- lm(scale(numgrade) ~ factor(skipped_course) + \n",
        "              factor(firstgen) + factor(lowincomeflag) + factor(gender) + factor(ethniccode_cat) + \n",
        "              scale(hsgpa) + scale(mathsr) + scale(englsr) + factor(crs_term), \n",
        "              data=df_bio_aptakers)\n",
        "summary(bio_rq2d)\n",
        "#std_beta(bio_rq2d)"
      ],
      "execution_count": 0,
      "outputs": []
    },
    {
      "cell_type": "code",
      "metadata": {
        "id": "CQ0NBMpEReA5",
        "colab_type": "code",
        "colab": {}
      },
      "source": [
        "# RQ2e - Of everyone who took AP and skipped, what grade did they get in the 2nd course?\n",
        "bio_rq2e <- lm(scale(numgrade) ~ factor(skipped_course) +\n",
        "              factor(firstgen) + factor(lowincomeflag) + factor(gender) + factor(ethniccode_cat) + \n",
        "              scale(hsgpa) + scale(mathsr) + scale(englsr) + factor(crs_term), \n",
        "              data=df_bio2)\n",
        "summary(bio_rq2d)\n",
        "#std_beta(bio_rq2d)"
      ],
      "execution_count": 0,
      "outputs": []
    },
    {
      "cell_type": "code",
      "metadata": {
        "id": "YM9_s168ReA7",
        "colab_type": "code",
        "colab": {}
      },
      "source": [
        "# RQ2f - Course grade, Skip eligible for those who took AP\n",
        "bio_rq2f <- lm(scale(numgrade) ~ factor(eligible_to_skip) + \n",
        "            factor(firstgen) + factor(lowincomeflag) + factor(gender) + factor(ethniccode_cat) + \n",
        "            scale(hsgpa) + scale(mathsr) + scale(englsr) + factor(crs_term), \n",
        "            data=df_bio_aptakers)\n",
        "summary(bio_rq2f)\n",
        "\n",
        "#std_beta(bio_rq2f)"
      ],
      "execution_count": 0,
      "outputs": []
    },
    {
      "cell_type": "code",
      "metadata": {
        "id": "7FR09PwcReA9",
        "colab_type": "code",
        "colab": {}
      },
      "source": [
        "# RQ2g -  Skip eligible, full sample\n",
        "bio_rq2g<- lm(scale(numgrade) ~ factor(eligible_to_skip) + \n",
        "            factor(firstgen) + factor(lowincomeflag) + factor(gender) + factor(ethniccode_cat) + \n",
        "            scale(hsgpa) + scale(mathsr) + scale(englsr) + factor(crs_term), \n",
        "            data=df_bio2)\n",
        "summary(bio_rq2g)\n",
        "#std_beta(bio_rq2g)"
      ],
      "execution_count": 0,
      "outputs": []
    },
    {
      "cell_type": "code",
      "metadata": {
        "id": "R6hcvhSvReBD",
        "colab_type": "code",
        "colab": {}
      },
      "source": [
        "# CHEM\n",
        "# RQ1a - Who takes AP?\n",
        "chem_rq1a <- glm(aptaker ~ factor(firstgen) + factor(lowincomeflag) + factor(gender) + factor(ethniccode_cat) +\n",
        "                  scale(hsgpa) + scale(mathsr) + scale(englsr) + factor(cohort), \n",
        "                  data=df_chem2, binomial(link=\"logit\"))\n",
        "summary(chem_rq1a)\n",
        "robustse(chem_rq1a, coef=\"odd.ratio\") #robustse is a command from sjstats package\n",
        "logistic.display(chem_rq1a)"
      ],
      "execution_count": 0,
      "outputs": []
    },
    {
      "cell_type": "code",
      "metadata": {
        "id": "atRn-4T61Jlw",
        "colab_type": "code",
        "colab": {}
      },
      "source": [
        "# RQ1b - Who gets what score on AP exams? (DV: apscore, Sample: Took AP)\n",
        "chem_rq1b <- lm(scale(apscore) ~ \n",
        "              factor(firstgen) + factor(lowincomeflag) + factor(gender) + factor(ethniccode_cat) +\n",
        "              scale(hsgpa) + scale(mathsr) + scale(englsr) + factor(cohort), \n",
        "              data=df_chem_aptakers)\n",
        "summary(chem_rq1b)\n",
        "std_beta(chem_rq1b) # from sjstats package"
      ],
      "execution_count": 0,
      "outputs": []
    },
    {
      "cell_type": "code",
      "metadata": {
        "id": "8t98D0MQ1Mc5",
        "colab_type": "code",
        "colab": {}
      },
      "source": [
        "# RQ1c.i - Of everyone, who earns an AP score that makes them eligible to skip? \n",
        "chem_rq1ci <- glm(eligible_to_skip ~ factor(firstgen) + factor(lowincomeflag) + factor(gender) + factor(ethniccode_cat) +\n",
        "                scale(hsgpa) + scale(mathsr) + scale(englsr) + factor(cohort), \n",
        "                data=df_chem2, binomial(link=\"logit\"))\n",
        "summary(chem_rq1ci)\n",
        "logistic.display(chem_rq1ci)\n",
        "#robustse(chem_rq1ci, coef=\"odd.ratio\")"
      ],
      "execution_count": 0,
      "outputs": []
    },
    {
      "cell_type": "code",
      "metadata": {
        "id": "Z2p0A3Vd1OyX",
        "colab_type": "code",
        "colab": {}
      },
      "source": [
        "# RQ1c.ii - Of those who take AP, who earns an AP score that makes them eligible to skip?\n",
        "chem_rq1cii <- glm(eligible_to_skip ~ \n",
        "              factor(firstgen) + factor(lowincomeflag) + factor(gender) + factor(ethniccode_cat) +\n",
        "              scale(hsgpa) + scale(mathsr) + scale(englsr) + factor(cohort), \n",
        "              data=df_chem_aptakers, binomial(link=\"logit\"))\n",
        "summary(chem_rq1cii)\n",
        "logistic.display(chem_rq1cii)\n",
        "#robustse(rq1ci, coef=\"odd.ratio\")"
      ],
      "execution_count": 0,
      "outputs": []
    },
    {
      "cell_type": "code",
      "metadata": {
        "id": "wKawzul-1RFj",
        "colab_type": "code",
        "colab": {}
      },
      "source": [
        "# RQ2a - Of everyone who was eligible to skip, who actually skipped?\n",
        "chem_rq2a <- glm(eligible_to_skip ~ \n",
        "               factor(firstgen) + factor(lowincomeflag) + factor(gender) + factor(ethniccode_cat) +\n",
        "               scale(hsgpa) + scale(mathsr) + scale(englsr) + factor(crs_term), \n",
        "               data=df_chem_skeligible, binomial(link=\"logit\"))\n",
        "summary(chem_rq2a)\n",
        "logistic.display(chem_rq2a)\n",
        "#robustse(chem_rq2a, coef=\"odd.ratio\")"
      ],
      "execution_count": 0,
      "outputs": []
    },
    {
      "cell_type": "code",
      "metadata": {
        "id": "gk69eY553Hjb",
        "colab_type": "code",
        "colab": {}
      },
      "source": [
        "# RQ2b - Of those who were eligible to skip, what was the effect of skipping on 2nd course grade (controlling for AP score)?\n",
        "chem_rq2b <- lm(scale(numgrade) ~ factor(skipped_course) + scale(apscore) + \n",
        "              factor(firstgen) + factor(lowincomeflag) + factor(gender) + factor(ethniccode_cat) + \n",
        "              scale(hsgpa) + scale(mathsr) + scale(englsr) + factor(crs_term), \n",
        "              data=df_chem_aptakers)\n",
        "summary(chem_rq2b)\n",
        "#std_beta(chem_rq2b)"
      ],
      "execution_count": 0,
      "outputs": []
    },
    {
      "cell_type": "code",
      "metadata": {
        "id": "4tZ_S-iq3LUM",
        "colab_type": "code",
        "colab": {}
      },
      "source": [
        "# RQ2c - Of everyone, what grade did they get in the 2nd course (controlling for AP score)? \n",
        "chem_rq2c <- lm(scale(numgrade) ~ factor(skipped_course) + scale(apscore) + \n",
        "              factor(firstgen) + factor(lowincomeflag) + factor(gender) + factor(ethniccode_cat) + \n",
        "              scale(hsgpa) + scale(mathsr) + scale(englsr) + factor(crs_term), \n",
        "              data=df_chem2)\n",
        "summary(chem_rq2c)\n",
        "#std_beta(chem_rq2c)"
      ],
      "execution_count": 0,
      "outputs": []
    },
    {
      "cell_type": "code",
      "metadata": {
        "id": "c7DfmiMk1TR3",
        "colab_type": "code",
        "colab": {}
      },
      "source": [
        "# RQ2d - Of everyone who took AP, what grade did they get in the 2nd course?\n",
        "chem_rq2d <- lm(scale(numgrade) ~ factor(skipped_course) + \n",
        "              factor(firstgen) + factor(lowincomeflag) + factor(gender) + factor(ethniccode_cat) + \n",
        "              scale(hsgpa) + scale(mathsr) + scale(englsr) + factor(crs_term), \n",
        "              data=df_chem_aptakers)\n",
        "summary(chem_rq2d)\n",
        "#std_beta(chem_rq2d)"
      ],
      "execution_count": 0,
      "outputs": []
    },
    {
      "cell_type": "code",
      "metadata": {
        "id": "el1OtKcj1Vlz",
        "colab_type": "code",
        "colab": {}
      },
      "source": [
        "# RQ2e - Of everyone who took AP and skipped, what grade did they get in the 2nd course?\n",
        "chem_rq2e <- lm(scale(numgrade) ~ factor(skipped_course) +\n",
        "              factor(firstgen) + factor(lowincomeflag) + factor(gender) + factor(ethniccode_cat) + \n",
        "              scale(hsgpa) + scale(mathsr) + scale(englsr) + factor(crs_term), \n",
        "              data=df_chem2)\n",
        "summary(chem_rq2d)\n",
        "#std_beta(chem_rq2d)"
      ],
      "execution_count": 0,
      "outputs": []
    },
    {
      "cell_type": "code",
      "metadata": {
        "id": "ioXTMEd01YUG",
        "colab_type": "code",
        "colab": {}
      },
      "source": [
        "# RQ2f - Course grade, Skip eligible for those who took AP\n",
        "chem_rq2f <- lm(scale(numgrade) ~ factor(eligible_to_skip) + \n",
        "            factor(firstgen) + factor(lowincomeflag) + factor(gender) + factor(ethniccode_cat) + \n",
        "            scale(hsgpa) + scale(mathsr) + scale(englsr) + factor(crs_term), \n",
        "            data=df_chem_aptakers)\n",
        "summary(chem_rq2f)\n",
        "\n",
        "#std_beta(chem_rq2f)"
      ],
      "execution_count": 0,
      "outputs": []
    },
    {
      "cell_type": "code",
      "metadata": {
        "id": "WRJsMJum1avX",
        "colab_type": "code",
        "colab": {}
      },
      "source": [
        "# RQ2g -  Skip eligible, full sample\n",
        "chem_rq2g<- lm(scale(numgrade) ~ factor(eligible_to_skip) + \n",
        "            factor(firstgen) + factor(lowincomeflag) + factor(gender) + factor(ethniccode_cat) + \n",
        "            scale(hsgpa) + scale(mathsr) + scale(englsr) + factor(crs_term), \n",
        "            data=df_chem2)\n",
        "summary(chem_rq2g)\n",
        "#std_beta(chem_rq2g)"
      ],
      "execution_count": 0,
      "outputs": []
    },
    {
      "cell_type": "code",
      "metadata": {
        "id": "vOQnCkOK2Qjj",
        "colab_type": "code",
        "colab": {}
      },
      "source": [
        "# PHYS\n",
        "# RQ1a - Who takes AP?\n",
        "phys_rq1a <- glm(aptaker ~ factor(firstgen) + factor(lowincomeflag) + factor(gender) + factor(ethniccode_cat) +\n",
        "                  scale(hsgpa) + scale(mathsr) + scale(englsr) + factor(cohort), \n",
        "                  data=df_phys2, binomial(link=\"logit\"))\n",
        "summary(phys_rq1a)\n",
        "robustse(phys_rq1a, coef=\"odd.ratio\") #robustse is a command from sjstats package\n",
        "logistic.display(phys_rq1a)"
      ],
      "execution_count": 0,
      "outputs": []
    },
    {
      "cell_type": "code",
      "metadata": {
        "id": "C7EbhkB22noS",
        "colab_type": "code",
        "colab": {}
      },
      "source": [
        "# RQ1b - Who gets what score on AP exams? (DV: apscore, Sample: Took AP)\n",
        "phys_rq1b <- lm(scale(apscore) ~ \n",
        "              factor(firstgen) + factor(lowincomeflag) + factor(gender) + factor(ethniccode_cat) +\n",
        "              scale(hsgpa) + scale(mathsr) + scale(englsr) + factor(cohort), \n",
        "              data=df_phys_aptakers)\n",
        "summary(phys_rq1b)\n",
        "std_beta(phys_rq1b) # from sjstats package"
      ],
      "execution_count": 0,
      "outputs": []
    },
    {
      "cell_type": "code",
      "metadata": {
        "id": "3ExCy_fk2qDx",
        "colab_type": "code",
        "colab": {}
      },
      "source": [
        "# RQ1c.i - Of everyone, who earns an AP score that makes them eligible to skip? \n",
        "phys_rq1ci <- glm(eligible_to_skip ~ factor(firstgen) + factor(lowincomeflag) + factor(gender) + factor(ethniccode_cat) +\n",
        "                scale(hsgpa) + scale(mathsr) + scale(englsr) + factor(cohort), \n",
        "                data=df_phys2, binomial(link=\"logit\"))\n",
        "summary(phys_rq1ci)\n",
        "logistic.display(phys_rq1ci)\n",
        "#robustse(phys_rq1ci, coef=\"odd.ratio\")"
      ],
      "execution_count": 0,
      "outputs": []
    },
    {
      "cell_type": "code",
      "metadata": {
        "id": "bYJQWgXE2r01",
        "colab_type": "code",
        "colab": {}
      },
      "source": [
        "# RQ1c.ii - Of those who take AP, who earns an AP score that makes them eligible to skip?\n",
        "phys_rq1cii <- glm(eligible_to_skip ~ \n",
        "              factor(firstgen) + factor(lowincomeflag) + factor(gender) + factor(ethniccode_cat) +\n",
        "              scale(hsgpa) + scale(mathsr) + scale(englsr) + factor(cohort), \n",
        "              data=df_phys_aptakers, binomial(link=\"logit\"))\n",
        "summary(phys_rq1cii)\n",
        "logistic.display(phys_rq1cii)\n",
        "#robustse(rq1ci, coef=\"odd.ratio\")"
      ],
      "execution_count": 0,
      "outputs": []
    },
    {
      "cell_type": "code",
      "metadata": {
        "id": "Y2_lkKE22uFm",
        "colab_type": "code",
        "colab": {}
      },
      "source": [
        "# RQ2a - Of everyone who was eligible to skip, who actually skipped?\n",
        "phys_rq2a <- glm(eligible_to_skip ~ \n",
        "               factor(firstgen) + factor(lowincomeflag) + factor(gender) + factor(ethniccode_cat) +\n",
        "               scale(hsgpa) + scale(mathsr) + scale(englsr) + factor(crs_term), \n",
        "               data=df_phys_skeligible, binomial(link=\"logit\"))\n",
        "summary(phys_rq2a)\n",
        "logistic.display(phys_rq2a)\n",
        "#robustse(phys_rq2a, coef=\"odd.ratio\")"
      ],
      "execution_count": 0,
      "outputs": []
    },
    {
      "cell_type": "code",
      "metadata": {
        "id": "TuvZFaNB2zPH",
        "colab_type": "code",
        "colab": {}
      },
      "source": [
        "# RQ2b - Of those who were eligible to skip, what was the effect of skipping on 2nd course grade (controlling for AP score)?\n",
        "phys_rq2b <- lm(scale(numgrade) ~ factor(skipped_course) + scale(apscore) + \n",
        "              factor(firstgen) + factor(lowincomeflag) + factor(gender) + factor(ethniccode_cat) + \n",
        "              scale(hsgpa) + scale(mathsr) + scale(englsr) + factor(crs_term), \n",
        "              data=df_phys_aptakers)\n",
        "summary(phys_rq2b)\n",
        "#std_beta(phys_rq2b)"
      ],
      "execution_count": 0,
      "outputs": []
    },
    {
      "cell_type": "code",
      "metadata": {
        "id": "je3aHSOS3Xf0",
        "colab_type": "code",
        "colab": {}
      },
      "source": [
        "# RQ2c - Of everyone, what grade did they get in the 2nd course (controlling for AP score)? \n",
        "phys_rq2c <- lm(scale(numgrade) ~ factor(skipped_course) + scale(apscore) + \n",
        "              factor(firstgen) + factor(lowincomeflag) + factor(gender) + factor(ethniccode_cat) + \n",
        "              scale(hsgpa) + scale(mathsr) + scale(englsr) + factor(crs_term), \n",
        "              data=df_phys2)\n",
        "summary(phys_rq2c)\n",
        "#std_beta(phys_rq2c)"
      ],
      "execution_count": 0,
      "outputs": []
    },
    {
      "cell_type": "code",
      "metadata": {
        "id": "H1WYh1bC2122",
        "colab_type": "code",
        "colab": {}
      },
      "source": [
        "# RQ2d - Of everyone who took AP, what grade did they get in the 2nd course?\n",
        "phys_rq2d <- lm(scale(numgrade) ~ factor(skipped_course) + \n",
        "              factor(firstgen) + factor(lowincomeflag) + factor(gender) + factor(ethniccode_cat) + \n",
        "              scale(hsgpa) + scale(mathsr) + scale(englsr) + factor(crs_term), \n",
        "              data=df_phys_aptakers)\n",
        "summary(phys_rq2d)\n",
        "#std_beta(phys_rq2d)"
      ],
      "execution_count": 0,
      "outputs": []
    },
    {
      "cell_type": "code",
      "metadata": {
        "id": "KX42TC2g3bkm",
        "colab_type": "code",
        "colab": {}
      },
      "source": [
        "# RQ2e - Of everyone who took AP and skipped, what grade did they get in the 2nd course?\n",
        "phys_rq2e <- lm(scale(numgrade) ~ factor(skipped_course) +\n",
        "              factor(firstgen) + factor(lowincomeflag) + factor(gender) + factor(ethniccode_cat) + \n",
        "              scale(hsgpa) + scale(mathsr) + scale(englsr) + factor(crs_term), \n",
        "              data=df_phys2)\n",
        "summary(phys_rq2d)\n",
        "#std_beta(phys_rq2d)"
      ],
      "execution_count": 0,
      "outputs": []
    },
    {
      "cell_type": "code",
      "metadata": {
        "id": "YFPFmbua3d5K",
        "colab_type": "code",
        "colab": {}
      },
      "source": [
        "# RQ2f - Course grade, Skip eligible for those who took AP\n",
        "phys_rq2f <- lm(scale(numgrade) ~ factor(eligible_to_skip) + \n",
        "            factor(firstgen) + factor(lowincomeflag) + factor(gender) + factor(ethniccode_cat) + \n",
        "            scale(hsgpa) + scale(mathsr) + scale(englsr) + factor(crs_term), \n",
        "            data=df_phys_aptakers)\n",
        "summary(phys_rq2f)\n",
        "\n",
        "#std_beta(phys_rq2f)"
      ],
      "execution_count": 0,
      "outputs": []
    },
    {
      "cell_type": "code",
      "metadata": {
        "id": "xvaN_YKM3f4z",
        "colab_type": "code",
        "colab": {}
      },
      "source": [
        "# RQ2g -  Skip eligible, full sample\n",
        "phys_rq2g<- lm(scale(numgrade) ~ factor(eligible_to_skip) + \n",
        "            factor(firstgen) + factor(lowincomeflag) + factor(gender) + factor(ethniccode_cat) + \n",
        "            scale(hsgpa) + scale(mathsr) + scale(englsr) + factor(crs_term), \n",
        "            data=df_phys2)\n",
        "summary(phys_rq2g)\n",
        "#std_beta(phys_rq2g)"
      ],
      "execution_count": 0,
      "outputs": []
    }
  ]
}